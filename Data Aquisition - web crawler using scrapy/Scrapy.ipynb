{
 "cells": [
  {
   "cell_type": "markdown",
   "metadata": {},
   "source": [
    "## Scrapy\n",
    "- An open source and collaborative framework for extracting the data we need from the website"
   ]
  },
  {
   "cell_type": "markdown",
   "metadata": {},
   "source": [
    "## Installation\n",
    "!pip install scrapy"
   ]
  },
  {
   "cell_type": "code",
   "execution_count": 1,
   "metadata": {},
   "outputs": [
    {
     "name": "stdout",
     "output_type": "stream",
     "text": [
      "Requirement already satisfied: scrapy in /home/uchiha/anaconda3/lib/python3.8/site-packages (2.4.1)\n",
      "Requirement already satisfied: Twisted>=17.9.0 in /home/uchiha/anaconda3/lib/python3.8/site-packages (from scrapy) (20.3.0)\n",
      "Requirement already satisfied: protego>=0.1.15 in /home/uchiha/anaconda3/lib/python3.8/site-packages (from scrapy) (0.1.16)\n",
      "Requirement already satisfied: w3lib>=1.17.0 in /home/uchiha/anaconda3/lib/python3.8/site-packages (from scrapy) (1.22.0)\n",
      "Requirement already satisfied: pyOpenSSL>=16.2.0 in /home/uchiha/anaconda3/lib/python3.8/site-packages (from scrapy) (19.1.0)\n",
      "Requirement already satisfied: itemloaders>=1.0.1 in /home/uchiha/anaconda3/lib/python3.8/site-packages (from scrapy) (1.0.4)\n",
      "Requirement already satisfied: PyDispatcher>=2.0.5 in /home/uchiha/anaconda3/lib/python3.8/site-packages (from scrapy) (2.0.5)\n",
      "Requirement already satisfied: parsel>=1.5.0 in /home/uchiha/anaconda3/lib/python3.8/site-packages (from scrapy) (1.6.0)\n",
      "Requirement already satisfied: queuelib>=1.4.2 in /home/uchiha/anaconda3/lib/python3.8/site-packages (from scrapy) (1.5.0)\n",
      "Requirement already satisfied: cssselect>=0.9.1 in /home/uchiha/anaconda3/lib/python3.8/site-packages (from scrapy) (1.1.0)\n",
      "Requirement already satisfied: service-identity>=16.0.0 in /home/uchiha/anaconda3/lib/python3.8/site-packages (from scrapy) (18.1.0)\n",
      "Requirement already satisfied: lxml>=3.5.0; platform_python_implementation == \"CPython\" in /home/uchiha/anaconda3/lib/python3.8/site-packages (from scrapy) (4.6.1)\n",
      "Requirement already satisfied: cryptography>=2.0 in /home/uchiha/anaconda3/lib/python3.8/site-packages (from scrapy) (3.1.1)\n",
      "Requirement already satisfied: itemadapter>=0.1.0 in /home/uchiha/anaconda3/lib/python3.8/site-packages (from scrapy) (0.2.0)\n",
      "Requirement already satisfied: zope.interface>=4.1.3 in /home/uchiha/anaconda3/lib/python3.8/site-packages (from scrapy) (5.1.2)\n",
      "Requirement already satisfied: incremental>=16.10.1 in /home/uchiha/anaconda3/lib/python3.8/site-packages (from Twisted>=17.9.0->scrapy) (17.5.0)\n",
      "Requirement already satisfied: hyperlink>=17.1.1 in /home/uchiha/anaconda3/lib/python3.8/site-packages (from Twisted>=17.9.0->scrapy) (21.0.0)\n",
      "Requirement already satisfied: constantly>=15.1 in /home/uchiha/anaconda3/lib/python3.8/site-packages (from Twisted>=17.9.0->scrapy) (15.1.0)\n",
      "Requirement already satisfied: Automat>=0.3.0 in /home/uchiha/anaconda3/lib/python3.8/site-packages (from Twisted>=17.9.0->scrapy) (20.2.0)\n",
      "Requirement already satisfied: PyHamcrest!=1.10.0,>=1.9.0 in /home/uchiha/anaconda3/lib/python3.8/site-packages (from Twisted>=17.9.0->scrapy) (2.0.2)\n",
      "Requirement already satisfied: attrs>=19.2.0 in /home/uchiha/anaconda3/lib/python3.8/site-packages (from Twisted>=17.9.0->scrapy) (20.3.0)\n",
      "Requirement already satisfied: six in /home/uchiha/anaconda3/lib/python3.8/site-packages (from protego>=0.1.15->scrapy) (1.15.0)\n",
      "Requirement already satisfied: jmespath>=0.9.5 in /home/uchiha/anaconda3/lib/python3.8/site-packages (from itemloaders>=1.0.1->scrapy) (0.10.0)\n",
      "Requirement already satisfied: pyasn1 in /home/uchiha/anaconda3/lib/python3.8/site-packages (from service-identity>=16.0.0->scrapy) (0.4.8)\n",
      "Requirement already satisfied: pyasn1-modules in /home/uchiha/anaconda3/lib/python3.8/site-packages (from service-identity>=16.0.0->scrapy) (0.2.8)\n",
      "Requirement already satisfied: cffi!=1.11.3,>=1.8 in /home/uchiha/anaconda3/lib/python3.8/site-packages (from cryptography>=2.0->scrapy) (1.14.3)\n",
      "Requirement already satisfied: setuptools in /home/uchiha/anaconda3/lib/python3.8/site-packages (from zope.interface>=4.1.3->scrapy) (50.3.1.post20201107)\n",
      "Requirement already satisfied: idna>=2.5 in /home/uchiha/anaconda3/lib/python3.8/site-packages (from hyperlink>=17.1.1->Twisted>=17.9.0->scrapy) (2.10)\n",
      "Requirement already satisfied: pycparser in /home/uchiha/anaconda3/lib/python3.8/site-packages (from cffi!=1.11.3,>=1.8->cryptography>=2.0->scrapy) (2.20)\n"
     ]
    }
   ],
   "source": [
    "!pip install scrapy"
   ]
  },
  {
   "cell_type": "markdown",
   "metadata": {},
   "source": [
    "   ## How to setup a `scrapy` project ?\n",
    "   \n",
    " This is a first step to use scrapy.\n",
    " Inside your project directory we can  create a setup for our scrapy project by using\n",
    "  \n",
    " - ``` !scrapy startproject myfirstproject```\n",
    " \n",
    " It creates a directory with the required files\n",
    "   "
   ]
  },
  {
   "cell_type": "code",
   "execution_count": 2,
   "metadata": {},
   "outputs": [
    {
     "name": "stdout",
     "output_type": "stream",
     "text": [
      "Error: scrapy.cfg already exists in /home/uchiha/Documents/Coding block /Web scrapping and APIs/Data Aquisition - web crawler using scrapy/myfirstproject\r\n"
     ]
    }
   ],
   "source": [
    "!scrapy startproject myfirstproject"
   ]
  },
  {
   "cell_type": "code",
   "execution_count": null,
   "metadata": {},
   "outputs": [],
   "source": []
  }
 ],
 "metadata": {
  "kernelspec": {
   "display_name": "Python 3",
   "language": "python",
   "name": "python3"
  },
  "language_info": {
   "codemirror_mode": {
    "name": "ipython",
    "version": 3
   },
   "file_extension": ".py",
   "mimetype": "text/x-python",
   "name": "python",
   "nbconvert_exporter": "python",
   "pygments_lexer": "ipython3",
   "version": "3.8.5"
  }
 },
 "nbformat": 4,
 "nbformat_minor": 4
}
