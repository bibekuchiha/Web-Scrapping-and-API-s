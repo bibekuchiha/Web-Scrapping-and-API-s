{
  "cells": [
    {
      "cell_type": "markdown",
      "source": [
        "The code you provided includes several Python libraries being imported into the current script using the import statement. Here is a brief explanation of each import statement:\n",
        "\n",
        "requests library allows you to send HTTP/1.1 requests using Python, which means you can access webpages and retrieve data from them.\n",
        "\n",
        "BeautifulSoup is a library for parsing HTML and XML documents, and is used here to extract data from HTML web pages.\n",
        "\n",
        "time library is used here to call the sleep function, which pauses the script execution for a specified number of seconds, and helps prevent overwhelming the server between connections.\n",
        "\n",
        "tqdm is a progress bar library used here to display a progress bar to show the status of a long-running process.\n",
        "\n",
        "numpy is a numerical computing library that provides support for multi-dimensional arrays, matrices, and mathematical functions to manipulate them.\n",
        "\n",
        "pandas is a library that provides data manipulation and analysis tools. In this code, it is used to wrangle data.\n",
        "\n",
        "matplotlib is a plotting library used for creating static, interactive, and animated visualizations in Python.\n",
        "\n",
        "plotly is an interactive visualization library that allows you to create and share interactive, web-based visualizations in Python.\n",
        "\n",
        "The last two lines of the code set some options for Pandas to display data nicely when printing data frames."
      ],
      "metadata": {
        "id": "JxwVUmoGCu6a"
      },
      "id": "JxwVUmoGCu6a"
    },
    {
      "cell_type": "code",
      "execution_count": 1,
      "id": "8487ea65",
      "metadata": {
        "id": "8487ea65"
      },
      "outputs": [],
      "source": [
        "import requests\n",
        "from bs4 import BeautifulSoup\n",
        "\n",
        "# To prevent overwhelming the server between connections\n",
        "from time import sleep \n",
        "\n",
        "# Display the progress bar\n",
        "from tqdm import tqdm\n",
        "\n",
        "# For data wrangling\n",
        "import numpy as np\n",
        "import pandas as pd\n",
        "\n",
        "pd.set_option('display.max_columns', 500)\n",
        "pd.set_option('display.width', 1000)\n",
        "\n",
        "# For creating plots\n",
        "import matplotlib.pyplot as plt\n",
        "import plotly.graph_objects as go"
      ]
    },
    {
      "cell_type": "markdown",
      "source": [
        "This code defines a function named get_page that takes three arguments: city, type, and page.\n",
        "\n",
        "The purpose of the function is to retrieve and parse a web page from the Kijiji website based on the specified arguments. The function creates a URL using the arguments and sends an HTTP GET request to the URL using the requests.get() function. The response is then parsed using BeautifulSoup and the parsed content is returned.\n",
        "\n",
        "The function also checks the HTTP status code of the response and prints a message based on the code. If the status code is in the range of 200 to 299, the function considers the response successful and proceeds to parse the HTML content of the page. Otherwise, it prints an appropriate error message.\n",
        "\n",
        "The function returns the parsed content of the webpage as a BeautifulSoup object."
      ],
      "metadata": {
        "id": "J9N6qKIhDIxZ"
      },
      "id": "J9N6qKIhDIxZ"
    },
    {
      "cell_type": "code",
      "execution_count": 2,
      "id": "6b041ea8",
      "metadata": {
        "id": "6b041ea8"
      },
      "outputs": [],
      "source": [
        "def get_page(city, type,page):\n",
        "  \n",
        "  #  url = f'https://www.torontorentals.com/{city}/{type}?beds={beds}%20&p={page}'\n",
        "    url = f\"https://www.kijiji.ca/b-for-rent/{city}/{type}/page-{page}/k0c30349001l1700272?ad=offering&rb=true\"\n",
        "    # https://www.torontorentals.com/toronto/condos?beds=1%20&p=2\n",
        "    \n",
        "    result = requests.get(url)\n",
        "    \n",
        "    # check HTTP response status codes to find if HTTP request has been successfully completed\n",
        "    if result.status_code >= 100  and result.status_code <= 199:\n",
        "        print('Informational response')\n",
        "    if result.status_code >= 200  and result.status_code <= 299:\n",
        "        print('Successful response')\n",
        "        soup = BeautifulSoup(result.content, \"lxml\")\n",
        "    if result.status_code >= 300  and result.status_code <= 399:\n",
        "        print('Redirect')\n",
        "    if result.status_code >= 400  and result.status_code <= 499:\n",
        "        print('Client error')\n",
        "    if result.status_code >= 500  and result.status_code <= 599:\n",
        "        print('Server error')\n",
        "        \n",
        "    return soup\n"
      ]
    },
    {
      "cell_type": "markdown",
      "source": [
        "This code creates an empty list named data and then runs a for loop that iterates over the range of numbers from 1 to 19 (inclusive).\n",
        "\n",
        "For each iteration of the loop, the code first calls the sleep() function to pause the execution of the script for 2 seconds. This is to prevent overwhelming the server between connections.\n",
        "\n",
        "The get_page() function is then called with the arguments 'toronto', 'rent', and 20, which returns a BeautifulSoup object containing the parsed content of a web page from the Kijiji website.\n",
        "\n",
        "The code then uses soup_page.find_all() to find all the HTML elements on the page with the tag div and class attribute set to \"info-container\". These elements represent the rental listings on the page.\n",
        "\n",
        "For each listing, the code uses list.find() to find specific HTML elements that contain information about the rental, such as the price, title, location, date posted, and description. The information is then stored in a list named info.\n",
        "\n",
        "Finally, the info list is appended to the data list.\n",
        "\n",
        "By the end of the loop, the data list contains a list of lists, where each inner list represents a rental listing and contains the rental's price, title, location, date posted, and description."
      ],
      "metadata": {
        "id": "4JIOgrdcDR5B"
      },
      "id": "4JIOgrdcDR5B"
    },
    {
      "cell_type": "code",
      "execution_count": 3,
      "id": "2f777b01",
      "metadata": {
        "scrolled": false,
        "colab": {
          "base_uri": "https://localhost:8080/"
        },
        "id": "2f777b01",
        "outputId": "529e85d8-254a-49c5-e766-d1ea9c8291a8"
      },
      "outputs": [
        {
          "output_type": "stream",
          "name": "stderr",
          "text": [
            "\r  0%|          | 0/19 [00:00<?, ?it/s]"
          ]
        },
        {
          "output_type": "stream",
          "name": "stdout",
          "text": [
            "Successful response\n"
          ]
        },
        {
          "output_type": "stream",
          "name": "stderr",
          "text": [
            "\r  5%|▌         | 1/19 [00:06<01:48,  6.02s/it]"
          ]
        },
        {
          "output_type": "stream",
          "name": "stdout",
          "text": [
            "Successful response\n"
          ]
        },
        {
          "output_type": "stream",
          "name": "stderr",
          "text": [
            "\r 11%|█         | 2/19 [00:13<02:01,  7.14s/it]"
          ]
        },
        {
          "output_type": "stream",
          "name": "stdout",
          "text": [
            "Successful response\n"
          ]
        },
        {
          "output_type": "stream",
          "name": "stderr",
          "text": [
            "\r 16%|█▌        | 3/19 [00:23<02:10,  8.18s/it]"
          ]
        },
        {
          "output_type": "stream",
          "name": "stdout",
          "text": [
            "Successful response\n"
          ]
        },
        {
          "output_type": "stream",
          "name": "stderr",
          "text": [
            " 26%|██▋       | 5/19 [00:34<01:30,  6.44s/it]"
          ]
        },
        {
          "output_type": "stream",
          "name": "stdout",
          "text": [
            "Successful response\n"
          ]
        },
        {
          "output_type": "stream",
          "name": "stderr",
          "text": [
            "\r 32%|███▏      | 6/19 [00:39<01:18,  6.01s/it]"
          ]
        },
        {
          "output_type": "stream",
          "name": "stdout",
          "text": [
            "Successful response\n"
          ]
        },
        {
          "output_type": "stream",
          "name": "stderr",
          "text": [
            "\r 37%|███▋      | 7/19 [00:43<01:05,  5.43s/it]"
          ]
        },
        {
          "output_type": "stream",
          "name": "stdout",
          "text": [
            "Successful response\n",
            "Successful response\n"
          ]
        },
        {
          "output_type": "stream",
          "name": "stderr",
          "text": [
            "\r 42%|████▏     | 8/19 [00:48<00:58,  5.35s/it]"
          ]
        },
        {
          "output_type": "stream",
          "name": "stdout",
          "text": [
            "Successful response\n"
          ]
        },
        {
          "output_type": "stream",
          "name": "stderr",
          "text": [
            " 53%|█████▎    | 10/19 [00:58<00:45,  5.04s/it]"
          ]
        },
        {
          "output_type": "stream",
          "name": "stdout",
          "text": [
            "Successful response\n",
            "Successful response\n"
          ]
        },
        {
          "output_type": "stream",
          "name": "stderr",
          "text": [
            " 63%|██████▎   | 12/19 [01:13<00:44,  6.42s/it]"
          ]
        },
        {
          "output_type": "stream",
          "name": "stdout",
          "text": [
            "Successful response\n"
          ]
        },
        {
          "output_type": "stream",
          "name": "stderr",
          "text": [
            "\r 68%|██████▊   | 13/19 [01:21<00:40,  6.82s/it]"
          ]
        },
        {
          "output_type": "stream",
          "name": "stdout",
          "text": [
            "Successful response\n"
          ]
        },
        {
          "output_type": "stream",
          "name": "stderr",
          "text": [
            "\r 74%|███████▎  | 14/19 [01:29<00:36,  7.22s/it]"
          ]
        },
        {
          "output_type": "stream",
          "name": "stdout",
          "text": [
            "Successful response\n",
            "Successful response\n"
          ]
        },
        {
          "output_type": "stream",
          "name": "stderr",
          "text": [
            " 84%|████████▍ | 16/19 [01:43<00:21,  7.18s/it]"
          ]
        },
        {
          "output_type": "stream",
          "name": "stdout",
          "text": [
            "Successful response\n"
          ]
        },
        {
          "output_type": "stream",
          "name": "stderr",
          "text": [
            "\r 89%|████████▉ | 17/19 [01:48<00:12,  6.49s/it]"
          ]
        },
        {
          "output_type": "stream",
          "name": "stdout",
          "text": [
            "Successful response\n"
          ]
        },
        {
          "output_type": "stream",
          "name": "stderr",
          "text": [
            "\r 95%|█████████▍| 18/19 [01:53<00:06,  6.04s/it]"
          ]
        },
        {
          "output_type": "stream",
          "name": "stdout",
          "text": [
            "Successful response\n",
            "Successful response\n"
          ]
        },
        {
          "output_type": "stream",
          "name": "stderr",
          "text": [
            "100%|██████████| 19/19 [01:58<00:00,  6.22s/it]\n"
          ]
        }
      ],
      "source": [
        "data = []\n",
        "for page_num in tqdm(range(1, 20)):\n",
        "    sleep(2)\n",
        "    \n",
        "    # get soup object of the page\n",
        "    # Find all the listings on the page\n",
        "\n",
        "    soup_page = get_page('toronto', 'rent',20)\n",
        "    # Find all the listings on the page\n",
        "    lists = soup_page.find_all(\"div\", {\"class\": \"info-container\"})\n",
        "\n",
        "    for list in lists:\n",
        "        # Get the price of the listing\n",
        "        price = list.find('div', class_=\"price\").text.strip()\n",
        "\n",
        "        # Get the address of the listing\n",
        "        title = list.find('div', class_='title').text.strip()\n",
        "\n",
        "        # Get the number of bedrooms and bathrooms\n",
        "        location = list.find('span', class_=\"\").text.strip()\n",
        "        date_posted = list.find('span', class_=\"date-posted\").text.strip()\n",
        "        description = list.find('div', class_=\"description\").text.strip()\n",
        "\n",
        "        info = [price, title, location, date_posted, description]\n",
        "        data.append(info)\n",
        "\n",
        "\n"
      ]
    },
    {
      "cell_type": "code",
      "execution_count": 4,
      "id": "04f57a03",
      "metadata": {
        "colab": {
          "base_uri": "https://localhost:8080/"
        },
        "id": "04f57a03",
        "outputId": "254ffcd4-c755-42a7-e7f5-9c652b32009b"
      },
      "outputs": [
        {
          "output_type": "stream",
          "name": "stdout",
          "text": [
            "[['$625.00', 'Furnished Private Offices - Monthly Membership - Starting $625', 'Oakville / Halton Region', 'Yesterday', 'Get upto 2 months of free fully furnished office spaces when you sign up with ZEMLAR Offices. Contact us to claim now. *Limited availability Looking for the perfect place to grow your business? Tired ...\\n                        \\n                            \\n                            \\n                                \\n                            \\n                            \\n                        \\n\\n                        \\n                            \\n                                Virtual Offices | Meeting Rooms | Furnished Offices | Private | office | coworking | workspcae | office space | Mississauga | GTA | Meeting room | month to month | Board Room for rent | Business Address | Phone Answering | Office Lease |'], ['$2,239.00', '1 Bedroom For Rent - Oakville - Convenience - Close to the Lake!', 'Oakville', '22/02/2023', \"Situated in a peaceful, relaxing community, 75 Stewart St. is only moments away from life's necessities. Our 1 bedroom suites offer bright and spacious living with fully renovated kitchen and ...\"], ['$1,650.00', 'Bachelor, Niagara and Queen - ID 2613', 'Toronto', '01/03/2023', 'Semi-renovated Akelius studio apartment for rent. Queen & Niagara in the Downtown West neighborhood, Toronto. semi-renovated studio - 1 bathroom - located on floor 5 - approximately 236 square feet - ...'], ['$900.00', 'Furnished Room For Rent All Inclusive Downtown Cobourg Wifi', 'Cobourg', '05/02/2023', 'Furnished room for rent downtown Cobourg. Steps to Victoria Park and Beach. Includes furnishings, all utilities, laundry, wifi. Legal rooming house. Shared kitchen and bathroom. Contact for showing.'], ['$9,000.00', 'Industrial Space For Rent', 'Toronto', '< 23 hours ago', 'Approx 4000 sq ft of warehouse 1 drive in door 1 entrance Door 1 Office in warehouse 14ft Ceiling Fenced in yard with lots of parking 2 washrooms 1 kitchenette Available April 1st First and last ...'], ['Please Contact', '4 Bedroom house in Brampton for rent', 'Brampton', '< 17 hours ago', 'LOCATION NEAR FERNFOREST DR & SANDALWOOD PARKWAY EAST Available April 1st, 2023 (upper level of house) $3500 + 70% utilities (water, gas, hydro, wifi not included) spacious living in a great ...'], ['$3,500.00', '4 Bedroom House for rent', 'Brampton', '< 17 hours ago', '4 Bedroom Detached with 2 car garage Upto 4 parkings Available from 1st April At Walness and McLaughlin Waling distance to Asian food Centre 70% Utilities Working professional welcome Please send me ...'], ['$1,200.00', 'Room for rent, female only', 'Toronto', '< 17 hours ago', '1 room in a 2 bedroom basement apartment, shared bathroom and kitchen, female only, Spanish speaking tenant preferred . $1200, everything included Main intersection bayview & finch'], ['$1,000.00', 'One bedroom basement for rent', 'Brampton', '< 17 hours ago', 'Only female No parking Separate kitchen Separate bathroom Separate living room This is big two bedroom basement, one bedroom is rented for one Punjabi girl One room is available for sharing or ...'], ['Please Contact', '1 bedroom for rent', 'Mississauga', '< 17 hours ago', 'One fully furnished bedroom available on upper floor for couple,boys and girls 5 min walk to malton gurughar.3 minnwalk to bus stop very close to westwood mall. Available from next month'], ['$2,800.00', 'Condo for rent', 'City of Toronto', '< 17 hours ago', '2 specious rooms condo for rent All utilities are included Free wifi,Gym and meeting room available. Step to TTC,Mall,medical offices,library,Grocery stores,parks and Schools. Very close to Highway ...'], ['$2,800.00', 'YONGE/STEELES - MODERN CONDO RENT! CORNER 1 BEDROOM & LARGE DEN', 'Thornhill', '< 17 hours ago', 'Like-New Condition, Almost a 2 Bedroom! 1 Bedroom With a Separate Large Bright Den With Windows That Can Be Used For Office Or 2nd Br! 725 Sq. Ft. Total! Exceptional Boutique Style Minto Water Garden ...'], ['$2,875.00', 'Full unit 2 bed/1 bath apartment for rent', 'Toronto', '< 17 hours ago', 'Unit: 2 bedroom / 1 bathroom apartment Price: $2,875 Room available: March 1st 2023 Location: York Mills & Leslie Heat and water are included, hydro is extra (About $80 in the summer, $120 in the ...'], ['$2,400.00', 'LUXURY CONDOS WITH 5 STARS AMENITIES FOR RENT', 'City of Toronto', '< 17 hours ago', \"***PLEASE READ THE AD FIRST*** *PLEASE DO NOT CONTACT ME IF YOU DON'T HAVE THE REQUIREMENTS. *THIS AD DOES NOT BELONG TO ANY PARTICULAR UNIT. LUXURY CONDOS WITH 5 STARS AMENITIES IN RICHMOND HILL, ...\"], ['$2,400.00', 'LUXURY CONDOS WITH GREAT AMENITIES FOR RENT', 'City of Toronto', '< 17 hours ago', \"***PLEASE READ THE AD FIRST*** *PLEASE DO NOT CONTACT ME IF YOU DON'T HAVE THE REQUIREMENTS. *THIS AD DOES NOT BELONG TO ANY PARTICULAR UNIT. LUXURY CONDOS WITH 5 STARS AMENITIES IN RICHMOND HILL, ...\"], ['$900.00', 'room for rent', 'Brampton', '< 17 hours ago', 'Basement have 2 rooms, one extra large room . only kitchen and bathroom shearing with another room person.available april 1. everything included, also internet. we are looking only working person, ...'], ['$800.00', 'Bedroom for rent.', 'Brampton', '< 17 hours ago', 'One bedroom is available for rent in brand new house. With one car parking. Caledon. Please call for more details. 647-505-4960.'], ['$600.00', 'Sharing room for rent for 1 girl', 'Mississauga / Peel Region', '< 17 hours ago', 'Sharing room for 1 girl for $600 plus utilities. High speed internet and laundry included. Near Frescho and Westwood Mall.'], ['$1,900.00', '2BHK Bsmt $1900 1st May in Brampton at Dixie/Countryside', 'Brampton', '< 17 hours ago', '2BHK Bsmt $1900 1st May in Brampton at Dixie/Countryside Pls call 6475817874 Only serious inquiries Rent - $1900 plus 30% urilities 1 parking included Extra Parking -$75 Close to Walmart, Chalo ...'], ['$900.00', 'Pickering Bungalow for rent!', 'Pickering', '< 17 hours ago', 'Main floor 3 bedrooms, 1.5 bath Kitchen, living room, dining room Basement floor is occupied by other tenants. Plenty of parking space and backyard space. Comfortable for 3-4 people. Ideal for ...'], ['$950.00', 'Bright room for rent Hyw7/Yonge', 'Vaughan', '< 17 hours ago', 'Room for rent available immediately ⁃ Private Room for rent in a beautiful neighbourhood ⁃ 5 houses far from Yonge street. A minute drive from Yong/hyw7 and Yonge/407ETR ⁃ about a minute walk to buss ...'], ['$2,990.00', 'House For Rent In Bowmanville', 'Bowmanville', '< 17 hours ago', 'Due to the high volume of inquiries, please provide yourself a brief description to make the application processing faster This Beautiful 2 Storey Corner Lot Home Like A Semi Detached Is Just Steps ...'], ['$1,200.00', '$1200 May 1st furnished/no lease/Parking', 'Toronto', '< 17 hours ago', 'Rent Advertisement $1200 May 1st furnished/parking/ no lease *more pictures are coming. I had some technical difficulties. There also a new very nice bed frame that I haven’t had time to assemble and ...'], ['Please Contact', 'Basement for Rent', 'Toronto', '< 17 hours ago', 'One full room available for two Punjabi Girls Etobicoke Toronto April 01, 2023 - Rent $375 per person - Bed. Mattress. Microwave, Toaster, - Separate Entrance to the basement. - Fully Air-conditioned ...'], ['$1,750.00', 'CAR DEALERSHIP  UP TO 5 CARS AND OFFICE FOR RENT IN SCARBOROUGH', 'Toronto', '< 17 hours ago', \"Prime location in scarborouugh on Danforth avenue east of Pharmacy avenue . lots of trafic. private office separate .other dealerships around . 4 Parking' OMVIC and CITY APPROVED. Great location for ...\"], ['$2,400.00', 'Rent 3 bed-room + 2 bath basement ~For 1 small family', 'Toronto', '< 17 hours ago', 'ATTN: For 1 small family. Be the first to live in this brand new three BR + two bath BSMT apartment of detached house with separate entrance, 1 parking. Located in Agincourt North of Scarborough ...'], ['$750.00', 'Room for rent @ Bramalea City Center', 'Brampton', '< 17 hours ago', 'Available from 15th March! ======================== *** Very good place for studious or working professional *** *Single Separate 1 bedroom(Single bed + computer table & Chair) available in ...'], ['$550.00', 'A shared/ private room for rent in Brampton - Queen & McLaughlin', 'Brampton', '< 17 hours ago', 'I bedroom with private bath, private kitchen and living room available for rent. There are two other bedroom, 1 bath and 1 kitchen that have 4 girls there. females only. Shared $550 Private - $1000 . ...'], ['$1,000.00', 'Rooms for students available  to rent in Oshawa.', 'Hampton', '< 17 hours ago', 'Room available from February 1st to rent for a single person. Shared living room kitchen and bathroom. Please contact me if interested. Opposite Oshawa centre. Close to Durham college an UOIT. Fully ...'], ['$1,100.00', 'one basement room with a private washroom for rent', 'Toronto', '< 17 hours ago', 'Quiet and comfortable room. Private washroom. utility included. Convenient to public transit, restaruants, bank and grocery. parking available.'], ['$1,050.00', 'Beautiful sub Master Bedroom for rent in North York (No Sharing)', 'Toronto', '< 17 hours ago', '353 Goldenwood Rd, North York, ON $1050 sub master bedrooms with a shared newly renovated washroom and state of the art kitchen. (1 person only, no sharing or couples) The room comes with the highest ...'], ['$2,850.00', 'Downtown Luxury 1BR condo inclusive rent lake and CN tower views', 'Toronto', '< 17 hours ago', 'Rent is inclusve of all utilities and internet , roof top gym and many other amenities in this luxury condo building a King Subway with Path connection. On high floors with spectacular views and lots ...'], ['$300.00', 'Shared storage (garage) space for rent', 'Toronto', '< 17 hours ago', '- Easy to access from main road - Convenient location - Long or short term rental'], ['$1,300.00', 'Room For Rent, Single room, Etobicoke, Humber College, Lakeshore', 'Toronto', '< 17 hours ago', 'Fully Furnished Place Available!! Etobicoke (Park Lawn & Lakeshore) ***1 Bedroom is available for rent in a wonderful space, in a wonderful building, in a wonderful locality*** Ethnicity, sex, age, ...'], ['$3,000.00', 'ENTIRE 4 BED 2.5 BATH LARGE DETACHED HOME FOR RENT BOWMANVILLE', 'Bowmanville', '< 17 hours ago', '- Entire 4 Bedrooms and 2.5 Bathrooms with Hardwood Flooring Throughout and HUGE Backyard Home for Rent in Bowmanville. Great for a Big Family! - Large Kitchen with Tons of Cupboard & Counter Space. ...'], ['$2,600.00', 'YONGE/STEELES CONDO FOR RENT - MODERN CORNER 1 BEDROOM + BIG DEN', 'Thornhill', '< 17 hours ago', 'Like-New Condition, Almost a 2 Bedroom! 1 Bedroom With a Separate Large Bright Den With Windows That Can Be Used For Office Or 2nd Br! 725 Sq. Ft. Total! Exceptional Boutique Style Minto Water Garden ...'], ['$1,700.00', 'ALL INCLUSIVE 2 BEDROOM Semi-basement in MARKHAM', 'Markham', '< 17 hours ago', '2 BEDROOMS 1 or 2 CAR PARKING basement for rent in the very demanding area (McCowan & Denison) in Markham. Separate entrance, close to schools, grocery stores, bank, restaurants and all amenities. ...'], ['Free', 'Basement For Rent In Scarborough! (Morningside and Staines)', 'City of Toronto', '< 17 hours ago', '• Intersection: Morningside and Staines • BASEMENT AVAILABLE FOR RENT • Viewing Saturdays only • Washer and Dryer shared • Have proof of income For more information please call 647-271-1724 thank ...'], ['$3,300.00', 'Condo for rent in Toronto Downtown ( 2 Bed + 2 bath )', 'Toronto', '< 17 hours ago', '15 Lower Jarvis st condo Welcome To This Executive Corner Unit Located At The \"Lighthouse Tower\" By Daniels. With A Walk/Bike/Transit Score Of 100, This Northwest-Facing 2 Bedroom + 2 Bathroom Unit ...'], ['Please Contact', 'Brand New Five Bedroom House For Rent', 'Brampton', '< 17 hours ago', 'Are you a female looking for a comfortable and spacious room in Brampton? Look no further! We have multiple rooms available for rent at 10 Labrish Road, Brampton, ON L7A5C2. Our rooms are located in ...'], ['$2,300.00', '2-Bedroom Basement Apartment in Thornhill for Rent', 'Markham', '< 17 hours ago', 'AVAILABLE NOW - Bright basement Apartment for Rent in Thornhill (near Toronto, North York, Richmond Hill, Markham). Short or Long-Term Rental. Excellent location. Just RENOVATED!!! Ideal for 1-3 ...'], ['$1,900.00', 'Port Whitby  Rentals', 'Oshawa / Durham Region', '< 17 hours ago', '2 Bedroom apartment for Rent in Beautiful Port Whitby $1900.00 Well maintained 2 bedroom apartment for rent with over 950 square feet of living space. (UTILITIES INCLUDED) This building offers an on ...'], ['Please Contact', '3 Bedroom house for rent from April 1st', 'Brampton', '< 17 hours ago', '3 Bedroom house available for rent from April 1st on very quite street. Major intersection Torbram rd at Peter robertson rd. Walking distance to Brampton civic hospital, Karol bagh plaza, bus stop ...'], ['$3,300.00', 'House for rent in Malton  ,( 4 Bedrooms and  2 full washrooms)', 'Mississauga', '< 17 hours ago', '4 bedroom and 2 full washrooms, spacious Semi-detached house for rent in the heart of Malton. Walking distance to Westwood Mall, Westwood terminal and Gurughar. Malton Go is close by.( Basement not ...'], ['$2,000.00', 'Bright 2 Bedroom basement in Milton is available for lease.', 'Milton', '< 17 hours ago', '2- Bed room spacious , bright and sunny basement in Milton is available for rent from April 1st. It has 2 bedrooms, kitchen, living, full washroom and serving area. All stainless steel appliances, ...'], ['$399.00', 'PROMOTION - Furnished Offices Only For $399/Month', 'Oakville / Halton Region', 'Yesterday', 'Get upto 2 months of free fully furnished office spaces when you sign up with ZEMLAR Offices. Contact us to claim now. *Limited availability Office spaces available for $399/month*! Looking for the ...\\n                        \\n                            \\n                            \\n                                \\n                            \\n                            \\n                        \\n\\n                        \\n                            \\n                                Furnished Offices | Meeting Rooms | Virtual Offices | Private | office | coworking | workspcae | office space | Mississauga | GTA | Meeting room | month to month | Board Room for rent | Business Address | Office Lease |'], ['$1,000.00', 'Room for rent close to york university', 'Toronto', '25/02/2023', 'There are 3huge windows and private washroom in the third floor. Price is $1000。'], ['$3,390.00', '***Dixon Rd. 3Bedroom, Condo For Rent****', 'Toronto', '26/02/2023', '***Dixon Rd. 3Bedroom, Condo For Rent**** *Address: Kipling and Dixon Rd. *Brand New Renovated 3Bedroom Condo for Rent. *Available Date: Immediately * Lease Term: 1 Year * Semi Furnished with Brand ...'], ['$2,049.00', 'Brampton 2 Bedrooms Apartment for Rent - 186 Church Street, East', 'Brampton', '< 4 hours ago', 'Current Promotions All Utilities Included!Virtual Open House: All Utilities Included! Promotions: Call to view available units now: 905-451-6542 Lovely apartments for rent at The Nottingham, located ...'], ['$1,650.00', 'Bachelor suite, Niagara and Queen - ID 2612', 'Toronto', '01/03/2023', 'Semi-renovated Akelius studio apartment for rent. Queen & Niagara in the Downtown West neighborhood, Toronto. semi-renovated studio - 1 bathroom - located on floor 1 - approximately 236 square feet - ...'], ['$3,500.00', '4 Bedroom House for rent', 'Brampton', '< 17 hours ago', '4 Bedroom Detached with 2 car garage Upto 4 parkings Available from 1st April At Walness and McLaughlin Waling distance to Asian food Centre 70% Utilities Working professional welcome Please send me ...'], ['$1,200.00', 'Room for rent, female only', 'Toronto', '< 17 hours ago', '1 room in a 2 bedroom basement apartment, shared bathroom and kitchen, female only, Spanish speaking tenant preferred . $1200, everything included Main intersection bayview & finch'], ['$1,000.00', 'One bedroom basement for rent', 'Brampton', '< 17 hours ago', 'Only female No parking Separate kitchen Separate bathroom Separate living room This is big two bedroom basement, one bedroom is rented for one Punjabi girl One room is available for sharing or ...'], ['Please Contact', '1 bedroom for rent', 'Mississauga', '< 17 hours ago', 'One fully furnished bedroom available on upper floor for couple,boys and girls 5 min walk to malton gurughar.3 minnwalk to bus stop very close to westwood mall. Available from next month'], ['$2,800.00', 'Condo for rent', 'City of Toronto', '< 17 hours ago', '2 specious rooms condo for rent All utilities are included Free wifi,Gym and meeting room available. Step to TTC,Mall,medical offices,library,Grocery stores,parks and Schools. Very close to Highway ...'], ['$2,800.00', 'YONGE/STEELES - MODERN CONDO RENT! CORNER 1 BEDROOM & LARGE DEN', 'Thornhill', '< 17 hours ago', 'Like-New Condition, Almost a 2 Bedroom! 1 Bedroom With a Separate Large Bright Den With Windows That Can Be Used For Office Or 2nd Br! 725 Sq. Ft. Total! Exceptional Boutique Style Minto Water Garden ...'], ['$2,875.00', 'Full unit 2 bed/1 bath apartment for rent', 'Toronto', '< 17 hours ago', 'Unit: 2 bedroom / 1 bathroom apartment Price: $2,875 Room available: March 1st 2023 Location: York Mills & Leslie Heat and water are included, hydro is extra (About $80 in the summer, $120 in the ...'], ['$2,400.00', 'LUXURY CONDOS WITH 5 STARS AMENITIES FOR RENT', 'City of Toronto', '< 17 hours ago', \"***PLEASE READ THE AD FIRST*** *PLEASE DO NOT CONTACT ME IF YOU DON'T HAVE THE REQUIREMENTS. *THIS AD DOES NOT BELONG TO ANY PARTICULAR UNIT. LUXURY CONDOS WITH 5 STARS AMENITIES IN RICHMOND HILL, ...\"], ['$2,400.00', 'LUXURY CONDOS WITH GREAT AMENITIES FOR RENT', 'City of Toronto', '< 17 hours ago', \"***PLEASE READ THE AD FIRST*** *PLEASE DO NOT CONTACT ME IF YOU DON'T HAVE THE REQUIREMENTS. *THIS AD DOES NOT BELONG TO ANY PARTICULAR UNIT. LUXURY CONDOS WITH 5 STARS AMENITIES IN RICHMOND HILL, ...\"], ['$900.00', 'room for rent', 'Brampton', '< 17 hours ago', 'Basement have 2 rooms, one extra large room . only kitchen and bathroom shearing with another room person.available april 1. everything included, also internet. we are looking only working person, ...'], ['$800.00', 'Bedroom for rent.', 'Brampton', '< 17 hours ago', 'One bedroom is available for rent in brand new house. With one car parking. Caledon. Please call for more details. 647-505-4960.'], ['$600.00', 'Sharing room for rent for 1 girl', 'Mississauga / Peel Region', '< 17 hours ago', 'Sharing room for 1 girl for $600 plus utilities. High speed internet and laundry included. Near Frescho and Westwood Mall.'], ['$1,900.00', '2BHK Bsmt $1900 1st May in Brampton at Dixie/Countryside', 'Brampton', '< 17 hours ago', '2BHK Bsmt $1900 1st May in Brampton at Dixie/Countryside Pls call 6475817874 Only serious inquiries Rent - $1900 plus 30% urilities 1 parking included Extra Parking -$75 Close to Walmart, Chalo ...'], ['$900.00', 'Pickering Bungalow for rent!', 'Pickering', '< 17 hours ago', 'Main floor 3 bedrooms, 1.5 bath Kitchen, living room, dining room Basement floor is occupied by other tenants. Plenty of parking space and backyard space. Comfortable for 3-4 people. Ideal for ...'], ['$950.00', 'Bright room for rent Hyw7/Yonge', 'Vaughan', '< 17 hours ago', 'Room for rent available immediately ⁃ Private Room for rent in a beautiful neighbourhood ⁃ 5 houses far from Yonge street. A minute drive from Yong/hyw7 and Yonge/407ETR ⁃ about a minute walk to buss ...'], ['$2,990.00', 'House For Rent In Bowmanville', 'Bowmanville', '< 17 hours ago', 'Due to the high volume of inquiries, please provide yourself a brief description to make the application processing faster This Beautiful 2 Storey Corner Lot Home Like A Semi Detached Is Just Steps ...'], ['$1,200.00', '$1200 May 1st furnished/no lease/Parking', 'Toronto', '< 17 hours ago', 'Rent Advertisement $1200 May 1st furnished/parking/ no lease *more pictures are coming. I had some technical difficulties. There also a new very nice bed frame that I haven’t had time to assemble and ...'], ['Please Contact', 'Basement for Rent', 'Toronto', '< 17 hours ago', 'One full room available for two Punjabi Girls Etobicoke Toronto April 01, 2023 - Rent $375 per person - Bed. Mattress. Microwave, Toaster, - Separate Entrance to the basement. - Fully Air-conditioned ...'], ['$1,750.00', 'CAR DEALERSHIP  UP TO 5 CARS AND OFFICE FOR RENT IN SCARBOROUGH', 'Toronto', '< 17 hours ago', \"Prime location in scarborouugh on Danforth avenue east of Pharmacy avenue . lots of trafic. private office separate .other dealerships around . 4 Parking' OMVIC and CITY APPROVED. Great location for ...\"], ['$2,400.00', 'Rent 3 bed-room + 2 bath basement ~For 1 small family', 'Toronto', '< 17 hours ago', 'ATTN: For 1 small family. Be the first to live in this brand new three BR + two bath BSMT apartment of detached house with separate entrance, 1 parking. Located in Agincourt North of Scarborough ...'], ['$750.00', 'Room for rent @ Bramalea City Center', 'Brampton', '< 17 hours ago', 'Available from 15th March! ======================== *** Very good place for studious or working professional *** *Single Separate 1 bedroom(Single bed + computer table & Chair) available in ...'], ['$550.00', 'A shared/ private room for rent in Brampton - Queen & McLaughlin', 'Brampton', '< 17 hours ago', 'I bedroom with private bath, private kitchen and living room available for rent. There are two other bedroom, 1 bath and 1 kitchen that have 4 girls there. females only. Shared $550 Private - $1000 . ...'], ['$1,000.00', 'Rooms for students available  to rent in Oshawa.', 'Hampton', '< 17 hours ago', 'Room available from February 1st to rent for a single person. Shared living room kitchen and bathroom. Please contact me if interested. Opposite Oshawa centre. Close to Durham college an UOIT. Fully ...'], ['$1,100.00', 'one basement room with a private washroom for rent', 'Toronto', '< 17 hours ago', 'Quiet and comfortable room. Private washroom. utility included. Convenient to public transit, restaruants, bank and grocery. parking available.'], ['$1,050.00', 'Beautiful sub Master Bedroom for rent in North York (No Sharing)', 'Toronto', '< 17 hours ago', '353 Goldenwood Rd, North York, ON $1050 sub master bedrooms with a shared newly renovated washroom and state of the art kitchen. (1 person only, no sharing or couples) The room comes with the highest ...'], ['$2,850.00', 'Downtown Luxury 1BR condo inclusive rent lake and CN tower views', 'Toronto', '< 17 hours ago', 'Rent is inclusve of all utilities and internet , roof top gym and many other amenities in this luxury condo building a King Subway with Path connection. On high floors with spectacular views and lots ...'], ['$300.00', 'Shared storage (garage) space for rent', 'Toronto', '< 17 hours ago', '- Easy to access from main road - Convenient location - Long or short term rental'], ['$1,300.00', 'Room For Rent, Single room, Etobicoke, Humber College, Lakeshore', 'Toronto', '< 17 hours ago', 'Fully Furnished Place Available!! Etobicoke (Park Lawn & Lakeshore) ***1 Bedroom is available for rent in a wonderful space, in a wonderful building, in a wonderful locality*** Ethnicity, sex, age, ...'], ['$3,000.00', 'ENTIRE 4 BED 2.5 BATH LARGE DETACHED HOME FOR RENT BOWMANVILLE', 'Bowmanville', '< 17 hours ago', '- Entire 4 Bedrooms and 2.5 Bathrooms with Hardwood Flooring Throughout and HUGE Backyard Home for Rent in Bowmanville. Great for a Big Family! - Large Kitchen with Tons of Cupboard & Counter Space. ...'], ['$2,600.00', 'YONGE/STEELES CONDO FOR RENT - MODERN CORNER 1 BEDROOM + BIG DEN', 'Thornhill', '< 17 hours ago', 'Like-New Condition, Almost a 2 Bedroom! 1 Bedroom With a Separate Large Bright Den With Windows That Can Be Used For Office Or 2nd Br! 725 Sq. Ft. Total! Exceptional Boutique Style Minto Water Garden ...'], ['$1,700.00', 'ALL INCLUSIVE 2 BEDROOM Semi-basement in MARKHAM', 'Markham', '< 17 hours ago', '2 BEDROOMS 1 or 2 CAR PARKING basement for rent in the very demanding area (McCowan & Denison) in Markham. Separate entrance, close to schools, grocery stores, bank, restaurants and all amenities. ...'], ['Free', 'Basement For Rent In Scarborough! (Morningside and Staines)', 'City of Toronto', '< 17 hours ago', '• Intersection: Morningside and Staines • BASEMENT AVAILABLE FOR RENT • Viewing Saturdays only • Washer and Dryer shared • Have proof of income For more information please call 647-271-1724 thank ...'], ['$3,300.00', 'Condo for rent in Toronto Downtown ( 2 Bed + 2 bath )', 'Toronto', '< 17 hours ago', '15 Lower Jarvis st condo Welcome To This Executive Corner Unit Located At The \"Lighthouse Tower\" By Daniels. With A Walk/Bike/Transit Score Of 100, This Northwest-Facing 2 Bedroom + 2 Bathroom Unit ...'], ['Please Contact', 'Brand New Five Bedroom House For Rent', 'Brampton', '< 17 hours ago', 'Are you a female looking for a comfortable and spacious room in Brampton? Look no further! We have multiple rooms available for rent at 10 Labrish Road, Brampton, ON L7A5C2. Our rooms are located in ...'], ['$2,300.00', '2-Bedroom Basement Apartment in Thornhill for Rent', 'Markham', '< 17 hours ago', 'AVAILABLE NOW - Bright basement Apartment for Rent in Thornhill (near Toronto, North York, Richmond Hill, Markham). Short or Long-Term Rental. Excellent location. Just RENOVATED!!! Ideal for 1-3 ...'], ['$1,900.00', 'Port Whitby  Rentals', 'Oshawa / Durham Region', '< 17 hours ago', '2 Bedroom apartment for Rent in Beautiful Port Whitby $1900.00 Well maintained 2 bedroom apartment for rent with over 950 square feet of living space. (UTILITIES INCLUDED) This building offers an on ...'], ['Please Contact', '3 Bedroom house for rent from April 1st', 'Brampton', '< 17 hours ago', '3 Bedroom house available for rent from April 1st on very quite street. Major intersection Torbram rd at Peter robertson rd. Walking distance to Brampton civic hospital, Karol bagh plaza, bus stop ...'], ['$3,300.00', 'House for rent in Malton  ,( 4 Bedrooms and  2 full washrooms)', 'Mississauga', '< 17 hours ago', '4 bedroom and 2 full washrooms, spacious Semi-detached house for rent in the heart of Malton. Walking distance to Westwood Mall, Westwood terminal and Gurughar. Malton Go is close by.( Basement not ...'], ['$2,000.00', 'Bright 2 Bedroom basement in Milton is available for lease.', 'Milton', '< 17 hours ago', '2- Bed room spacious , bright and sunny basement in Milton is available for rent from April 1st. It has 2 bedrooms, kitchen, living, full washroom and serving area. All stainless steel appliances, ...'], ['$1,500.00', '1 bedroom basement available in Mississauga for rent', 'Mississauga', '< 17 hours ago', 'Included: Separate entrance from backyard, 1 room, 1 living , 1 bathroom, 1 kitchen, separate laundry room, 1 parking spot Included: Water, Power, Gas, Fast Unlimited Internet with IPTV Subscription ...'], ['$525.00', 'Furnished Private Office  - Monthly Membership - Starting $525', 'Markham / York Region', 'Yesterday', 'Get upto 2 months of free fully furnished office spaces when you sign up with ZEMLAR Offices. Contact us to claim now. *Limited availability Looking for the perfect place to grow your business? Tired ...\\n                        \\n                            \\n                            \\n                                \\n                            \\n                            \\n                        \\n\\n                        \\n                            \\n                                Virtual Offices | Meeting Rooms | Furnished Offices | Private | office | coworking | workspcae | office space | Mississauga | GTA | Meeting room | month to month | Board Room for rent | Business Address | Phone Answering | Office Lease |'], ['$1,650.00', 'JR. 1 BEDROOM APARTMENT FOR RENT IN WHITBY!', 'Oshawa / Durham Region', '08/02/2023', 'SPACIOUS JR. 1 BEDROOM APARTMENT FOR RENT IN WHITBY! SELECT APARTMENTS FULLY RENOVATED WITH PREMIUM UPGRADES PERFECT FOR MATURE ACTIVE ADULTS AND RETIREES!! Our Rental Office remains operational in ...\\n                        \\n                            \\n                            \\n                                \\n                            \\n                            \\n                        \\n\\n                        \\n                            \\n                                Proudly Managed by Realstar Management! Mary Street Apartments offers r.Jr. 1 bedroom, 1 bedroom, 2 bedroom and 3 bedroom apartments'], ['Please Contact', 'House For Rent in Brampton', 'Brampton', '02/03/2023', 'House for rent in Brampton. Necessities very close. Essential grocery stores, Brampton Civic Hospital on same street and Sandalwood/ Bramalea Rd Plaza in walking distance (5 minutes). Bus routes are ...'], ['$1,550.00', 'Brand New Beautifully Renovated, Well Lit 3 Bedroom Lower Level', 'Oshawa', '28/02/2023', 'Located just off of the 401 with great accessibility by car and GO station being developed just minutes away. Monthly Rent:$1,550.00 Utilities: $200.00 Total: $1,750.00/month Features Include: Brand ...'], ['$500.00', 'Shared 3-bedroom house for Girls only - CAD 500 in Brampton', 'Brampton', '20/02/2023', '*Available immediately *Shared room for girls *New Bed and Mattress provided * 3-bedroom corner townhouse for rent. This is not a basement * Bus stop in less than 50 meters * Intersection bovaird and ...'], ['$950.00', 'Furnished room for rent at Mavis and Eglinton Avenue West', 'Mississauga', '< 17 hours ago', 'Furnished room for rent at Mavis and Eglinton Avenue West in Mississauga on upper floor of large 5 bedroom house very clean with shared kitchen and Washroom available immediately rent is $ 950$ ...'], ['Please Contact', '4 Bedroom house in Brampton for rent', 'Brampton', '< 17 hours ago', 'LOCATION NEAR FERNFOREST DR & SANDALWOOD PARKWAY EAST Available April 1st, 2023 (upper level of house) $3500 + 70% utilities (water, gas, hydro, wifi not included) spacious living in a great ...'], ['$3,500.00', '4 Bedroom House for rent', 'Brampton', '< 17 hours ago', '4 Bedroom Detached with 2 car garage Upto 4 parkings Available from 1st April At Walness and McLaughlin Waling distance to Asian food Centre 70% Utilities Working professional welcome Please send me ...'], ['$1,200.00', 'Room for rent, female only', 'Toronto', '< 17 hours ago', '1 room in a 2 bedroom basement apartment, shared bathroom and kitchen, female only, Spanish speaking tenant preferred . $1200, everything included Main intersection bayview & finch'], ['$1,000.00', 'One bedroom basement for rent', 'Brampton', '< 17 hours ago', 'Only female No parking Separate kitchen Separate bathroom Separate living room This is big two bedroom basement, one bedroom is rented for one Punjabi girl One room is available for sharing or ...'], ['Please Contact', '1 bedroom for rent', 'Mississauga', '< 17 hours ago', 'One fully furnished bedroom available on upper floor for couple,boys and girls 5 min walk to malton gurughar.3 minnwalk to bus stop very close to westwood mall. Available from next month'], ['$2,800.00', 'Condo for rent', 'City of Toronto', '< 17 hours ago', '2 specious rooms condo for rent All utilities are included Free wifi,Gym and meeting room available. Step to TTC,Mall,medical offices,library,Grocery stores,parks and Schools. Very close to Highway ...'], ['$2,800.00', 'YONGE/STEELES - MODERN CONDO RENT! CORNER 1 BEDROOM & LARGE DEN', 'Thornhill', '< 17 hours ago', 'Like-New Condition, Almost a 2 Bedroom! 1 Bedroom With a Separate Large Bright Den With Windows That Can Be Used For Office Or 2nd Br! 725 Sq. Ft. Total! Exceptional Boutique Style Minto Water Garden ...'], ['$2,875.00', 'Full unit 2 bed/1 bath apartment for rent', 'Toronto', '< 17 hours ago', 'Unit: 2 bedroom / 1 bathroom apartment Price: $2,875 Room available: March 1st 2023 Location: York Mills & Leslie Heat and water are included, hydro is extra (About $80 in the summer, $120 in the ...'], ['$2,400.00', 'LUXURY CONDOS WITH 5 STARS AMENITIES FOR RENT', 'City of Toronto', '< 17 hours ago', \"***PLEASE READ THE AD FIRST*** *PLEASE DO NOT CONTACT ME IF YOU DON'T HAVE THE REQUIREMENTS. *THIS AD DOES NOT BELONG TO ANY PARTICULAR UNIT. LUXURY CONDOS WITH 5 STARS AMENITIES IN RICHMOND HILL, ...\"], ['$2,400.00', 'LUXURY CONDOS WITH GREAT AMENITIES FOR RENT', 'City of Toronto', '< 17 hours ago', \"***PLEASE READ THE AD FIRST*** *PLEASE DO NOT CONTACT ME IF YOU DON'T HAVE THE REQUIREMENTS. *THIS AD DOES NOT BELONG TO ANY PARTICULAR UNIT. LUXURY CONDOS WITH 5 STARS AMENITIES IN RICHMOND HILL, ...\"], ['$900.00', 'room for rent', 'Brampton', '< 17 hours ago', 'Basement have 2 rooms, one extra large room . only kitchen and bathroom shearing with another room person.available april 1. everything included, also internet. we are looking only working person, ...'], ['$800.00', 'Bedroom for rent.', 'Brampton', '< 17 hours ago', 'One bedroom is available for rent in brand new house. With one car parking. Caledon. Please call for more details. 647-505-4960.'], ['$600.00', 'Sharing room for rent for 1 girl', 'Mississauga / Peel Region', '< 17 hours ago', 'Sharing room for 1 girl for $600 plus utilities. High speed internet and laundry included. Near Frescho and Westwood Mall.'], ['$1,900.00', '2BHK Bsmt $1900 1st May in Brampton at Dixie/Countryside', 'Brampton', '< 17 hours ago', '2BHK Bsmt $1900 1st May in Brampton at Dixie/Countryside Pls call 6475817874 Only serious inquiries Rent - $1900 plus 30% urilities 1 parking included Extra Parking -$75 Close to Walmart, Chalo ...'], ['$900.00', 'Pickering Bungalow for rent!', 'Pickering', '< 17 hours ago', 'Main floor 3 bedrooms, 1.5 bath Kitchen, living room, dining room Basement floor is occupied by other tenants. Plenty of parking space and backyard space. Comfortable for 3-4 people. Ideal for ...'], ['$950.00', 'Bright room for rent Hyw7/Yonge', 'Vaughan', '< 17 hours ago', 'Room for rent available immediately ⁃ Private Room for rent in a beautiful neighbourhood ⁃ 5 houses far from Yonge street. A minute drive from Yong/hyw7 and Yonge/407ETR ⁃ about a minute walk to buss ...'], ['$2,990.00', 'House For Rent In Bowmanville', 'Bowmanville', '< 17 hours ago', 'Due to the high volume of inquiries, please provide yourself a brief description to make the application processing faster This Beautiful 2 Storey Corner Lot Home Like A Semi Detached Is Just Steps ...'], ['$1,200.00', '$1200 May 1st furnished/no lease/Parking', 'Toronto', '< 17 hours ago', 'Rent Advertisement $1200 May 1st furnished/parking/ no lease *more pictures are coming. I had some technical difficulties. There also a new very nice bed frame that I haven’t had time to assemble and ...'], ['Please Contact', 'Basement for Rent', 'Toronto', '< 17 hours ago', 'One full room available for two Punjabi Girls Etobicoke Toronto April 01, 2023 - Rent $375 per person - Bed. Mattress. Microwave, Toaster, - Separate Entrance to the basement. - Fully Air-conditioned ...'], ['$1,750.00', 'CAR DEALERSHIP  UP TO 5 CARS AND OFFICE FOR RENT IN SCARBOROUGH', 'Toronto', '< 17 hours ago', \"Prime location in scarborouugh on Danforth avenue east of Pharmacy avenue . lots of trafic. private office separate .other dealerships around . 4 Parking' OMVIC and CITY APPROVED. Great location for ...\"], ['$2,400.00', 'Rent 3 bed-room + 2 bath basement ~For 1 small family', 'Toronto', '< 17 hours ago', 'ATTN: For 1 small family. Be the first to live in this brand new three BR + two bath BSMT apartment of detached house with separate entrance, 1 parking. Located in Agincourt North of Scarborough ...'], ['$750.00', 'Room for rent @ Bramalea City Center', 'Brampton', '< 17 hours ago', 'Available from 15th March! ======================== *** Very good place for studious or working professional *** *Single Separate 1 bedroom(Single bed + computer table & Chair) available in ...'], ['$550.00', 'A shared/ private room for rent in Brampton - Queen & McLaughlin', 'Brampton', '< 17 hours ago', 'I bedroom with private bath, private kitchen and living room available for rent. There are two other bedroom, 1 bath and 1 kitchen that have 4 girls there. females only. Shared $550 Private - $1000 . ...'], ['$1,000.00', 'Rooms for students available  to rent in Oshawa.', 'Hampton', '< 17 hours ago', 'Room available from February 1st to rent for a single person. Shared living room kitchen and bathroom. Please contact me if interested. Opposite Oshawa centre. Close to Durham college an UOIT. Fully ...'], ['$1,100.00', 'one basement room with a private washroom for rent', 'Toronto', '< 17 hours ago', 'Quiet and comfortable room. Private washroom. utility included. Convenient to public transit, restaruants, bank and grocery. parking available.'], ['$1,050.00', 'Beautiful sub Master Bedroom for rent in North York (No Sharing)', 'Toronto', '< 17 hours ago', '353 Goldenwood Rd, North York, ON $1050 sub master bedrooms with a shared newly renovated washroom and state of the art kitchen. (1 person only, no sharing or couples) The room comes with the highest ...'], ['$2,850.00', 'Downtown Luxury 1BR condo inclusive rent lake and CN tower views', 'Toronto', '< 17 hours ago', 'Rent is inclusve of all utilities and internet , roof top gym and many other amenities in this luxury condo building a King Subway with Path connection. On high floors with spectacular views and lots ...'], ['$300.00', 'Shared storage (garage) space for rent', 'Toronto', '< 17 hours ago', '- Easy to access from main road - Convenient location - Long or short term rental'], ['$1,300.00', 'Room For Rent, Single room, Etobicoke, Humber College, Lakeshore', 'Toronto', '< 17 hours ago', 'Fully Furnished Place Available!! Etobicoke (Park Lawn & Lakeshore) ***1 Bedroom is available for rent in a wonderful space, in a wonderful building, in a wonderful locality*** Ethnicity, sex, age, ...'], ['$3,000.00', 'ENTIRE 4 BED 2.5 BATH LARGE DETACHED HOME FOR RENT BOWMANVILLE', 'Bowmanville', '< 17 hours ago', '- Entire 4 Bedrooms and 2.5 Bathrooms with Hardwood Flooring Throughout and HUGE Backyard Home for Rent in Bowmanville. Great for a Big Family! - Large Kitchen with Tons of Cupboard & Counter Space. ...'], ['$2,600.00', 'YONGE/STEELES CONDO FOR RENT - MODERN CORNER 1 BEDROOM + BIG DEN', 'Thornhill', '< 17 hours ago', 'Like-New Condition, Almost a 2 Bedroom! 1 Bedroom With a Separate Large Bright Den With Windows That Can Be Used For Office Or 2nd Br! 725 Sq. Ft. Total! Exceptional Boutique Style Minto Water Garden ...'], ['$1,700.00', 'ALL INCLUSIVE 2 BEDROOM Semi-basement in MARKHAM', 'Markham', '< 17 hours ago', '2 BEDROOMS 1 or 2 CAR PARKING basement for rent in the very demanding area (McCowan & Denison) in Markham. Separate entrance, close to schools, grocery stores, bank, restaurants and all amenities. ...'], ['Free', 'Basement For Rent In Scarborough! (Morningside and Staines)', 'City of Toronto', '< 17 hours ago', '• Intersection: Morningside and Staines • BASEMENT AVAILABLE FOR RENT • Viewing Saturdays only • Washer and Dryer shared • Have proof of income For more information please call 647-271-1724 thank ...'], ['$3,300.00', 'Condo for rent in Toronto Downtown ( 2 Bed + 2 bath )', 'Toronto', '< 17 hours ago', '15 Lower Jarvis st condo Welcome To This Executive Corner Unit Located At The \"Lighthouse Tower\" By Daniels. With A Walk/Bike/Transit Score Of 100, This Northwest-Facing 2 Bedroom + 2 Bathroom Unit ...'], ['Please Contact', 'Brand New Five Bedroom House For Rent', 'Brampton', '< 17 hours ago', 'Are you a female looking for a comfortable and spacious room in Brampton? Look no further! We have multiple rooms available for rent at 10 Labrish Road, Brampton, ON L7A5C2. Our rooms are located in ...'], ['$2,300.00', '2-Bedroom Basement Apartment in Thornhill for Rent', 'Markham', '< 17 hours ago', 'AVAILABLE NOW - Bright basement Apartment for Rent in Thornhill (near Toronto, North York, Richmond Hill, Markham). Short or Long-Term Rental. Excellent location. Just RENOVATED!!! Ideal for 1-3 ...'], ['$1,900.00', 'Port Whitby  Rentals', 'Oshawa / Durham Region', '< 17 hours ago', '2 Bedroom apartment for Rent in Beautiful Port Whitby $1900.00 Well maintained 2 bedroom apartment for rent with over 950 square feet of living space. (UTILITIES INCLUDED) This building offers an on ...'], ['Please Contact', '3 Bedroom house for rent from April 1st', 'Brampton', '< 17 hours ago', '3 Bedroom house available for rent from April 1st on very quite street. Major intersection Torbram rd at Peter robertson rd. Walking distance to Brampton civic hospital, Karol bagh plaza, bus stop ...'], ['$3,300.00', 'House for rent in Malton  ,( 4 Bedrooms and  2 full washrooms)', 'Mississauga', '< 17 hours ago', '4 bedroom and 2 full washrooms, spacious Semi-detached house for rent in the heart of Malton. Walking distance to Westwood Mall, Westwood terminal and Gurughar. Malton Go is close by.( Basement not ...'], ['$3,000.00', 'BUY HOUSE WITH ZERO DOWN OR RENT TO OWN PROGRAM', 'Brampton', '10/02/2023', 'Luxurious 2018 Built Freehold & Ravine Lot(Pond) Townhouse Nestled In A Premium Location Of Brampton East. , Hardwood Flooring & California Shutters Throughout, Handy Interior Garage Access, And Oak ...'], ['$2,200.00', '1 Bedroom apartment available for rent in Oakwood Village!', 'Toronto', '02/03/2023', 'This above ground 1 bedroom unit has newer modern accents, including new modern flooring, and tons of natural light through a skylight window above the open concept living room / kitchen area! • All ...'], ['Please Contact', 'Wanted: Do you have extra warehouse space?', 'City of Toronto', '01/03/2023', \"Moved into a new warehouse but don't need your whole space? Do you have extra warehouse space within your warehouse? Have more than 2,000 square feet not being utilized? We can help fill the excess ...\"], ['$1,395.00', 'Bright, Beautiful, All-inclusive Queen St. Office', 'Toronto', '< 24 hours ago', 'Approx. 300 sq. ft. bright private office available for yearly lease on the second floor of a renovated commercial building on Queen Street East near Parliament. Easy access by streetcar, DVP or ...'], ['$950.00', 'ROOM FOR RENT... available  IMMEDIATELY!(Markham +Eglinton)', 'Scarborough', '05/02/2023', 'Available Immediately for rental for a SINGLE PERSON. This room is located in a well kept family-friendly orientated condo complex with all that one could ask for. It is located on the second floor ...'], ['$950.00', 'Furnished room for rent at Mavis and Eglinton Avenue West', 'Mississauga', '< 17 hours ago', 'Furnished room for rent at Mavis and Eglinton Avenue West in Mississauga on upper floor of large 5 bedroom house very clean with shared kitchen and Washroom available immediately rent is $ 950$ ...'], ['Please Contact', '4 Bedroom house in Brampton for rent', 'Brampton', '< 17 hours ago', 'LOCATION NEAR FERNFOREST DR & SANDALWOOD PARKWAY EAST Available April 1st, 2023 (upper level of house) $3500 + 70% utilities (water, gas, hydro, wifi not included) spacious living in a great ...'], ['$3,500.00', '4 Bedroom House for rent', 'Brampton', '< 17 hours ago', '4 Bedroom Detached with 2 car garage Upto 4 parkings Available from 1st April At Walness and McLaughlin Waling distance to Asian food Centre 70% Utilities Working professional welcome Please send me ...'], ['$1,200.00', 'Room for rent, female only', 'Toronto', '< 17 hours ago', '1 room in a 2 bedroom basement apartment, shared bathroom and kitchen, female only, Spanish speaking tenant preferred . $1200, everything included Main intersection bayview & finch'], ['$1,000.00', 'One bedroom basement for rent', 'Brampton', '< 17 hours ago', 'Only female No parking Separate kitchen Separate bathroom Separate living room This is big two bedroom basement, one bedroom is rented for one Punjabi girl One room is available for sharing or ...'], ['Please Contact', '1 bedroom for rent', 'Mississauga', '< 17 hours ago', 'One fully furnished bedroom available on upper floor for couple,boys and girls 5 min walk to malton gurughar.3 minnwalk to bus stop very close to westwood mall. Available from next month'], ['$2,800.00', 'Condo for rent', 'City of Toronto', '< 17 hours ago', '2 specious rooms condo for rent All utilities are included Free wifi,Gym and meeting room available. Step to TTC,Mall,medical offices,library,Grocery stores,parks and Schools. Very close to Highway ...'], ['$2,800.00', 'YONGE/STEELES - MODERN CONDO RENT! CORNER 1 BEDROOM & LARGE DEN', 'Thornhill', '< 17 hours ago', 'Like-New Condition, Almost a 2 Bedroom! 1 Bedroom With a Separate Large Bright Den With Windows That Can Be Used For Office Or 2nd Br! 725 Sq. Ft. Total! Exceptional Boutique Style Minto Water Garden ...'], ['$2,875.00', 'Full unit 2 bed/1 bath apartment for rent', 'Toronto', '< 17 hours ago', 'Unit: 2 bedroom / 1 bathroom apartment Price: $2,875 Room available: March 1st 2023 Location: York Mills & Leslie Heat and water are included, hydro is extra (About $80 in the summer, $120 in the ...'], ['$2,400.00', 'LUXURY CONDOS WITH 5 STARS AMENITIES FOR RENT', 'City of Toronto', '< 17 hours ago', \"***PLEASE READ THE AD FIRST*** *PLEASE DO NOT CONTACT ME IF YOU DON'T HAVE THE REQUIREMENTS. *THIS AD DOES NOT BELONG TO ANY PARTICULAR UNIT. LUXURY CONDOS WITH 5 STARS AMENITIES IN RICHMOND HILL, ...\"], ['$2,400.00', 'LUXURY CONDOS WITH GREAT AMENITIES FOR RENT', 'City of Toronto', '< 17 hours ago', \"***PLEASE READ THE AD FIRST*** *PLEASE DO NOT CONTACT ME IF YOU DON'T HAVE THE REQUIREMENTS. *THIS AD DOES NOT BELONG TO ANY PARTICULAR UNIT. LUXURY CONDOS WITH 5 STARS AMENITIES IN RICHMOND HILL, ...\"], ['$900.00', 'room for rent', 'Brampton', '< 17 hours ago', 'Basement have 2 rooms, one extra large room . only kitchen and bathroom shearing with another room person.available april 1. everything included, also internet. we are looking only working person, ...'], ['$800.00', 'Bedroom for rent.', 'Brampton', '< 17 hours ago', 'One bedroom is available for rent in brand new house. With one car parking. Caledon. Please call for more details. 647-505-4960.'], ['$600.00', 'Sharing room for rent for 1 girl', 'Mississauga / Peel Region', '< 17 hours ago', 'Sharing room for 1 girl for $600 plus utilities. High speed internet and laundry included. Near Frescho and Westwood Mall.'], ['$1,900.00', '2BHK Bsmt $1900 1st May in Brampton at Dixie/Countryside', 'Brampton', '< 17 hours ago', '2BHK Bsmt $1900 1st May in Brampton at Dixie/Countryside Pls call 6475817874 Only serious inquiries Rent - $1900 plus 30% urilities 1 parking included Extra Parking -$75 Close to Walmart, Chalo ...'], ['$900.00', 'Pickering Bungalow for rent!', 'Pickering', '< 17 hours ago', 'Main floor 3 bedrooms, 1.5 bath Kitchen, living room, dining room Basement floor is occupied by other tenants. Plenty of parking space and backyard space. Comfortable for 3-4 people. Ideal for ...'], ['$950.00', 'Bright room for rent Hyw7/Yonge', 'Vaughan', '< 17 hours ago', 'Room for rent available immediately ⁃ Private Room for rent in a beautiful neighbourhood ⁃ 5 houses far from Yonge street. A minute drive from Yong/hyw7 and Yonge/407ETR ⁃ about a minute walk to buss ...'], ['$2,990.00', 'House For Rent In Bowmanville', 'Bowmanville', '< 17 hours ago', 'Due to the high volume of inquiries, please provide yourself a brief description to make the application processing faster This Beautiful 2 Storey Corner Lot Home Like A Semi Detached Is Just Steps ...'], ['$1,200.00', '$1200 May 1st furnished/no lease/Parking', 'Toronto', '< 17 hours ago', 'Rent Advertisement $1200 May 1st furnished/parking/ no lease *more pictures are coming. I had some technical difficulties. There also a new very nice bed frame that I haven’t had time to assemble and ...'], ['Please Contact', 'Basement for Rent', 'Toronto', '< 17 hours ago', 'One full room available for two Punjabi Girls Etobicoke Toronto April 01, 2023 - Rent $375 per person - Bed. Mattress. Microwave, Toaster, - Separate Entrance to the basement. - Fully Air-conditioned ...'], ['$1,750.00', 'CAR DEALERSHIP  UP TO 5 CARS AND OFFICE FOR RENT IN SCARBOROUGH', 'Toronto', '< 17 hours ago', \"Prime location in scarborouugh on Danforth avenue east of Pharmacy avenue . lots of trafic. private office separate .other dealerships around . 4 Parking' OMVIC and CITY APPROVED. Great location for ...\"], ['$2,400.00', 'Rent 3 bed-room + 2 bath basement ~For 1 small family', 'Toronto', '< 17 hours ago', 'ATTN: For 1 small family. Be the first to live in this brand new three BR + two bath BSMT apartment of detached house with separate entrance, 1 parking. Located in Agincourt North of Scarborough ...'], ['$750.00', 'Room for rent @ Bramalea City Center', 'Brampton', '< 17 hours ago', 'Available from 15th March! +++++++++++++++++++++++++ *** Very good place for studious or working professional *** *Single Separate 1 bedroom(Single bed + computer table & Chair) available in ...'], ['$550.00', 'A shared/ private room for rent in Brampton - Queen & McLaughlin', 'Brampton', '< 17 hours ago', 'I bedroom with private bath, private kitchen and living room available for rent. There are two other bedroom, 1 bath and 1 kitchen that have 4 girls there. females only. Shared $550 Private - $1000 . ...'], ['$1,000.00', 'Rooms for students available  to rent in Oshawa.', 'Hampton', '< 17 hours ago', 'Room available from February 1st to rent for a single person. Shared living room kitchen and bathroom. Please contact me if interested. Opposite Oshawa centre. Close to Durham college an UOIT. Fully ...'], ['$1,100.00', 'one basement room with a private washroom for rent', 'Toronto', '< 17 hours ago', 'Quiet and comfortable room. Private washroom. utility included. Convenient to public transit, restaruants, bank and grocery. parking available.'], ['$1,050.00', 'Beautiful sub Master Bedroom for rent in North York (No Sharing)', 'Toronto', '< 17 hours ago', '353 Goldenwood Rd, North York, ON $1050 sub master bedrooms with a shared newly renovated washroom and state of the art kitchen. (1 person only, no sharing or couples) The room comes with the highest ...'], ['$2,850.00', 'Downtown Luxury 1BR condo inclusive rent lake and CN tower views', 'Toronto', '< 17 hours ago', 'Rent is inclusve of all utilities and internet , roof top gym and many other amenities in this luxury condo building a King Subway with Path connection. On high floors with spectacular views and lots ...'], ['$300.00', 'Shared storage (garage) space for rent', 'Toronto', '< 17 hours ago', '- Easy to access from main road - Convenient location - Long or short term rental'], ['$1,300.00', 'Room For Rent, Single room, Etobicoke, Humber College, Lakeshore', 'Toronto', '< 17 hours ago', 'Fully Furnished Place Available!! Etobicoke (Park Lawn & Lakeshore) ***1 Bedroom is available for rent in a wonderful space, in a wonderful building, in a wonderful locality*** Ethnicity, sex, age, ...'], ['$3,000.00', 'ENTIRE 4 BED 2.5 BATH LARGE DETACHED HOME FOR RENT BOWMANVILLE', 'Bowmanville', '< 17 hours ago', '- Entire 4 Bedrooms and 2.5 Bathrooms with Hardwood Flooring Throughout and HUGE Backyard Home for Rent in Bowmanville. Great for a Big Family! - Large Kitchen with Tons of Cupboard & Counter Space. ...'], ['$2,600.00', 'YONGE/STEELES CONDO FOR RENT - MODERN CORNER 1 BEDROOM + BIG DEN', 'Thornhill', '< 17 hours ago', 'Like-New Condition, Almost a 2 Bedroom! 1 Bedroom With a Separate Large Bright Den With Windows That Can Be Used For Office Or 2nd Br! 725 Sq. Ft. Total! Exceptional Boutique Style Minto Water Garden ...'], ['$1,700.00', 'ALL INCLUSIVE 2 BEDROOM Semi-basement in MARKHAM', 'Markham', '< 17 hours ago', '2 BEDROOMS 1 or 2 CAR PARKING basement for rent in the very demanding area (McCowan & Denison) in Markham. Separate entrance, close to schools, grocery stores, bank, restaurants and all amenities. ...'], ['Free', 'Basement For Rent In Scarborough! (Morningside and Staines)', 'City of Toronto', '< 17 hours ago', '• Intersection: Morningside and Staines • BASEMENT AVAILABLE FOR RENT • Viewing Saturdays only • Washer and Dryer shared • Have proof of income For more information please call 647-271-1724 thank ...'], ['$3,300.00', 'Condo for rent in Toronto Downtown ( 2 Bed + 2 bath )', 'Toronto', '< 17 hours ago', '15 Lower Jarvis st condo Welcome To This Executive Corner Unit Located At The \"Lighthouse Tower\" By Daniels. With A Walk/Bike/Transit Score Of 100, This Northwest-Facing 2 Bedroom + 2 Bathroom Unit ...'], ['Please Contact', 'Brand New Five Bedroom House For Rent', 'Brampton', '< 17 hours ago', 'Are you a female looking for a comfortable and spacious room in Brampton? Look no further! We have multiple rooms available for rent at 10 Labrish Road, Brampton, ON L7A5C2. Our rooms are located in ...'], ['$2,300.00', '2-Bedroom Basement Apartment in Thornhill for Rent', 'Markham', '< 17 hours ago', 'AVAILABLE NOW - Bright basement Apartment for Rent in Thornhill (near Toronto, North York, Richmond Hill, Markham). Short or Long-Term Rental. Excellent location. Just RENOVATED!!! Ideal for 1-3 ...'], ['$1,900.00', 'Port Whitby  Rentals', 'Oshawa / Durham Region', '< 17 hours ago', '2 Bedroom apartment for Rent in Beautiful Port Whitby $1900.00 Well maintained 2 bedroom apartment for rent with over 950 square feet of living space. (UTILITIES INCLUDED) This building offers an on ...'], ['Please Contact', '3 Bedroom house for rent from April 1st', 'Brampton', '< 17 hours ago', '3 Bedroom house available for rent from April 1st on very quite street. Major intersection Torbram rd at Peter robertson rd. Walking distance to Brampton civic hospital, Karol bagh plaza, bus stop ...'], ['$3,300.00', 'House for rent in Malton  ,( 4 Bedrooms and  2 full washrooms)', 'Mississauga', '< 17 hours ago', '4 bedroom and 2 full washrooms, spacious Semi-detached house for rent in the heart of Malton. Walking distance to Westwood Mall, Westwood terminal and Gurughar. Malton Go is close by.( Basement not ...'], ['$900.00', 'Furnished Room For Rent All Inclusive Downtown Cobourg Wifi', 'Cobourg', '05/02/2023', 'Furnished room for rent downtown Cobourg. Steps to Victoria Park and Beach. Includes furnishings, all utilities, laundry, wifi. Legal rooming house. Shared kitchen and bathroom. Contact for showing.'], ['$2,195.00', 'Beautiful two bedroom main floor of triplex for rent', 'Oshawa', 'Yesterday', 'Beautiful two bedroom main floor of triplex Very spacious bedrooms Each unit has its own climate control Text, email or call to book a time to see it'], ['$36.00', 'Virtual Offices Limited Promotion!', 'Oakville / Halton Region', 'Yesterday', 'Working from Home? In need a Virtual Business Address to Run your business? ZEMLAR OFFICES virtual packages designed specifically for SME and solo-preneurs, to help you operate from anywhere, while ...\\n                        \\n                            \\n                            \\n                                \\n                            \\n                            \\n                        \\n\\n                        \\n                            \\n                                Furnished Offices | Meeting Rooms | Virtual Offices | Private office | coworking | workspcae | office space | Mississauga | GTA | Meeting room | month to month | Board Room for rent | Business Address | Phone Answering | Office Lease |'], ['$2,500.00', 'FOR RENT 2BDRM/2BATHS SCARBOROUGH CONDO', 'Toronto', '02/03/2023', '2 Bdrm/2Bath PENTHOUSE suite available for lease in the prestigious Haven on the Bluffs Condo at Cliffside. Very desirable split bedroom layout. High Floor with UNBLOCKED Northwest View. Steps away ...'], ['$2,239.00', '1 Bedroom For Rent - Oakville - Convenience - Close to the Lake!', 'Oakville', '22/02/2023', \"Situated in a peaceful, relaxing community, 75 Stewart St. is only moments away from life's necessities. Our 1 bedroom suites offer bright and spacious living with fully renovated kitchen and ...\"], ['$950.00', 'Furnished room for rent at Mavis and Eglinton Avenue West', 'Mississauga', '< 17 hours ago', 'Furnished room for rent at Mavis and Eglinton Avenue West in Mississauga on upper floor of large 5 bedroom house very clean with shared kitchen and Washroom available immediately rent is $ 950$ ...'], ['Please Contact', '4 Bedroom house in Brampton for rent', 'Brampton', '< 17 hours ago', 'LOCATION NEAR FERNFOREST DR & SANDALWOOD PARKWAY EAST Available April 1st, 2023 (upper level of house) $3500 + 70% utilities (water, gas, hydro, wifi not included) spacious living in a great ...'], ['$3,500.00', '4 Bedroom House for rent', 'Brampton', '< 17 hours ago', '4 Bedroom Detached with 2 car garage Upto 4 parkings Available from 1st April At Walness and McLaughlin Waling distance to Asian food Centre 70% Utilities Working professional welcome Please send me ...'], ['$1,200.00', 'Room for rent, female only', 'Toronto', '< 17 hours ago', '1 room in a 2 bedroom basement apartment, shared bathroom and kitchen, female only, Spanish speaking tenant preferred . $1200, everything included Main intersection bayview & finch'], ['$1,000.00', 'One bedroom basement for rent', 'Brampton', '< 17 hours ago', 'Only female No parking Separate kitchen Separate bathroom Separate living room This is big two bedroom basement, one bedroom is rented for one Punjabi girl One room is available for sharing or ...'], ['Please Contact', '1 bedroom for rent', 'Mississauga', '< 17 hours ago', 'One fully furnished bedroom available on upper floor for couple,boys and girls 5 min walk to malton gurughar.3 minnwalk to bus stop very close to westwood mall. Available from next month'], ['$2,800.00', 'Condo for rent', 'City of Toronto', '< 17 hours ago', '2 specious rooms condo for rent All utilities are included Free wifi,Gym and meeting room available. Step to TTC,Mall,medical offices,library,Grocery stores,parks and Schools. Very close to Highway ...'], ['$2,800.00', 'YONGE/STEELES - MODERN CONDO RENT! CORNER 1 BEDROOM & LARGE DEN', 'Thornhill', '< 17 hours ago', 'Like-New Condition, Almost a 2 Bedroom! 1 Bedroom With a Separate Large Bright Den With Windows That Can Be Used For Office Or 2nd Br! 725 Sq. Ft. Total! Exceptional Boutique Style Minto Water Garden ...'], ['$2,875.00', 'Full unit 2 bed/1 bath apartment for rent', 'Toronto', '< 17 hours ago', 'Unit: 2 bedroom / 1 bathroom apartment Price: $2,875 Room available: March 1st 2023 Location: York Mills & Leslie Heat and water are included, hydro is extra (About $80 in the summer, $120 in the ...'], ['$2,400.00', 'LUXURY CONDOS WITH 5 STARS AMENITIES FOR RENT', 'City of Toronto', '< 17 hours ago', \"***PLEASE READ THE AD FIRST*** *PLEASE DO NOT CONTACT ME IF YOU DON'T HAVE THE REQUIREMENTS. *THIS AD DOES NOT BELONG TO ANY PARTICULAR UNIT. LUXURY CONDOS WITH 5 STARS AMENITIES IN RICHMOND HILL, ...\"], ['$2,400.00', 'LUXURY CONDOS WITH GREAT AMENITIES FOR RENT', 'City of Toronto', '< 17 hours ago', \"***PLEASE READ THE AD FIRST*** *PLEASE DO NOT CONTACT ME IF YOU DON'T HAVE THE REQUIREMENTS. *THIS AD DOES NOT BELONG TO ANY PARTICULAR UNIT. LUXURY CONDOS WITH 5 STARS AMENITIES IN RICHMOND HILL, ...\"], ['$900.00', 'room for rent', 'Brampton', '< 17 hours ago', 'Basement have 2 rooms, one extra large room . only kitchen and bathroom shearing with another room person.available april 1. everything included, also internet. we are looking only working person, ...'], ['$800.00', 'Bedroom for rent.', 'Brampton', '< 17 hours ago', 'One bedroom is available for rent in brand new house. With one car parking. Caledon. Please call for more details. 647-505-4960.'], ['$600.00', 'Sharing room for rent for 1 girl', 'Mississauga / Peel Region', '< 17 hours ago', 'Sharing room for 1 girl for $600 plus utilities. High speed internet and laundry included. Near Frescho and Westwood Mall.'], ['$1,900.00', '2BHK Bsmt $1900 1st May in Brampton at Dixie/Countryside', 'Brampton', '< 17 hours ago', '2BHK Bsmt $1900 1st May in Brampton at Dixie/Countryside Pls call 6475817874 Only serious inquiries Rent - $1900 plus 30% urilities 1 parking included Extra Parking -$75 Close to Walmart, Chalo ...'], ['$900.00', 'Pickering Bungalow for rent!', 'Pickering', '< 17 hours ago', 'Main floor 3 bedrooms, 1.5 bath Kitchen, living room, dining room Basement floor is occupied by other tenants. Plenty of parking space and backyard space. Comfortable for 3-4 people. Ideal for ...'], ['$950.00', 'Bright room for rent Hyw7/Yonge', 'Vaughan', '< 17 hours ago', 'Room for rent available immediately ⁃ Private Room for rent in a beautiful neighbourhood ⁃ 5 houses far from Yonge street. A minute drive from Yong/hyw7 and Yonge/407ETR ⁃ about a minute walk to buss ...'], ['$2,990.00', 'House For Rent In Bowmanville', 'Bowmanville', '< 17 hours ago', 'Due to the high volume of inquiries, please provide yourself a brief description to make the application processing faster This Beautiful 2 Storey Corner Lot Home Like A Semi Detached Is Just Steps ...'], ['$1,200.00', '$1200 May 1st furnished/no lease/Parking', 'Toronto', '< 17 hours ago', 'Rent Advertisement $1200 May 1st furnished/parking/ no lease *more pictures are coming. I had some technical difficulties. There also a new very nice bed frame that I haven’t had time to assemble and ...'], ['Please Contact', 'Basement for Rent', 'Toronto', '< 17 hours ago', 'One full room available for two Punjabi Girls Etobicoke Toronto April 01, 2023 - Rent $375 per person - Bed. Mattress. Microwave, Toaster, - Separate Entrance to the basement. - Fully Air-conditioned ...'], ['$1,750.00', 'CAR DEALERSHIP  UP TO 5 CARS AND OFFICE FOR RENT IN SCARBOROUGH', 'Toronto', '< 17 hours ago', \"Prime location in scarborouugh on Danforth avenue east of Pharmacy avenue . lots of trafic. private office separate .other dealerships around . 4 Parking' OMVIC and CITY APPROVED. Great location for ...\"], ['$2,400.00', 'Rent 3 bed-room + 2 bath basement ~For 1 small family', 'Toronto', '< 17 hours ago', 'ATTN: For 1 small family. Be the first to live in this brand new three BR + two bath BSMT apartment of detached house with separate entrance, 1 parking. Located in Agincourt North of Scarborough ...'], ['$750.00', 'Room for rent @ Bramalea City Center', 'Brampton', '< 17 hours ago', 'Available from 15th March! +++++++++++++++++++++++++ *** Very good place for studious or working professional *** *Single Separate 1 bedroom(Single bed + computer table & Chair) available in ...'], ['$550.00', 'A shared/ private room for rent in Brampton - Queen & McLaughlin', 'Brampton', '< 17 hours ago', 'I bedroom with private bath, private kitchen and living room available for rent. There are two other bedroom, 1 bath and 1 kitchen that have 4 girls there. females only. Shared $550 Private - $1000 . ...'], ['$1,000.00', 'Rooms for students available  to rent in Oshawa.', 'Hampton', '< 17 hours ago', 'Room available from February 1st to rent for a single person. Shared living room kitchen and bathroom. Please contact me if interested. Opposite Oshawa centre. Close to Durham college an UOIT. Fully ...'], ['$1,100.00', 'one basement room with a private washroom for rent', 'Toronto', '< 17 hours ago', 'Quiet and comfortable room. Private washroom. utility included. Convenient to public transit, restaruants, bank and grocery. parking available.'], ['$1,050.00', 'Beautiful sub Master Bedroom for rent in North York (No Sharing)', 'Toronto', '< 17 hours ago', '353 Goldenwood Rd, North York, ON $1050 sub master bedrooms with a shared newly renovated washroom and state of the art kitchen. (1 person only, no sharing or couples) The room comes with the highest ...'], ['$2,850.00', 'Downtown Luxury 1BR condo inclusive rent lake and CN tower views', 'Toronto', '< 17 hours ago', 'Rent is inclusve of all utilities and internet , roof top gym and many other amenities in this luxury condo building a King Subway with Path connection. On high floors with spectacular views and lots ...'], ['$300.00', 'Shared storage (garage) space for rent', 'Toronto', '< 17 hours ago', '- Easy to access from main road - Convenient location - Long or short term rental'], ['$1,300.00', 'Room For Rent, Single room, Etobicoke, Humber College, Lakeshore', 'Toronto', '< 17 hours ago', 'Fully Furnished Place Available!! Etobicoke (Park Lawn & Lakeshore) ***1 Bedroom is available for rent in a wonderful space, in a wonderful building, in a wonderful locality*** Ethnicity, sex, age, ...'], ['$3,000.00', 'ENTIRE 4 BED 2.5 BATH LARGE DETACHED HOME FOR RENT BOWMANVILLE', 'Bowmanville', '< 17 hours ago', '- Entire 4 Bedrooms and 2.5 Bathrooms with Hardwood Flooring Throughout and HUGE Backyard Home for Rent in Bowmanville. Great for a Big Family! - Large Kitchen with Tons of Cupboard & Counter Space. ...'], ['$2,600.00', 'YONGE/STEELES CONDO FOR RENT - MODERN CORNER 1 BEDROOM + BIG DEN', 'Thornhill', '< 17 hours ago', 'Like-New Condition, Almost a 2 Bedroom! 1 Bedroom With a Separate Large Bright Den With Windows That Can Be Used For Office Or 2nd Br! 725 Sq. Ft. Total! Exceptional Boutique Style Minto Water Garden ...'], ['$1,700.00', 'ALL INCLUSIVE 2 BEDROOM Semi-basement in MARKHAM', 'Markham', '< 17 hours ago', '2 BEDROOMS 1 or 2 CAR PARKING basement for rent in the very demanding area (McCowan & Denison) in Markham. Separate entrance, close to schools, grocery stores, bank, restaurants and all amenities. ...'], ['Free', 'Basement For Rent In Scarborough! (Morningside and Staines)', 'City of Toronto', '< 17 hours ago', '• Intersection: Morningside and Staines • BASEMENT AVAILABLE FOR RENT • Viewing Saturdays only • Washer and Dryer shared • Have proof of income For more information please call 647-271-1724 thank ...'], ['$3,300.00', 'Condo for rent in Toronto Downtown ( 2 Bed + 2 bath )', 'Toronto', '< 17 hours ago', '15 Lower Jarvis st condo Welcome To This Executive Corner Unit Located At The \"Lighthouse Tower\" By Daniels. With A Walk/Bike/Transit Score Of 100, This Northwest-Facing 2 Bedroom + 2 Bathroom Unit ...'], ['Please Contact', 'Brand New Five Bedroom House For Rent', 'Brampton', '< 17 hours ago', 'Are you a female looking for a comfortable and spacious room in Brampton? Look no further! We have multiple rooms available for rent at 10 Labrish Road, Brampton, ON L7A5C2. Our rooms are located in ...'], ['$2,300.00', '2-Bedroom Basement Apartment in Thornhill for Rent', 'Markham', '< 17 hours ago', 'AVAILABLE NOW - Bright basement Apartment for Rent in Thornhill (near Toronto, North York, Richmond Hill, Markham). Short or Long-Term Rental. Excellent location. Just RENOVATED!!! Ideal for 1-3 ...'], ['$1,900.00', 'Port Whitby  Rentals', 'Oshawa / Durham Region', '< 17 hours ago', '2 Bedroom apartment for Rent in Beautiful Port Whitby $1900.00 Well maintained 2 bedroom apartment for rent with over 950 square feet of living space. (UTILITIES INCLUDED) This building offers an on ...'], ['Please Contact', '3 Bedroom house for rent from April 1st', 'Brampton', '< 17 hours ago', '3 Bedroom house available for rent from April 1st on very quite street. Major intersection Torbram rd at Peter robertson rd. Walking distance to Brampton civic hospital, Karol bagh plaza, bus stop ...'], ['$3,300.00', 'House for rent in Malton  ,( 4 Bedrooms and  2 full washrooms)', 'Mississauga', '< 17 hours ago', '4 bedroom and 2 full washrooms, spacious Semi-detached house for rent in the heart of Malton. Walking distance to Westwood Mall, Westwood terminal and Gurughar. Malton Go is close by.( Basement not ...'], ['Please Contact', 'GIRL/S Furnish SPACIOUS room rent Mount Pleasant GO Brampton', 'Brampton', '< 3 hours ago', '647-629-2929 FROM MARCH 1ST/15TH MARCH/1st APRIL 2023, fully furnished room rent FOR GIRL/S 30 secs walk from MOUNT PLEASANT GO BRAMPTON, ALL MAJOR BRAMOTON TRANSIT ROUTES, LIBRARY, PIZZA, BANKS, ...'], ['$2,290.00', '2 Bdrm available at 148 Islington Avenue, Etobicoke', 'Etobicoke', '< 2 hours ago', 'Visit our Website: https://www.capreit.ca/apartments-for-rent/etobicoke-on/islington-apartments/ These delightful apartments for rent in Etobicoke are low rises in the Lakeshore Village offering ...'], ['$800.00', 'EXCITING OFFER - Offices Spaces for Rent Available!`', 'Markham / York Region', 'Yesterday', 'Get upto 2 months of free fully furnished office spaces when you sign up with ZEMLAR Offices. Contact us to claim now. *Limited availability Offer: Get two months FREE on payment of 1 year in advance ...\\n                        \\n                            \\n                            \\n                                \\n                            \\n                            \\n                        \\n\\n                        \\n                            \\n                                Furnished Offices | Meeting Rooms | Virtual Offices | Private | office | coworking | workspcae | office space | Markham | GTA | Meeting room | month to month | Board Room for rent | Business Address | Phone Answering | Office Lease |'], ['$2,450.00', 'Three Bedroom Townhouse for Rent in Oshawa. GREAT LOCATION', 'Oshawa / Durham Region', '24/02/2023', 'SPACIOUS 3 BEDROOM TOWNHOUSE FOR RENT IN NORTH OSHAWA! SELECT TOWNHOMES FULLY RENOVATED WITH QUALITY UPGRADES! TOUCH FREE LEASING: Virtual viewings available via video conferencing. Book yours today. ...\\n                        \\n                            \\n                            \\n                                \\n                            \\n                            \\n                        \\n\\n                        \\n                            \\n                                Proudly Managed by Realstar!  Carriage Hill Offers Premium 2 & 3 Bedroom Townhouses!'], ['$36.00', 'Virtual Office Limited Promotion', 'Mississauga / Peel Region', 'Yesterday', 'Working from Home? In need of a Professional Address to Run your business? ZEMLAR OFFICES Virtual Office Packages are designed to the needs of small businesses and solitary entrepreneurs. Our job is ...\\n                        \\n                            \\n                            \\n                                \\n                            \\n                            \\n                        \\n\\n                        \\n                            \\n                                Furnished Offices | Meeting Rooms | Virtual Offices | Private | office | coworking | workspcae | office space | Mississauga | GTA | Meeting room | month to month | Board Room for rent | Business Address | Phone Answering | Office Lease |'], ['Please Contact', '4 Bedroom house in Brampton for rent', 'Brampton', '< 17 hours ago', 'LOCATION NEAR FERNFOREST DR & SANDALWOOD PARKWAY EAST Available April 1st, 2023 (upper level of house) $3500 + 70% utilities (water, gas, hydro, wifi not included) spacious living in a great ...'], ['$3,500.00', '4 Bedroom House for rent', 'Brampton', '< 17 hours ago', '4 Bedroom Detached with 2 car garage Upto 4 parkings Available from 1st April At Walness and McLaughlin Waling distance to Asian food Centre 70% Utilities Working professional welcome Please send me ...'], ['$1,200.00', 'Room for rent, female only', 'Toronto', '< 17 hours ago', '1 room in a 2 bedroom basement apartment, shared bathroom and kitchen, female only, Spanish speaking tenant preferred . $1200, everything included Main intersection bayview & finch'], ['$1,000.00', 'One bedroom basement for rent', 'Brampton', '< 17 hours ago', 'Only female No parking Separate kitchen Separate bathroom Separate living room This is big two bedroom basement, one bedroom is rented for one Punjabi girl One room is available for sharing or ...'], ['Please Contact', '1 bedroom for rent', 'Mississauga', '< 17 hours ago', 'One fully furnished bedroom available on upper floor for couple,boys and girls 5 min walk to malton gurughar.3 minnwalk to bus stop very close to westwood mall. Available from next month'], ['$2,800.00', 'Condo for rent', 'City of Toronto', '< 17 hours ago', '2 specious rooms condo for rent All utilities are included Free wifi,Gym and meeting room available. Step to TTC,Mall,medical offices,library,Grocery stores,parks and Schools. Very close to Highway ...'], ['$2,800.00', 'YONGE/STEELES - MODERN CONDO RENT! CORNER 1 BEDROOM & LARGE DEN', 'Thornhill', '< 17 hours ago', 'Like-New Condition, Almost a 2 Bedroom! 1 Bedroom With a Separate Large Bright Den With Windows That Can Be Used For Office Or 2nd Br! 725 Sq. Ft. Total! Exceptional Boutique Style Minto Water Garden ...'], ['$2,875.00', 'Full unit 2 bed/1 bath apartment for rent', 'Toronto', '< 17 hours ago', 'Unit: 2 bedroom / 1 bathroom apartment Price: $2,875 Room available: March 1st 2023 Location: York Mills & Leslie Heat and water are included, hydro is extra (About $80 in the summer, $120 in the ...'], ['$2,400.00', 'LUXURY CONDOS WITH 5 STARS AMENITIES FOR RENT', 'City of Toronto', '< 17 hours ago', \"***PLEASE READ THE AD FIRST*** *PLEASE DO NOT CONTACT ME IF YOU DON'T HAVE THE REQUIREMENTS. *THIS AD DOES NOT BELONG TO ANY PARTICULAR UNIT. LUXURY CONDOS WITH 5 STARS AMENITIES IN RICHMOND HILL, ...\"], ['$2,400.00', 'LUXURY CONDOS WITH GREAT AMENITIES FOR RENT', 'City of Toronto', '< 17 hours ago', \"***PLEASE READ THE AD FIRST*** *PLEASE DO NOT CONTACT ME IF YOU DON'T HAVE THE REQUIREMENTS. *THIS AD DOES NOT BELONG TO ANY PARTICULAR UNIT. LUXURY CONDOS WITH 5 STARS AMENITIES IN RICHMOND HILL, ...\"], ['$900.00', 'room for rent', 'Brampton', '< 17 hours ago', 'Basement have 2 rooms, one extra large room . only kitchen and bathroom shearing with another room person.available april 1. everything included, also internet. we are looking only working person, ...'], ['$800.00', 'Bedroom for rent.', 'Brampton', '< 17 hours ago', 'One bedroom is available for rent in brand new house. With one car parking. Caledon. Please call for more details. 647-505-4960.'], ['$600.00', 'Sharing room for rent for 1 girl', 'Mississauga / Peel Region', '< 17 hours ago', 'Sharing room for 1 girl for $600 plus utilities. High speed internet and laundry included. Near Frescho and Westwood Mall.'], ['$1,900.00', '2BHK Bsmt $1900 1st May in Brampton at Dixie/Countryside', 'Brampton', '< 17 hours ago', '2BHK Bsmt $1900 1st May in Brampton at Dixie/Countryside Pls call 6475817874 Only serious inquiries Rent - $1900 plus 30% urilities 1 parking included Extra Parking -$75 Close to Walmart, Chalo ...'], ['$900.00', 'Pickering Bungalow for rent!', 'Pickering', '< 17 hours ago', 'Main floor 3 bedrooms, 1.5 bath Kitchen, living room, dining room Basement floor is occupied by other tenants. Plenty of parking space and backyard space. Comfortable for 3-4 people. Ideal for ...'], ['$950.00', 'Bright room for rent Hyw7/Yonge', 'Vaughan', '< 17 hours ago', 'Room for rent available immediately ⁃ Private Room for rent in a beautiful neighbourhood ⁃ 5 houses far from Yonge street. A minute drive from Yong/hyw7 and Yonge/407ETR ⁃ about a minute walk to buss ...'], ['$2,990.00', 'House For Rent In Bowmanville', 'Bowmanville', '< 17 hours ago', 'Due to the high volume of inquiries, please provide yourself a brief description to make the application processing faster This Beautiful 2 Storey Corner Lot Home Like A Semi Detached Is Just Steps ...'], ['$1,200.00', '$1200 May 1st furnished/no lease/Parking', 'Toronto', '< 17 hours ago', 'Rent Advertisement $1200 May 1st furnished/parking/ no lease *more pictures are coming. I had some technical difficulties. There also a new very nice bed frame that I haven’t had time to assemble and ...'], ['Please Contact', 'Basement for Rent', 'Toronto', '< 17 hours ago', 'One full room available for two Punjabi Girls Etobicoke Toronto April 01, 2023 - Rent $375 per person - Bed. Mattress. Microwave, Toaster, - Separate Entrance to the basement. - Fully Air-conditioned ...'], ['$1,750.00', 'CAR DEALERSHIP  UP TO 5 CARS AND OFFICE FOR RENT IN SCARBOROUGH', 'Toronto', '< 17 hours ago', \"Prime location in scarborouugh on Danforth avenue east of Pharmacy avenue . lots of trafic. private office separate .other dealerships around . 4 Parking' OMVIC and CITY APPROVED. Great location for ...\"], ['$2,400.00', 'Rent 3 bed-room + 2 bath basement ~For 1 small family', 'Toronto', '< 17 hours ago', 'ATTN: For 1 small family. Be the first to live in this brand new three BR + two bath BSMT apartment of detached house with separate entrance, 1 parking. Located in Agincourt North of Scarborough ...'], ['$750.00', 'Room for rent @ Bramalea City Center', 'Brampton', '< 17 hours ago', 'Available from 15th March! ======================== *** Very good place for studious or working professional *** *Single Separate 1 bedroom(Single bed + computer table & Chair) available in ...'], ['$550.00', 'A shared/ private room for rent in Brampton - Queen & McLaughlin', 'Brampton', '< 17 hours ago', 'I bedroom with private bath, private kitchen and living room available for rent. There are two other bedroom, 1 bath and 1 kitchen that have 4 girls there. females only. Shared $550 Private - $1000 . ...'], ['$1,000.00', 'Rooms for students available  to rent in Oshawa.', 'Hampton', '< 17 hours ago', 'Room available from February 1st to rent for a single person. Shared living room kitchen and bathroom. Please contact me if interested. Opposite Oshawa centre. Close to Durham college an UOIT. Fully ...'], ['$1,100.00', 'one basement room with a private washroom for rent', 'Toronto', '< 17 hours ago', 'Quiet and comfortable room. Private washroom. utility included. Convenient to public transit, restaruants, bank and grocery. parking available.'], ['$1,050.00', 'Beautiful sub Master Bedroom for rent in North York (No Sharing)', 'Toronto', '< 17 hours ago', '353 Goldenwood Rd, North York, ON $1050 sub master bedrooms with a shared newly renovated washroom and state of the art kitchen. (1 person only, no sharing or couples) The room comes with the highest ...'], ['$2,850.00', 'Downtown Luxury 1BR condo inclusive rent lake and CN tower views', 'Toronto', '< 17 hours ago', 'Rent is inclusve of all utilities and internet , roof top gym and many other amenities in this luxury condo building a King Subway with Path connection. On high floors with spectacular views and lots ...'], ['$300.00', 'Shared storage (garage) space for rent', 'Toronto', '< 17 hours ago', '- Easy to access from main road - Convenient location - Long or short term rental'], ['$1,300.00', 'Room For Rent, Single room, Etobicoke, Humber College, Lakeshore', 'Toronto', '< 17 hours ago', 'Fully Furnished Place Available!! Etobicoke (Park Lawn & Lakeshore) ***1 Bedroom is available for rent in a wonderful space, in a wonderful building, in a wonderful locality*** Ethnicity, sex, age, ...'], ['$3,000.00', 'ENTIRE 4 BED 2.5 BATH LARGE DETACHED HOME FOR RENT BOWMANVILLE', 'Bowmanville', '< 17 hours ago', '- Entire 4 Bedrooms and 2.5 Bathrooms with Hardwood Flooring Throughout and HUGE Backyard Home for Rent in Bowmanville. Great for a Big Family! - Large Kitchen with Tons of Cupboard & Counter Space. ...'], ['$2,600.00', 'YONGE/STEELES CONDO FOR RENT - MODERN CORNER 1 BEDROOM + BIG DEN', 'Thornhill', '< 17 hours ago', 'Like-New Condition, Almost a 2 Bedroom! 1 Bedroom With a Separate Large Bright Den With Windows That Can Be Used For Office Or 2nd Br! 725 Sq. Ft. Total! Exceptional Boutique Style Minto Water Garden ...'], ['$1,700.00', 'ALL INCLUSIVE 2 BEDROOM Semi-basement in MARKHAM', 'Markham', '< 17 hours ago', '2 BEDROOMS 1 or 2 CAR PARKING basement for rent in the very demanding area (McCowan & Denison) in Markham. Separate entrance, close to schools, grocery stores, bank, restaurants and all amenities. ...'], ['Free', 'Basement For Rent In Scarborough! (Morningside and Staines)', 'City of Toronto', '< 17 hours ago', '• Intersection: Morningside and Staines • BASEMENT AVAILABLE FOR RENT • Viewing Saturdays only • Washer and Dryer shared • Have proof of income For more information please call 647-271-1724 thank ...'], ['$3,300.00', 'Condo for rent in Toronto Downtown ( 2 Bed + 2 bath )', 'Toronto', '< 17 hours ago', '15 Lower Jarvis st condo Welcome To This Executive Corner Unit Located At The \"Lighthouse Tower\" By Daniels. With A Walk/Bike/Transit Score Of 100, This Northwest-Facing 2 Bedroom + 2 Bathroom Unit ...'], ['Please Contact', 'Brand New Five Bedroom House For Rent', 'Brampton', '< 17 hours ago', 'Are you a female looking for a comfortable and spacious room in Brampton? Look no further! We have multiple rooms available for rent at 10 Labrish Road, Brampton, ON L7A5C2. Our rooms are located in ...'], ['$2,300.00', '2-Bedroom Basement Apartment in Thornhill for Rent', 'Markham', '< 17 hours ago', 'AVAILABLE NOW - Bright basement Apartment for Rent in Thornhill (near Toronto, North York, Richmond Hill, Markham). Short or Long-Term Rental. Excellent location. Just RENOVATED!!! Ideal for 1-3 ...'], ['$1,900.00', 'Port Whitby  Rentals', 'Oshawa / Durham Region', '< 17 hours ago', '2 Bedroom apartment for Rent in Beautiful Port Whitby $1900.00 Well maintained 2 bedroom apartment for rent with over 950 square feet of living space. (UTILITIES INCLUDED) This building offers an on ...'], ['Please Contact', '3 Bedroom house for rent from April 1st', 'Brampton', '< 17 hours ago', '3 Bedroom house available for rent from April 1st on very quite street. Major intersection Torbram rd at Peter robertson rd. Walking distance to Brampton civic hospital, Karol bagh plaza, bus stop ...'], ['$3,300.00', 'House for rent in Malton  ,( 4 Bedrooms and  2 full washrooms)', 'Mississauga', '< 17 hours ago', '4 bedroom and 2 full washrooms, spacious Semi-detached house for rent in the heart of Malton. Walking distance to Westwood Mall, Westwood terminal and Gurughar. Malton Go is close by.( Basement not ...'], ['$2,000.00', 'Bright 2 Bedroom basement in Milton is available for lease.', 'Milton', '< 17 hours ago', '2- Bed room spacious , bright and sunny basement in Milton is available for rent from April 1st. It has 2 bedrooms, kitchen, living, full washroom and serving area. All stainless steel appliances, ...'], ['$599.00', 'EXCITING OFFER - Fully Furnished Offices', 'Markham / York Region', 'Yesterday', 'Get upto 2 months of free fully furnished office spaces when you sign up with ZEMLAR Offices. Contact us to claim now. *Limited availability Offer: Get two months FREE on payment of 1 year in advance ...\\n                        \\n                            \\n                            \\n                                \\n                            \\n                            \\n                        \\n\\n                        \\n                            \\n                                Furnished Offices | Private Offices | Virtual Offices | Meeting Rooms | Office | Co-working | Workspace | Office space | Vaughan | GTA | Meeting room | Month to month | Board Room for rent | Business Address | Office Lease |'], ['$4,064.00', 'Three Bedroom Suites for Rent | Niagara West', 'Toronto', '< 18 hours ago', \"Luxury Suites in Toronto's King West Neighbourhood Live in the heart of King West in a brand new, move-in ready luxury apartment suites that are exclusively designed for your urban lifestyle. Walk in ...\\n                        \\n                            \\n                            \\n                                \\n                            \\n                            \\n                        \\n\\n                        \\n                            \\n                                Luxury, Pet Friendly Apartments in King West Toronto\"], ['$3,250.00', 'FULLY DETACHED 3 BEDRM HOUSE FOR RENT IN CENTRAL MISSISSAUGA', 'Mississauga', '< 14 hours ago', 'Enjoy living in a lovely house, in a sought-after neighborhood in central Mississauga! Stunning 3 Bedroom Home Detached 2 Storey Upper Two Levels Only (Basement Not Included) Location Close to ...'], ['$2,050.00', '3BR 2BATH FOR RENT IN SCARBOROUGH - BRIGHT NEW RENO', 'Toronto', '< 3 hours ago', 'Home is located in beautiful, quiet neighbourhood close to amenities. Located in Scarborough near Kingston Rd and Scarborough Golf Club Rd. The unit is newly/professionally renovated, and ready for ...'], ['Please Contact', 'Parking Trucks /Trailer', 'Bolton', '28/02/2023', 'Parking for Trucks and Trailers available for long term .Secured yard 24/7 Surveillance CTPAT .live agent monitoring .'], ['Please Contact', '4 Bedroom house in Brampton for rent', 'Brampton', '< 17 hours ago', 'LOCATION NEAR FERNFOREST DR & SANDALWOOD PARKWAY EAST Available April 1st, 2023 (upper level of house) $3500 + 70% utilities (water, gas, hydro, wifi not included) spacious living in a great ...'], ['$3,500.00', '4 Bedroom House for rent', 'Brampton', '< 17 hours ago', '4 Bedroom Detached with 2 car garage Upto 4 parkings Available from 1st April At Walness and McLaughlin Waling distance to Asian food Centre 70% Utilities Working professional welcome Please send me ...'], ['$1,200.00', 'Room for rent, female only', 'Toronto', '< 17 hours ago', '1 room in a 2 bedroom basement apartment, shared bathroom and kitchen, female only, Spanish speaking tenant preferred . $1200, everything included Main intersection bayview & finch'], ['$1,000.00', 'One bedroom basement for rent', 'Brampton', '< 17 hours ago', 'Only female No parking Separate kitchen Separate bathroom Separate living room This is big two bedroom basement, one bedroom is rented for one Punjabi girl One room is available for sharing or ...'], ['Please Contact', '1 bedroom for rent', 'Mississauga', '< 17 hours ago', 'One fully furnished bedroom available on upper floor for couple,boys and girls 5 min walk to malton gurughar.3 minnwalk to bus stop very close to westwood mall. Available from next month'], ['$2,800.00', 'Condo for rent', 'City of Toronto', '< 17 hours ago', '2 specious rooms condo for rent All utilities are included Free wifi,Gym and meeting room available. Step to TTC,Mall,medical offices,library,Grocery stores,parks and Schools. Very close to Highway ...'], ['$2,800.00', 'YONGE/STEELES - MODERN CONDO RENT! CORNER 1 BEDROOM & LARGE DEN', 'Thornhill', '< 17 hours ago', 'Like-New Condition, Almost a 2 Bedroom! 1 Bedroom With a Separate Large Bright Den With Windows That Can Be Used For Office Or 2nd Br! 725 Sq. Ft. Total! Exceptional Boutique Style Minto Water Garden ...'], ['$2,875.00', 'Full unit 2 bed/1 bath apartment for rent', 'Toronto', '< 17 hours ago', 'Unit: 2 bedroom / 1 bathroom apartment Price: $2,875 Room available: March 1st 2023 Location: York Mills & Leslie Heat and water are included, hydro is extra (About $80 in the summer, $120 in the ...'], ['$2,400.00', 'LUXURY CONDOS WITH 5 STARS AMENITIES FOR RENT', 'City of Toronto', '< 17 hours ago', \"***PLEASE READ THE AD FIRST*** *PLEASE DO NOT CONTACT ME IF YOU DON'T HAVE THE REQUIREMENTS. *THIS AD DOES NOT BELONG TO ANY PARTICULAR UNIT. LUXURY CONDOS WITH 5 STARS AMENITIES IN RICHMOND HILL, ...\"], ['$2,400.00', 'LUXURY CONDOS WITH GREAT AMENITIES FOR RENT', 'City of Toronto', '< 17 hours ago', \"***PLEASE READ THE AD FIRST*** *PLEASE DO NOT CONTACT ME IF YOU DON'T HAVE THE REQUIREMENTS. *THIS AD DOES NOT BELONG TO ANY PARTICULAR UNIT. LUXURY CONDOS WITH 5 STARS AMENITIES IN RICHMOND HILL, ...\"], ['$900.00', 'room for rent', 'Brampton', '< 17 hours ago', 'Basement have 2 rooms, one extra large room . only kitchen and bathroom shearing with another room person.available april 1. everything included, also internet. we are looking only working person, ...'], ['$800.00', 'Bedroom for rent.', 'Brampton', '< 17 hours ago', 'One bedroom is available for rent in brand new house. With one car parking. Caledon. Please call for more details. 647-505-4960.'], ['$600.00', 'Sharing room for rent for 1 girl', 'Mississauga / Peel Region', '< 17 hours ago', 'Sharing room for 1 girl for $600 plus utilities. High speed internet and laundry included. Near Frescho and Westwood Mall.'], ['$1,900.00', '2BHK Bsmt $1900 1st May in Brampton at Dixie/Countryside', 'Brampton', '< 17 hours ago', '2BHK Bsmt $1900 1st May in Brampton at Dixie/Countryside Pls call 6475817874 Only serious inquiries Rent - $1900 plus 30% urilities 1 parking included Extra Parking -$75 Close to Walmart, Chalo ...'], ['$900.00', 'Pickering Bungalow for rent!', 'Pickering', '< 17 hours ago', 'Main floor 3 bedrooms, 1.5 bath Kitchen, living room, dining room Basement floor is occupied by other tenants. Plenty of parking space and backyard space. Comfortable for 3-4 people. Ideal for ...'], ['$950.00', 'Bright room for rent Hyw7/Yonge', 'Vaughan', '< 17 hours ago', 'Room for rent available immediately ⁃ Private Room for rent in a beautiful neighbourhood ⁃ 5 houses far from Yonge street. A minute drive from Yong/hyw7 and Yonge/407ETR ⁃ about a minute walk to buss ...'], ['$2,990.00', 'House For Rent In Bowmanville', 'Bowmanville', '< 17 hours ago', 'Due to the high volume of inquiries, please provide yourself a brief description to make the application processing faster This Beautiful 2 Storey Corner Lot Home Like A Semi Detached Is Just Steps ...'], ['$1,200.00', '$1200 May 1st furnished/no lease/Parking', 'Toronto', '< 17 hours ago', 'Rent Advertisement $1200 May 1st furnished/parking/ no lease *more pictures are coming. I had some technical difficulties. There also a new very nice bed frame that I haven’t had time to assemble and ...'], ['Please Contact', 'Basement for Rent', 'Toronto', '< 17 hours ago', 'One full room available for two Punjabi Girls Etobicoke Toronto April 01, 2023 - Rent $375 per person - Bed. Mattress. Microwave, Toaster, - Separate Entrance to the basement. - Fully Air-conditioned ...'], ['$1,750.00', 'CAR DEALERSHIP  UP TO 5 CARS AND OFFICE FOR RENT IN SCARBOROUGH', 'Toronto', '< 17 hours ago', \"Prime location in scarborouugh on Danforth avenue east of Pharmacy avenue . lots of trafic. private office separate .other dealerships around . 4 Parking' OMVIC and CITY APPROVED. Great location for ...\"], ['$2,400.00', 'Rent 3 bed-room + 2 bath basement ~For 1 small family', 'Toronto', '< 17 hours ago', 'ATTN: For 1 small family. Be the first to live in this brand new three BR + two bath BSMT apartment of detached house with separate entrance, 1 parking. Located in Agincourt North of Scarborough ...'], ['$750.00', 'Room for rent @ Bramalea City Center', 'Brampton', '< 17 hours ago', 'Available from 15th March! +++++++++++++++++++++++++ *** Very good place for studious or working professional *** *Single Separate 1 bedroom(Single bed + computer table & Chair) available in ...'], ['$550.00', 'A shared/ private room for rent in Brampton - Queen & McLaughlin', 'Brampton', '< 17 hours ago', 'I bedroom with private bath, private kitchen and living room available for rent. There are two other bedroom, 1 bath and 1 kitchen that have 4 girls there. females only. Shared $550 Private - $1000 . ...'], ['$1,000.00', 'Rooms for students available  to rent in Oshawa.', 'Hampton', '< 17 hours ago', 'Room available from February 1st to rent for a single person. Shared living room kitchen and bathroom. Please contact me if interested. Opposite Oshawa centre. Close to Durham college an UOIT. Fully ...'], ['$1,100.00', 'one basement room with a private washroom for rent', 'Toronto', '< 17 hours ago', 'Quiet and comfortable room. Private washroom. utility included. Convenient to public transit, restaruants, bank and grocery. parking available.'], ['$1,050.00', 'Beautiful sub Master Bedroom for rent in North York (No Sharing)', 'Toronto', '< 17 hours ago', '353 Goldenwood Rd, North York, ON $1050 sub master bedrooms with a shared newly renovated washroom and state of the art kitchen. (1 person only, no sharing or couples) The room comes with the highest ...'], ['$2,850.00', 'Downtown Luxury 1BR condo inclusive rent lake and CN tower views', 'Toronto', '< 17 hours ago', 'Rent is inclusve of all utilities and internet , roof top gym and many other amenities in this luxury condo building a King Subway with Path connection. On high floors with spectacular views and lots ...'], ['$300.00', 'Shared storage (garage) space for rent', 'Toronto', '< 17 hours ago', '- Easy to access from main road - Convenient location - Long or short term rental'], ['$1,300.00', 'Room For Rent, Single room, Etobicoke, Humber College, Lakeshore', 'Toronto', '< 17 hours ago', 'Fully Furnished Place Available!! Etobicoke (Park Lawn & Lakeshore) ***1 Bedroom is available for rent in a wonderful space, in a wonderful building, in a wonderful locality*** Ethnicity, sex, age, ...'], ['$3,000.00', 'ENTIRE 4 BED 2.5 BATH LARGE DETACHED HOME FOR RENT BOWMANVILLE', 'Bowmanville', '< 17 hours ago', '- Entire 4 Bedrooms and 2.5 Bathrooms with Hardwood Flooring Throughout and HUGE Backyard Home for Rent in Bowmanville. Great for a Big Family! - Large Kitchen with Tons of Cupboard & Counter Space. ...'], ['$2,600.00', 'YONGE/STEELES CONDO FOR RENT - MODERN CORNER 1 BEDROOM + BIG DEN', 'Thornhill', '< 17 hours ago', 'Like-New Condition, Almost a 2 Bedroom! 1 Bedroom With a Separate Large Bright Den With Windows That Can Be Used For Office Or 2nd Br! 725 Sq. Ft. Total! Exceptional Boutique Style Minto Water Garden ...'], ['$1,700.00', 'ALL INCLUSIVE 2 BEDROOM Semi-basement in MARKHAM', 'Markham', '< 17 hours ago', '2 BEDROOMS 1 or 2 CAR PARKING basement for rent in the very demanding area (McCowan & Denison) in Markham. Separate entrance, close to schools, grocery stores, bank, restaurants and all amenities. ...'], ['Free', 'Basement For Rent In Scarborough! (Morningside and Staines)', 'City of Toronto', '< 17 hours ago', '• Intersection: Morningside and Staines • BASEMENT AVAILABLE FOR RENT • Viewing Saturdays only • Washer and Dryer shared • Have proof of income For more information please call 647-271-1724 thank ...'], ['$3,300.00', 'Condo for rent in Toronto Downtown ( 2 Bed + 2 bath )', 'Toronto', '< 17 hours ago', '15 Lower Jarvis st condo Welcome To This Executive Corner Unit Located At The \"Lighthouse Tower\" By Daniels. With A Walk/Bike/Transit Score Of 100, This Northwest-Facing 2 Bedroom + 2 Bathroom Unit ...'], ['Please Contact', 'Brand New Five Bedroom House For Rent', 'Brampton', '< 17 hours ago', 'Are you a female looking for a comfortable and spacious room in Brampton? Look no further! We have multiple rooms available for rent at 10 Labrish Road, Brampton, ON L7A5C2. Our rooms are located in ...'], ['$2,300.00', '2-Bedroom Basement Apartment in Thornhill for Rent', 'Markham', '< 17 hours ago', 'AVAILABLE NOW - Bright basement Apartment for Rent in Thornhill (near Toronto, North York, Richmond Hill, Markham). Short or Long-Term Rental. Excellent location. Just RENOVATED!!! Ideal for 1-3 ...'], ['$1,900.00', 'Port Whitby  Rentals', 'Oshawa / Durham Region', '< 17 hours ago', '2 Bedroom apartment for Rent in Beautiful Port Whitby $1900.00 Well maintained 2 bedroom apartment for rent with over 950 square feet of living space. (UTILITIES INCLUDED) This building offers an on ...'], ['Please Contact', '3 Bedroom house for rent from April 1st', 'Brampton', '< 17 hours ago', '3 Bedroom house available for rent from April 1st on very quite street. Major intersection Torbram rd at Peter robertson rd. Walking distance to Brampton civic hospital, Karol bagh plaza, bus stop ...'], ['$3,300.00', 'House for rent in Malton  ,( 4 Bedrooms and  2 full washrooms)', 'Mississauga', '< 17 hours ago', '4 bedroom and 2 full washrooms, spacious Semi-detached house for rent in the heart of Malton. Walking distance to Westwood Mall, Westwood terminal and Gurughar. Malton Go is close by.( Basement not ...'], ['$2,000.00', 'Bright 2 Bedroom basement in Milton is available for lease.', 'Milton', '< 17 hours ago', '2- Bed room spacious , bright and sunny basement in Milton is available for rent from April 1st. It has 2 bedrooms, kitchen, living, full washroom and serving area. All stainless steel appliances, ...'], ['$36.00', 'Virtual Office Available in Oakville!', 'Oakville / Halton Region', 'Yesterday', 'Working from Home? In need of a Professional Address to Run your business? ZEMLAR OFFICES Virtual Office Packages are designed to the needs of small businesses and solitary entrepreneurs. Our job is ...\\n                        \\n                            \\n                            \\n                                \\n                            \\n                            \\n                        \\n\\n                        \\n                            \\n                                Furnished Offices | Meeting Rooms | Virtual Offices | Private | office | coworking | workspcae | office space | Mississauga | GTA | Meeting room | month to month | Board Room for rent | Business Address | Office Lease |'], ['Please Contact', '3,000-20,000 sqft Industrial Warehouse Space for Rent in GTA', 'Toronto', '27/02/2023', 'We have private and shared warehouse space available throughout the GTA for rent on short or longer terms (see list below). Please indicate which warehouses you are interested in and include your ...'], ['$177.00', 'Flexible workspace memberships in Spaces Liberty Village', 'City of Toronto', '02/02/2023', 'As a Spaces member, you join a community of like-minded professionals and creative business thinkers. Just pick your spot and get to work in our business club, a beautifully designed workspace ...\\n                        \\n                            \\n                            \\n                                \\n                            \\n                            \\n                        \\n\\n                        \\n                            \\n                                Flexible Office solutions in Premium Location!'], ['$8,995.00', '3 Bedroom Pent House Apartment for Rent on Jackes Avenue', 'Toronto', '< 5 hours ago', 'Join Us for Our In-person Open House Every Wednesday and Friday from 4pm to 6pm By appointment only. Call Now to Reserve Your Spot! The Summerhilll at 7 Jackes Avenue is an amazing modern residence ...\\n                        \\n                            \\n                            \\n                                \\n                            \\n                            \\n                        \\n\\n                        \\n                            \\n                                Ask About our Rental Incentive!'], ['$2,195.00', 'Beautiful two bedroom main floor of triplex for rent', 'Oshawa', 'Yesterday', 'Beautiful two bedroom main floor of triplex Very spacious bedrooms Each unit has its own climate control Text, email or call to book a time to see it'], ['Please Contact', '4 Bedroom house in Brampton for rent', 'Brampton', '< 17 hours ago', 'LOCATION NEAR FERNFOREST DR & SANDALWOOD PARKWAY EAST Available April 1st, 2023 (upper level of house) $3500 + 70% utilities (water, gas, hydro, wifi not included) spacious living in a great ...'], ['$3,500.00', '4 Bedroom House for rent', 'Brampton', '< 17 hours ago', '4 Bedroom Detached with 2 car garage Upto 4 parkings Available from 1st April At Walness and McLaughlin Waling distance to Asian food Centre 70% Utilities Working professional welcome Please send me ...'], ['$1,200.00', 'Room for rent, female only', 'Toronto', '< 17 hours ago', '1 room in a 2 bedroom basement apartment, shared bathroom and kitchen, female only, Spanish speaking tenant preferred . $1200, everything included Main intersection bayview & finch'], ['$1,000.00', 'One bedroom basement for rent', 'Brampton', '< 17 hours ago', 'Only female No parking Separate kitchen Separate bathroom Separate living room This is big two bedroom basement, one bedroom is rented for one Punjabi girl One room is available for sharing or ...'], ['Please Contact', '1 bedroom for rent', 'Mississauga', '< 17 hours ago', 'One fully furnished bedroom available on upper floor for couple,boys and girls 5 min walk to malton gurughar.3 minnwalk to bus stop very close to westwood mall. Available from next month'], ['$2,800.00', 'Condo for rent', 'City of Toronto', '< 17 hours ago', '2 specious rooms condo for rent All utilities are included Free wifi,Gym and meeting room available. Step to TTC,Mall,medical offices,library,Grocery stores,parks and Schools. Very close to Highway ...'], ['$2,800.00', 'YONGE/STEELES - MODERN CONDO RENT! CORNER 1 BEDROOM & LARGE DEN', 'Thornhill', '< 17 hours ago', 'Like-New Condition, Almost a 2 Bedroom! 1 Bedroom With a Separate Large Bright Den With Windows That Can Be Used For Office Or 2nd Br! 725 Sq. Ft. Total! Exceptional Boutique Style Minto Water Garden ...'], ['$2,875.00', 'Full unit 2 bed/1 bath apartment for rent', 'Toronto', '< 17 hours ago', 'Unit: 2 bedroom / 1 bathroom apartment Price: $2,875 Room available: March 1st 2023 Location: York Mills & Leslie Heat and water are included, hydro is extra (About $80 in the summer, $120 in the ...'], ['$2,400.00', 'LUXURY CONDOS WITH 5 STARS AMENITIES FOR RENT', 'City of Toronto', '< 17 hours ago', \"***PLEASE READ THE AD FIRST*** *PLEASE DO NOT CONTACT ME IF YOU DON'T HAVE THE REQUIREMENTS. *THIS AD DOES NOT BELONG TO ANY PARTICULAR UNIT. LUXURY CONDOS WITH 5 STARS AMENITIES IN RICHMOND HILL, ...\"], ['$2,400.00', 'LUXURY CONDOS WITH GREAT AMENITIES FOR RENT', 'City of Toronto', '< 17 hours ago', \"***PLEASE READ THE AD FIRST*** *PLEASE DO NOT CONTACT ME IF YOU DON'T HAVE THE REQUIREMENTS. *THIS AD DOES NOT BELONG TO ANY PARTICULAR UNIT. LUXURY CONDOS WITH 5 STARS AMENITIES IN RICHMOND HILL, ...\"], ['$900.00', 'room for rent', 'Brampton', '< 17 hours ago', 'Basement have 2 rooms, one extra large room . only kitchen and bathroom shearing with another room person.available april 1. everything included, also internet. we are looking only working person, ...'], ['$800.00', 'Bedroom for rent.', 'Brampton', '< 17 hours ago', 'One bedroom is available for rent in brand new house. With one car parking. Caledon. Please call for more details. 647-505-4960.'], ['$600.00', 'Sharing room for rent for 1 girl', 'Mississauga / Peel Region', '< 17 hours ago', 'Sharing room for 1 girl for $600 plus utilities. High speed internet and laundry included. Near Frescho and Westwood Mall.'], ['$1,900.00', '2BHK Bsmt $1900 1st May in Brampton at Dixie/Countryside', 'Brampton', '< 17 hours ago', '2BHK Bsmt $1900 1st May in Brampton at Dixie/Countryside Pls call 6475817874 Only serious inquiries Rent - $1900 plus 30% urilities 1 parking included Extra Parking -$75 Close to Walmart, Chalo ...'], ['$900.00', 'Pickering Bungalow for rent!', 'Pickering', '< 17 hours ago', 'Main floor 3 bedrooms, 1.5 bath Kitchen, living room, dining room Basement floor is occupied by other tenants. Plenty of parking space and backyard space. Comfortable for 3-4 people. Ideal for ...'], ['$950.00', 'Bright room for rent Hyw7/Yonge', 'Vaughan', '< 17 hours ago', 'Room for rent available immediately ⁃ Private Room for rent in a beautiful neighbourhood ⁃ 5 houses far from Yonge street. A minute drive from Yong/hyw7 and Yonge/407ETR ⁃ about a minute walk to buss ...'], ['$2,990.00', 'House For Rent In Bowmanville', 'Bowmanville', '< 17 hours ago', 'Due to the high volume of inquiries, please provide yourself a brief description to make the application processing faster This Beautiful 2 Storey Corner Lot Home Like A Semi Detached Is Just Steps ...'], ['$1,200.00', '$1200 May 1st furnished/no lease/Parking', 'Toronto', '< 17 hours ago', 'Rent Advertisement $1200 May 1st furnished/parking/ no lease *more pictures are coming. I had some technical difficulties. There also a new very nice bed frame that I haven’t had time to assemble and ...'], ['Please Contact', 'Basement for Rent', 'Toronto', '< 17 hours ago', 'One full room available for two Punjabi Girls Etobicoke Toronto April 01, 2023 - Rent $375 per person - Bed. Mattress. Microwave, Toaster, - Separate Entrance to the basement. - Fully Air-conditioned ...'], ['$1,750.00', 'CAR DEALERSHIP  UP TO 5 CARS AND OFFICE FOR RENT IN SCARBOROUGH', 'Toronto', '< 17 hours ago', \"Prime location in scarborouugh on Danforth avenue east of Pharmacy avenue . lots of trafic. private office separate .other dealerships around . 4 Parking' OMVIC and CITY APPROVED. Great location for ...\"], ['$2,400.00', 'Rent 3 bed-room + 2 bath basement ~For 1 small family', 'Toronto', '< 17 hours ago', 'ATTN: For 1 small family. Be the first to live in this brand new three BR + two bath BSMT apartment of detached house with separate entrance, 1 parking. Located in Agincourt North of Scarborough ...'], ['$750.00', 'Room for rent @ Bramalea City Center', 'Brampton', '< 17 hours ago', 'Available from 15th March! ======================== *** Very good place for studious or working professional *** *Single Separate 1 bedroom(Single bed + computer table & Chair) available in ...'], ['$550.00', 'A shared/ private room for rent in Brampton - Queen & McLaughlin', 'Brampton', '< 17 hours ago', 'I bedroom with private bath, private kitchen and living room available for rent. There are two other bedroom, 1 bath and 1 kitchen that have 4 girls there. females only. Shared $550 Private - $1000 . ...'], ['$1,000.00', 'Rooms for students available  to rent in Oshawa.', 'Hampton', '< 17 hours ago', 'Room available from February 1st to rent for a single person. Shared living room kitchen and bathroom. Please contact me if interested. Opposite Oshawa centre. Close to Durham college an UOIT. Fully ...'], ['$1,100.00', 'one basement room with a private washroom for rent', 'Toronto', '< 17 hours ago', 'Quiet and comfortable room. Private washroom. utility included. Convenient to public transit, restaruants, bank and grocery. parking available.'], ['$1,050.00', 'Beautiful sub Master Bedroom for rent in North York (No Sharing)', 'Toronto', '< 17 hours ago', '353 Goldenwood Rd, North York, ON $1050 sub master bedrooms with a shared newly renovated washroom and state of the art kitchen. (1 person only, no sharing or couples) The room comes with the highest ...'], ['$2,850.00', 'Downtown Luxury 1BR condo inclusive rent lake and CN tower views', 'Toronto', '< 17 hours ago', 'Rent is inclusve of all utilities and internet , roof top gym and many other amenities in this luxury condo building a King Subway with Path connection. On high floors with spectacular views and lots ...'], ['$300.00', 'Shared storage (garage) space for rent', 'Toronto', '< 17 hours ago', '- Easy to access from main road - Convenient location - Long or short term rental'], ['$1,300.00', 'Room For Rent, Single room, Etobicoke, Humber College, Lakeshore', 'Toronto', '< 17 hours ago', 'Fully Furnished Place Available!! Etobicoke (Park Lawn & Lakeshore) ***1 Bedroom is available for rent in a wonderful space, in a wonderful building, in a wonderful locality*** Ethnicity, sex, age, ...'], ['$3,000.00', 'ENTIRE 4 BED 2.5 BATH LARGE DETACHED HOME FOR RENT BOWMANVILLE', 'Bowmanville', '< 17 hours ago', '- Entire 4 Bedrooms and 2.5 Bathrooms with Hardwood Flooring Throughout and HUGE Backyard Home for Rent in Bowmanville. Great for a Big Family! - Large Kitchen with Tons of Cupboard & Counter Space. ...'], ['$2,600.00', 'YONGE/STEELES CONDO FOR RENT - MODERN CORNER 1 BEDROOM + BIG DEN', 'Thornhill', '< 17 hours ago', 'Like-New Condition, Almost a 2 Bedroom! 1 Bedroom With a Separate Large Bright Den With Windows That Can Be Used For Office Or 2nd Br! 725 Sq. Ft. Total! Exceptional Boutique Style Minto Water Garden ...'], ['$1,700.00', 'ALL INCLUSIVE 2 BEDROOM Semi-basement in MARKHAM', 'Markham', '< 17 hours ago', '2 BEDROOMS 1 or 2 CAR PARKING basement for rent in the very demanding area (McCowan & Denison) in Markham. Separate entrance, close to schools, grocery stores, bank, restaurants and all amenities. ...'], ['Free', 'Basement For Rent In Scarborough! (Morningside and Staines)', 'City of Toronto', '< 17 hours ago', '• Intersection: Morningside and Staines • BASEMENT AVAILABLE FOR RENT • Viewing Saturdays only • Washer and Dryer shared • Have proof of income For more information please call 647-271-1724 thank ...'], ['$3,300.00', 'Condo for rent in Toronto Downtown ( 2 Bed + 2 bath )', 'Toronto', '< 17 hours ago', '15 Lower Jarvis st condo Welcome To This Executive Corner Unit Located At The \"Lighthouse Tower\" By Daniels. With A Walk/Bike/Transit Score Of 100, This Northwest-Facing 2 Bedroom + 2 Bathroom Unit ...'], ['Please Contact', 'Brand New Five Bedroom House For Rent', 'Brampton', '< 17 hours ago', 'Are you a female looking for a comfortable and spacious room in Brampton? Look no further! We have multiple rooms available for rent at 10 Labrish Road, Brampton, ON L7A5C2. Our rooms are located in ...'], ['$2,300.00', '2-Bedroom Basement Apartment in Thornhill for Rent', 'Markham', '< 17 hours ago', 'AVAILABLE NOW - Bright basement Apartment for Rent in Thornhill (near Toronto, North York, Richmond Hill, Markham). Short or Long-Term Rental. Excellent location. Just RENOVATED!!! Ideal for 1-3 ...'], ['$1,900.00', 'Port Whitby  Rentals', 'Oshawa / Durham Region', '< 17 hours ago', '2 Bedroom apartment for Rent in Beautiful Port Whitby $1900.00 Well maintained 2 bedroom apartment for rent with over 950 square feet of living space. (UTILITIES INCLUDED) This building offers an on ...'], ['Please Contact', '3 Bedroom house for rent from April 1st', 'Brampton', '< 17 hours ago', '3 Bedroom house available for rent from April 1st on very quite street. Major intersection Torbram rd at Peter robertson rd. Walking distance to Brampton civic hospital, Karol bagh plaza, bus stop ...'], ['$3,300.00', 'House for rent in Malton  ,( 4 Bedrooms and  2 full washrooms)', 'Mississauga', '< 17 hours ago', '4 bedroom and 2 full washrooms, spacious Semi-detached house for rent in the heart of Malton. Walking distance to Westwood Mall, Westwood terminal and Gurughar. Malton Go is close by.( Basement not ...'], ['$2,000.00', 'Bright 2 Bedroom basement in Milton is available for lease.', 'Milton', '< 17 hours ago', '2- Bed room spacious , bright and sunny basement in Milton is available for rent from April 1st. It has 2 bedrooms, kitchen, living, full washroom and serving area. All stainless steel appliances, ...'], ['$100.00', 'Yonge/Finch Underground parking Direct Access to Finch Subway', 'Toronto', '< 16 hours ago', 'LIMITED-TIME PROMOTION PRICE! It starts From $100 */Month *, 24/7 Access with Fob, Drive-In and out, Overnight parking privilege, Welcome TTC Commuters, Winter Parking for your Vintage cars and ...'], ['$525.00', 'Furnished Private Office  - Monthly Membership - Starting $525', 'Markham / York Region', 'Yesterday', 'Get upto 2 months of free fully furnished office spaces when you sign up with ZEMLAR Offices. Contact us to claim now. *Limited availability Looking for the perfect place to grow your business? Tired ...\\n                        \\n                            \\n                            \\n                                \\n                            \\n                            \\n                        \\n\\n                        \\n                            \\n                                Virtual Offices | Meeting Rooms | Furnished Offices | Private | office | coworking | workspcae | office space | Mississauga | GTA | Meeting room | month to month | Board Room for rent | Business Address | Phone Answering | Office Lease |'], ['$1,050.00', 'EXCITING OFFER - NEW Furnished Private Offices', 'Mississauga / Peel Region', 'Yesterday', 'Get upto 2 months of free fully furnished office spaces when you sign up with ZEMLAR Offices. Contact us to claim now. *Limited availability Offer: Get two months FREE on payment of 1 year in advance ...\\n                        \\n                            \\n                            \\n                                \\n                            \\n                            \\n                        \\n\\n                        \\n                            \\n                                Furnished Offices | Meeting Rooms | Virtual Offices | Private | office | coworking | workspcae | office space | Mississauga | GTA | Meeting room | month to month | Board Room for rent | Business Address | Phone Answering | Office Lease |'], ['$2,100.00', 'Basement Apt for Rent', 'Richmond Hill', '11/01/2023', 'Spacious and fully renovated basement apartment with new appliances (stove, fridge, washer), two bedroom, one large living room in Richmond Hill area, 16th Ave & Yonge. Spacious Kitchen and dinning ...'], ['$4,500.00', 'House for Rent Brampton', 'Brampton', '< 24 hours ago', '3500 sqft house for rent in nice neighbourhood. 5 bedrooms on second floor with 3 Full bathrooms. Well maintained clean house. Tenant responsible for 70 percent of utilities in addition to base rent. ...'], ['$950.00', 'Furnished room for rent at Mavis and Eglinton Avenue West', 'Mississauga', '< 17 hours ago', 'Furnished room for rent at Mavis and Eglinton Avenue West in Mississauga on upper floor of large 5 bedroom house very clean with shared kitchen and Washroom available immediately rent is $ 950$ ...'], ['Please Contact', '4 Bedroom house in Brampton for rent', 'Brampton', '< 17 hours ago', 'LOCATION NEAR FERNFOREST DR & SANDALWOOD PARKWAY EAST Available April 1st, 2023 (upper level of house) $3500 + 70% utilities (water, gas, hydro, wifi not included) spacious living in a great ...'], ['$3,500.00', '4 Bedroom House for rent', 'Brampton', '< 17 hours ago', '4 Bedroom Detached with 2 car garage Upto 4 parkings Available from 1st April At Walness and McLaughlin Waling distance to Asian food Centre 70% Utilities Working professional welcome Please send me ...'], ['$1,200.00', 'Room for rent, female only', 'Toronto', '< 17 hours ago', '1 room in a 2 bedroom basement apartment, shared bathroom and kitchen, female only, Spanish speaking tenant preferred . $1200, everything included Main intersection bayview & finch'], ['$1,000.00', 'One bedroom basement for rent', 'Brampton', '< 17 hours ago', 'Only female No parking Separate kitchen Separate bathroom Separate living room This is big two bedroom basement, one bedroom is rented for one Punjabi girl One room is available for sharing or ...'], ['Please Contact', '1 bedroom for rent', 'Mississauga', '< 17 hours ago', 'One fully furnished bedroom available on upper floor for couple,boys and girls 5 min walk to malton gurughar.3 minnwalk to bus stop very close to westwood mall. Available from next month'], ['$2,800.00', 'Condo for rent', 'City of Toronto', '< 17 hours ago', '2 specious rooms condo for rent All utilities are included Free wifi,Gym and meeting room available. Step to TTC,Mall,medical offices,library,Grocery stores,parks and Schools. Very close to Highway ...'], ['$2,800.00', 'YONGE/STEELES - MODERN CONDO RENT! CORNER 1 BEDROOM & LARGE DEN', 'Thornhill', '< 17 hours ago', 'Like-New Condition, Almost a 2 Bedroom! 1 Bedroom With a Separate Large Bright Den With Windows That Can Be Used For Office Or 2nd Br! 725 Sq. Ft. Total! Exceptional Boutique Style Minto Water Garden ...'], ['$2,875.00', 'Full unit 2 bed/1 bath apartment for rent', 'Toronto', '< 17 hours ago', 'Unit: 2 bedroom / 1 bathroom apartment Price: $2,875 Room available: March 1st 2023 Location: York Mills & Leslie Heat and water are included, hydro is extra (About $80 in the summer, $120 in the ...'], ['$2,400.00', 'LUXURY CONDOS WITH 5 STARS AMENITIES FOR RENT', 'City of Toronto', '< 17 hours ago', \"***PLEASE READ THE AD FIRST*** *PLEASE DO NOT CONTACT ME IF YOU DON'T HAVE THE REQUIREMENTS. *THIS AD DOES NOT BELONG TO ANY PARTICULAR UNIT. LUXURY CONDOS WITH 5 STARS AMENITIES IN RICHMOND HILL, ...\"], ['$2,400.00', 'LUXURY CONDOS WITH GREAT AMENITIES FOR RENT', 'City of Toronto', '< 17 hours ago', \"***PLEASE READ THE AD FIRST*** *PLEASE DO NOT CONTACT ME IF YOU DON'T HAVE THE REQUIREMENTS. *THIS AD DOES NOT BELONG TO ANY PARTICULAR UNIT. LUXURY CONDOS WITH 5 STARS AMENITIES IN RICHMOND HILL, ...\"], ['$900.00', 'room for rent', 'Brampton', '< 17 hours ago', 'Basement have 2 rooms, one extra large room . only kitchen and bathroom shearing with another room person.available april 1. everything included, also internet. we are looking only working person, ...'], ['$800.00', 'Bedroom for rent.', 'Brampton', '< 17 hours ago', 'One bedroom is available for rent in brand new house. With one car parking. Caledon. Please call for more details. 647-505-4960.'], ['$600.00', 'Sharing room for rent for 1 girl', 'Mississauga / Peel Region', '< 17 hours ago', 'Sharing room for 1 girl for $600 plus utilities. High speed internet and laundry included. Near Frescho and Westwood Mall.'], ['$1,900.00', '2BHK Bsmt $1900 1st May in Brampton at Dixie/Countryside', 'Brampton', '< 17 hours ago', '2BHK Bsmt $1900 1st May in Brampton at Dixie/Countryside Pls call 6475817874 Only serious inquiries Rent - $1900 plus 30% urilities 1 parking included Extra Parking -$75 Close to Walmart, Chalo ...'], ['$900.00', 'Pickering Bungalow for rent!', 'Pickering', '< 17 hours ago', 'Main floor 3 bedrooms, 1.5 bath Kitchen, living room, dining room Basement floor is occupied by other tenants. Plenty of parking space and backyard space. Comfortable for 3-4 people. Ideal for ...'], ['$950.00', 'Bright room for rent Hyw7/Yonge', 'Vaughan', '< 17 hours ago', 'Room for rent available immediately ⁃ Private Room for rent in a beautiful neighbourhood ⁃ 5 houses far from Yonge street. A minute drive from Yong/hyw7 and Yonge/407ETR ⁃ about a minute walk to buss ...'], ['$2,990.00', 'House For Rent In Bowmanville', 'Bowmanville', '< 17 hours ago', 'Due to the high volume of inquiries, please provide yourself a brief description to make the application processing faster This Beautiful 2 Storey Corner Lot Home Like A Semi Detached Is Just Steps ...'], ['$1,200.00', '$1200 May 1st furnished/no lease/Parking', 'Toronto', '< 17 hours ago', 'Rent Advertisement $1200 May 1st furnished/parking/ no lease *more pictures are coming. I had some technical difficulties. There also a new very nice bed frame that I haven’t had time to assemble and ...'], ['Please Contact', 'Basement for Rent', 'Toronto', '< 17 hours ago', 'One full room available for two Punjabi Girls Etobicoke Toronto April 01, 2023 - Rent $375 per person - Bed. Mattress. Microwave, Toaster, - Separate Entrance to the basement. - Fully Air-conditioned ...'], ['$1,750.00', 'CAR DEALERSHIP  UP TO 5 CARS AND OFFICE FOR RENT IN SCARBOROUGH', 'Toronto', '< 17 hours ago', \"Prime location in scarborouugh on Danforth avenue east of Pharmacy avenue . lots of trafic. private office separate .other dealerships around . 4 Parking' OMVIC and CITY APPROVED. Great location for ...\"], ['$2,400.00', 'Rent 3 bed-room + 2 bath basement ~For 1 small family', 'Toronto', '< 17 hours ago', 'ATTN: For 1 small family. Be the first to live in this brand new three BR + two bath BSMT apartment of detached house with separate entrance, 1 parking. Located in Agincourt North of Scarborough ...'], ['$750.00', 'Room for rent @ Bramalea City Center', 'Brampton', '< 17 hours ago', 'Available from 15th March! +++++++++++++++++++++++++ *** Very good place for studious or working professional *** *Single Separate 1 bedroom(Single bed + computer table & Chair) available in ...'], ['$550.00', 'A shared/ private room for rent in Brampton - Queen & McLaughlin', 'Brampton', '< 17 hours ago', 'I bedroom with private bath, private kitchen and living room available for rent. There are two other bedroom, 1 bath and 1 kitchen that have 4 girls there. females only. Shared $550 Private - $1000 . ...'], ['$1,000.00', 'Rooms for students available  to rent in Oshawa.', 'Hampton', '< 17 hours ago', 'Room available from February 1st to rent for a single person. Shared living room kitchen and bathroom. Please contact me if interested. Opposite Oshawa centre. Close to Durham college an UOIT. Fully ...'], ['$1,100.00', 'one basement room with a private washroom for rent', 'Toronto', '< 17 hours ago', 'Quiet and comfortable room. Private washroom. utility included. Convenient to public transit, restaruants, bank and grocery. parking available.'], ['$1,050.00', 'Beautiful sub Master Bedroom for rent in North York (No Sharing)', 'Toronto', '< 17 hours ago', '353 Goldenwood Rd, North York, ON $1050 sub master bedrooms with a shared newly renovated washroom and state of the art kitchen. (1 person only, no sharing or couples) The room comes with the highest ...'], ['$2,850.00', 'Downtown Luxury 1BR condo inclusive rent lake and CN tower views', 'Toronto', '< 17 hours ago', 'Rent is inclusve of all utilities and internet , roof top gym and many other amenities in this luxury condo building a King Subway with Path connection. On high floors with spectacular views and lots ...'], ['$300.00', 'Shared storage (garage) space for rent', 'Toronto', '< 17 hours ago', '- Easy to access from main road - Convenient location - Long or short term rental'], ['$1,300.00', 'Room For Rent, Single room, Etobicoke, Humber College, Lakeshore', 'Toronto', '< 17 hours ago', 'Fully Furnished Place Available!! Etobicoke (Park Lawn & Lakeshore) ***1 Bedroom is available for rent in a wonderful space, in a wonderful building, in a wonderful locality*** Ethnicity, sex, age, ...'], ['$3,000.00', 'ENTIRE 4 BED 2.5 BATH LARGE DETACHED HOME FOR RENT BOWMANVILLE', 'Bowmanville', '< 17 hours ago', '- Entire 4 Bedrooms and 2.5 Bathrooms with Hardwood Flooring Throughout and HUGE Backyard Home for Rent in Bowmanville. Great for a Big Family! - Large Kitchen with Tons of Cupboard & Counter Space. ...'], ['$2,600.00', 'YONGE/STEELES CONDO FOR RENT - MODERN CORNER 1 BEDROOM + BIG DEN', 'Thornhill', '< 17 hours ago', 'Like-New Condition, Almost a 2 Bedroom! 1 Bedroom With a Separate Large Bright Den With Windows That Can Be Used For Office Or 2nd Br! 725 Sq. Ft. Total! Exceptional Boutique Style Minto Water Garden ...'], ['$1,700.00', 'ALL INCLUSIVE 2 BEDROOM Semi-basement in MARKHAM', 'Markham', '< 17 hours ago', '2 BEDROOMS 1 or 2 CAR PARKING basement for rent in the very demanding area (McCowan & Denison) in Markham. Separate entrance, close to schools, grocery stores, bank, restaurants and all amenities. ...'], ['Free', 'Basement For Rent In Scarborough! (Morningside and Staines)', 'City of Toronto', '< 17 hours ago', '• Intersection: Morningside and Staines • BASEMENT AVAILABLE FOR RENT • Viewing Saturdays only • Washer and Dryer shared • Have proof of income For more information please call 647-271-1724 thank ...'], ['$3,300.00', 'Condo for rent in Toronto Downtown ( 2 Bed + 2 bath )', 'Toronto', '< 17 hours ago', '15 Lower Jarvis st condo Welcome To This Executive Corner Unit Located At The \"Lighthouse Tower\" By Daniels. With A Walk/Bike/Transit Score Of 100, This Northwest-Facing 2 Bedroom + 2 Bathroom Unit ...'], ['Please Contact', 'Brand New Five Bedroom House For Rent', 'Brampton', '< 17 hours ago', 'Are you a female looking for a comfortable and spacious room in Brampton? Look no further! We have multiple rooms available for rent at 10 Labrish Road, Brampton, ON L7A5C2. Our rooms are located in ...'], ['$2,300.00', '2-Bedroom Basement Apartment in Thornhill for Rent', 'Markham', '< 17 hours ago', 'AVAILABLE NOW - Bright basement Apartment for Rent in Thornhill (near Toronto, North York, Richmond Hill, Markham). Short or Long-Term Rental. Excellent location. Just RENOVATED!!! Ideal for 1-3 ...'], ['$1,900.00', 'Port Whitby  Rentals', 'Oshawa / Durham Region', '< 17 hours ago', '2 Bedroom apartment for Rent in Beautiful Port Whitby $1900.00 Well maintained 2 bedroom apartment for rent with over 950 square feet of living space. (UTILITIES INCLUDED) This building offers an on ...'], ['Please Contact', '3 Bedroom house for rent from April 1st', 'Brampton', '< 17 hours ago', '3 Bedroom house available for rent from April 1st on very quite street. Major intersection Torbram rd at Peter robertson rd. Walking distance to Brampton civic hospital, Karol bagh plaza, bus stop ...'], ['$3,300.00', 'House for rent in Malton  ,( 4 Bedrooms and  2 full washrooms)', 'Mississauga', '< 17 hours ago', '4 bedroom and 2 full washrooms, spacious Semi-detached house for rent in the heart of Malton. Walking distance to Westwood Mall, Westwood terminal and Gurughar. Malton Go is close by.( Basement not ...'], ['$3,800.00', 'Luxurious Furnished Entire Markham House Available for Rent', 'Markham', '< 11 minutes ago', 'Fully furnished and perfectly located in Markham, available for long term rent or 30+ days medium term rental Close to Downtown Markham and only a brisk 30-minute drive to Downtown Toronto right off ...'], ['Please Contact', 'Large Vehicle Parking - Lowest Prices Guaranteed! - 416-771-8833', 'Mississauga / Peel Region', '22/02/2023', 'Located at 7072 Mayfield Road in Brampton, Ontario and 437 Ofield Rd S in Burlington Ontario Brampton parking available for all size trucks, all size trailers, and other large vehicles. Great rates ...'], ['$1,995.00', 'Bachelor - 50 Rosehill Avenue', 'Toronto', '< 22 hours ago', \"Located in the Yonge and St. Clair area, one of Toronto's most desirable neighbourhoods! Bachelor/Studio available for April Monthly rent from $1,995 plus electricity Parking is $175 - 190 monthly ...\\n                        \\n                            \\n                            \\n                                \\n                            \\n                            \\n                        \\n\\n                        \\n                            \\n                                Excellent Yonge & St. Clair Location!\"], ['$700.00', 'Furnished Private Offices - Monthly membership Starting $700', 'Markham / York Region', 'Yesterday', 'Get upto 2 months of free fully furnished office spaces when you sign up with ZEMLAR Offices. Contact us to claim now. *Limited availability Looking for the perfect place to grow your business? Tired ...\\n                        \\n                            \\n                            \\n                                \\n                            \\n                            \\n                        \\n\\n                        \\n                            \\n                                Furnished Offices | Meeting Rooms | Virtual Offices | Private | office | coworking | workspcae | office space | Mississauga | GTA | Meeting room | month to month | Board Room for rent | Business Address | Phone Answering | Office Lease |'], ['$2,049.00', 'Renovated 1 Bedroom For Rent - Forest Hill', 'Toronto', '16/02/2023', 'Bachelor and 1 bedroom apartments Ready to Rent. Bright, incredible views and newly renovated! Welcome to life at The Latimer in fabulous Forest Hill Village – one of the most desirable ...\\n                        \\n                            \\n                            \\n                                \\n                            \\n                            \\n                        \\n\\n                        \\n                            \\n                                Renovated Bachelors and 1-bedroom suites available  | Contact us TODAY!'], ['$950.00', 'Furnished room for rent at Mavis and Eglinton Avenue West', 'Mississauga', '< 17 hours ago', 'Furnished room for rent at Mavis and Eglinton Avenue West in Mississauga on upper floor of large 5 bedroom house very clean with shared kitchen and Washroom available immediately rent is $ 950$ ...'], ['Please Contact', '4 Bedroom house in Brampton for rent', 'Brampton', '< 17 hours ago', 'LOCATION NEAR FERNFOREST DR & SANDALWOOD PARKWAY EAST Available April 1st, 2023 (upper level of house) $3500 + 70% utilities (water, gas, hydro, wifi not included) spacious living in a great ...'], ['$3,500.00', '4 Bedroom House for rent', 'Brampton', '< 17 hours ago', '4 Bedroom Detached with 2 car garage Upto 4 parkings Available from 1st April At Walness and McLaughlin Waling distance to Asian food Centre 70% Utilities Working professional welcome Please send me ...'], ['$1,200.00', 'Room for rent, female only', 'Toronto', '< 17 hours ago', '1 room in a 2 bedroom basement apartment, shared bathroom and kitchen, female only, Spanish speaking tenant preferred . $1200, everything included Main intersection bayview & finch'], ['$1,000.00', 'One bedroom basement for rent', 'Brampton', '< 17 hours ago', 'Only female No parking Separate kitchen Separate bathroom Separate living room This is big two bedroom basement, one bedroom is rented for one Punjabi girl One room is available for sharing or ...'], ['Please Contact', '1 bedroom for rent', 'Mississauga', '< 17 hours ago', 'One fully furnished bedroom available on upper floor for couple,boys and girls 5 min walk to malton gurughar.3 minnwalk to bus stop very close to westwood mall. Available from next month'], ['$2,800.00', 'Condo for rent', 'City of Toronto', '< 17 hours ago', '2 specious rooms condo for rent All utilities are included Free wifi,Gym and meeting room available. Step to TTC,Mall,medical offices,library,Grocery stores,parks and Schools. Very close to Highway ...'], ['$2,800.00', 'YONGE/STEELES - MODERN CONDO RENT! CORNER 1 BEDROOM & LARGE DEN', 'Thornhill', '< 17 hours ago', 'Like-New Condition, Almost a 2 Bedroom! 1 Bedroom With a Separate Large Bright Den With Windows That Can Be Used For Office Or 2nd Br! 725 Sq. Ft. Total! Exceptional Boutique Style Minto Water Garden ...'], ['$2,875.00', 'Full unit 2 bed/1 bath apartment for rent', 'Toronto', '< 17 hours ago', 'Unit: 2 bedroom / 1 bathroom apartment Price: $2,875 Room available: March 1st 2023 Location: York Mills & Leslie Heat and water are included, hydro is extra (About $80 in the summer, $120 in the ...'], ['$2,400.00', 'LUXURY CONDOS WITH 5 STARS AMENITIES FOR RENT', 'City of Toronto', '< 17 hours ago', \"***PLEASE READ THE AD FIRST*** *PLEASE DO NOT CONTACT ME IF YOU DON'T HAVE THE REQUIREMENTS. *THIS AD DOES NOT BELONG TO ANY PARTICULAR UNIT. LUXURY CONDOS WITH 5 STARS AMENITIES IN RICHMOND HILL, ...\"], ['$2,400.00', 'LUXURY CONDOS WITH GREAT AMENITIES FOR RENT', 'City of Toronto', '< 17 hours ago', \"***PLEASE READ THE AD FIRST*** *PLEASE DO NOT CONTACT ME IF YOU DON'T HAVE THE REQUIREMENTS. *THIS AD DOES NOT BELONG TO ANY PARTICULAR UNIT. LUXURY CONDOS WITH 5 STARS AMENITIES IN RICHMOND HILL, ...\"], ['$900.00', 'room for rent', 'Brampton', '< 17 hours ago', 'Basement have 2 rooms, one extra large room . only kitchen and bathroom shearing with another room person.available april 1. everything included, also internet. we are looking only working person, ...'], ['$800.00', 'Bedroom for rent.', 'Brampton', '< 17 hours ago', 'One bedroom is available for rent in brand new house. With one car parking. Caledon. Please call for more details. 647-505-4960.'], ['$600.00', 'Sharing room for rent for 1 girl', 'Mississauga / Peel Region', '< 17 hours ago', 'Sharing room for 1 girl for $600 plus utilities. High speed internet and laundry included. Near Frescho and Westwood Mall.'], ['$1,900.00', '2BHK Bsmt $1900 1st May in Brampton at Dixie/Countryside', 'Brampton', '< 17 hours ago', '2BHK Bsmt $1900 1st May in Brampton at Dixie/Countryside Pls call 6475817874 Only serious inquiries Rent - $1900 plus 30% urilities 1 parking included Extra Parking -$75 Close to Walmart, Chalo ...'], ['$900.00', 'Pickering Bungalow for rent!', 'Pickering', '< 17 hours ago', 'Main floor 3 bedrooms, 1.5 bath Kitchen, living room, dining room Basement floor is occupied by other tenants. Plenty of parking space and backyard space. Comfortable for 3-4 people. Ideal for ...'], ['$950.00', 'Bright room for rent Hyw7/Yonge', 'Vaughan', '< 17 hours ago', 'Room for rent available immediately ⁃ Private Room for rent in a beautiful neighbourhood ⁃ 5 houses far from Yonge street. A minute drive from Yong/hyw7 and Yonge/407ETR ⁃ about a minute walk to buss ...'], ['$2,990.00', 'House For Rent In Bowmanville', 'Bowmanville', '< 17 hours ago', 'Due to the high volume of inquiries, please provide yourself a brief description to make the application processing faster This Beautiful 2 Storey Corner Lot Home Like A Semi Detached Is Just Steps ...'], ['$1,200.00', '$1200 May 1st furnished/no lease/Parking', 'Toronto', '< 17 hours ago', 'Rent Advertisement $1200 May 1st furnished/parking/ no lease *more pictures are coming. I had some technical difficulties. There also a new very nice bed frame that I haven’t had time to assemble and ...'], ['Please Contact', 'Basement for Rent', 'Toronto', '< 17 hours ago', 'One full room available for two Punjabi Girls Etobicoke Toronto April 01, 2023 - Rent $375 per person - Bed. Mattress. Microwave, Toaster, - Separate Entrance to the basement. - Fully Air-conditioned ...'], ['$1,750.00', 'CAR DEALERSHIP  UP TO 5 CARS AND OFFICE FOR RENT IN SCARBOROUGH', 'Toronto', '< 17 hours ago', \"Prime location in scarborouugh on Danforth avenue east of Pharmacy avenue . lots of trafic. private office separate .other dealerships around . 4 Parking' OMVIC and CITY APPROVED. Great location for ...\"], ['$2,400.00', 'Rent 3 bed-room + 2 bath basement ~For 1 small family', 'Toronto', '< 17 hours ago', 'ATTN: For 1 small family. Be the first to live in this brand new three BR + two bath BSMT apartment of detached house with separate entrance, 1 parking. Located in Agincourt North of Scarborough ...'], ['$750.00', 'Room for rent @ Bramalea City Center', 'Brampton', '< 17 hours ago', 'Available from 15th March! +++++++++++++++++++++++++ *** Very good place for studious or working professional *** *Single Separate 1 bedroom(Single bed + computer table & Chair) available in ...'], ['$550.00', 'A shared/ private room for rent in Brampton - Queen & McLaughlin', 'Brampton', '< 17 hours ago', 'I bedroom with private bath, private kitchen and living room available for rent. There are two other bedroom, 1 bath and 1 kitchen that have 4 girls there. females only. Shared $550 Private - $1000 . ...'], ['$1,000.00', 'Rooms for students available  to rent in Oshawa.', 'Hampton', '< 17 hours ago', 'Room available from February 1st to rent for a single person. Shared living room kitchen and bathroom. Please contact me if interested. Opposite Oshawa centre. Close to Durham college an UOIT. Fully ...'], ['$1,100.00', 'one basement room with a private washroom for rent', 'Toronto', '< 17 hours ago', 'Quiet and comfortable room. Private washroom. utility included. Convenient to public transit, restaruants, bank and grocery. parking available.'], ['$1,050.00', 'Beautiful sub Master Bedroom for rent in North York (No Sharing)', 'Toronto', '< 17 hours ago', '353 Goldenwood Rd, North York, ON $1050 sub master bedrooms with a shared newly renovated washroom and state of the art kitchen. (1 person only, no sharing or couples) The room comes with the highest ...'], ['$2,850.00', 'Downtown Luxury 1BR condo inclusive rent lake and CN tower views', 'Toronto', '< 17 hours ago', 'Rent is inclusve of all utilities and internet , roof top gym and many other amenities in this luxury condo building a King Subway with Path connection. On high floors with spectacular views and lots ...'], ['$300.00', 'Shared storage (garage) space for rent', 'Toronto', '< 17 hours ago', '- Easy to access from main road - Convenient location - Long or short term rental'], ['$1,300.00', 'Room For Rent, Single room, Etobicoke, Humber College, Lakeshore', 'Toronto', '< 17 hours ago', 'Fully Furnished Place Available!! Etobicoke (Park Lawn & Lakeshore) ***1 Bedroom is available for rent in a wonderful space, in a wonderful building, in a wonderful locality*** Ethnicity, sex, age, ...'], ['$3,000.00', 'ENTIRE 4 BED 2.5 BATH LARGE DETACHED HOME FOR RENT BOWMANVILLE', 'Bowmanville', '< 17 hours ago', '- Entire 4 Bedrooms and 2.5 Bathrooms with Hardwood Flooring Throughout and HUGE Backyard Home for Rent in Bowmanville. Great for a Big Family! - Large Kitchen with Tons of Cupboard & Counter Space. ...'], ['$2,600.00', 'YONGE/STEELES CONDO FOR RENT - MODERN CORNER 1 BEDROOM + BIG DEN', 'Thornhill', '< 17 hours ago', 'Like-New Condition, Almost a 2 Bedroom! 1 Bedroom With a Separate Large Bright Den With Windows That Can Be Used For Office Or 2nd Br! 725 Sq. Ft. Total! Exceptional Boutique Style Minto Water Garden ...'], ['$1,700.00', 'ALL INCLUSIVE 2 BEDROOM Semi-basement in MARKHAM', 'Markham', '< 17 hours ago', '2 BEDROOMS 1 or 2 CAR PARKING basement for rent in the very demanding area (McCowan & Denison) in Markham. Separate entrance, close to schools, grocery stores, bank, restaurants and all amenities. ...'], ['Free', 'Basement For Rent In Scarborough! (Morningside and Staines)', 'City of Toronto', '< 17 hours ago', '• Intersection: Morningside and Staines • BASEMENT AVAILABLE FOR RENT • Viewing Saturdays only • Washer and Dryer shared • Have proof of income For more information please call 647-271-1724 thank ...'], ['$3,300.00', 'Condo for rent in Toronto Downtown ( 2 Bed + 2 bath )', 'Toronto', '< 17 hours ago', '15 Lower Jarvis st condo Welcome To This Executive Corner Unit Located At The \"Lighthouse Tower\" By Daniels. With A Walk/Bike/Transit Score Of 100, This Northwest-Facing 2 Bedroom + 2 Bathroom Unit ...'], ['Please Contact', 'Brand New Five Bedroom House For Rent', 'Brampton', '< 17 hours ago', 'Are you a female looking for a comfortable and spacious room in Brampton? Look no further! We have multiple rooms available for rent at 10 Labrish Road, Brampton, ON L7A5C2. Our rooms are located in ...'], ['$2,300.00', '2-Bedroom Basement Apartment in Thornhill for Rent', 'Markham', '< 17 hours ago', 'AVAILABLE NOW - Bright basement Apartment for Rent in Thornhill (near Toronto, North York, Richmond Hill, Markham). Short or Long-Term Rental. Excellent location. Just RENOVATED!!! Ideal for 1-3 ...'], ['$1,900.00', 'Port Whitby  Rentals', 'Oshawa / Durham Region', '< 17 hours ago', '2 Bedroom apartment for Rent in Beautiful Port Whitby $1900.00 Well maintained 2 bedroom apartment for rent with over 950 square feet of living space. (UTILITIES INCLUDED) This building offers an on ...'], ['Please Contact', '3 Bedroom house for rent from April 1st', 'Brampton', '< 17 hours ago', '3 Bedroom house available for rent from April 1st on very quite street. Major intersection Torbram rd at Peter robertson rd. Walking distance to Brampton civic hospital, Karol bagh plaza, bus stop ...'], ['$3,300.00', 'House for rent in Malton  ,( 4 Bedrooms and  2 full washrooms)', 'Mississauga', '< 17 hours ago', '4 bedroom and 2 full washrooms, spacious Semi-detached house for rent in the heart of Malton. Walking distance to Westwood Mall, Westwood terminal and Gurughar. Malton Go is close by.( Basement not ...'], ['$399.00', 'PROMOTION - Furnished Offices Only For $399/Month', 'Oakville / Halton Region', 'Yesterday', 'Get upto 2 months of free fully furnished office spaces when you sign up with ZEMLAR Offices. Contact us to claim now. *Limited availability Office spaces available for $399/month*! Looking for the ...\\n                        \\n                            \\n                            \\n                                \\n                            \\n                            \\n                        \\n\\n                        \\n                            \\n                                Furnished Offices | Meeting Rooms | Virtual Offices | Private | office | coworking | workspcae | office space | Mississauga | GTA | Meeting room | month to month | Board Room for rent | Business Address | Office Lease |'], ['$1,400.00', 'Luxury in Downtown-private room for rent', 'Toronto', '01/03/2023', 'Please read the ad before contacting. Furnished room for rent downtown Toronto in a two-bedroom, one-bathroom condo for short term rent only (a maximum of 1-2 months) from March 15. 6 min walk to ...'], ['$2,495.00\\n                                    \\n                                        \\n\\n$2,786.00', '2BR + Den w/ balcony for Rent (Newly Renovated) in High Park', 'Toronto', '< 16 hours ago', 'NEIGHBOURHOOD: High Park is a neighbourhood unlike any other in the city. Featuring a collection of Toronto’s most interesting cafés, restaurants, craft breweries, markets, and locally owned shops, ...'], ['$100.00', 'Yonge/Finch Underground parking Direct Access to Finch Subway', 'Toronto', '< 16 hours ago', 'LIMITED-TIME PROMOTION PRICE! It starts From $100 */Month *, 24/7 Access with Fob, Drive-In and out, Overnight parking privilege, Welcome TTC Commuters, Winter Parking for your Vintage cars and ...'], ['$2,195.00', '1 Bedroom Large Renovated Apartment For Rent in Toronto - 90 Eas', 'Toronto', '02/03/2023', 'Main & Danforth, East York, Toronto This is a Luxurious, Completely Renovated Large 700 Sqft One Bedroom Apartment for Rent with High Quality Finishes: Brand-New Chef-Inspired Kitchen - Contemporary ...'], ['$950.00', 'Furnished room for rent at Mavis and Eglinton Avenue West', 'Mississauga', '< 17 hours ago', 'Furnished room for rent at Mavis and Eglinton Avenue West in Mississauga on upper floor of large 5 bedroom house very clean with shared kitchen and Washroom available immediately rent is $ 950$ ...'], ['Please Contact', '4 Bedroom house in Brampton for rent', 'Brampton', '< 17 hours ago', 'LOCATION NEAR FERNFOREST DR & SANDALWOOD PARKWAY EAST Available April 1st, 2023 (upper level of house) $3500 + 70% utilities (water, gas, hydro, wifi not included) spacious living in a great ...'], ['$3,500.00', '4 Bedroom House for rent', 'Brampton', '< 17 hours ago', '4 Bedroom Detached with 2 car garage Upto 4 parkings Available from 1st April At Walness and McLaughlin Waling distance to Asian food Centre 70% Utilities Working professional welcome Please send me ...'], ['$1,200.00', 'Room for rent, female only', 'Toronto', '< 17 hours ago', '1 room in a 2 bedroom basement apartment, shared bathroom and kitchen, female only, Spanish speaking tenant preferred . $1200, everything included Main intersection bayview & finch'], ['$1,000.00', 'One bedroom basement for rent', 'Brampton', '< 17 hours ago', 'Only female No parking Separate kitchen Separate bathroom Separate living room This is big two bedroom basement, one bedroom is rented for one Punjabi girl One room is available for sharing or ...'], ['Please Contact', '1 bedroom for rent', 'Mississauga', '< 17 hours ago', 'One fully furnished bedroom available on upper floor for couple,boys and girls 5 min walk to malton gurughar.3 minnwalk to bus stop very close to westwood mall. Available from next month'], ['$2,800.00', 'Condo for rent', 'City of Toronto', '< 17 hours ago', '2 specious rooms condo for rent All utilities are included Free wifi,Gym and meeting room available. Step to TTC,Mall,medical offices,library,Grocery stores,parks and Schools. Very close to Highway ...'], ['$2,800.00', 'YONGE/STEELES - MODERN CONDO RENT! CORNER 1 BEDROOM & LARGE DEN', 'Thornhill', '< 17 hours ago', 'Like-New Condition, Almost a 2 Bedroom! 1 Bedroom With a Separate Large Bright Den With Windows That Can Be Used For Office Or 2nd Br! 725 Sq. Ft. Total! Exceptional Boutique Style Minto Water Garden ...'], ['$2,875.00', 'Full unit 2 bed/1 bath apartment for rent', 'Toronto', '< 17 hours ago', 'Unit: 2 bedroom / 1 bathroom apartment Price: $2,875 Room available: March 1st 2023 Location: York Mills & Leslie Heat and water are included, hydro is extra (About $80 in the summer, $120 in the ...'], ['$2,400.00', 'LUXURY CONDOS WITH 5 STARS AMENITIES FOR RENT', 'City of Toronto', '< 17 hours ago', \"***PLEASE READ THE AD FIRST*** *PLEASE DO NOT CONTACT ME IF YOU DON'T HAVE THE REQUIREMENTS. *THIS AD DOES NOT BELONG TO ANY PARTICULAR UNIT. LUXURY CONDOS WITH 5 STARS AMENITIES IN RICHMOND HILL, ...\"], ['$2,400.00', 'LUXURY CONDOS WITH GREAT AMENITIES FOR RENT', 'City of Toronto', '< 17 hours ago', \"***PLEASE READ THE AD FIRST*** *PLEASE DO NOT CONTACT ME IF YOU DON'T HAVE THE REQUIREMENTS. *THIS AD DOES NOT BELONG TO ANY PARTICULAR UNIT. LUXURY CONDOS WITH 5 STARS AMENITIES IN RICHMOND HILL, ...\"], ['$900.00', 'room for rent', 'Brampton', '< 17 hours ago', 'Basement have 2 rooms, one extra large room . only kitchen and bathroom shearing with another room person.available april 1. everything included, also internet. we are looking only working person, ...'], ['$800.00', 'Bedroom for rent.', 'Brampton', '< 17 hours ago', 'One bedroom is available for rent in brand new house. With one car parking. Caledon. Please call for more details. 647-505-4960.'], ['$600.00', 'Sharing room for rent for 1 girl', 'Mississauga / Peel Region', '< 17 hours ago', 'Sharing room for 1 girl for $600 plus utilities. High speed internet and laundry included. Near Frescho and Westwood Mall.'], ['$1,900.00', '2BHK Bsmt $1900 1st May in Brampton at Dixie/Countryside', 'Brampton', '< 17 hours ago', '2BHK Bsmt $1900 1st May in Brampton at Dixie/Countryside Pls call 6475817874 Only serious inquiries Rent - $1900 plus 30% urilities 1 parking included Extra Parking -$75 Close to Walmart, Chalo ...'], ['$900.00', 'Pickering Bungalow for rent!', 'Pickering', '< 17 hours ago', 'Main floor 3 bedrooms, 1.5 bath Kitchen, living room, dining room Basement floor is occupied by other tenants. Plenty of parking space and backyard space. Comfortable for 3-4 people. Ideal for ...'], ['$950.00', 'Bright room for rent Hyw7/Yonge', 'Vaughan', '< 17 hours ago', 'Room for rent available immediately ⁃ Private Room for rent in a beautiful neighbourhood ⁃ 5 houses far from Yonge street. A minute drive from Yong/hyw7 and Yonge/407ETR ⁃ about a minute walk to buss ...'], ['$2,990.00', 'House For Rent In Bowmanville', 'Bowmanville', '< 17 hours ago', 'Due to the high volume of inquiries, please provide yourself a brief description to make the application processing faster This Beautiful 2 Storey Corner Lot Home Like A Semi Detached Is Just Steps ...'], ['$1,200.00', '$1200 May 1st furnished/no lease/Parking', 'Toronto', '< 17 hours ago', 'Rent Advertisement $1200 May 1st furnished/parking/ no lease *more pictures are coming. I had some technical difficulties. There also a new very nice bed frame that I haven’t had time to assemble and ...'], ['Please Contact', 'Basement for Rent', 'Toronto', '< 17 hours ago', 'One full room available for two Punjabi Girls Etobicoke Toronto April 01, 2023 - Rent $375 per person - Bed. Mattress. Microwave, Toaster, - Separate Entrance to the basement. - Fully Air-conditioned ...'], ['$1,750.00', 'CAR DEALERSHIP  UP TO 5 CARS AND OFFICE FOR RENT IN SCARBOROUGH', 'Toronto', '< 17 hours ago', \"Prime location in scarborouugh on Danforth avenue east of Pharmacy avenue . lots of trafic. private office separate .other dealerships around . 4 Parking' OMVIC and CITY APPROVED. Great location for ...\"], ['$2,400.00', 'Rent 3 bed-room + 2 bath basement ~For 1 small family', 'Toronto', '< 17 hours ago', 'ATTN: For 1 small family. Be the first to live in this brand new three BR + two bath BSMT apartment of detached house with separate entrance, 1 parking. Located in Agincourt North of Scarborough ...'], ['$750.00', 'Room for rent @ Bramalea City Center', 'Brampton', '< 17 hours ago', 'Available from 15th March! +++++++++++++++++++++++++ *** Very good place for studious or working professional *** *Single Separate 1 bedroom(Single bed + computer table & Chair) available in ...'], ['$550.00', 'A shared/ private room for rent in Brampton - Queen & McLaughlin', 'Brampton', '< 17 hours ago', 'I bedroom with private bath, private kitchen and living room available for rent. There are two other bedroom, 1 bath and 1 kitchen that have 4 girls there. females only. Shared $550 Private - $1000 . ...'], ['$1,000.00', 'Rooms for students available  to rent in Oshawa.', 'Hampton', '< 17 hours ago', 'Room available from February 1st to rent for a single person. Shared living room kitchen and bathroom. Please contact me if interested. Opposite Oshawa centre. Close to Durham college an UOIT. Fully ...'], ['$1,100.00', 'one basement room with a private washroom for rent', 'Toronto', '< 17 hours ago', 'Quiet and comfortable room. Private washroom. utility included. Convenient to public transit, restaruants, bank and grocery. parking available.'], ['$1,050.00', 'Beautiful sub Master Bedroom for rent in North York (No Sharing)', 'Toronto', '< 17 hours ago', '353 Goldenwood Rd, North York, ON $1050 sub master bedrooms with a shared newly renovated washroom and state of the art kitchen. (1 person only, no sharing or couples) The room comes with the highest ...'], ['$2,850.00', 'Downtown Luxury 1BR condo inclusive rent lake and CN tower views', 'Toronto', '< 17 hours ago', 'Rent is inclusve of all utilities and internet , roof top gym and many other amenities in this luxury condo building a King Subway with Path connection. On high floors with spectacular views and lots ...'], ['$300.00', 'Shared storage (garage) space for rent', 'Toronto', '< 17 hours ago', '- Easy to access from main road - Convenient location - Long or short term rental'], ['$1,300.00', 'Room For Rent, Single room, Etobicoke, Humber College, Lakeshore', 'Toronto', '< 17 hours ago', 'Fully Furnished Place Available!! Etobicoke (Park Lawn & Lakeshore) ***1 Bedroom is available for rent in a wonderful space, in a wonderful building, in a wonderful locality*** Ethnicity, sex, age, ...'], ['$3,000.00', 'ENTIRE 4 BED 2.5 BATH LARGE DETACHED HOME FOR RENT BOWMANVILLE', 'Bowmanville', '< 17 hours ago', '- Entire 4 Bedrooms and 2.5 Bathrooms with Hardwood Flooring Throughout and HUGE Backyard Home for Rent in Bowmanville. Great for a Big Family! - Large Kitchen with Tons of Cupboard & Counter Space. ...'], ['$2,600.00', 'YONGE/STEELES CONDO FOR RENT - MODERN CORNER 1 BEDROOM + BIG DEN', 'Thornhill', '< 17 hours ago', 'Like-New Condition, Almost a 2 Bedroom! 1 Bedroom With a Separate Large Bright Den With Windows That Can Be Used For Office Or 2nd Br! 725 Sq. Ft. Total! Exceptional Boutique Style Minto Water Garden ...'], ['$1,700.00', 'ALL INCLUSIVE 2 BEDROOM Semi-basement in MARKHAM', 'Markham', '< 17 hours ago', '2 BEDROOMS 1 or 2 CAR PARKING basement for rent in the very demanding area (McCowan & Denison) in Markham. Separate entrance, close to schools, grocery stores, bank, restaurants and all amenities. ...'], ['Free', 'Basement For Rent In Scarborough! (Morningside and Staines)', 'City of Toronto', '< 17 hours ago', '• Intersection: Morningside and Staines • BASEMENT AVAILABLE FOR RENT • Viewing Saturdays only • Washer and Dryer shared • Have proof of income For more information please call 647-271-1724 thank ...'], ['$3,300.00', 'Condo for rent in Toronto Downtown ( 2 Bed + 2 bath )', 'Toronto', '< 17 hours ago', '15 Lower Jarvis st condo Welcome To This Executive Corner Unit Located At The \"Lighthouse Tower\" By Daniels. With A Walk/Bike/Transit Score Of 100, This Northwest-Facing 2 Bedroom + 2 Bathroom Unit ...'], ['Please Contact', 'Brand New Five Bedroom House For Rent', 'Brampton', '< 17 hours ago', 'Are you a female looking for a comfortable and spacious room in Brampton? Look no further! We have multiple rooms available for rent at 10 Labrish Road, Brampton, ON L7A5C2. Our rooms are located in ...'], ['$2,300.00', '2-Bedroom Basement Apartment in Thornhill for Rent', 'Markham', '< 17 hours ago', 'AVAILABLE NOW - Bright basement Apartment for Rent in Thornhill (near Toronto, North York, Richmond Hill, Markham). Short or Long-Term Rental. Excellent location. Just RENOVATED!!! Ideal for 1-3 ...'], ['$1,900.00', 'Port Whitby  Rentals', 'Oshawa / Durham Region', '< 17 hours ago', '2 Bedroom apartment for Rent in Beautiful Port Whitby $1900.00 Well maintained 2 bedroom apartment for rent with over 950 square feet of living space. (UTILITIES INCLUDED) This building offers an on ...'], ['Please Contact', '3 Bedroom house for rent from April 1st', 'Brampton', '< 17 hours ago', '3 Bedroom house available for rent from April 1st on very quite street. Major intersection Torbram rd at Peter robertson rd. Walking distance to Brampton civic hospital, Karol bagh plaza, bus stop ...'], ['$3,300.00', 'House for rent in Malton  ,( 4 Bedrooms and  2 full washrooms)', 'Mississauga', '< 17 hours ago', '4 bedroom and 2 full washrooms, spacious Semi-detached house for rent in the heart of Malton. Walking distance to Westwood Mall, Westwood terminal and Gurughar. Malton Go is close by.( Basement not ...'], ['$2,595.00', '2 Bedroom Renovated Apartment For Rent in Toronto - 25 St. Denni', 'Toronto', '02/03/2023', 'Don Mills & Eglinton, North York, Toronto This is a Luxurious, Completely Renovated Large 986 Sqft Two Bedroom Apartment for Rent with High Quality Finishes: Brand-New Chef-Inspired Kitchen - ...'], ['$2,050.00', 'Newly Renovated One Bedroom Apartments for Rent in Milton!', 'Mississauga / Peel Region', '01/03/2023', 'Touch free leasing: Virtual viewings via video conferencing and online leasing available. Book yours today. Our Rental Office remains operational in light of COVID-19. The health and safety of you, ...\\n                        \\n                            \\n                            \\n                                \\n                            \\n                            \\n                        \\n\\n                        \\n                            \\n                                Newly Managed by Realstar!  Millside Apartments Offers Fully Renovated 1 and 2 Bedroom Suites in Downtown Milton.  Office Open Daily!!'], ['$2,535.00', 'One Bedroom Suites for Rent | Niagara West', 'Toronto', '< 3 hours ago', \"Luxury Suites in Toronto's King West Neighbourhood Live in the heart of King West in a brand new, move-in ready luxury apartment suites that are exclusively designed for your urban lifestyle. Walk in ...\\n                        \\n                            \\n                            \\n                                \\n                            \\n                            \\n                        \\n\\n                        \\n                            \\n                                Luxury, Pet Friendly Apartments in King West Toronto\"], ['$1,840.00', '1 Bedroom Apartments for Rent in Toronto', 'Toronto', '04/02/2023', 'Ideally situated just off HWY 401, this great location is surrounded by Clanton and Earl Bales Parks. It is the perfect rental in North York. With 1 and 2 Bedroom apartment rentals, this property ...\\n                        \\n                            \\n                            \\n                                \\n                            \\n                            \\n                        \\n\\n                        \\n                            \\n                                Ask About our Rental Incentive!'], ['Please Contact', 'A furnished room for rent (preferably Male) for short-term rent', 'Mississauga', '24/02/2023', 'A spacious room in the main floor of a 3-bedroom bungalow, located in a quiet neighborhood, 1 minute from bus station, near to UTM ( University of Toronto in Mississauga), L5C 1G2- preferably Male'], ['$950.00', 'Furnished room for rent at Mavis and Eglinton Avenue West', 'Mississauga', '< 17 hours ago', 'Furnished room for rent at Mavis and Eglinton Avenue West in Mississauga on upper floor of large 5 bedroom house very clean with shared kitchen and Washroom available immediately rent is $ 950$ ...'], ['Please Contact', '4 Bedroom house in Brampton for rent', 'Brampton', '< 17 hours ago', 'LOCATION NEAR FERNFOREST DR & SANDALWOOD PARKWAY EAST Available April 1st, 2023 (upper level of house) $3500 + 70% utilities (water, gas, hydro, wifi not included) spacious living in a great ...'], ['$3,500.00', '4 Bedroom House for rent', 'Brampton', '< 17 hours ago', '4 Bedroom Detached with 2 car garage Upto 4 parkings Available from 1st April At Walness and McLaughlin Waling distance to Asian food Centre 70% Utilities Working professional welcome Please send me ...'], ['$1,200.00', 'Room for rent, female only', 'Toronto', '< 17 hours ago', '1 room in a 2 bedroom basement apartment, shared bathroom and kitchen, female only, Spanish speaking tenant preferred . $1200, everything included Main intersection bayview & finch'], ['$1,000.00', 'One bedroom basement for rent', 'Brampton', '< 17 hours ago', 'Only female No parking Separate kitchen Separate bathroom Separate living room This is big two bedroom basement, one bedroom is rented for one Punjabi girl One room is available for sharing or ...'], ['Please Contact', '1 bedroom for rent', 'Mississauga', '< 17 hours ago', 'One fully furnished bedroom available on upper floor for couple,boys and girls 5 min walk to malton gurughar.3 minnwalk to bus stop very close to westwood mall. Available from next month'], ['$2,800.00', 'Condo for rent', 'City of Toronto', '< 17 hours ago', '2 specious rooms condo for rent All utilities are included Free wifi,Gym and meeting room available. Step to TTC,Mall,medical offices,library,Grocery stores,parks and Schools. Very close to Highway ...'], ['$2,800.00', 'YONGE/STEELES - MODERN CONDO RENT! CORNER 1 BEDROOM & LARGE DEN', 'Thornhill', '< 17 hours ago', 'Like-New Condition, Almost a 2 Bedroom! 1 Bedroom With a Separate Large Bright Den With Windows That Can Be Used For Office Or 2nd Br! 725 Sq. Ft. Total! Exceptional Boutique Style Minto Water Garden ...'], ['$2,875.00', 'Full unit 2 bed/1 bath apartment for rent', 'Toronto', '< 17 hours ago', 'Unit: 2 bedroom / 1 bathroom apartment Price: $2,875 Room available: March 1st 2023 Location: York Mills & Leslie Heat and water are included, hydro is extra (About $80 in the summer, $120 in the ...'], ['$2,400.00', 'LUXURY CONDOS WITH 5 STARS AMENITIES FOR RENT', 'City of Toronto', '< 17 hours ago', \"***PLEASE READ THE AD FIRST*** *PLEASE DO NOT CONTACT ME IF YOU DON'T HAVE THE REQUIREMENTS. *THIS AD DOES NOT BELONG TO ANY PARTICULAR UNIT. LUXURY CONDOS WITH 5 STARS AMENITIES IN RICHMOND HILL, ...\"], ['$2,400.00', 'LUXURY CONDOS WITH GREAT AMENITIES FOR RENT', 'City of Toronto', '< 17 hours ago', \"***PLEASE READ THE AD FIRST*** *PLEASE DO NOT CONTACT ME IF YOU DON'T HAVE THE REQUIREMENTS. *THIS AD DOES NOT BELONG TO ANY PARTICULAR UNIT. LUXURY CONDOS WITH 5 STARS AMENITIES IN RICHMOND HILL, ...\"], ['$900.00', 'room for rent', 'Brampton', '< 17 hours ago', 'Basement have 2 rooms, one extra large room . only kitchen and bathroom shearing with another room person.available april 1. everything included, also internet. we are looking only working person, ...'], ['$800.00', 'Bedroom for rent.', 'Brampton', '< 17 hours ago', 'One bedroom is available for rent in brand new house. With one car parking. Caledon. Please call for more details. 647-505-4960.'], ['$600.00', 'Sharing room for rent for 1 girl', 'Mississauga / Peel Region', '< 17 hours ago', 'Sharing room for 1 girl for $600 plus utilities. High speed internet and laundry included. Near Frescho and Westwood Mall.'], ['$1,900.00', '2BHK Bsmt $1900 1st May in Brampton at Dixie/Countryside', 'Brampton', '< 17 hours ago', '2BHK Bsmt $1900 1st May in Brampton at Dixie/Countryside Pls call 6475817874 Only serious inquiries Rent - $1900 plus 30% urilities 1 parking included Extra Parking -$75 Close to Walmart, Chalo ...'], ['$900.00', 'Pickering Bungalow for rent!', 'Pickering', '< 17 hours ago', 'Main floor 3 bedrooms, 1.5 bath Kitchen, living room, dining room Basement floor is occupied by other tenants. Plenty of parking space and backyard space. Comfortable for 3-4 people. Ideal for ...'], ['$950.00', 'Bright room for rent Hyw7/Yonge', 'Vaughan', '< 17 hours ago', 'Room for rent available immediately ⁃ Private Room for rent in a beautiful neighbourhood ⁃ 5 houses far from Yonge street. A minute drive from Yong/hyw7 and Yonge/407ETR ⁃ about a minute walk to buss ...'], ['$2,990.00', 'House For Rent In Bowmanville', 'Bowmanville', '< 17 hours ago', 'Due to the high volume of inquiries, please provide yourself a brief description to make the application processing faster This Beautiful 2 Storey Corner Lot Home Like A Semi Detached Is Just Steps ...'], ['$1,200.00', '$1200 May 1st furnished/no lease/Parking', 'Toronto', '< 17 hours ago', 'Rent Advertisement $1200 May 1st furnished/parking/ no lease *more pictures are coming. I had some technical difficulties. There also a new very nice bed frame that I haven’t had time to assemble and ...'], ['Please Contact', 'Basement for Rent', 'Toronto', '< 17 hours ago', 'One full room available for two Punjabi Girls Etobicoke Toronto April 01, 2023 - Rent $375 per person - Bed. Mattress. Microwave, Toaster, - Separate Entrance to the basement. - Fully Air-conditioned ...'], ['$1,750.00', 'CAR DEALERSHIP  UP TO 5 CARS AND OFFICE FOR RENT IN SCARBOROUGH', 'Toronto', '< 17 hours ago', \"Prime location in scarborouugh on Danforth avenue east of Pharmacy avenue . lots of trafic. private office separate .other dealerships around . 4 Parking' OMVIC and CITY APPROVED. Great location for ...\"], ['$2,400.00', 'Rent 3 bed-room + 2 bath basement ~For 1 small family', 'Toronto', '< 17 hours ago', 'ATTN: For 1 small family. Be the first to live in this brand new three BR + two bath BSMT apartment of detached house with separate entrance, 1 parking. Located in Agincourt North of Scarborough ...'], ['$750.00', 'Room for rent @ Bramalea City Center', 'Brampton', '< 17 hours ago', 'Available from 15th March! +++++++++++++++++++++++++ *** Very good place for studious or working professional *** *Single Separate 1 bedroom(Single bed + computer table & Chair) available in ...'], ['$550.00', 'A shared/ private room for rent in Brampton - Queen & McLaughlin', 'Brampton', '< 17 hours ago', 'I bedroom with private bath, private kitchen and living room available for rent. There are two other bedroom, 1 bath and 1 kitchen that have 4 girls there. females only. Shared $550 Private - $1000 . ...'], ['$1,000.00', 'Rooms for students available  to rent in Oshawa.', 'Hampton', '< 17 hours ago', 'Room available from February 1st to rent for a single person. Shared living room kitchen and bathroom. Please contact me if interested. Opposite Oshawa centre. Close to Durham college an UOIT. Fully ...'], ['$1,100.00', 'one basement room with a private washroom for rent', 'Toronto', '< 17 hours ago', 'Quiet and comfortable room. Private washroom. utility included. Convenient to public transit, restaruants, bank and grocery. parking available.'], ['$1,050.00', 'Beautiful sub Master Bedroom for rent in North York (No Sharing)', 'Toronto', '< 17 hours ago', '353 Goldenwood Rd, North York, ON $1050 sub master bedrooms with a shared newly renovated washroom and state of the art kitchen. (1 person only, no sharing or couples) The room comes with the highest ...'], ['$2,850.00', 'Downtown Luxury 1BR condo inclusive rent lake and CN tower views', 'Toronto', '< 17 hours ago', 'Rent is inclusve of all utilities and internet , roof top gym and many other amenities in this luxury condo building a King Subway with Path connection. On high floors with spectacular views and lots ...'], ['$300.00', 'Shared storage (garage) space for rent', 'Toronto', '< 17 hours ago', '- Easy to access from main road - Convenient location - Long or short term rental'], ['$1,300.00', 'Room For Rent, Single room, Etobicoke, Humber College, Lakeshore', 'Toronto', '< 17 hours ago', 'Fully Furnished Place Available!! Etobicoke (Park Lawn & Lakeshore) ***1 Bedroom is available for rent in a wonderful space, in a wonderful building, in a wonderful locality*** Ethnicity, sex, age, ...'], ['$3,000.00', 'ENTIRE 4 BED 2.5 BATH LARGE DETACHED HOME FOR RENT BOWMANVILLE', 'Bowmanville', '< 17 hours ago', '- Entire 4 Bedrooms and 2.5 Bathrooms with Hardwood Flooring Throughout and HUGE Backyard Home for Rent in Bowmanville. Great for a Big Family! - Large Kitchen with Tons of Cupboard & Counter Space. ...'], ['$2,600.00', 'YONGE/STEELES CONDO FOR RENT - MODERN CORNER 1 BEDROOM + BIG DEN', 'Thornhill', '< 17 hours ago', 'Like-New Condition, Almost a 2 Bedroom! 1 Bedroom With a Separate Large Bright Den With Windows That Can Be Used For Office Or 2nd Br! 725 Sq. Ft. Total! Exceptional Boutique Style Minto Water Garden ...'], ['$1,700.00', 'ALL INCLUSIVE 2 BEDROOM Semi-basement in MARKHAM', 'Markham', '< 17 hours ago', '2 BEDROOMS 1 or 2 CAR PARKING basement for rent in the very demanding area (McCowan & Denison) in Markham. Separate entrance, close to schools, grocery stores, bank, restaurants and all amenities. ...'], ['Free', 'Basement For Rent In Scarborough! (Morningside and Staines)', 'City of Toronto', '< 17 hours ago', '• Intersection: Morningside and Staines • BASEMENT AVAILABLE FOR RENT • Viewing Saturdays only • Washer and Dryer shared • Have proof of income For more information please call 647-271-1724 thank ...'], ['$3,300.00', 'Condo for rent in Toronto Downtown ( 2 Bed + 2 bath )', 'Toronto', '< 17 hours ago', '15 Lower Jarvis st condo Welcome To This Executive Corner Unit Located At The \"Lighthouse Tower\" By Daniels. With A Walk/Bike/Transit Score Of 100, This Northwest-Facing 2 Bedroom + 2 Bathroom Unit ...'], ['Please Contact', 'Brand New Five Bedroom House For Rent', 'Brampton', '< 17 hours ago', 'Are you a female looking for a comfortable and spacious room in Brampton? Look no further! We have multiple rooms available for rent at 10 Labrish Road, Brampton, ON L7A5C2. Our rooms are located in ...'], ['$2,300.00', '2-Bedroom Basement Apartment in Thornhill for Rent', 'Markham', '< 17 hours ago', 'AVAILABLE NOW - Bright basement Apartment for Rent in Thornhill (near Toronto, North York, Richmond Hill, Markham). Short or Long-Term Rental. Excellent location. Just RENOVATED!!! Ideal for 1-3 ...'], ['$1,900.00', 'Port Whitby  Rentals', 'Oshawa / Durham Region', '< 17 hours ago', '2 Bedroom apartment for Rent in Beautiful Port Whitby $1900.00 Well maintained 2 bedroom apartment for rent with over 950 square feet of living space. (UTILITIES INCLUDED) This building offers an on ...'], ['Please Contact', '3 Bedroom house for rent from April 1st', 'Brampton', '< 17 hours ago', '3 Bedroom house available for rent from April 1st on very quite street. Major intersection Torbram rd at Peter robertson rd. Walking distance to Brampton civic hospital, Karol bagh plaza, bus stop ...'], ['$3,300.00', 'House for rent in Malton  ,( 4 Bedrooms and  2 full washrooms)', 'Mississauga', '< 17 hours ago', '4 bedroom and 2 full washrooms, spacious Semi-detached house for rent in the heart of Malton. Walking distance to Westwood Mall, Westwood terminal and Gurughar. Malton Go is close by.( Basement not ...'], ['$2,025.00', 'Upgraded one bedroom apartment at 25 Eccleston Dr - ID 2600', 'Toronto', '28/02/2023', 'Akelius one bedroom apartment for rent. DVP & Eglinton Ave East in the North York neighborhood, Toronto. one bedroom suite - 1 bathroom - located on floor 2 - approximately 674 square feet - ...'], ['$2,195.00', 'Beautiful two bedroom main floor of triplex for rent', 'Oshawa', 'Yesterday', 'Beautiful two bedroom main floor of triplex Very spacious bedrooms Each unit has its own climate control Text, email or call to book a time to see it'], ['$2,245.00', '1 Bedroom Large Renovated Apartment For Rent in Toronto - 2 Seco', 'Toronto', '25/02/2023', 'Main & Danforth, East York, Toronto This is a Luxurious, Completely Renovated 690 Sqft One Bedroom Apartment for Rent with High Quality Finishes: Brand-New Chef-Inspired Kitchen - Contemporary White ...'], ['$3,100.00', '$3,100 for main floor of Detached House in West Mineola', 'Mississauga', '< 21 hours ago', '$3,100 plus 70% utilities Fully Renovated Main Floor of the Detached bungalow for rent In Mississauga’s best in West Mineola neighbourhood, Best Kenolli School rated one of the best in the country, ...'], ['$2,050.00', 'Newly Renovated One Bedroom Apartments for Rent in Milton!', 'Mississauga / Peel Region', '01/03/2023', 'Touch free leasing: Virtual viewings via video conferencing and online leasing available. Book yours today. Our Rental Office remains operational in light of COVID-19. The health and safety of you, ...\\n                        \\n                            \\n                            \\n                                \\n                            \\n                            \\n                        \\n\\n                        \\n                            \\n                                Newly Managed by Realstar!  Millside Apartments Offers Fully Renovated 1 and 2 Bedroom Suites in Downtown Milton.  Office Open Daily!!'], ['$950.00', 'Furnished room for rent at Mavis and Eglinton Avenue West', 'Mississauga', '< 17 hours ago', 'Furnished room for rent at Mavis and Eglinton Avenue West in Mississauga on upper floor of large 5 bedroom house very clean with shared kitchen and Washroom available immediately rent is $ 950$ ...'], ['Please Contact', '4 Bedroom house in Brampton for rent', 'Brampton', '< 17 hours ago', 'LOCATION NEAR FERNFOREST DR & SANDALWOOD PARKWAY EAST Available April 1st, 2023 (upper level of house) $3500 + 70% utilities (water, gas, hydro, wifi not included) spacious living in a great ...'], ['$3,500.00', '4 Bedroom House for rent', 'Brampton', '< 17 hours ago', '4 Bedroom Detached with 2 car garage Upto 4 parkings Available from 1st April At Walness and McLaughlin Waling distance to Asian food Centre 70% Utilities Working professional welcome Please send me ...'], ['$1,200.00', 'Room for rent, female only', 'Toronto', '< 17 hours ago', '1 room in a 2 bedroom basement apartment, shared bathroom and kitchen, female only, Spanish speaking tenant preferred . $1200, everything included Main intersection bayview & finch'], ['$1,000.00', 'One bedroom basement for rent', 'Brampton', '< 17 hours ago', 'Only female No parking Separate kitchen Separate bathroom Separate living room This is big two bedroom basement, one bedroom is rented for one Punjabi girl One room is available for sharing or ...'], ['Please Contact', '1 bedroom for rent', 'Mississauga', '< 17 hours ago', 'One fully furnished bedroom available on upper floor for couple,boys and girls 5 min walk to malton gurughar.3 minnwalk to bus stop very close to westwood mall. Available from next month'], ['$2,800.00', 'Condo for rent', 'City of Toronto', '< 17 hours ago', '2 specious rooms condo for rent All utilities are included Free wifi,Gym and meeting room available. Step to TTC,Mall,medical offices,library,Grocery stores,parks and Schools. Very close to Highway ...'], ['$2,800.00', 'YONGE/STEELES - MODERN CONDO RENT! CORNER 1 BEDROOM & LARGE DEN', 'Thornhill', '< 17 hours ago', 'Like-New Condition, Almost a 2 Bedroom! 1 Bedroom With a Separate Large Bright Den With Windows That Can Be Used For Office Or 2nd Br! 725 Sq. Ft. Total! Exceptional Boutique Style Minto Water Garden ...'], ['$2,875.00', 'Full unit 2 bed/1 bath apartment for rent', 'Toronto', '< 17 hours ago', 'Unit: 2 bedroom / 1 bathroom apartment Price: $2,875 Room available: March 1st 2023 Location: York Mills & Leslie Heat and water are included, hydro is extra (About $80 in the summer, $120 in the ...'], ['$2,400.00', 'LUXURY CONDOS WITH 5 STARS AMENITIES FOR RENT', 'City of Toronto', '< 17 hours ago', \"***PLEASE READ THE AD FIRST*** *PLEASE DO NOT CONTACT ME IF YOU DON'T HAVE THE REQUIREMENTS. *THIS AD DOES NOT BELONG TO ANY PARTICULAR UNIT. LUXURY CONDOS WITH 5 STARS AMENITIES IN RICHMOND HILL, ...\"], ['$2,400.00', 'LUXURY CONDOS WITH GREAT AMENITIES FOR RENT', 'City of Toronto', '< 17 hours ago', \"***PLEASE READ THE AD FIRST*** *PLEASE DO NOT CONTACT ME IF YOU DON'T HAVE THE REQUIREMENTS. *THIS AD DOES NOT BELONG TO ANY PARTICULAR UNIT. LUXURY CONDOS WITH 5 STARS AMENITIES IN RICHMOND HILL, ...\"], ['$900.00', 'room for rent', 'Brampton', '< 17 hours ago', 'Basement have 2 rooms, one extra large room . only kitchen and bathroom shearing with another room person.available april 1. everything included, also internet. we are looking only working person, ...'], ['$800.00', 'Bedroom for rent.', 'Brampton', '< 17 hours ago', 'One bedroom is available for rent in brand new house. With one car parking. Caledon. Please call for more details. 647-505-4960.'], ['$600.00', 'Sharing room for rent for 1 girl', 'Mississauga / Peel Region', '< 17 hours ago', 'Sharing room for 1 girl for $600 plus utilities. High speed internet and laundry included. Near Frescho and Westwood Mall.'], ['$1,900.00', '2BHK Bsmt $1900 1st May in Brampton at Dixie/Countryside', 'Brampton', '< 17 hours ago', '2BHK Bsmt $1900 1st May in Brampton at Dixie/Countryside Pls call 6475817874 Only serious inquiries Rent - $1900 plus 30% urilities 1 parking included Extra Parking -$75 Close to Walmart, Chalo ...'], ['$900.00', 'Pickering Bungalow for rent!', 'Pickering', '< 17 hours ago', 'Main floor 3 bedrooms, 1.5 bath Kitchen, living room, dining room Basement floor is occupied by other tenants. Plenty of parking space and backyard space. Comfortable for 3-4 people. Ideal for ...'], ['$950.00', 'Bright room for rent Hyw7/Yonge', 'Vaughan', '< 17 hours ago', 'Room for rent available immediately ⁃ Private Room for rent in a beautiful neighbourhood ⁃ 5 houses far from Yonge street. A minute drive from Yong/hyw7 and Yonge/407ETR ⁃ about a minute walk to buss ...'], ['$2,990.00', 'House For Rent In Bowmanville', 'Bowmanville', '< 17 hours ago', 'Due to the high volume of inquiries, please provide yourself a brief description to make the application processing faster This Beautiful 2 Storey Corner Lot Home Like A Semi Detached Is Just Steps ...'], ['$1,200.00', '$1200 May 1st furnished/no lease/Parking', 'Toronto', '< 17 hours ago', 'Rent Advertisement $1200 May 1st furnished/parking/ no lease *more pictures are coming. I had some technical difficulties. There also a new very nice bed frame that I haven’t had time to assemble and ...'], ['Please Contact', 'Basement for Rent', 'Toronto', '< 17 hours ago', 'One full room available for two Punjabi Girls Etobicoke Toronto April 01, 2023 - Rent $375 per person - Bed. Mattress. Microwave, Toaster, - Separate Entrance to the basement. - Fully Air-conditioned ...'], ['$1,750.00', 'CAR DEALERSHIP  UP TO 5 CARS AND OFFICE FOR RENT IN SCARBOROUGH', 'Toronto', '< 17 hours ago', \"Prime location in scarborouugh on Danforth avenue east of Pharmacy avenue . lots of trafic. private office separate .other dealerships around . 4 Parking' OMVIC and CITY APPROVED. Great location for ...\"], ['$2,400.00', 'Rent 3 bed-room + 2 bath basement ~For 1 small family', 'Toronto', '< 17 hours ago', 'ATTN: For 1 small family. Be the first to live in this brand new three BR + two bath BSMT apartment of detached house with separate entrance, 1 parking. Located in Agincourt North of Scarborough ...'], ['$750.00', 'Room for rent @ Bramalea City Center', 'Brampton', '< 17 hours ago', 'Available from 15th March! +++++++++++++++++++++++++ *** Very good place for studious or working professional *** *Single Separate 1 bedroom(Single bed + computer table & Chair) available in ...'], ['$550.00', 'A shared/ private room for rent in Brampton - Queen & McLaughlin', 'Brampton', '< 17 hours ago', 'I bedroom with private bath, private kitchen and living room available for rent. There are two other bedroom, 1 bath and 1 kitchen that have 4 girls there. females only. Shared $550 Private - $1000 . ...'], ['$1,000.00', 'Rooms for students available  to rent in Oshawa.', 'Hampton', '< 17 hours ago', 'Room available from February 1st to rent for a single person. Shared living room kitchen and bathroom. Please contact me if interested. Opposite Oshawa centre. Close to Durham college an UOIT. Fully ...'], ['$1,100.00', 'one basement room with a private washroom for rent', 'Toronto', '< 17 hours ago', 'Quiet and comfortable room. Private washroom. utility included. Convenient to public transit, restaruants, bank and grocery. parking available.'], ['$1,050.00', 'Beautiful sub Master Bedroom for rent in North York (No Sharing)', 'Toronto', '< 17 hours ago', '353 Goldenwood Rd, North York, ON $1050 sub master bedrooms with a shared newly renovated washroom and state of the art kitchen. (1 person only, no sharing or couples) The room comes with the highest ...'], ['$2,850.00', 'Downtown Luxury 1BR condo inclusive rent lake and CN tower views', 'Toronto', '< 17 hours ago', 'Rent is inclusve of all utilities and internet , roof top gym and many other amenities in this luxury condo building a King Subway with Path connection. On high floors with spectacular views and lots ...'], ['$300.00', 'Shared storage (garage) space for rent', 'Toronto', '< 17 hours ago', '- Easy to access from main road - Convenient location - Long or short term rental'], ['$1,300.00', 'Room For Rent, Single room, Etobicoke, Humber College, Lakeshore', 'Toronto', '< 17 hours ago', 'Fully Furnished Place Available!! Etobicoke (Park Lawn & Lakeshore) ***1 Bedroom is available for rent in a wonderful space, in a wonderful building, in a wonderful locality*** Ethnicity, sex, age, ...'], ['$3,000.00', 'ENTIRE 4 BED 2.5 BATH LARGE DETACHED HOME FOR RENT BOWMANVILLE', 'Bowmanville', '< 17 hours ago', '- Entire 4 Bedrooms and 2.5 Bathrooms with Hardwood Flooring Throughout and HUGE Backyard Home for Rent in Bowmanville. Great for a Big Family! - Large Kitchen with Tons of Cupboard & Counter Space. ...'], ['$2,600.00', 'YONGE/STEELES CONDO FOR RENT - MODERN CORNER 1 BEDROOM + BIG DEN', 'Thornhill', '< 17 hours ago', 'Like-New Condition, Almost a 2 Bedroom! 1 Bedroom With a Separate Large Bright Den With Windows That Can Be Used For Office Or 2nd Br! 725 Sq. Ft. Total! Exceptional Boutique Style Minto Water Garden ...'], ['$1,700.00', 'ALL INCLUSIVE 2 BEDROOM Semi-basement in MARKHAM', 'Markham', '< 17 hours ago', '2 BEDROOMS 1 or 2 CAR PARKING basement for rent in the very demanding area (McCowan & Denison) in Markham. Separate entrance, close to schools, grocery stores, bank, restaurants and all amenities. ...'], ['Free', 'Basement For Rent In Scarborough! (Morningside and Staines)', 'City of Toronto', '< 17 hours ago', '• Intersection: Morningside and Staines • BASEMENT AVAILABLE FOR RENT • Viewing Saturdays only • Washer and Dryer shared • Have proof of income For more information please call 647-271-1724 thank ...'], ['$3,300.00', 'Condo for rent in Toronto Downtown ( 2 Bed + 2 bath )', 'Toronto', '< 17 hours ago', '15 Lower Jarvis st condo Welcome To This Executive Corner Unit Located At The \"Lighthouse Tower\" By Daniels. With A Walk/Bike/Transit Score Of 100, This Northwest-Facing 2 Bedroom + 2 Bathroom Unit ...'], ['Please Contact', 'Brand New Five Bedroom House For Rent', 'Brampton', '< 17 hours ago', 'Are you a female looking for a comfortable and spacious room in Brampton? Look no further! We have multiple rooms available for rent at 10 Labrish Road, Brampton, ON L7A5C2. Our rooms are located in ...'], ['$2,300.00', '2-Bedroom Basement Apartment in Thornhill for Rent', 'Markham', '< 17 hours ago', 'AVAILABLE NOW - Bright basement Apartment for Rent in Thornhill (near Toronto, North York, Richmond Hill, Markham). Short or Long-Term Rental. Excellent location. Just RENOVATED!!! Ideal for 1-3 ...'], ['$1,900.00', 'Port Whitby  Rentals', 'Oshawa / Durham Region', '< 17 hours ago', '2 Bedroom apartment for Rent in Beautiful Port Whitby $1900.00 Well maintained 2 bedroom apartment for rent with over 950 square feet of living space. (UTILITIES INCLUDED) This building offers an on ...'], ['Please Contact', '3 Bedroom house for rent from April 1st', 'Brampton', '< 17 hours ago', '3 Bedroom house available for rent from April 1st on very quite street. Major intersection Torbram rd at Peter robertson rd. Walking distance to Brampton civic hospital, Karol bagh plaza, bus stop ...'], ['$3,300.00', 'House for rent in Malton  ,( 4 Bedrooms and  2 full washrooms)', 'Mississauga', '< 17 hours ago', '4 bedroom and 2 full washrooms, spacious Semi-detached house for rent in the heart of Malton. Walking distance to Westwood Mall, Westwood terminal and Gurughar. Malton Go is close by.( Basement not ...'], ['$1,395.00', 'Bright, Beautiful, All-inclusive Queen St. Office', 'Toronto', '< 24 hours ago', 'Approx. 300 sq. ft. bright private office available for yearly lease on the second floor of a renovated commercial building on Queen Street East near Parliament. Easy access by streetcar, DVP or ...'], ['$3,199.00', 'Mississauga 3 Bedroom Apartment for Rent - 2055 - 2057 Barsuda D', 'Mississauga / Peel Region', '01/03/2023', 'Current Promotions View our units by clicking the virtual tour link, schedule a video tour or make an appointment for in person viewing.Virtual Open House: View our units by clicking the virtual tour ...'], ['$2,249.00', 'Downtown 1 Bedroom Apartment for Rent - 155 Wellesley Street Eas', 'Toronto', '< 2 hours ago', 'Current Promotions View our units by clicking the virtual tour link, schedule a video tour or make an appointment for in person viewing. Call now!437-218-5969Virtual Open House: View our units by ...'], ['$3,800.00', 'Luxurious Furnished Entire Markham House Available for Rent', 'Markham', '< 12 minutes ago', 'Fully furnished and perfectly located in Markham, available for long term rent or 30+ days medium term rental Close to Downtown Markham and only a brisk 30-minute drive to Downtown Toronto right off ...'], ['$2,025.00', 'Upgraded one bedroom apartment at 25 Eccleston Dr - ID 2600', 'Toronto', '28/02/2023', 'Akelius one bedroom apartment for rent. DVP & Eglinton Ave East in the North York neighborhood, Toronto. one bedroom suite - 1 bathroom - located on floor 2 - approximately 674 square feet - ...'], ['$900.00', 'Room for Rent', 'Mississauga', '< 17 hours ago', 'Room available for rent in central Mississauga in 3 bedroom 2.5 washrooms townhouse. Close to square one, walmart, freshco, metro, indian grocery store, convenience stores, pharmacy, Sheridan ...'], ['$950.00', 'Furnished room for rent at Mavis and Eglinton Avenue West', 'Mississauga', '< 17 hours ago', 'Furnished room for rent at Mavis and Eglinton Avenue West in Mississauga on upper floor of large 5 bedroom house very clean with shared kitchen and Washroom available immediately rent is $ 950$ ...'], ['Please Contact', '4 Bedroom house in Brampton for rent', 'Brampton', '< 17 hours ago', 'LOCATION NEAR FERNFOREST DR & SANDALWOOD PARKWAY EAST Available April 1st, 2023 (upper level of house) $3500 + 70% utilities (water, gas, hydro, wifi not included) spacious living in a great ...'], ['$3,500.00', '4 Bedroom House for rent', 'Brampton', '< 17 hours ago', '4 Bedroom Detached with 2 car garage Upto 4 parkings Available from 1st April At Walness and McLaughlin Waling distance to Asian food Centre 70% Utilities Working professional welcome Please send me ...'], ['$1,200.00', 'Room for rent, female only', 'Toronto', '< 17 hours ago', '1 room in a 2 bedroom basement apartment, shared bathroom and kitchen, female only, Spanish speaking tenant preferred . $1200, everything included Main intersection bayview & finch'], ['$1,000.00', 'One bedroom basement for rent', 'Brampton', '< 17 hours ago', 'Only female No parking Separate kitchen Separate bathroom Separate living room This is big two bedroom basement, one bedroom is rented for one Punjabi girl One room is available for sharing or ...'], ['Please Contact', '1 bedroom for rent', 'Mississauga', '< 17 hours ago', 'One fully furnished bedroom available on upper floor for couple,boys and girls 5 min walk to malton gurughar.3 minnwalk to bus stop very close to westwood mall. Available from next month'], ['$2,800.00', 'Condo for rent', 'City of Toronto', '< 17 hours ago', '2 specious rooms condo for rent All utilities are included Free wifi,Gym and meeting room available. Step to TTC,Mall,medical offices,library,Grocery stores,parks and Schools. Very close to Highway ...'], ['$2,800.00', 'YONGE/STEELES - MODERN CONDO RENT! CORNER 1 BEDROOM & LARGE DEN', 'Thornhill', '< 17 hours ago', 'Like-New Condition, Almost a 2 Bedroom! 1 Bedroom With a Separate Large Bright Den With Windows That Can Be Used For Office Or 2nd Br! 725 Sq. Ft. Total! Exceptional Boutique Style Minto Water Garden ...'], ['$2,875.00', 'Full unit 2 bed/1 bath apartment for rent', 'Toronto', '< 17 hours ago', 'Unit: 2 bedroom / 1 bathroom apartment Price: $2,875 Room available: March 1st 2023 Location: York Mills & Leslie Heat and water are included, hydro is extra (About $80 in the summer, $120 in the ...'], ['$2,400.00', 'LUXURY CONDOS WITH 5 STARS AMENITIES FOR RENT', 'City of Toronto', '< 17 hours ago', \"***PLEASE READ THE AD FIRST*** *PLEASE DO NOT CONTACT ME IF YOU DON'T HAVE THE REQUIREMENTS. *THIS AD DOES NOT BELONG TO ANY PARTICULAR UNIT. LUXURY CONDOS WITH 5 STARS AMENITIES IN RICHMOND HILL, ...\"], ['$2,400.00', 'LUXURY CONDOS WITH GREAT AMENITIES FOR RENT', 'City of Toronto', '< 17 hours ago', \"***PLEASE READ THE AD FIRST*** *PLEASE DO NOT CONTACT ME IF YOU DON'T HAVE THE REQUIREMENTS. *THIS AD DOES NOT BELONG TO ANY PARTICULAR UNIT. LUXURY CONDOS WITH 5 STARS AMENITIES IN RICHMOND HILL, ...\"], ['$900.00', 'room for rent', 'Brampton', '< 17 hours ago', 'Basement have 2 rooms, one extra large room . only kitchen and bathroom shearing with another room person.available april 1. everything included, also internet. we are looking only working person, ...'], ['$800.00', 'Bedroom for rent.', 'Brampton', '< 17 hours ago', 'One bedroom is available for rent in brand new house. With one car parking. Caledon. Please call for more details. 647-505-4960.'], ['$600.00', 'Sharing room for rent for 1 girl', 'Mississauga / Peel Region', '< 17 hours ago', 'Sharing room for 1 girl for $600 plus utilities. High speed internet and laundry included. Near Frescho and Westwood Mall.'], ['$1,900.00', '2BHK Bsmt $1900 1st May in Brampton at Dixie/Countryside', 'Brampton', '< 17 hours ago', '2BHK Bsmt $1900 1st May in Brampton at Dixie/Countryside Pls call 6475817874 Only serious inquiries Rent - $1900 plus 30% urilities 1 parking included Extra Parking -$75 Close to Walmart, Chalo ...'], ['$900.00', 'Pickering Bungalow for rent!', 'Pickering', '< 17 hours ago', 'Main floor 3 bedrooms, 1.5 bath Kitchen, living room, dining room Basement floor is occupied by other tenants. Plenty of parking space and backyard space. Comfortable for 3-4 people. Ideal for ...'], ['$950.00', 'Bright room for rent Hyw7/Yonge', 'Vaughan', '< 17 hours ago', 'Room for rent available immediately ⁃ Private Room for rent in a beautiful neighbourhood ⁃ 5 houses far from Yonge street. A minute drive from Yong/hyw7 and Yonge/407ETR ⁃ about a minute walk to buss ...'], ['$2,990.00', 'House For Rent In Bowmanville', 'Bowmanville', '< 17 hours ago', 'Due to the high volume of inquiries, please provide yourself a brief description to make the application processing faster This Beautiful 2 Storey Corner Lot Home Like A Semi Detached Is Just Steps ...'], ['$1,200.00', '$1200 May 1st furnished/no lease/Parking', 'Toronto', '< 17 hours ago', 'Rent Advertisement $1200 May 1st furnished/parking/ no lease *more pictures are coming. I had some technical difficulties. There also a new very nice bed frame that I haven’t had time to assemble and ...'], ['Please Contact', 'Basement for Rent', 'Toronto', '< 17 hours ago', 'One full room available for two Punjabi Girls Etobicoke Toronto April 01, 2023 - Rent $375 per person - Bed. Mattress. Microwave, Toaster, - Separate Entrance to the basement. - Fully Air-conditioned ...'], ['$1,750.00', 'CAR DEALERSHIP  UP TO 5 CARS AND OFFICE FOR RENT IN SCARBOROUGH', 'Toronto', '< 17 hours ago', \"Prime location in scarborouugh on Danforth avenue east of Pharmacy avenue . lots of trafic. private office separate .other dealerships around . 4 Parking' OMVIC and CITY APPROVED. Great location for ...\"], ['$2,400.00', 'Rent 3 bed-room + 2 bath basement ~For 1 small family', 'Toronto', '< 17 hours ago', 'ATTN: For 1 small family. Be the first to live in this brand new three BR + two bath BSMT apartment of detached house with separate entrance, 1 parking. Located in Agincourt North of Scarborough ...'], ['$750.00', 'Room for rent @ Bramalea City Center', 'Brampton', '< 17 hours ago', 'Available from 15th March! +++++++++++++++++++++++++ *** Very good place for studious or working professional *** *Single Separate 1 bedroom(Single bed + computer table & Chair) available in ...'], ['$550.00', 'A shared/ private room for rent in Brampton - Queen & McLaughlin', 'Brampton', '< 17 hours ago', 'I bedroom with private bath, private kitchen and living room available for rent. There are two other bedroom, 1 bath and 1 kitchen that have 4 girls there. females only. Shared $550 Private - $1000 . ...'], ['$1,000.00', 'Rooms for students available  to rent in Oshawa.', 'Hampton', '< 17 hours ago', 'Room available from February 1st to rent for a single person. Shared living room kitchen and bathroom. Please contact me if interested. Opposite Oshawa centre. Close to Durham college an UOIT. Fully ...'], ['$1,100.00', 'one basement room with a private washroom for rent', 'Toronto', '< 17 hours ago', 'Quiet and comfortable room. Private washroom. utility included. Convenient to public transit, restaruants, bank and grocery. parking available.'], ['$1,050.00', 'Beautiful sub Master Bedroom for rent in North York (No Sharing)', 'Toronto', '< 17 hours ago', '353 Goldenwood Rd, North York, ON $1050 sub master bedrooms with a shared newly renovated washroom and state of the art kitchen. (1 person only, no sharing or couples) The room comes with the highest ...'], ['$2,850.00', 'Downtown Luxury 1BR condo inclusive rent lake and CN tower views', 'Toronto', '< 17 hours ago', 'Rent is inclusve of all utilities and internet , roof top gym and many other amenities in this luxury condo building a King Subway with Path connection. On high floors with spectacular views and lots ...'], ['$300.00', 'Shared storage (garage) space for rent', 'Toronto', '< 17 hours ago', '- Easy to access from main road - Convenient location - Long or short term rental'], ['$1,300.00', 'Room For Rent, Single room, Etobicoke, Humber College, Lakeshore', 'Toronto', '< 17 hours ago', 'Fully Furnished Place Available!! Etobicoke (Park Lawn & Lakeshore) ***1 Bedroom is available for rent in a wonderful space, in a wonderful building, in a wonderful locality*** Ethnicity, sex, age, ...'], ['$3,000.00', 'ENTIRE 4 BED 2.5 BATH LARGE DETACHED HOME FOR RENT BOWMANVILLE', 'Bowmanville', '< 17 hours ago', '- Entire 4 Bedrooms and 2.5 Bathrooms with Hardwood Flooring Throughout and HUGE Backyard Home for Rent in Bowmanville. Great for a Big Family! - Large Kitchen with Tons of Cupboard & Counter Space. ...'], ['$2,600.00', 'YONGE/STEELES CONDO FOR RENT - MODERN CORNER 1 BEDROOM + BIG DEN', 'Thornhill', '< 17 hours ago', 'Like-New Condition, Almost a 2 Bedroom! 1 Bedroom With a Separate Large Bright Den With Windows That Can Be Used For Office Or 2nd Br! 725 Sq. Ft. Total! Exceptional Boutique Style Minto Water Garden ...'], ['$1,700.00', 'ALL INCLUSIVE 2 BEDROOM Semi-basement in MARKHAM', 'Markham', '< 17 hours ago', '2 BEDROOMS 1 or 2 CAR PARKING basement for rent in the very demanding area (McCowan & Denison) in Markham. Separate entrance, close to schools, grocery stores, bank, restaurants and all amenities. ...'], ['Free', 'Basement For Rent In Scarborough! (Morningside and Staines)', 'City of Toronto', '< 17 hours ago', '• Intersection: Morningside and Staines • BASEMENT AVAILABLE FOR RENT • Viewing Saturdays only • Washer and Dryer shared • Have proof of income For more information please call 647-271-1724 thank ...'], ['$3,300.00', 'Condo for rent in Toronto Downtown ( 2 Bed + 2 bath )', 'Toronto', '< 17 hours ago', '15 Lower Jarvis st condo Welcome To This Executive Corner Unit Located At The \"Lighthouse Tower\" By Daniels. With A Walk/Bike/Transit Score Of 100, This Northwest-Facing 2 Bedroom + 2 Bathroom Unit ...'], ['Please Contact', 'Brand New Five Bedroom House For Rent', 'Brampton', '< 17 hours ago', 'Are you a female looking for a comfortable and spacious room in Brampton? Look no further! We have multiple rooms available for rent at 10 Labrish Road, Brampton, ON L7A5C2. Our rooms are located in ...'], ['$2,300.00', '2-Bedroom Basement Apartment in Thornhill for Rent', 'Markham', '< 17 hours ago', 'AVAILABLE NOW - Bright basement Apartment for Rent in Thornhill (near Toronto, North York, Richmond Hill, Markham). Short or Long-Term Rental. Excellent location. Just RENOVATED!!! Ideal for 1-3 ...'], ['$1,900.00', 'Port Whitby  Rentals', 'Oshawa / Durham Region', '< 17 hours ago', '2 Bedroom apartment for Rent in Beautiful Port Whitby $1900.00 Well maintained 2 bedroom apartment for rent with over 950 square feet of living space. (UTILITIES INCLUDED) This building offers an on ...'], ['Please Contact', '3 Bedroom house for rent from April 1st', 'Brampton', '< 17 hours ago', '3 Bedroom house available for rent from April 1st on very quite street. Major intersection Torbram rd at Peter robertson rd. Walking distance to Brampton civic hospital, Karol bagh plaza, bus stop ...'], ['$2,445.00', '2 Bdrm - 10 Blackfriar Ave., 186 Kingsview Blvd., 15 & 55 Brides', 'Etobicoke', '26/02/2023', 'Visit our Website: https://www.capreit.ca/apartments-for-rent/etobicoke-on/west-park-village-apartments/ West Park Village Apartments, offering apartments for rent in Etobicoke, will offer you a ...'], ['$2,850.00', 'Bloor and Ossington (3 bedroom apartment)', 'Toronto', 'Yesterday', '3 Bedroom Apartment (Bloor and Ossington) Rent$2850 plus Hydro This newly renovated-conveniently located apartment is ready for you to call home. Just across from the Ossington Subway station. You ...'], ['$1,800.00', '2 bedrooms basement-Brampton', 'Brampton', '27/02/2023', 'YouNewly finished basement in quite and new developed area. Available: April 1,2023 Rent: $1,800 per month + 25% utilities Major intersection: Mayfield and McLaughlin Included: *Private separate ...'], ['$2,775.00', '3 BEDROOM + 1.5 BATHROOM TOWNHOUSE FOR RENT!', 'Oshawa / Durham Region', '02/03/2023', 'SPACIOUS 3 BEDROOM 1.5 BATHROOM TOWNHOUSE FOR RENT ON FAMILY-ORIENTED PROPERTY IN NORTH OSHAWA! FULLY RENOVATED WITH PREMIUM UPGRADES! TOUCH FREE LEASING: Virtual viewings via video conferencing and ...'], ['$3,300.00', 'Condo for rent in Toronto Downtown ( 2 Bed + 2 bath )', 'Toronto', '< 17 hours ago', '15 Lower Jarvis st condo Welcome To This Executive Corner Unit Located At The \"Lighthouse Tower\" By Daniels. With A Walk/Bike/Transit Score Of 100, This Northwest-Facing 2 Bedroom + 2 Bathroom Unit ...'], ['$900.00', 'Room for Rent', 'Mississauga', '< 17 hours ago', 'Room available for rent in central Mississauga in 3 bedroom 2.5 washrooms townhouse. Close to square one, walmart, freshco, metro, indian grocery store, convenience stores, pharmacy, Sheridan ...'], ['$950.00', 'Furnished room for rent at Mavis and Eglinton Avenue West', 'Mississauga', '< 17 hours ago', 'Furnished room for rent at Mavis and Eglinton Avenue West in Mississauga on upper floor of large 5 bedroom house very clean with shared kitchen and Washroom available immediately rent is $ 950$ ...'], ['Please Contact', '4 Bedroom house in Brampton for rent', 'Brampton', '< 17 hours ago', 'LOCATION NEAR FERNFOREST DR & SANDALWOOD PARKWAY EAST Available April 1st, 2023 (upper level of house) $3500 + 70% utilities (water, gas, hydro, wifi not included) spacious living in a great ...'], ['$3,500.00', '4 Bedroom House for rent', 'Brampton', '< 17 hours ago', '4 Bedroom Detached with 2 car garage Upto 4 parkings Available from 1st April At Walness and McLaughlin Waling distance to Asian food Centre 70% Utilities Working professional welcome Please send me ...'], ['$1,200.00', 'Room for rent, female only', 'Toronto', '< 17 hours ago', '1 room in a 2 bedroom basement apartment, shared bathroom and kitchen, female only, Spanish speaking tenant preferred . $1200, everything included Main intersection bayview & finch'], ['$1,000.00', 'One bedroom basement for rent', 'Brampton', '< 17 hours ago', 'Only female No parking Separate kitchen Separate bathroom Separate living room This is big two bedroom basement, one bedroom is rented for one Punjabi girl One room is available for sharing or ...'], ['Please Contact', '1 bedroom for rent', 'Mississauga', '< 17 hours ago', 'One fully furnished bedroom available on upper floor for couple,boys and girls 5 min walk to malton gurughar.3 minnwalk to bus stop very close to westwood mall. Available from next month'], ['$2,800.00', 'Condo for rent', 'City of Toronto', '< 17 hours ago', '2 specious rooms condo for rent All utilities are included Free wifi,Gym and meeting room available. Step to TTC,Mall,medical offices,library,Grocery stores,parks and Schools. Very close to Highway ...'], ['$2,800.00', 'YONGE/STEELES - MODERN CONDO RENT! CORNER 1 BEDROOM & LARGE DEN', 'Thornhill', '< 17 hours ago', 'Like-New Condition, Almost a 2 Bedroom! 1 Bedroom With a Separate Large Bright Den With Windows That Can Be Used For Office Or 2nd Br! 725 Sq. Ft. Total! Exceptional Boutique Style Minto Water Garden ...'], ['$2,875.00', 'Full unit 2 bed/1 bath apartment for rent', 'Toronto', '< 17 hours ago', 'Unit: 2 bedroom / 1 bathroom apartment Price: $2,875 Room available: March 1st 2023 Location: York Mills & Leslie Heat and water are included, hydro is extra (About $80 in the summer, $120 in the ...'], ['$2,400.00', 'LUXURY CONDOS WITH 5 STARS AMENITIES FOR RENT', 'City of Toronto', '< 17 hours ago', \"***PLEASE READ THE AD FIRST*** *PLEASE DO NOT CONTACT ME IF YOU DON'T HAVE THE REQUIREMENTS. *THIS AD DOES NOT BELONG TO ANY PARTICULAR UNIT. LUXURY CONDOS WITH 5 STARS AMENITIES IN RICHMOND HILL, ...\"], ['$2,400.00', 'LUXURY CONDOS WITH GREAT AMENITIES FOR RENT', 'City of Toronto', '< 17 hours ago', \"***PLEASE READ THE AD FIRST*** *PLEASE DO NOT CONTACT ME IF YOU DON'T HAVE THE REQUIREMENTS. *THIS AD DOES NOT BELONG TO ANY PARTICULAR UNIT. LUXURY CONDOS WITH 5 STARS AMENITIES IN RICHMOND HILL, ...\"], ['$900.00', 'room for rent', 'Brampton', '< 17 hours ago', 'Basement have 2 rooms, one extra large room . only kitchen and bathroom shearing with another room person.available april 1. everything included, also internet. we are looking only working person, ...'], ['$800.00', 'Bedroom for rent.', 'Brampton', '< 17 hours ago', 'One bedroom is available for rent in brand new house. With one car parking. Caledon. Please call for more details. 647-505-4960.'], ['$600.00', 'Sharing room for rent for 1 girl', 'Mississauga / Peel Region', '< 17 hours ago', 'Sharing room for 1 girl for $600 plus utilities. High speed internet and laundry included. Near Frescho and Westwood Mall.'], ['$1,900.00', '2BHK Bsmt $1900 1st May in Brampton at Dixie/Countryside', 'Brampton', '< 17 hours ago', '2BHK Bsmt $1900 1st May in Brampton at Dixie/Countryside Pls call 6475817874 Only serious inquiries Rent - $1900 plus 30% urilities 1 parking included Extra Parking -$75 Close to Walmart, Chalo ...'], ['$900.00', 'Pickering Bungalow for rent!', 'Pickering', '< 17 hours ago', 'Main floor 3 bedrooms, 1.5 bath Kitchen, living room, dining room Basement floor is occupied by other tenants. Plenty of parking space and backyard space. Comfortable for 3-4 people. Ideal for ...'], ['$950.00', 'Bright room for rent Hyw7/Yonge', 'Vaughan', '< 17 hours ago', 'Room for rent available immediately ⁃ Private Room for rent in a beautiful neighbourhood ⁃ 5 houses far from Yonge street. A minute drive from Yong/hyw7 and Yonge/407ETR ⁃ about a minute walk to buss ...'], ['$2,990.00', 'House For Rent In Bowmanville', 'Bowmanville', '< 17 hours ago', 'Due to the high volume of inquiries, please provide yourself a brief description to make the application processing faster This Beautiful 2 Storey Corner Lot Home Like A Semi Detached Is Just Steps ...'], ['$1,200.00', '$1200 May 1st furnished/no lease/Parking', 'Toronto', '< 17 hours ago', 'Rent Advertisement $1200 May 1st furnished/parking/ no lease *more pictures are coming. I had some technical difficulties. There also a new very nice bed frame that I haven’t had time to assemble and ...'], ['Please Contact', 'Basement for Rent', 'Toronto', '< 17 hours ago', 'One full room available for two Punjabi Girls Etobicoke Toronto April 01, 2023 - Rent $375 per person - Bed. Mattress. Microwave, Toaster, - Separate Entrance to the basement. - Fully Air-conditioned ...'], ['$1,750.00', 'CAR DEALERSHIP  UP TO 5 CARS AND OFFICE FOR RENT IN SCARBOROUGH', 'Toronto', '< 17 hours ago', \"Prime location in scarborouugh on Danforth avenue east of Pharmacy avenue . lots of trafic. private office separate .other dealerships around . 4 Parking' OMVIC and CITY APPROVED. Great location for ...\"], ['$2,400.00', 'Rent 3 bed-room + 2 bath basement ~For 1 small family', 'Toronto', '< 17 hours ago', 'ATTN: For 1 small family. Be the first to live in this brand new three BR + two bath BSMT apartment of detached house with separate entrance, 1 parking. Located in Agincourt North of Scarborough ...'], ['$750.00', 'Room for rent @ Bramalea City Center', 'Brampton', '< 17 hours ago', 'Available from 15th March! +++++++++++++++++++++++++ *** Very good place for studious or working professional *** *Single Separate 1 bedroom(Single bed + computer table & Chair) available in ...'], ['$550.00', 'A shared/ private room for rent in Brampton - Queen & McLaughlin', 'Brampton', '< 17 hours ago', 'I bedroom with private bath, private kitchen and living room available for rent. There are two other bedroom, 1 bath and 1 kitchen that have 4 girls there. females only. Shared $550 Private - $1000 . ...'], ['$1,000.00', 'Rooms for students available  to rent in Oshawa.', 'Hampton', '< 17 hours ago', 'Room available from February 1st to rent for a single person. Shared living room kitchen and bathroom. Please contact me if interested. Opposite Oshawa centre. Close to Durham college an UOIT. Fully ...'], ['$1,100.00', 'one basement room with a private washroom for rent', 'Toronto', '< 17 hours ago', 'Quiet and comfortable room. Private washroom. utility included. Convenient to public transit, restaruants, bank and grocery. parking available.'], ['$1,050.00', 'Beautiful sub Master Bedroom for rent in North York (No Sharing)', 'Toronto', '< 17 hours ago', '353 Goldenwood Rd, North York, ON $1050 sub master bedrooms with a shared newly renovated washroom and state of the art kitchen. (1 person only, no sharing or couples) The room comes with the highest ...'], ['$2,850.00', 'Downtown Luxury 1BR condo inclusive rent lake and CN tower views', 'Toronto', '< 17 hours ago', 'Rent is inclusve of all utilities and internet , roof top gym and many other amenities in this luxury condo building a King Subway with Path connection. On high floors with spectacular views and lots ...'], ['$300.00', 'Shared storage (garage) space for rent', 'Toronto', '< 17 hours ago', '- Easy to access from main road - Convenient location - Long or short term rental'], ['$1,300.00', 'Room For Rent, Single room, Etobicoke, Humber College, Lakeshore', 'Toronto', '< 17 hours ago', 'Fully Furnished Place Available!! Etobicoke (Park Lawn & Lakeshore) ***1 Bedroom is available for rent in a wonderful space, in a wonderful building, in a wonderful locality*** Ethnicity, sex, age, ...'], ['$3,000.00', 'ENTIRE 4 BED 2.5 BATH LARGE DETACHED HOME FOR RENT BOWMANVILLE', 'Bowmanville', '< 17 hours ago', '- Entire 4 Bedrooms and 2.5 Bathrooms with Hardwood Flooring Throughout and HUGE Backyard Home for Rent in Bowmanville. Great for a Big Family! - Large Kitchen with Tons of Cupboard & Counter Space. ...'], ['$2,600.00', 'YONGE/STEELES CONDO FOR RENT - MODERN CORNER 1 BEDROOM + BIG DEN', 'Thornhill', '< 17 hours ago', 'Like-New Condition, Almost a 2 Bedroom! 1 Bedroom With a Separate Large Bright Den With Windows That Can Be Used For Office Or 2nd Br! 725 Sq. Ft. Total! Exceptional Boutique Style Minto Water Garden ...'], ['$1,700.00', 'ALL INCLUSIVE 2 BEDROOM Semi-basement in MARKHAM', 'Markham', '< 17 hours ago', '2 BEDROOMS 1 or 2 CAR PARKING basement for rent in the very demanding area (McCowan & Denison) in Markham. Separate entrance, close to schools, grocery stores, bank, restaurants and all amenities. ...'], ['Free', 'Basement For Rent In Scarborough! (Morningside and Staines)', 'City of Toronto', '< 17 hours ago', '• Intersection: Morningside and Staines • BASEMENT AVAILABLE FOR RENT • Viewing Saturdays only • Washer and Dryer shared • Have proof of income For more information please call 647-271-1724 thank ...'], ['$3,300.00', 'Condo for rent in Toronto Downtown ( 2 Bed + 2 bath )', 'Toronto', '< 17 hours ago', '15 Lower Jarvis st condo Welcome To This Executive Corner Unit Located At The \"Lighthouse Tower\" By Daniels. With A Walk/Bike/Transit Score Of 100, This Northwest-Facing 2 Bedroom + 2 Bathroom Unit ...'], ['Please Contact', 'Brand New Five Bedroom House For Rent', 'Brampton', '< 17 hours ago', 'Are you a female looking for a comfortable and spacious room in Brampton? Look no further! We have multiple rooms available for rent at 10 Labrish Road, Brampton, ON L7A5C2. Our rooms are located in ...'], ['$2,300.00', '2-Bedroom Basement Apartment in Thornhill for Rent', 'Markham', '< 17 hours ago', 'AVAILABLE NOW - Bright basement Apartment for Rent in Thornhill (near Toronto, North York, Richmond Hill, Markham). Short or Long-Term Rental. Excellent location. Just RENOVATED!!! Ideal for 1-3 ...'], ['$1,900.00', 'Port Whitby  Rentals', 'Oshawa / Durham Region', '< 17 hours ago', '2 Bedroom apartment for Rent in Beautiful Port Whitby $1900.00 Well maintained 2 bedroom apartment for rent with over 950 square feet of living space. (UTILITIES INCLUDED) This building offers an on ...'], ['Please Contact', '3 Bedroom house for rent from April 1st', 'Brampton', '< 17 hours ago', '3 Bedroom house available for rent from April 1st on very quite street. Major intersection Torbram rd at Peter robertson rd. Walking distance to Brampton civic hospital, Karol bagh plaza, bus stop ...'], ['$900.00', 'rooms or house for rent(Burhamthorpe/Tomken)', 'Mississauga', '< 24 hours ago', \"Mississauga rooms for rent. It's in a nice house, a big backyard. intersection Burnhamthorpe/Tomken Close to all shopping malls, Good environments. Wifi , and utilities included Second floor ...\"], ['$1,475.00', 'Renovated bachelor located at St. Clarens & Lansdowne - ID 1749', 'Toronto', '01/03/2023', 'Renovated Akelius studio apartment for rent. Dupont and Lansdowne in the Midtown neighborhood, Toronto. renovated studio - 1 bathroom - located on floor 2 - approximately 230 square feet - available ...'], ['$2,142.00', 'Parkdale 1 Bedroom Apartment for Rent - 24 Tyndall Avenue', 'Toronto', '< 20 hours ago', 'Current Promotions View our units by clicking the virtual tour link, schedule a video tour or make an appointment for in person viewing. Call: 437-225-7315Virtual Open House: View our units by ...\\n                        \\n                            \\n                            \\n                                \\n                            \\n                            \\n                        \\n\\n                        \\n                            \\n                                Beautifully renovated units. Ask about our leasing incentives'], ['$2,518.00', 'One Bedroom Plus Den for Rent | High Park Village', 'Toronto', '28/02/2023', \"Pet Friendly Apartments in High Park Living in Toronto's High Park neighbourhood, means you'll be steps away from the subway, near boutiques, cafés, food markets, local restaurants and schools. Enjoy ...\\n                        \\n                            \\n                            \\n                                \\n                            \\n                            \\n                        \\n\\n                        \\n                            \\n                                Family and Pet Friendly Apartments in High Park!\"], ['$950.00', 'ROOM FOR RENT... available  IMMEDIATELY!(Markham +Eglinton)', 'Scarborough', '05/02/2023', 'Available Immediately for rental for a SINGLE PERSON. This room is located in a well kept family-friendly orientated condo complex with all that one could ask for. It is located on the second floor ...'], ['$900.00', 'Room for Rent', 'Mississauga', '< 17 hours ago', 'Room available for rent in central Mississauga in 3 bedroom 2.5 washrooms townhouse. Close to square one, walmart, freshco, metro, indian grocery store, convenience stores, pharmacy, Sheridan ...'], ['$950.00', 'Furnished room for rent at Mavis and Eglinton Avenue West', 'Mississauga', '< 17 hours ago', 'Furnished room for rent at Mavis and Eglinton Avenue West in Mississauga on upper floor of large 5 bedroom house very clean with shared kitchen and Washroom available immediately rent is $ 950$ ...'], ['Please Contact', '4 Bedroom house in Brampton for rent', 'Brampton', '< 17 hours ago', 'LOCATION NEAR FERNFOREST DR & SANDALWOOD PARKWAY EAST Available April 1st, 2023 (upper level of house) $3500 + 70% utilities (water, gas, hydro, wifi not included) spacious living in a great ...'], ['$3,500.00', '4 Bedroom House for rent', 'Brampton', '< 17 hours ago', '4 Bedroom Detached with 2 car garage Upto 4 parkings Available from 1st April At Walness and McLaughlin Waling distance to Asian food Centre 70% Utilities Working professional welcome Please send me ...'], ['$1,200.00', 'Room for rent, female only', 'Toronto', '< 17 hours ago', '1 room in a 2 bedroom basement apartment, shared bathroom and kitchen, female only, Spanish speaking tenant preferred . $1200, everything included Main intersection bayview & finch'], ['$1,000.00', 'One bedroom basement for rent', 'Brampton', '< 17 hours ago', 'Only female No parking Separate kitchen Separate bathroom Separate living room This is big two bedroom basement, one bedroom is rented for one Punjabi girl One room is available for sharing or ...'], ['Please Contact', '1 bedroom for rent', 'Mississauga', '< 17 hours ago', 'One fully furnished bedroom available on upper floor for couple,boys and girls 5 min walk to malton gurughar.3 minnwalk to bus stop very close to westwood mall. Available from next month'], ['$2,800.00', 'Condo for rent', 'City of Toronto', '< 17 hours ago', '2 specious rooms condo for rent All utilities are included Free wifi,Gym and meeting room available. Step to TTC,Mall,medical offices,library,Grocery stores,parks and Schools. Very close to Highway ...'], ['$2,800.00', 'YONGE/STEELES - MODERN CONDO RENT! CORNER 1 BEDROOM & LARGE DEN', 'Thornhill', '< 17 hours ago', 'Like-New Condition, Almost a 2 Bedroom! 1 Bedroom With a Separate Large Bright Den With Windows That Can Be Used For Office Or 2nd Br! 725 Sq. Ft. Total! Exceptional Boutique Style Minto Water Garden ...'], ['$2,875.00', 'Full unit 2 bed/1 bath apartment for rent', 'Toronto', '< 17 hours ago', 'Unit: 2 bedroom / 1 bathroom apartment Price: $2,875 Room available: March 1st 2023 Location: York Mills & Leslie Heat and water are included, hydro is extra (About $80 in the summer, $120 in the ...'], ['$2,400.00', 'LUXURY CONDOS WITH 5 STARS AMENITIES FOR RENT', 'City of Toronto', '< 17 hours ago', \"***PLEASE READ THE AD FIRST*** *PLEASE DO NOT CONTACT ME IF YOU DON'T HAVE THE REQUIREMENTS. *THIS AD DOES NOT BELONG TO ANY PARTICULAR UNIT. LUXURY CONDOS WITH 5 STARS AMENITIES IN RICHMOND HILL, ...\"], ['$2,400.00', 'LUXURY CONDOS WITH GREAT AMENITIES FOR RENT', 'City of Toronto', '< 17 hours ago', \"***PLEASE READ THE AD FIRST*** *PLEASE DO NOT CONTACT ME IF YOU DON'T HAVE THE REQUIREMENTS. *THIS AD DOES NOT BELONG TO ANY PARTICULAR UNIT. LUXURY CONDOS WITH 5 STARS AMENITIES IN RICHMOND HILL, ...\"], ['$900.00', 'room for rent', 'Brampton', '< 17 hours ago', 'Basement have 2 rooms, one extra large room . only kitchen and bathroom shearing with another room person.available april 1. everything included, also internet. we are looking only working person, ...'], ['$800.00', 'Bedroom for rent.', 'Brampton', '< 17 hours ago', 'One bedroom is available for rent in brand new house. With one car parking. Caledon. Please call for more details. 647-505-4960.'], ['$600.00', 'Sharing room for rent for 1 girl', 'Mississauga / Peel Region', '< 17 hours ago', 'Sharing room for 1 girl for $600 plus utilities. High speed internet and laundry included. Near Frescho and Westwood Mall.'], ['$1,900.00', '2BHK Bsmt $1900 1st May in Brampton at Dixie/Countryside', 'Brampton', '< 17 hours ago', '2BHK Bsmt $1900 1st May in Brampton at Dixie/Countryside Pls call 6475817874 Only serious inquiries Rent - $1900 plus 30% urilities 1 parking included Extra Parking -$75 Close to Walmart, Chalo ...'], ['$900.00', 'Pickering Bungalow for rent!', 'Pickering', '< 17 hours ago', 'Main floor 3 bedrooms, 1.5 bath Kitchen, living room, dining room Basement floor is occupied by other tenants. Plenty of parking space and backyard space. Comfortable for 3-4 people. Ideal for ...'], ['$950.00', 'Bright room for rent Hyw7/Yonge', 'Vaughan', '< 17 hours ago', 'Room for rent available immediately ⁃ Private Room for rent in a beautiful neighbourhood ⁃ 5 houses far from Yonge street. A minute drive from Yong/hyw7 and Yonge/407ETR ⁃ about a minute walk to buss ...'], ['$2,990.00', 'House For Rent In Bowmanville', 'Bowmanville', '< 17 hours ago', 'Due to the high volume of inquiries, please provide yourself a brief description to make the application processing faster This Beautiful 2 Storey Corner Lot Home Like A Semi Detached Is Just Steps ...'], ['$1,200.00', '$1200 May 1st furnished/no lease/Parking', 'Toronto', '< 17 hours ago', 'Rent Advertisement $1200 May 1st furnished/parking/ no lease *more pictures are coming. I had some technical difficulties. There also a new very nice bed frame that I haven’t had time to assemble and ...'], ['Please Contact', 'Basement for Rent', 'Toronto', '< 17 hours ago', 'One full room available for two Punjabi Girls Etobicoke Toronto April 01, 2023 - Rent $375 per person - Bed. Mattress. Microwave, Toaster, - Separate Entrance to the basement. - Fully Air-conditioned ...'], ['$1,750.00', 'CAR DEALERSHIP  UP TO 5 CARS AND OFFICE FOR RENT IN SCARBOROUGH', 'Toronto', '< 17 hours ago', \"Prime location in scarborouugh on Danforth avenue east of Pharmacy avenue . lots of trafic. private office separate .other dealerships around . 4 Parking' OMVIC and CITY APPROVED. Great location for ...\"], ['$2,400.00', 'Rent 3 bed-room + 2 bath basement ~For 1 small family', 'Toronto', '< 17 hours ago', 'ATTN: For 1 small family. Be the first to live in this brand new three BR + two bath BSMT apartment of detached house with separate entrance, 1 parking. Located in Agincourt North of Scarborough ...'], ['$750.00', 'Room for rent @ Bramalea City Center', 'Brampton', '< 17 hours ago', 'Available from 15th March! +++++++++++++++++++++++++ *** Very good place for studious or working professional *** *Single Separate 1 bedroom(Single bed + computer table & Chair) available in ...'], ['$550.00', 'A shared/ private room for rent in Brampton - Queen & McLaughlin', 'Brampton', '< 17 hours ago', 'I bedroom with private bath, private kitchen and living room available for rent. There are two other bedroom, 1 bath and 1 kitchen that have 4 girls there. females only. Shared $550 Private - $1000 . ...'], ['$1,000.00', 'Rooms for students available  to rent in Oshawa.', 'Hampton', '< 17 hours ago', 'Room available from February 1st to rent for a single person. Shared living room kitchen and bathroom. Please contact me if interested. Opposite Oshawa centre. Close to Durham college an UOIT. Fully ...'], ['$1,100.00', 'one basement room with a private washroom for rent', 'Toronto', '< 17 hours ago', 'Quiet and comfortable room. Private washroom. utility included. Convenient to public transit, restaruants, bank and grocery. parking available.'], ['$1,050.00', 'Beautiful sub Master Bedroom for rent in North York (No Sharing)', 'Toronto', '< 17 hours ago', '353 Goldenwood Rd, North York, ON $1050 sub master bedrooms with a shared newly renovated washroom and state of the art kitchen. (1 person only, no sharing or couples) The room comes with the highest ...'], ['$2,850.00', 'Downtown Luxury 1BR condo inclusive rent lake and CN tower views', 'Toronto', '< 17 hours ago', 'Rent is inclusve of all utilities and internet , roof top gym and many other amenities in this luxury condo building a King Subway with Path connection. On high floors with spectacular views and lots ...'], ['$300.00', 'Shared storage (garage) space for rent', 'Toronto', '< 17 hours ago', '- Easy to access from main road - Convenient location - Long or short term rental'], ['$1,300.00', 'Room For Rent, Single room, Etobicoke, Humber College, Lakeshore', 'Toronto', '< 17 hours ago', 'Fully Furnished Place Available!! Etobicoke (Park Lawn & Lakeshore) ***1 Bedroom is available for rent in a wonderful space, in a wonderful building, in a wonderful locality*** Ethnicity, sex, age, ...'], ['$3,000.00', 'ENTIRE 4 BED 2.5 BATH LARGE DETACHED HOME FOR RENT BOWMANVILLE', 'Bowmanville', '< 17 hours ago', '- Entire 4 Bedrooms and 2.5 Bathrooms with Hardwood Flooring Throughout and HUGE Backyard Home for Rent in Bowmanville. Great for a Big Family! - Large Kitchen with Tons of Cupboard & Counter Space. ...'], ['$2,600.00', 'YONGE/STEELES CONDO FOR RENT - MODERN CORNER 1 BEDROOM + BIG DEN', 'Thornhill', '< 17 hours ago', 'Like-New Condition, Almost a 2 Bedroom! 1 Bedroom With a Separate Large Bright Den With Windows That Can Be Used For Office Or 2nd Br! 725 Sq. Ft. Total! Exceptional Boutique Style Minto Water Garden ...'], ['$1,700.00', 'ALL INCLUSIVE 2 BEDROOM Semi-basement in MARKHAM', 'Markham', '< 17 hours ago', '2 BEDROOMS 1 or 2 CAR PARKING basement for rent in the very demanding area (McCowan & Denison) in Markham. Separate entrance, close to schools, grocery stores, bank, restaurants and all amenities. ...'], ['Free', 'Basement For Rent In Scarborough! (Morningside and Staines)', 'City of Toronto', '< 17 hours ago', '• Intersection: Morningside and Staines • BASEMENT AVAILABLE FOR RENT • Viewing Saturdays only • Washer and Dryer shared • Have proof of income For more information please call 647-271-1724 thank ...'], ['$3,300.00', 'Condo for rent in Toronto Downtown ( 2 Bed + 2 bath )', 'Toronto', '< 17 hours ago', '15 Lower Jarvis st condo Welcome To This Executive Corner Unit Located At The \"Lighthouse Tower\" By Daniels. With A Walk/Bike/Transit Score Of 100, This Northwest-Facing 2 Bedroom + 2 Bathroom Unit ...'], ['Please Contact', 'Brand New Five Bedroom House For Rent', 'Brampton', '< 17 hours ago', 'Are you a female looking for a comfortable and spacious room in Brampton? Look no further! We have multiple rooms available for rent at 10 Labrish Road, Brampton, ON L7A5C2. Our rooms are located in ...'], ['$2,300.00', '2-Bedroom Basement Apartment in Thornhill for Rent', 'Markham', '< 17 hours ago', 'AVAILABLE NOW - Bright basement Apartment for Rent in Thornhill (near Toronto, North York, Richmond Hill, Markham). Short or Long-Term Rental. Excellent location. Just RENOVATED!!! Ideal for 1-3 ...'], ['$1,900.00', 'Port Whitby  Rentals', 'Oshawa / Durham Region', '< 17 hours ago', '2 Bedroom apartment for Rent in Beautiful Port Whitby $1900.00 Well maintained 2 bedroom apartment for rent with over 950 square feet of living space. (UTILITIES INCLUDED) This building offers an on ...'], ['Please Contact', '3 Bedroom house for rent from April 1st', 'Brampton', '< 17 hours ago', '3 Bedroom house available for rent from April 1st on very quite street. Major intersection Torbram rd at Peter robertson rd. Walking distance to Brampton civic hospital, Karol bagh plaza, bus stop ...'], ['$3,150.00', '4 Bedroom House for Rent, Brampton (Upper Level) - AVAILABLE', 'Brampton', '04/02/2023', 'AVAILABLE IF AD IS STILL UP GORGEOUS WELL MAINTAINED HOME - ONLY CALL IF INTERESTED! 4 BEDROOM SEMI-DETACHED, UPPER LEVEL, 1850 SQ FT $3150.00 NEAR BRAMPTON CIVIC HOSPITAL BRAMPTON 4 bedroom house ...'], ['Please Contact', 'GIRL/S Furnish SPACIOUS room rent Mount Pleasant GO Brampton', 'Brampton', '< 3 hours ago', '647-629-2929 FROM MARCH 1ST/15TH MARCH/1st APRIL 2023, fully furnished room rent FOR GIRL/S 30 secs walk from MOUNT PLEASANT GO BRAMPTON, ALL MAJOR BRAMOTON TRANSIT ROUTES, LIBRARY, PIZZA, BANKS, ...'], ['$900.00', 'PRIVATE OFFICE FOR RENT! THE FUELING STATION/CO-WORKING', 'City of Toronto', '25/01/2023', 'Need privacy or a dedicated space to build your team’s culture? It’s ready to go, you just move in! Your company is unique, and so should the office space you chose. Get your private office in a ...'], ['Please Contact', 'House For Rent in Brampton', 'Brampton', '02/03/2023', 'House for rent in Brampton. Necessities very close. Essential grocery stores, Brampton Civic Hospital on same street and Sandalwood/ Bramalea Rd Plaza in walking distance (5 minutes). Bus routes are ...'], ['$500.00', 'Shared 3-bedroom house for Girls only - CAD 500 in Brampton', 'Brampton', '20/02/2023', '*Available immediately *Shared room for girls *New Bed and Mattress provided * 3-bedroom corner townhouse for rent. This is not a basement * Bus stop in less than 50 meters * Intersection bovaird and ...'], ['Please Contact', '4 Bedroom house in Brampton for rent', 'Brampton', '< 17 hours ago', 'LOCATION NEAR FERNFOREST DR & SANDALWOOD PARKWAY EAST Available April 1st, 2023 (upper level of house) $3500 + 70% utilities (water, gas, hydro, wifi not included) spacious living in a great ...'], ['$3,500.00', '4 Bedroom House for rent', 'Brampton', '< 17 hours ago', '4 Bedroom Detached with 2 car garage Upto 4 parkings Available from 1st April At Walness and McLaughlin Waling distance to Asian food Centre 70% Utilities Working professional welcome Please send me ...'], ['$1,200.00', 'Room for rent, female only', 'Toronto', '< 17 hours ago', '1 room in a 2 bedroom basement apartment, shared bathroom and kitchen, female only, Spanish speaking tenant preferred . $1200, everything included Main intersection bayview & finch'], ['$1,000.00', 'One bedroom basement for rent', 'Brampton', '< 17 hours ago', 'Only female No parking Separate kitchen Separate bathroom Separate living room This is big two bedroom basement, one bedroom is rented for one Punjabi girl One room is available for sharing or ...'], ['Please Contact', '1 bedroom for rent', 'Mississauga', '< 17 hours ago', 'One fully furnished bedroom available on upper floor for couple,boys and girls 5 min walk to malton gurughar.3 minnwalk to bus stop very close to westwood mall. Available from next month'], ['$2,800.00', 'Condo for rent', 'City of Toronto', '< 17 hours ago', '2 specious rooms condo for rent All utilities are included Free wifi,Gym and meeting room available. Step to TTC,Mall,medical offices,library,Grocery stores,parks and Schools. Very close to Highway ...'], ['$2,800.00', 'YONGE/STEELES - MODERN CONDO RENT! CORNER 1 BEDROOM & LARGE DEN', 'Thornhill', '< 17 hours ago', 'Like-New Condition, Almost a 2 Bedroom! 1 Bedroom With a Separate Large Bright Den With Windows That Can Be Used For Office Or 2nd Br! 725 Sq. Ft. Total! Exceptional Boutique Style Minto Water Garden ...'], ['$2,875.00', 'Full unit 2 bed/1 bath apartment for rent', 'Toronto', '< 17 hours ago', 'Unit: 2 bedroom / 1 bathroom apartment Price: $2,875 Room available: March 1st 2023 Location: York Mills & Leslie Heat and water are included, hydro is extra (About $80 in the summer, $120 in the ...'], ['$2,400.00', 'LUXURY CONDOS WITH 5 STARS AMENITIES FOR RENT', 'City of Toronto', '< 17 hours ago', \"***PLEASE READ THE AD FIRST*** *PLEASE DO NOT CONTACT ME IF YOU DON'T HAVE THE REQUIREMENTS. *THIS AD DOES NOT BELONG TO ANY PARTICULAR UNIT. LUXURY CONDOS WITH 5 STARS AMENITIES IN RICHMOND HILL, ...\"], ['$2,400.00', 'LUXURY CONDOS WITH GREAT AMENITIES FOR RENT', 'City of Toronto', '< 17 hours ago', \"***PLEASE READ THE AD FIRST*** *PLEASE DO NOT CONTACT ME IF YOU DON'T HAVE THE REQUIREMENTS. *THIS AD DOES NOT BELONG TO ANY PARTICULAR UNIT. LUXURY CONDOS WITH 5 STARS AMENITIES IN RICHMOND HILL, ...\"], ['$900.00', 'room for rent', 'Brampton', '< 17 hours ago', 'Basement have 2 rooms, one extra large room . only kitchen and bathroom shearing with another room person.available april 1. everything included, also internet. we are looking only working person, ...'], ['$800.00', 'Bedroom for rent.', 'Brampton', '< 17 hours ago', 'One bedroom is available for rent in brand new house. With one car parking. Caledon. Please call for more details. 647-505-4960.'], ['$600.00', 'Sharing room for rent for 1 girl', 'Mississauga / Peel Region', '< 17 hours ago', 'Sharing room for 1 girl for $600 plus utilities. High speed internet and laundry included. Near Frescho and Westwood Mall.'], ['$1,900.00', '2BHK Bsmt $1900 1st May in Brampton at Dixie/Countryside', 'Brampton', '< 17 hours ago', '2BHK Bsmt $1900 1st May in Brampton at Dixie/Countryside Pls call 6475817874 Only serious inquiries Rent - $1900 plus 30% urilities 1 parking included Extra Parking -$75 Close to Walmart, Chalo ...'], ['$900.00', 'Pickering Bungalow for rent!', 'Pickering', '< 17 hours ago', 'Main floor 3 bedrooms, 1.5 bath Kitchen, living room, dining room Basement floor is occupied by other tenants. Plenty of parking space and backyard space. Comfortable for 3-4 people. Ideal for ...'], ['$950.00', 'Bright room for rent Hyw7/Yonge', 'Vaughan', '< 17 hours ago', 'Room for rent available immediately ⁃ Private Room for rent in a beautiful neighbourhood ⁃ 5 houses far from Yonge street. A minute drive from Yong/hyw7 and Yonge/407ETR ⁃ about a minute walk to buss ...'], ['$2,990.00', 'House For Rent In Bowmanville', 'Bowmanville', '< 17 hours ago', 'Due to the high volume of inquiries, please provide yourself a brief description to make the application processing faster This Beautiful 2 Storey Corner Lot Home Like A Semi Detached Is Just Steps ...'], ['$1,200.00', '$1200 May 1st furnished/no lease/Parking', 'Toronto', '< 17 hours ago', 'Rent Advertisement $1200 May 1st furnished/parking/ no lease *more pictures are coming. I had some technical difficulties. There also a new very nice bed frame that I haven’t had time to assemble and ...'], ['Please Contact', 'Basement for Rent', 'Toronto', '< 17 hours ago', 'One full room available for two Punjabi Girls Etobicoke Toronto April 01, 2023 - Rent $375 per person - Bed. Mattress. Microwave, Toaster, - Separate Entrance to the basement. - Fully Air-conditioned ...'], ['$1,750.00', 'CAR DEALERSHIP  UP TO 5 CARS AND OFFICE FOR RENT IN SCARBOROUGH', 'Toronto', '< 17 hours ago', \"Prime location in scarborouugh on Danforth avenue east of Pharmacy avenue . lots of trafic. private office separate .other dealerships around . 4 Parking' OMVIC and CITY APPROVED. Great location for ...\"], ['$2,400.00', 'Rent 3 bed-room + 2 bath basement ~For 1 small family', 'Toronto', '< 17 hours ago', 'ATTN: For 1 small family. Be the first to live in this brand new three BR + two bath BSMT apartment of detached house with separate entrance, 1 parking. Located in Agincourt North of Scarborough ...'], ['$750.00', 'Room for rent @ Bramalea City Center', 'Brampton', '< 17 hours ago', 'Available from 15th March! +++++++++++++++++++++++++ *** Very good place for studious or working professional *** *Single Separate 1 bedroom(Single bed + computer table & Chair) available in ...'], ['$550.00', 'A shared/ private room for rent in Brampton - Queen & McLaughlin', 'Brampton', '< 17 hours ago', 'I bedroom with private bath, private kitchen and living room available for rent. There are two other bedroom, 1 bath and 1 kitchen that have 4 girls there. females only. Shared $550 Private - $1000 . ...'], ['$1,000.00', 'Rooms for students available  to rent in Oshawa.', 'Hampton', '< 17 hours ago', 'Room available from February 1st to rent for a single person. Shared living room kitchen and bathroom. Please contact me if interested. Opposite Oshawa centre. Close to Durham college an UOIT. Fully ...'], ['$1,100.00', 'one basement room with a private washroom for rent', 'Toronto', '< 17 hours ago', 'Quiet and comfortable room. Private washroom. utility included. Convenient to public transit, restaruants, bank and grocery. parking available.'], ['$1,050.00', 'Beautiful sub Master Bedroom for rent in North York (No Sharing)', 'Toronto', '< 17 hours ago', '353 Goldenwood Rd, North York, ON $1050 sub master bedrooms with a shared newly renovated washroom and state of the art kitchen. (1 person only, no sharing or couples) The room comes with the highest ...'], ['$2,850.00', 'Downtown Luxury 1BR condo inclusive rent lake and CN tower views', 'Toronto', '< 17 hours ago', 'Rent is inclusve of all utilities and internet , roof top gym and many other amenities in this luxury condo building a King Subway with Path connection. On high floors with spectacular views and lots ...'], ['$300.00', 'Shared storage (garage) space for rent', 'Toronto', '< 17 hours ago', '- Easy to access from main road - Convenient location - Long or short term rental'], ['$1,300.00', 'Room For Rent, Single room, Etobicoke, Humber College, Lakeshore', 'Toronto', '< 17 hours ago', 'Fully Furnished Place Available!! Etobicoke (Park Lawn & Lakeshore) ***1 Bedroom is available for rent in a wonderful space, in a wonderful building, in a wonderful locality*** Ethnicity, sex, age, ...'], ['$3,000.00', 'ENTIRE 4 BED 2.5 BATH LARGE DETACHED HOME FOR RENT BOWMANVILLE', 'Bowmanville', '< 17 hours ago', '- Entire 4 Bedrooms and 2.5 Bathrooms with Hardwood Flooring Throughout and HUGE Backyard Home for Rent in Bowmanville. Great for a Big Family! - Large Kitchen with Tons of Cupboard & Counter Space. ...'], ['$2,600.00', 'YONGE/STEELES CONDO FOR RENT - MODERN CORNER 1 BEDROOM + BIG DEN', 'Thornhill', '< 17 hours ago', 'Like-New Condition, Almost a 2 Bedroom! 1 Bedroom With a Separate Large Bright Den With Windows That Can Be Used For Office Or 2nd Br! 725 Sq. Ft. Total! Exceptional Boutique Style Minto Water Garden ...'], ['$1,700.00', 'ALL INCLUSIVE 2 BEDROOM Semi-basement in MARKHAM', 'Markham', '< 17 hours ago', '2 BEDROOMS 1 or 2 CAR PARKING basement for rent in the very demanding area (McCowan & Denison) in Markham. Separate entrance, close to schools, grocery stores, bank, restaurants and all amenities. ...'], ['Free', 'Basement For Rent In Scarborough! (Morningside and Staines)', 'City of Toronto', '< 17 hours ago', '• Intersection: Morningside and Staines • BASEMENT AVAILABLE FOR RENT • Viewing Saturdays only • Washer and Dryer shared • Have proof of income For more information please call 647-271-1724 thank ...'], ['$3,300.00', 'Condo for rent in Toronto Downtown ( 2 Bed + 2 bath )', 'Toronto', '< 17 hours ago', '15 Lower Jarvis st condo Welcome To This Executive Corner Unit Located At The \"Lighthouse Tower\" By Daniels. With A Walk/Bike/Transit Score Of 100, This Northwest-Facing 2 Bedroom + 2 Bathroom Unit ...'], ['Please Contact', 'Brand New Five Bedroom House For Rent', 'Brampton', '< 17 hours ago', 'Are you a female looking for a comfortable and spacious room in Brampton? Look no further! We have multiple rooms available for rent at 10 Labrish Road, Brampton, ON L7A5C2. Our rooms are located in ...'], ['$2,300.00', '2-Bedroom Basement Apartment in Thornhill for Rent', 'Markham', '< 17 hours ago', 'AVAILABLE NOW - Bright basement Apartment for Rent in Thornhill (near Toronto, North York, Richmond Hill, Markham). Short or Long-Term Rental. Excellent location. Just RENOVATED!!! Ideal for 1-3 ...'], ['$1,900.00', 'Port Whitby  Rentals', 'Oshawa / Durham Region', '< 17 hours ago', '2 Bedroom apartment for Rent in Beautiful Port Whitby $1900.00 Well maintained 2 bedroom apartment for rent with over 950 square feet of living space. (UTILITIES INCLUDED) This building offers an on ...'], ['Please Contact', '3 Bedroom house for rent from April 1st', 'Brampton', '< 17 hours ago', '3 Bedroom house available for rent from April 1st on very quite street. Major intersection Torbram rd at Peter robertson rd. Walking distance to Brampton civic hospital, Karol bagh plaza, bus stop ...'], ['$3,300.00', 'House for rent in Malton  ,( 4 Bedrooms and  2 full washrooms)', 'Mississauga', '< 17 hours ago', '4 bedroom and 2 full washrooms, spacious Semi-detached house for rent in the heart of Malton. Walking distance to Westwood Mall, Westwood terminal and Gurughar. Malton Go is close by.( Basement not ...'], ['$2,000.00', 'Bright 2 Bedroom basement in Milton is available for lease.', 'Milton', '< 17 hours ago', '2- Bed room spacious , bright and sunny basement in Milton is available for rent from April 1st. It has 2 bedrooms, kitchen, living, full washroom and serving area. All stainless steel appliances, ...'], ['$2,499.00', 'Executive Furnished Beachelor Suites', 'City of Toronto', '21/02/2023', '*Limited Time Offer: 1 Month Free Rent on a 13 Month Lease!* Offering beautifully renovated and furnished suites and modern kitchens, these buildings are a definite must-see! Visit the rental office ...\\n                        \\n                            \\n                            \\n                                \\n                            \\n                            \\n                        \\n\\n                        \\n                            \\n                                Executive Furnished Suites'], ['$850.00', 'Room for rent', 'Brampton', '< 4 minutes ago', 'Room for rent in Brampton. One minute walk to bus stop, shoppers, KFC and other businesses. Shared common areas with one other person. Utilities separate.'], ['$950.00', 'Room for rent Close to finch', 'Toronto', '02/03/2023', 'The house is located between Steeles and finch, Yonge and Patricia Avenue, great location, you can see the bus stop from the house, TTC bus right outside the house that takes you to finish station in ...'], ['$1,899.00', 'Studio Apartment - Furnished - Utilities & Wifi Included', 'Toronto', '28/02/2023', 'Luxury Apartment for Rent in Downtown Toronto. Furnished Apartment - Bachelor/Studio - Utilities and Wifi included - Located at Church & Queen Street International Student are welcome! Please send ...'], ['$1,650.00', 'Bachelor suite, Niagara and Queen - ID 2612', 'Toronto', '01/03/2023', 'Semi-renovated Akelius studio apartment for rent. Queen & Niagara in the Downtown West neighborhood, Toronto. semi-renovated studio - 1 bathroom - located on floor 1 - approximately 236 square feet - ...'], ['$900.00', 'Room for Rent', 'Mississauga', '< 17 hours ago', 'Room available for rent in central Mississauga in 3 bedroom 2.5 washrooms townhouse. Close to square one, walmart, freshco, metro, indian grocery store, convenience stores, pharmacy, Sheridan ...'], ['$950.00', 'Furnished room for rent at Mavis and Eglinton Avenue West', 'Mississauga', '< 17 hours ago', 'Furnished room for rent at Mavis and Eglinton Avenue West in Mississauga on upper floor of large 5 bedroom house very clean with shared kitchen and Washroom available immediately rent is $ 950$ ...'], ['Please Contact', '4 Bedroom house in Brampton for rent', 'Brampton', '< 17 hours ago', 'LOCATION NEAR FERNFOREST DR & SANDALWOOD PARKWAY EAST Available April 1st, 2023 (upper level of house) $3500 + 70% utilities (water, gas, hydro, wifi not included) spacious living in a great ...'], ['$3,500.00', '4 Bedroom House for rent', 'Brampton', '< 17 hours ago', '4 Bedroom Detached with 2 car garage Upto 4 parkings Available from 1st April At Walness and McLaughlin Waling distance to Asian food Centre 70% Utilities Working professional welcome Please send me ...'], ['$1,200.00', 'Room for rent, female only', 'Toronto', '< 17 hours ago', '1 room in a 2 bedroom basement apartment, shared bathroom and kitchen, female only, Spanish speaking tenant preferred . $1200, everything included Main intersection bayview & finch'], ['$1,000.00', 'One bedroom basement for rent', 'Brampton', '< 17 hours ago', 'Only female No parking Separate kitchen Separate bathroom Separate living room This is big two bedroom basement, one bedroom is rented for one Punjabi girl One room is available for sharing or ...'], ['Please Contact', '1 bedroom for rent', 'Mississauga', '< 17 hours ago', 'One fully furnished bedroom available on upper floor for couple,boys and girls 5 min walk to malton gurughar.3 minnwalk to bus stop very close to westwood mall. Available from next month'], ['$2,800.00', 'Condo for rent', 'City of Toronto', '< 17 hours ago', '2 specious rooms condo for rent All utilities are included Free wifi,Gym and meeting room available. Step to TTC,Mall,medical offices,library,Grocery stores,parks and Schools. Very close to Highway ...'], ['$2,800.00', 'YONGE/STEELES - MODERN CONDO RENT! CORNER 1 BEDROOM & LARGE DEN', 'Thornhill', '< 17 hours ago', 'Like-New Condition, Almost a 2 Bedroom! 1 Bedroom With a Separate Large Bright Den With Windows That Can Be Used For Office Or 2nd Br! 725 Sq. Ft. Total! Exceptional Boutique Style Minto Water Garden ...'], ['$2,875.00', 'Full unit 2 bed/1 bath apartment for rent', 'Toronto', '< 17 hours ago', 'Unit: 2 bedroom / 1 bathroom apartment Price: $2,875 Room available: March 1st 2023 Location: York Mills & Leslie Heat and water are included, hydro is extra (About $80 in the summer, $120 in the ...'], ['$2,400.00', 'LUXURY CONDOS WITH 5 STARS AMENITIES FOR RENT', 'City of Toronto', '< 17 hours ago', \"***PLEASE READ THE AD FIRST*** *PLEASE DO NOT CONTACT ME IF YOU DON'T HAVE THE REQUIREMENTS. *THIS AD DOES NOT BELONG TO ANY PARTICULAR UNIT. LUXURY CONDOS WITH 5 STARS AMENITIES IN RICHMOND HILL, ...\"], ['$2,400.00', 'LUXURY CONDOS WITH GREAT AMENITIES FOR RENT', 'City of Toronto', '< 17 hours ago', \"***PLEASE READ THE AD FIRST*** *PLEASE DO NOT CONTACT ME IF YOU DON'T HAVE THE REQUIREMENTS. *THIS AD DOES NOT BELONG TO ANY PARTICULAR UNIT. LUXURY CONDOS WITH 5 STARS AMENITIES IN RICHMOND HILL, ...\"], ['$900.00', 'room for rent', 'Brampton', '< 17 hours ago', 'Basement have 2 rooms, one extra large room . only kitchen and bathroom shearing with another room person.available april 1. everything included, also internet. we are looking only working person, ...'], ['$800.00', 'Bedroom for rent.', 'Brampton', '< 17 hours ago', 'One bedroom is available for rent in brand new house. With one car parking. Caledon. Please call for more details. 647-505-4960.'], ['$600.00', 'Sharing room for rent for 1 girl', 'Mississauga / Peel Region', '< 17 hours ago', 'Sharing room for 1 girl for $600 plus utilities. High speed internet and laundry included. Near Frescho and Westwood Mall.'], ['$1,900.00', '2BHK Bsmt $1900 1st May in Brampton at Dixie/Countryside', 'Brampton', '< 17 hours ago', '2BHK Bsmt $1900 1st May in Brampton at Dixie/Countryside Pls call 6475817874 Only serious inquiries Rent - $1900 plus 30% urilities 1 parking included Extra Parking -$75 Close to Walmart, Chalo ...'], ['$900.00', 'Pickering Bungalow for rent!', 'Pickering', '< 17 hours ago', 'Main floor 3 bedrooms, 1.5 bath Kitchen, living room, dining room Basement floor is occupied by other tenants. Plenty of parking space and backyard space. Comfortable for 3-4 people. Ideal for ...'], ['$950.00', 'Bright room for rent Hyw7/Yonge', 'Vaughan', '< 17 hours ago', 'Room for rent available immediately ⁃ Private Room for rent in a beautiful neighbourhood ⁃ 5 houses far from Yonge street. A minute drive from Yong/hyw7 and Yonge/407ETR ⁃ about a minute walk to buss ...'], ['$2,990.00', 'House For Rent In Bowmanville', 'Bowmanville', '< 17 hours ago', 'Due to the high volume of inquiries, please provide yourself a brief description to make the application processing faster This Beautiful 2 Storey Corner Lot Home Like A Semi Detached Is Just Steps ...'], ['$1,200.00', '$1200 May 1st furnished/no lease/Parking', 'Toronto', '< 17 hours ago', 'Rent Advertisement $1200 May 1st furnished/parking/ no lease *more pictures are coming. I had some technical difficulties. There also a new very nice bed frame that I haven’t had time to assemble and ...'], ['Please Contact', 'Basement for Rent', 'Toronto', '< 17 hours ago', 'One full room available for two Punjabi Girls Etobicoke Toronto April 01, 2023 - Rent $375 per person - Bed. Mattress. Microwave, Toaster, - Separate Entrance to the basement. - Fully Air-conditioned ...'], ['$1,750.00', 'CAR DEALERSHIP  UP TO 5 CARS AND OFFICE FOR RENT IN SCARBOROUGH', 'Toronto', '< 17 hours ago', \"Prime location in scarborouugh on Danforth avenue east of Pharmacy avenue . lots of trafic. private office separate .other dealerships around . 4 Parking' OMVIC and CITY APPROVED. Great location for ...\"], ['$2,400.00', 'Rent 3 bed-room + 2 bath basement ~For 1 small family', 'Toronto', '< 17 hours ago', 'ATTN: For 1 small family. Be the first to live in this brand new three BR + two bath BSMT apartment of detached house with separate entrance, 1 parking. Located in Agincourt North of Scarborough ...'], ['$750.00', 'Room for rent @ Bramalea City Center', 'Brampton', '< 17 hours ago', 'Available from 15th March! +++++++++++++++++++++++++ *** Very good place for studious or working professional *** *Single Separate 1 bedroom(Single bed + computer table & Chair) available in ...'], ['$550.00', 'A shared/ private room for rent in Brampton - Queen & McLaughlin', 'Brampton', '< 17 hours ago', 'I bedroom with private bath, private kitchen and living room available for rent. There are two other bedroom, 1 bath and 1 kitchen that have 4 girls there. females only. Shared $550 Private - $1000 . ...'], ['$1,000.00', 'Rooms for students available  to rent in Oshawa.', 'Hampton', '< 17 hours ago', 'Room available from February 1st to rent for a single person. Shared living room kitchen and bathroom. Please contact me if interested. Opposite Oshawa centre. Close to Durham college an UOIT. Fully ...'], ['$1,100.00', 'one basement room with a private washroom for rent', 'Toronto', '< 17 hours ago', 'Quiet and comfortable room. Private washroom. utility included. Convenient to public transit, restaruants, bank and grocery. parking available.'], ['$1,050.00', 'Beautiful sub Master Bedroom for rent in North York (No Sharing)', 'Toronto', '< 17 hours ago', '353 Goldenwood Rd, North York, ON $1050 sub master bedrooms with a shared newly renovated washroom and state of the art kitchen. (1 person only, no sharing or couples) The room comes with the highest ...'], ['$2,850.00', 'Downtown Luxury 1BR condo inclusive rent lake and CN tower views', 'Toronto', '< 17 hours ago', 'Rent is inclusve of all utilities and internet , roof top gym and many other amenities in this luxury condo building a King Subway with Path connection. On high floors with spectacular views and lots ...'], ['$300.00', 'Shared storage (garage) space for rent', 'Toronto', '< 17 hours ago', '- Easy to access from main road - Convenient location - Long or short term rental'], ['$1,300.00', 'Room For Rent, Single room, Etobicoke, Humber College, Lakeshore', 'Toronto', '< 17 hours ago', 'Fully Furnished Place Available!! Etobicoke (Park Lawn & Lakeshore) ***1 Bedroom is available for rent in a wonderful space, in a wonderful building, in a wonderful locality*** Ethnicity, sex, age, ...'], ['$3,000.00', 'ENTIRE 4 BED 2.5 BATH LARGE DETACHED HOME FOR RENT BOWMANVILLE', 'Bowmanville', '< 17 hours ago', '- Entire 4 Bedrooms and 2.5 Bathrooms with Hardwood Flooring Throughout and HUGE Backyard Home for Rent in Bowmanville. Great for a Big Family! - Large Kitchen with Tons of Cupboard & Counter Space. ...'], ['$2,600.00', 'YONGE/STEELES CONDO FOR RENT - MODERN CORNER 1 BEDROOM + BIG DEN', 'Thornhill', '< 17 hours ago', 'Like-New Condition, Almost a 2 Bedroom! 1 Bedroom With a Separate Large Bright Den With Windows That Can Be Used For Office Or 2nd Br! 725 Sq. Ft. Total! Exceptional Boutique Style Minto Water Garden ...'], ['$1,700.00', 'ALL INCLUSIVE 2 BEDROOM Semi-basement in MARKHAM', 'Markham', '< 17 hours ago', '2 BEDROOMS 1 or 2 CAR PARKING basement for rent in the very demanding area (McCowan & Denison) in Markham. Separate entrance, close to schools, grocery stores, bank, restaurants and all amenities. ...'], ['Free', 'Basement For Rent In Scarborough! (Morningside and Staines)', 'City of Toronto', '< 17 hours ago', '• Intersection: Morningside and Staines • BASEMENT AVAILABLE FOR RENT • Viewing Saturdays only • Washer and Dryer shared • Have proof of income For more information please call 647-271-1724 thank ...'], ['$3,300.00', 'Condo for rent in Toronto Downtown ( 2 Bed + 2 bath )', 'Toronto', '< 17 hours ago', '15 Lower Jarvis st condo Welcome To This Executive Corner Unit Located At The \"Lighthouse Tower\" By Daniels. With A Walk/Bike/Transit Score Of 100, This Northwest-Facing 2 Bedroom + 2 Bathroom Unit ...'], ['Please Contact', 'Brand New Five Bedroom House For Rent', 'Brampton', '< 17 hours ago', 'Are you a female looking for a comfortable and spacious room in Brampton? Look no further! We have multiple rooms available for rent at 10 Labrish Road, Brampton, ON L7A5C2. Our rooms are located in ...'], ['$2,300.00', '2-Bedroom Basement Apartment in Thornhill for Rent', 'Markham', '< 17 hours ago', 'AVAILABLE NOW - Bright basement Apartment for Rent in Thornhill (near Toronto, North York, Richmond Hill, Markham). Short or Long-Term Rental. Excellent location. Just RENOVATED!!! Ideal for 1-3 ...'], ['$1,900.00', 'Port Whitby  Rentals', 'Oshawa / Durham Region', '< 17 hours ago', '2 Bedroom apartment for Rent in Beautiful Port Whitby $1900.00 Well maintained 2 bedroom apartment for rent with over 950 square feet of living space. (UTILITIES INCLUDED) This building offers an on ...'], ['Please Contact', '3 Bedroom house for rent from April 1st', 'Brampton', '< 17 hours ago', '3 Bedroom house available for rent from April 1st on very quite street. Major intersection Torbram rd at Peter robertson rd. Walking distance to Brampton civic hospital, Karol bagh plaza, bus stop ...'], ['$625.00', 'LARGE OFFICE FOR RENT, BURLINGTON - GUELPH LINE/NEW ST', 'Burlington', '23/12/2022', \"LARGE OFFICE FOR RENT, BURLINGTON - GUELPH LINE/NEW ST Single large office for rent. Approx 12x12'. Kitchenette. Private. Professional. Phone system, Photo copier, fax, all available if desired ...\"], ['$2,049.00', 'Renovated 1 Bedroom For Rent - Forest Hill', 'Toronto', '16/02/2023', 'Bachelor and 1 bedroom apartments Ready to Rent. Bright, incredible views and newly renovated! Welcome to life at The Latimer in fabulous Forest Hill Village – one of the most desirable ...\\n                        \\n                            \\n                            \\n                                \\n                            \\n                            \\n                        \\n\\n                        \\n                            \\n                                Renovated Bachelors and 1-bedroom suites available  | Contact us TODAY!'], ['$750.00', 'Office Space / Dedicated Desks Available - DOWNTOWN TORONTO', 'Toronto', '27/02/2023', 'NEW** Modern Downtown Office in the Financial District (King & Yonge) Anywhere from 1-15 desks are available in a bright office space with many windows. Chairs, full kitchen, games, sound proofed ...'], ['$2,695.00', '2 Bedroom 1.5 Bath Renovated Apartment For Rent in Toronto - 25', 'Toronto', '02/03/2023', 'Don Mills & Eglinton, North York, Toronto This is a Luxurious, Completely Renovated Large 972 Sqft Two Bedroom Apartment for Rent with High Quality Finishes: Brand-New Chef-Inspired Kitchen - ...'], ['$500.00', 'Fully Furnished Offices Mississauga -  Prices starting $500/mo', 'Mississauga / Peel Region', 'Yesterday', 'Get upto 2 months of free fully furnished office spaces when you sign up with ZEMLAR Offices. Contact us to claim now. *Limited availability Looking for the perfect place to grow your business? Tired ...\\n                        \\n                            \\n                            \\n                                \\n                            \\n                            \\n                        \\n\\n                        \\n                            \\n                                Furnished Offices | Meeting Rooms | Virtual Offices | Private | office | coworking | workspace | office space | Mississauga | GTA | Meeting room | month to month | Board Room for rent | Business Address | Office Lease |'], ['$900.00', 'Room for Rent', 'Mississauga', '< 17 hours ago', 'Room available for rent in central Mississauga in 3 bedroom 2.5 washrooms townhouse. Close to square one, walmart, freshco, metro, indian grocery store, convenience stores, pharmacy, Sheridan ...'], ['$950.00', 'Furnished room for rent at Mavis and Eglinton Avenue West', 'Mississauga', '< 17 hours ago', 'Furnished room for rent at Mavis and Eglinton Avenue West in Mississauga on upper floor of large 5 bedroom house very clean with shared kitchen and Washroom available immediately rent is $ 950$ ...'], ['Please Contact', '4 Bedroom house in Brampton for rent', 'Brampton', '< 17 hours ago', 'LOCATION NEAR FERNFOREST DR & SANDALWOOD PARKWAY EAST Available April 1st, 2023 (upper level of house) $3500 + 70% utilities (water, gas, hydro, wifi not included) spacious living in a great ...'], ['$3,500.00', '4 Bedroom House for rent', 'Brampton', '< 17 hours ago', '4 Bedroom Detached with 2 car garage Upto 4 parkings Available from 1st April At Walness and McLaughlin Waling distance to Asian food Centre 70% Utilities Working professional welcome Please send me ...'], ['$1,200.00', 'Room for rent, female only', 'Toronto', '< 17 hours ago', '1 room in a 2 bedroom basement apartment, shared bathroom and kitchen, female only, Spanish speaking tenant preferred . $1200, everything included Main intersection bayview & finch'], ['$1,000.00', 'One bedroom basement for rent', 'Brampton', '< 17 hours ago', 'Only female No parking Separate kitchen Separate bathroom Separate living room This is big two bedroom basement, one bedroom is rented for one Punjabi girl One room is available for sharing or ...'], ['Please Contact', '1 bedroom for rent', 'Mississauga', '< 17 hours ago', 'One fully furnished bedroom available on upper floor for couple,boys and girls 5 min walk to malton gurughar.3 minnwalk to bus stop very close to westwood mall. Available from next month'], ['$2,800.00', 'Condo for rent', 'City of Toronto', '< 17 hours ago', '2 specious rooms condo for rent All utilities are included Free wifi,Gym and meeting room available. Step to TTC,Mall,medical offices,library,Grocery stores,parks and Schools. Very close to Highway ...'], ['$2,800.00', 'YONGE/STEELES - MODERN CONDO RENT! CORNER 1 BEDROOM & LARGE DEN', 'Thornhill', '< 17 hours ago', 'Like-New Condition, Almost a 2 Bedroom! 1 Bedroom With a Separate Large Bright Den With Windows That Can Be Used For Office Or 2nd Br! 725 Sq. Ft. Total! Exceptional Boutique Style Minto Water Garden ...'], ['$2,875.00', 'Full unit 2 bed/1 bath apartment for rent', 'Toronto', '< 17 hours ago', 'Unit: 2 bedroom / 1 bathroom apartment Price: $2,875 Room available: March 1st 2023 Location: York Mills & Leslie Heat and water are included, hydro is extra (About $80 in the summer, $120 in the ...'], ['$2,400.00', 'LUXURY CONDOS WITH 5 STARS AMENITIES FOR RENT', 'City of Toronto', '< 17 hours ago', \"***PLEASE READ THE AD FIRST*** *PLEASE DO NOT CONTACT ME IF YOU DON'T HAVE THE REQUIREMENTS. *THIS AD DOES NOT BELONG TO ANY PARTICULAR UNIT. LUXURY CONDOS WITH 5 STARS AMENITIES IN RICHMOND HILL, ...\"], ['$2,400.00', 'LUXURY CONDOS WITH GREAT AMENITIES FOR RENT', 'City of Toronto', '< 17 hours ago', \"***PLEASE READ THE AD FIRST*** *PLEASE DO NOT CONTACT ME IF YOU DON'T HAVE THE REQUIREMENTS. *THIS AD DOES NOT BELONG TO ANY PARTICULAR UNIT. LUXURY CONDOS WITH 5 STARS AMENITIES IN RICHMOND HILL, ...\"], ['$900.00', 'room for rent', 'Brampton', '< 17 hours ago', 'Basement have 2 rooms, one extra large room . only kitchen and bathroom shearing with another room person.available april 1. everything included, also internet. we are looking only working person, ...'], ['$800.00', 'Bedroom for rent.', 'Brampton', '< 17 hours ago', 'One bedroom is available for rent in brand new house. With one car parking. Caledon. Please call for more details. 647-505-4960.'], ['$600.00', 'Sharing room for rent for 1 girl', 'Mississauga / Peel Region', '< 17 hours ago', 'Sharing room for 1 girl for $600 plus utilities. High speed internet and laundry included. Near Frescho and Westwood Mall.'], ['$1,900.00', '2BHK Bsmt $1900 1st May in Brampton at Dixie/Countryside', 'Brampton', '< 17 hours ago', '2BHK Bsmt $1900 1st May in Brampton at Dixie/Countryside Pls call 6475817874 Only serious inquiries Rent - $1900 plus 30% urilities 1 parking included Extra Parking -$75 Close to Walmart, Chalo ...'], ['$900.00', 'Pickering Bungalow for rent!', 'Pickering', '< 17 hours ago', 'Main floor 3 bedrooms, 1.5 bath Kitchen, living room, dining room Basement floor is occupied by other tenants. Plenty of parking space and backyard space. Comfortable for 3-4 people. Ideal for ...'], ['$950.00', 'Bright room for rent Hyw7/Yonge', 'Vaughan', '< 17 hours ago', 'Room for rent available immediately ⁃ Private Room for rent in a beautiful neighbourhood ⁃ 5 houses far from Yonge street. A minute drive from Yong/hyw7 and Yonge/407ETR ⁃ about a minute walk to buss ...'], ['$2,990.00', 'House For Rent In Bowmanville', 'Bowmanville', '< 17 hours ago', 'Due to the high volume of inquiries, please provide yourself a brief description to make the application processing faster This Beautiful 2 Storey Corner Lot Home Like A Semi Detached Is Just Steps ...'], ['$1,200.00', '$1200 May 1st furnished/no lease/Parking', 'Toronto', '< 17 hours ago', 'Rent Advertisement $1200 May 1st furnished/parking/ no lease *more pictures are coming. I had some technical difficulties. There also a new very nice bed frame that I haven’t had time to assemble and ...'], ['Please Contact', 'Basement for Rent', 'Toronto', '< 17 hours ago', 'One full room available for two Punjabi Girls Etobicoke Toronto April 01, 2023 - Rent $375 per person - Bed. Mattress. Microwave, Toaster, - Separate Entrance to the basement. - Fully Air-conditioned ...'], ['$1,750.00', 'CAR DEALERSHIP  UP TO 5 CARS AND OFFICE FOR RENT IN SCARBOROUGH', 'Toronto', '< 17 hours ago', \"Prime location in scarborouugh on Danforth avenue east of Pharmacy avenue . lots of trafic. private office separate .other dealerships around . 4 Parking' OMVIC and CITY APPROVED. Great location for ...\"], ['$2,400.00', 'Rent 3 bed-room + 2 bath basement ~For 1 small family', 'Toronto', '< 17 hours ago', 'ATTN: For 1 small family. Be the first to live in this brand new three BR + two bath BSMT apartment of detached house with separate entrance, 1 parking. Located in Agincourt North of Scarborough ...'], ['$750.00', 'Room for rent @ Bramalea City Center', 'Brampton', '< 17 hours ago', 'Available from 15th March! +++++++++++++++++++++++++ *** Very good place for studious or working professional *** *Single Separate 1 bedroom(Single bed + computer table & Chair) available in ...'], ['$550.00', 'A shared/ private room for rent in Brampton - Queen & McLaughlin', 'Brampton', '< 17 hours ago', 'I bedroom with private bath, private kitchen and living room available for rent. There are two other bedroom, 1 bath and 1 kitchen that have 4 girls there. females only. Shared $550 Private - $1000 . ...'], ['$1,000.00', 'Rooms for students available  to rent in Oshawa.', 'Hampton', '< 17 hours ago', 'Room available from February 1st to rent for a single person. Shared living room kitchen and bathroom. Please contact me if interested. Opposite Oshawa centre. Close to Durham college an UOIT. Fully ...'], ['$1,100.00', 'one basement room with a private washroom for rent', 'Toronto', '< 17 hours ago', 'Quiet and comfortable room. Private washroom. utility included. Convenient to public transit, restaruants, bank and grocery. parking available.'], ['$1,050.00', 'Beautiful sub Master Bedroom for rent in North York (No Sharing)', 'Toronto', '< 17 hours ago', '353 Goldenwood Rd, North York, ON $1050 sub master bedrooms with a shared newly renovated washroom and state of the art kitchen. (1 person only, no sharing or couples) The room comes with the highest ...'], ['$2,850.00', 'Downtown Luxury 1BR condo inclusive rent lake and CN tower views', 'Toronto', '< 17 hours ago', 'Rent is inclusve of all utilities and internet , roof top gym and many other amenities in this luxury condo building a King Subway with Path connection. On high floors with spectacular views and lots ...'], ['$300.00', 'Shared storage (garage) space for rent', 'Toronto', '< 17 hours ago', '- Easy to access from main road - Convenient location - Long or short term rental'], ['$1,300.00', 'Room For Rent, Single room, Etobicoke, Humber College, Lakeshore', 'Toronto', '< 17 hours ago', 'Fully Furnished Place Available!! Etobicoke (Park Lawn & Lakeshore) ***1 Bedroom is available for rent in a wonderful space, in a wonderful building, in a wonderful locality*** Ethnicity, sex, age, ...'], ['$3,000.00', 'ENTIRE 4 BED 2.5 BATH LARGE DETACHED HOME FOR RENT BOWMANVILLE', 'Bowmanville', '< 17 hours ago', '- Entire 4 Bedrooms and 2.5 Bathrooms with Hardwood Flooring Throughout and HUGE Backyard Home for Rent in Bowmanville. Great for a Big Family! - Large Kitchen with Tons of Cupboard & Counter Space. ...'], ['$2,600.00', 'YONGE/STEELES CONDO FOR RENT - MODERN CORNER 1 BEDROOM + BIG DEN', 'Thornhill', '< 17 hours ago', 'Like-New Condition, Almost a 2 Bedroom! 1 Bedroom With a Separate Large Bright Den With Windows That Can Be Used For Office Or 2nd Br! 725 Sq. Ft. Total! Exceptional Boutique Style Minto Water Garden ...'], ['$1,700.00', 'ALL INCLUSIVE 2 BEDROOM Semi-basement in MARKHAM', 'Markham', '< 17 hours ago', '2 BEDROOMS 1 or 2 CAR PARKING basement for rent in the very demanding area (McCowan & Denison) in Markham. Separate entrance, close to schools, grocery stores, bank, restaurants and all amenities. ...'], ['Free', 'Basement For Rent In Scarborough! (Morningside and Staines)', 'City of Toronto', '< 17 hours ago', '• Intersection: Morningside and Staines • BASEMENT AVAILABLE FOR RENT • Viewing Saturdays only • Washer and Dryer shared • Have proof of income For more information please call 647-271-1724 thank ...'], ['$3,300.00', 'Condo for rent in Toronto Downtown ( 2 Bed + 2 bath )', 'Toronto', '< 17 hours ago', '15 Lower Jarvis st condo Welcome To This Executive Corner Unit Located At The \"Lighthouse Tower\" By Daniels. With A Walk/Bike/Transit Score Of 100, This Northwest-Facing 2 Bedroom + 2 Bathroom Unit ...'], ['Please Contact', 'Brand New Five Bedroom House For Rent', 'Brampton', '< 17 hours ago', 'Are you a female looking for a comfortable and spacious room in Brampton? Look no further! We have multiple rooms available for rent at 10 Labrish Road, Brampton, ON L7A5C2. Our rooms are located in ...'], ['$2,300.00', '2-Bedroom Basement Apartment in Thornhill for Rent', 'Markham', '< 17 hours ago', 'AVAILABLE NOW - Bright basement Apartment for Rent in Thornhill (near Toronto, North York, Richmond Hill, Markham). Short or Long-Term Rental. Excellent location. Just RENOVATED!!! Ideal for 1-3 ...'], ['$1,900.00', 'Port Whitby  Rentals', 'Oshawa / Durham Region', '< 17 hours ago', '2 Bedroom apartment for Rent in Beautiful Port Whitby $1900.00 Well maintained 2 bedroom apartment for rent with over 950 square feet of living space. (UTILITIES INCLUDED) This building offers an on ...'], ['Please Contact', '3 Bedroom house for rent from April 1st', 'Brampton', '< 17 hours ago', '3 Bedroom house available for rent from April 1st on very quite street. Major intersection Torbram rd at Peter robertson rd. Walking distance to Brampton civic hospital, Karol bagh plaza, bus stop ...']]\n"
          ]
        }
      ],
      "source": [
        "print(data)"
      ]
    },
    {
      "cell_type": "markdown",
      "source": [
        "This code uses the pandas library to create a DataFrame from the data list of lists. The pd.DataFrame() function is used to create the DataFrame, and the columns parameter is set to a list of column names: 'Price', 'Title', 'Location', 'Date Posted', and 'Description'.\n",
        "\n",
        "The DataFrame is then saved to a CSV file named 'KijijiRentals.csv' using the df.to_csv() function. The index parameter is set to False to prevent the index column from being saved to the CSV file.\n",
        "\n",
        "The resulting CSV file contains the data in tabular form, where each row represents a rental listing and contains the rental's price, title, location, date posted, and description."
      ],
      "metadata": {
        "id": "W9cO_kBuDbOo"
      },
      "id": "W9cO_kBuDbOo"
    },
    {
      "cell_type": "code",
      "execution_count": 5,
      "id": "740df6bf",
      "metadata": {
        "id": "740df6bf"
      },
      "outputs": [],
      "source": [
        "import pandas as pd\n",
        "\n",
        "# Create a DataFrame from the data\n",
        "df = pd.DataFrame(data, columns=['Price', 'Title', 'Location', 'Date Posted', 'Description'])\n",
        "\n",
        "# Save the DataFrame to a CSV file\n",
        "df.to_csv('KijijiRentals.csv', index=False)"
      ]
    },
    {
      "cell_type": "code",
      "execution_count": 7,
      "id": "0902fe49",
      "metadata": {
        "id": "0902fe49"
      },
      "outputs": [],
      "source": [
        "import pandas as pd\n",
        "df = pd.read_csv('/content/KijijiRentals.csv')"
      ]
    },
    {
      "cell_type": "code",
      "execution_count": 8,
      "id": "176c13d7",
      "metadata": {
        "colab": {
          "base_uri": "https://localhost:8080/",
          "height": 206
        },
        "id": "176c13d7",
        "outputId": "5244ddd5-fbea-4718-d235-1e7961c74f09"
      },
      "outputs": [
        {
          "output_type": "execute_result",
          "data": {
            "text/plain": [
              "       Price                                              Title                  Location     Date Posted                                        Description\n",
              "0    $625.00  Furnished Private Offices - Monthly Membership...  Oakville / Halton Region       Yesterday  Get upto 2 months of free fully furnished offi...\n",
              "1  $2,239.00  1 Bedroom For Rent - Oakville - Convenience - ...                  Oakville      22/02/2023  Situated in a peaceful, relaxing community, 75...\n",
              "2  $1,650.00              Bachelor, Niagara and Queen - ID 2613                   Toronto      01/03/2023  Semi-renovated Akelius studio apartment for re...\n",
              "3    $900.00  Furnished Room For Rent All Inclusive Downtown...                   Cobourg      05/02/2023  Furnished room for rent downtown Cobourg. Step...\n",
              "4  $9,000.00                          Industrial Space For Rent                   Toronto  < 23 hours ago  Approx 4000 sq ft of warehouse 1 drive in door..."
            ],
            "text/html": [
              "\n",
              "  <div id=\"df-5a1cb1f6-a309-41d5-ad54-0a248305d836\">\n",
              "    <div class=\"colab-df-container\">\n",
              "      <div>\n",
              "<style scoped>\n",
              "    .dataframe tbody tr th:only-of-type {\n",
              "        vertical-align: middle;\n",
              "    }\n",
              "\n",
              "    .dataframe tbody tr th {\n",
              "        vertical-align: top;\n",
              "    }\n",
              "\n",
              "    .dataframe thead th {\n",
              "        text-align: right;\n",
              "    }\n",
              "</style>\n",
              "<table border=\"1\" class=\"dataframe\">\n",
              "  <thead>\n",
              "    <tr style=\"text-align: right;\">\n",
              "      <th></th>\n",
              "      <th>Price</th>\n",
              "      <th>Title</th>\n",
              "      <th>Location</th>\n",
              "      <th>Date Posted</th>\n",
              "      <th>Description</th>\n",
              "    </tr>\n",
              "  </thead>\n",
              "  <tbody>\n",
              "    <tr>\n",
              "      <th>0</th>\n",
              "      <td>$625.00</td>\n",
              "      <td>Furnished Private Offices - Monthly Membership...</td>\n",
              "      <td>Oakville / Halton Region</td>\n",
              "      <td>Yesterday</td>\n",
              "      <td>Get upto 2 months of free fully furnished offi...</td>\n",
              "    </tr>\n",
              "    <tr>\n",
              "      <th>1</th>\n",
              "      <td>$2,239.00</td>\n",
              "      <td>1 Bedroom For Rent - Oakville - Convenience - ...</td>\n",
              "      <td>Oakville</td>\n",
              "      <td>22/02/2023</td>\n",
              "      <td>Situated in a peaceful, relaxing community, 75...</td>\n",
              "    </tr>\n",
              "    <tr>\n",
              "      <th>2</th>\n",
              "      <td>$1,650.00</td>\n",
              "      <td>Bachelor, Niagara and Queen - ID 2613</td>\n",
              "      <td>Toronto</td>\n",
              "      <td>01/03/2023</td>\n",
              "      <td>Semi-renovated Akelius studio apartment for re...</td>\n",
              "    </tr>\n",
              "    <tr>\n",
              "      <th>3</th>\n",
              "      <td>$900.00</td>\n",
              "      <td>Furnished Room For Rent All Inclusive Downtown...</td>\n",
              "      <td>Cobourg</td>\n",
              "      <td>05/02/2023</td>\n",
              "      <td>Furnished room for rent downtown Cobourg. Step...</td>\n",
              "    </tr>\n",
              "    <tr>\n",
              "      <th>4</th>\n",
              "      <td>$9,000.00</td>\n",
              "      <td>Industrial Space For Rent</td>\n",
              "      <td>Toronto</td>\n",
              "      <td>&lt; 23 hours ago</td>\n",
              "      <td>Approx 4000 sq ft of warehouse 1 drive in door...</td>\n",
              "    </tr>\n",
              "  </tbody>\n",
              "</table>\n",
              "</div>\n",
              "      <button class=\"colab-df-convert\" onclick=\"convertToInteractive('df-5a1cb1f6-a309-41d5-ad54-0a248305d836')\"\n",
              "              title=\"Convert this dataframe to an interactive table.\"\n",
              "              style=\"display:none;\">\n",
              "        \n",
              "  <svg xmlns=\"http://www.w3.org/2000/svg\" height=\"24px\"viewBox=\"0 0 24 24\"\n",
              "       width=\"24px\">\n",
              "    <path d=\"M0 0h24v24H0V0z\" fill=\"none\"/>\n",
              "    <path d=\"M18.56 5.44l.94 2.06.94-2.06 2.06-.94-2.06-.94-.94-2.06-.94 2.06-2.06.94zm-11 1L8.5 8.5l.94-2.06 2.06-.94-2.06-.94L8.5 2.5l-.94 2.06-2.06.94zm10 10l.94 2.06.94-2.06 2.06-.94-2.06-.94-.94-2.06-.94 2.06-2.06.94z\"/><path d=\"M17.41 7.96l-1.37-1.37c-.4-.4-.92-.59-1.43-.59-.52 0-1.04.2-1.43.59L10.3 9.45l-7.72 7.72c-.78.78-.78 2.05 0 2.83L4 21.41c.39.39.9.59 1.41.59.51 0 1.02-.2 1.41-.59l7.78-7.78 2.81-2.81c.8-.78.8-2.07 0-2.86zM5.41 20L4 18.59l7.72-7.72 1.47 1.35L5.41 20z\"/>\n",
              "  </svg>\n",
              "      </button>\n",
              "      \n",
              "  <style>\n",
              "    .colab-df-container {\n",
              "      display:flex;\n",
              "      flex-wrap:wrap;\n",
              "      gap: 12px;\n",
              "    }\n",
              "\n",
              "    .colab-df-convert {\n",
              "      background-color: #E8F0FE;\n",
              "      border: none;\n",
              "      border-radius: 50%;\n",
              "      cursor: pointer;\n",
              "      display: none;\n",
              "      fill: #1967D2;\n",
              "      height: 32px;\n",
              "      padding: 0 0 0 0;\n",
              "      width: 32px;\n",
              "    }\n",
              "\n",
              "    .colab-df-convert:hover {\n",
              "      background-color: #E2EBFA;\n",
              "      box-shadow: 0px 1px 2px rgba(60, 64, 67, 0.3), 0px 1px 3px 1px rgba(60, 64, 67, 0.15);\n",
              "      fill: #174EA6;\n",
              "    }\n",
              "\n",
              "    [theme=dark] .colab-df-convert {\n",
              "      background-color: #3B4455;\n",
              "      fill: #D2E3FC;\n",
              "    }\n",
              "\n",
              "    [theme=dark] .colab-df-convert:hover {\n",
              "      background-color: #434B5C;\n",
              "      box-shadow: 0px 1px 3px 1px rgba(0, 0, 0, 0.15);\n",
              "      filter: drop-shadow(0px 1px 2px rgba(0, 0, 0, 0.3));\n",
              "      fill: #FFFFFF;\n",
              "    }\n",
              "  </style>\n",
              "\n",
              "      <script>\n",
              "        const buttonEl =\n",
              "          document.querySelector('#df-5a1cb1f6-a309-41d5-ad54-0a248305d836 button.colab-df-convert');\n",
              "        buttonEl.style.display =\n",
              "          google.colab.kernel.accessAllowed ? 'block' : 'none';\n",
              "\n",
              "        async function convertToInteractive(key) {\n",
              "          const element = document.querySelector('#df-5a1cb1f6-a309-41d5-ad54-0a248305d836');\n",
              "          const dataTable =\n",
              "            await google.colab.kernel.invokeFunction('convertToInteractive',\n",
              "                                                     [key], {});\n",
              "          if (!dataTable) return;\n",
              "\n",
              "          const docLinkHtml = 'Like what you see? Visit the ' +\n",
              "            '<a target=\"_blank\" href=https://colab.research.google.com/notebooks/data_table.ipynb>data table notebook</a>'\n",
              "            + ' to learn more about interactive tables.';\n",
              "          element.innerHTML = '';\n",
              "          dataTable['output_type'] = 'display_data';\n",
              "          await google.colab.output.renderOutput(dataTable, element);\n",
              "          const docLink = document.createElement('div');\n",
              "          docLink.innerHTML = docLinkHtml;\n",
              "          element.appendChild(docLink);\n",
              "        }\n",
              "      </script>\n",
              "    </div>\n",
              "  </div>\n",
              "  "
            ]
          },
          "metadata": {},
          "execution_count": 8
        }
      ],
      "source": [
        "df.head()"
      ]
    },
    {
      "cell_type": "code",
      "execution_count": 9,
      "id": "d5108ec3",
      "metadata": {
        "colab": {
          "base_uri": "https://localhost:8080/"
        },
        "id": "d5108ec3",
        "outputId": "d12f951c-4578-46bf-fc0a-fca951dd6256"
      },
      "outputs": [
        {
          "output_type": "execute_result",
          "data": {
            "text/plain": [
              "(855, 5)"
            ]
          },
          "metadata": {},
          "execution_count": 9
        }
      ],
      "source": [
        "df.shape"
      ]
    },
    {
      "cell_type": "code",
      "execution_count": 10,
      "id": "289e54ab",
      "metadata": {
        "colab": {
          "base_uri": "https://localhost:8080/"
        },
        "id": "289e54ab",
        "outputId": "f52abbe9-7de8-405c-bf44-fb0d38612ebc"
      },
      "outputs": [
        {
          "output_type": "execute_result",
          "data": {
            "text/plain": [
              "23"
            ]
          },
          "metadata": {},
          "execution_count": 10
        }
      ],
      "source": [
        "df['Location'].nunique()"
      ]
    },
    {
      "cell_type": "code",
      "execution_count": 11,
      "id": "83ed8823",
      "metadata": {
        "colab": {
          "base_uri": "https://localhost:8080/"
        },
        "id": "83ed8823",
        "outputId": "f08eec72-b559-4d51-92ad-8bb7e4098dcd"
      },
      "outputs": [
        {
          "output_type": "execute_result",
          "data": {
            "text/plain": [
              "Price          0\n",
              "Title          0\n",
              "Location       0\n",
              "Date Posted    0\n",
              "Description    0\n",
              "dtype: int64"
            ]
          },
          "metadata": {},
          "execution_count": 11
        }
      ],
      "source": [
        "df.isnull().sum()"
      ]
    },
    {
      "cell_type": "code",
      "execution_count": 12,
      "id": "a94c1281",
      "metadata": {
        "colab": {
          "base_uri": "https://localhost:8080/"
        },
        "id": "a94c1281",
        "outputId": "344a83fb-3856-4dd9-babd-dabdc4c3a2dd"
      },
      "outputs": [
        {
          "output_type": "stream",
          "name": "stdout",
          "text": [
            "<class 'pandas.core.frame.DataFrame'>\n",
            "RangeIndex: 855 entries, 0 to 854\n",
            "Data columns (total 5 columns):\n",
            " #   Column       Non-Null Count  Dtype \n",
            "---  ------       --------------  ----- \n",
            " 0   Price        855 non-null    object\n",
            " 1   Title        855 non-null    object\n",
            " 2   Location     855 non-null    object\n",
            " 3   Date Posted  855 non-null    object\n",
            " 4   Description  855 non-null    object\n",
            "dtypes: object(5)\n",
            "memory usage: 33.5+ KB\n"
          ]
        }
      ],
      "source": [
        "df.info()"
      ]
    },
    {
      "cell_type": "code",
      "execution_count": 13,
      "id": "23ffbf8c",
      "metadata": {
        "colab": {
          "base_uri": "https://localhost:8080/",
          "height": 206
        },
        "id": "23ffbf8c",
        "outputId": "3a6467e1-4ea1-4ca5-93d4-cab46039e9a7"
      },
      "outputs": [
        {
          "output_type": "execute_result",
          "data": {
            "text/plain": [
              "       Price                                              Title                  Location     Date Posted                                        Description\n",
              "0    $625.00  Furnished Private Offices - Monthly Membership...  Oakville / Halton Region       Yesterday  Get upto 2 months of free fully furnished offi...\n",
              "1  $2,239.00  1 Bedroom For Rent - Oakville - Convenience - ...                  Oakville      22/02/2023  Situated in a peaceful, relaxing community, 75...\n",
              "2  $1,650.00              Bachelor, Niagara and Queen - ID 2613                   Toronto      01/03/2023  Semi-renovated Akelius studio apartment for re...\n",
              "3    $900.00  Furnished Room For Rent All Inclusive Downtown...                   Cobourg      05/02/2023  Furnished room for rent downtown Cobourg. Step...\n",
              "4  $9,000.00                          Industrial Space For Rent                   Toronto  < 23 hours ago  Approx 4000 sq ft of warehouse 1 drive in door..."
            ],
            "text/html": [
              "\n",
              "  <div id=\"df-caf3272d-23df-45c8-a61b-d2c70e8fd862\">\n",
              "    <div class=\"colab-df-container\">\n",
              "      <div>\n",
              "<style scoped>\n",
              "    .dataframe tbody tr th:only-of-type {\n",
              "        vertical-align: middle;\n",
              "    }\n",
              "\n",
              "    .dataframe tbody tr th {\n",
              "        vertical-align: top;\n",
              "    }\n",
              "\n",
              "    .dataframe thead th {\n",
              "        text-align: right;\n",
              "    }\n",
              "</style>\n",
              "<table border=\"1\" class=\"dataframe\">\n",
              "  <thead>\n",
              "    <tr style=\"text-align: right;\">\n",
              "      <th></th>\n",
              "      <th>Price</th>\n",
              "      <th>Title</th>\n",
              "      <th>Location</th>\n",
              "      <th>Date Posted</th>\n",
              "      <th>Description</th>\n",
              "    </tr>\n",
              "  </thead>\n",
              "  <tbody>\n",
              "    <tr>\n",
              "      <th>0</th>\n",
              "      <td>$625.00</td>\n",
              "      <td>Furnished Private Offices - Monthly Membership...</td>\n",
              "      <td>Oakville / Halton Region</td>\n",
              "      <td>Yesterday</td>\n",
              "      <td>Get upto 2 months of free fully furnished offi...</td>\n",
              "    </tr>\n",
              "    <tr>\n",
              "      <th>1</th>\n",
              "      <td>$2,239.00</td>\n",
              "      <td>1 Bedroom For Rent - Oakville - Convenience - ...</td>\n",
              "      <td>Oakville</td>\n",
              "      <td>22/02/2023</td>\n",
              "      <td>Situated in a peaceful, relaxing community, 75...</td>\n",
              "    </tr>\n",
              "    <tr>\n",
              "      <th>2</th>\n",
              "      <td>$1,650.00</td>\n",
              "      <td>Bachelor, Niagara and Queen - ID 2613</td>\n",
              "      <td>Toronto</td>\n",
              "      <td>01/03/2023</td>\n",
              "      <td>Semi-renovated Akelius studio apartment for re...</td>\n",
              "    </tr>\n",
              "    <tr>\n",
              "      <th>3</th>\n",
              "      <td>$900.00</td>\n",
              "      <td>Furnished Room For Rent All Inclusive Downtown...</td>\n",
              "      <td>Cobourg</td>\n",
              "      <td>05/02/2023</td>\n",
              "      <td>Furnished room for rent downtown Cobourg. Step...</td>\n",
              "    </tr>\n",
              "    <tr>\n",
              "      <th>4</th>\n",
              "      <td>$9,000.00</td>\n",
              "      <td>Industrial Space For Rent</td>\n",
              "      <td>Toronto</td>\n",
              "      <td>&lt; 23 hours ago</td>\n",
              "      <td>Approx 4000 sq ft of warehouse 1 drive in door...</td>\n",
              "    </tr>\n",
              "  </tbody>\n",
              "</table>\n",
              "</div>\n",
              "      <button class=\"colab-df-convert\" onclick=\"convertToInteractive('df-caf3272d-23df-45c8-a61b-d2c70e8fd862')\"\n",
              "              title=\"Convert this dataframe to an interactive table.\"\n",
              "              style=\"display:none;\">\n",
              "        \n",
              "  <svg xmlns=\"http://www.w3.org/2000/svg\" height=\"24px\"viewBox=\"0 0 24 24\"\n",
              "       width=\"24px\">\n",
              "    <path d=\"M0 0h24v24H0V0z\" fill=\"none\"/>\n",
              "    <path d=\"M18.56 5.44l.94 2.06.94-2.06 2.06-.94-2.06-.94-.94-2.06-.94 2.06-2.06.94zm-11 1L8.5 8.5l.94-2.06 2.06-.94-2.06-.94L8.5 2.5l-.94 2.06-2.06.94zm10 10l.94 2.06.94-2.06 2.06-.94-2.06-.94-.94-2.06-.94 2.06-2.06.94z\"/><path d=\"M17.41 7.96l-1.37-1.37c-.4-.4-.92-.59-1.43-.59-.52 0-1.04.2-1.43.59L10.3 9.45l-7.72 7.72c-.78.78-.78 2.05 0 2.83L4 21.41c.39.39.9.59 1.41.59.51 0 1.02-.2 1.41-.59l7.78-7.78 2.81-2.81c.8-.78.8-2.07 0-2.86zM5.41 20L4 18.59l7.72-7.72 1.47 1.35L5.41 20z\"/>\n",
              "  </svg>\n",
              "      </button>\n",
              "      \n",
              "  <style>\n",
              "    .colab-df-container {\n",
              "      display:flex;\n",
              "      flex-wrap:wrap;\n",
              "      gap: 12px;\n",
              "    }\n",
              "\n",
              "    .colab-df-convert {\n",
              "      background-color: #E8F0FE;\n",
              "      border: none;\n",
              "      border-radius: 50%;\n",
              "      cursor: pointer;\n",
              "      display: none;\n",
              "      fill: #1967D2;\n",
              "      height: 32px;\n",
              "      padding: 0 0 0 0;\n",
              "      width: 32px;\n",
              "    }\n",
              "\n",
              "    .colab-df-convert:hover {\n",
              "      background-color: #E2EBFA;\n",
              "      box-shadow: 0px 1px 2px rgba(60, 64, 67, 0.3), 0px 1px 3px 1px rgba(60, 64, 67, 0.15);\n",
              "      fill: #174EA6;\n",
              "    }\n",
              "\n",
              "    [theme=dark] .colab-df-convert {\n",
              "      background-color: #3B4455;\n",
              "      fill: #D2E3FC;\n",
              "    }\n",
              "\n",
              "    [theme=dark] .colab-df-convert:hover {\n",
              "      background-color: #434B5C;\n",
              "      box-shadow: 0px 1px 3px 1px rgba(0, 0, 0, 0.15);\n",
              "      filter: drop-shadow(0px 1px 2px rgba(0, 0, 0, 0.3));\n",
              "      fill: #FFFFFF;\n",
              "    }\n",
              "  </style>\n",
              "\n",
              "      <script>\n",
              "        const buttonEl =\n",
              "          document.querySelector('#df-caf3272d-23df-45c8-a61b-d2c70e8fd862 button.colab-df-convert');\n",
              "        buttonEl.style.display =\n",
              "          google.colab.kernel.accessAllowed ? 'block' : 'none';\n",
              "\n",
              "        async function convertToInteractive(key) {\n",
              "          const element = document.querySelector('#df-caf3272d-23df-45c8-a61b-d2c70e8fd862');\n",
              "          const dataTable =\n",
              "            await google.colab.kernel.invokeFunction('convertToInteractive',\n",
              "                                                     [key], {});\n",
              "          if (!dataTable) return;\n",
              "\n",
              "          const docLinkHtml = 'Like what you see? Visit the ' +\n",
              "            '<a target=\"_blank\" href=https://colab.research.google.com/notebooks/data_table.ipynb>data table notebook</a>'\n",
              "            + ' to learn more about interactive tables.';\n",
              "          element.innerHTML = '';\n",
              "          dataTable['output_type'] = 'display_data';\n",
              "          await google.colab.output.renderOutput(dataTable, element);\n",
              "          const docLink = document.createElement('div');\n",
              "          docLink.innerHTML = docLinkHtml;\n",
              "          element.appendChild(docLink);\n",
              "        }\n",
              "      </script>\n",
              "    </div>\n",
              "  </div>\n",
              "  "
            ]
          },
          "metadata": {},
          "execution_count": 13
        }
      ],
      "source": [
        "df.head()"
      ]
    },
    {
      "cell_type": "code",
      "execution_count": 14,
      "id": "2bd279e1",
      "metadata": {
        "colab": {
          "base_uri": "https://localhost:8080/",
          "height": 1000
        },
        "id": "2bd279e1",
        "outputId": "699a100b-3732-4bdd-b730-3fd5f4dbf6d7"
      },
      "outputs": [
        {
          "output_type": "execute_result",
          "data": {
            "text/plain": [
              "             Price                                              Title                   Location     Date Posted                                        Description\n",
              "0          $625.00  Furnished Private Offices - Monthly Membership...   Oakville / Halton Region       Yesterday  Get upto 2 months of free fully furnished offi...\n",
              "1        $2,239.00  1 Bedroom For Rent - Oakville - Convenience - ...                   Oakville      22/02/2023  Situated in a peaceful, relaxing community, 75...\n",
              "2        $1,650.00              Bachelor, Niagara and Queen - ID 2613                    Toronto      01/03/2023  Semi-renovated Akelius studio apartment for re...\n",
              "3          $900.00  Furnished Room For Rent All Inclusive Downtown...                    Cobourg      05/02/2023  Furnished room for rent downtown Cobourg. Step...\n",
              "4        $9,000.00                          Industrial Space For Rent                    Toronto  < 23 hours ago  Approx 4000 sq ft of warehouse 1 drive in door...\n",
              "5   Please Contact               4 Bedroom house in Brampton for rent                   Brampton  < 17 hours ago  LOCATION NEAR FERNFOREST DR & SANDALWOOD PARKW...\n",
              "6        $3,500.00                           4 Bedroom House for rent                   Brampton  < 17 hours ago  4 Bedroom Detached with 2 car garage Upto 4 pa...\n",
              "7        $1,200.00                         Room for rent, female only                    Toronto  < 17 hours ago  1 room in a 2 bedroom basement apartment, shar...\n",
              "8        $1,000.00                      One bedroom basement for rent                   Brampton  < 17 hours ago  Only female No parking Separate kitchen Separa...\n",
              "9   Please Contact                                 1 bedroom for rent                Mississauga  < 17 hours ago  One fully furnished bedroom available on upper...\n",
              "10       $2,800.00                                     Condo for rent            City of Toronto  < 17 hours ago  2 specious rooms condo for rent All utilities ...\n",
              "11       $2,800.00  YONGE/STEELES - MODERN CONDO RENT! CORNER 1 BE...                  Thornhill  < 17 hours ago  Like-New Condition, Almost a 2 Bedroom! 1 Bedr...\n",
              "12       $2,875.00          Full unit 2 bed/1 bath apartment for rent                    Toronto  < 17 hours ago  Unit: 2 bedroom / 1 bathroom apartment Price: ...\n",
              "13       $2,400.00      LUXURY CONDOS WITH 5 STARS AMENITIES FOR RENT            City of Toronto  < 17 hours ago  ***PLEASE READ THE AD FIRST*** *PLEASE DO NOT ...\n",
              "14       $2,400.00        LUXURY CONDOS WITH GREAT AMENITIES FOR RENT            City of Toronto  < 17 hours ago  ***PLEASE READ THE AD FIRST*** *PLEASE DO NOT ...\n",
              "15         $900.00                                      room for rent                   Brampton  < 17 hours ago  Basement have 2 rooms, one extra large room . ...\n",
              "16         $800.00                                  Bedroom for rent.                   Brampton  < 17 hours ago  One bedroom is available for rent in brand new...\n",
              "17         $600.00                   Sharing room for rent for 1 girl  Mississauga / Peel Region  < 17 hours ago  Sharing room for 1 girl for $600 plus utilitie...\n",
              "18       $1,900.00  2BHK Bsmt $1900 1st May in Brampton at Dixie/C...                   Brampton  < 17 hours ago  2BHK Bsmt $1900 1st May in Brampton at Dixie/C...\n",
              "19         $900.00                       Pickering Bungalow for rent!                  Pickering  < 17 hours ago  Main floor 3 bedrooms, 1.5 bath Kitchen, livin..."
            ],
            "text/html": [
              "\n",
              "  <div id=\"df-15b1b2d3-5571-4dc8-8586-0acad29accab\">\n",
              "    <div class=\"colab-df-container\">\n",
              "      <div>\n",
              "<style scoped>\n",
              "    .dataframe tbody tr th:only-of-type {\n",
              "        vertical-align: middle;\n",
              "    }\n",
              "\n",
              "    .dataframe tbody tr th {\n",
              "        vertical-align: top;\n",
              "    }\n",
              "\n",
              "    .dataframe thead th {\n",
              "        text-align: right;\n",
              "    }\n",
              "</style>\n",
              "<table border=\"1\" class=\"dataframe\">\n",
              "  <thead>\n",
              "    <tr style=\"text-align: right;\">\n",
              "      <th></th>\n",
              "      <th>Price</th>\n",
              "      <th>Title</th>\n",
              "      <th>Location</th>\n",
              "      <th>Date Posted</th>\n",
              "      <th>Description</th>\n",
              "    </tr>\n",
              "  </thead>\n",
              "  <tbody>\n",
              "    <tr>\n",
              "      <th>0</th>\n",
              "      <td>$625.00</td>\n",
              "      <td>Furnished Private Offices - Monthly Membership...</td>\n",
              "      <td>Oakville / Halton Region</td>\n",
              "      <td>Yesterday</td>\n",
              "      <td>Get upto 2 months of free fully furnished offi...</td>\n",
              "    </tr>\n",
              "    <tr>\n",
              "      <th>1</th>\n",
              "      <td>$2,239.00</td>\n",
              "      <td>1 Bedroom For Rent - Oakville - Convenience - ...</td>\n",
              "      <td>Oakville</td>\n",
              "      <td>22/02/2023</td>\n",
              "      <td>Situated in a peaceful, relaxing community, 75...</td>\n",
              "    </tr>\n",
              "    <tr>\n",
              "      <th>2</th>\n",
              "      <td>$1,650.00</td>\n",
              "      <td>Bachelor, Niagara and Queen - ID 2613</td>\n",
              "      <td>Toronto</td>\n",
              "      <td>01/03/2023</td>\n",
              "      <td>Semi-renovated Akelius studio apartment for re...</td>\n",
              "    </tr>\n",
              "    <tr>\n",
              "      <th>3</th>\n",
              "      <td>$900.00</td>\n",
              "      <td>Furnished Room For Rent All Inclusive Downtown...</td>\n",
              "      <td>Cobourg</td>\n",
              "      <td>05/02/2023</td>\n",
              "      <td>Furnished room for rent downtown Cobourg. Step...</td>\n",
              "    </tr>\n",
              "    <tr>\n",
              "      <th>4</th>\n",
              "      <td>$9,000.00</td>\n",
              "      <td>Industrial Space For Rent</td>\n",
              "      <td>Toronto</td>\n",
              "      <td>&lt; 23 hours ago</td>\n",
              "      <td>Approx 4000 sq ft of warehouse 1 drive in door...</td>\n",
              "    </tr>\n",
              "    <tr>\n",
              "      <th>5</th>\n",
              "      <td>Please Contact</td>\n",
              "      <td>4 Bedroom house in Brampton for rent</td>\n",
              "      <td>Brampton</td>\n",
              "      <td>&lt; 17 hours ago</td>\n",
              "      <td>LOCATION NEAR FERNFOREST DR &amp; SANDALWOOD PARKW...</td>\n",
              "    </tr>\n",
              "    <tr>\n",
              "      <th>6</th>\n",
              "      <td>$3,500.00</td>\n",
              "      <td>4 Bedroom House for rent</td>\n",
              "      <td>Brampton</td>\n",
              "      <td>&lt; 17 hours ago</td>\n",
              "      <td>4 Bedroom Detached with 2 car garage Upto 4 pa...</td>\n",
              "    </tr>\n",
              "    <tr>\n",
              "      <th>7</th>\n",
              "      <td>$1,200.00</td>\n",
              "      <td>Room for rent, female only</td>\n",
              "      <td>Toronto</td>\n",
              "      <td>&lt; 17 hours ago</td>\n",
              "      <td>1 room in a 2 bedroom basement apartment, shar...</td>\n",
              "    </tr>\n",
              "    <tr>\n",
              "      <th>8</th>\n",
              "      <td>$1,000.00</td>\n",
              "      <td>One bedroom basement for rent</td>\n",
              "      <td>Brampton</td>\n",
              "      <td>&lt; 17 hours ago</td>\n",
              "      <td>Only female No parking Separate kitchen Separa...</td>\n",
              "    </tr>\n",
              "    <tr>\n",
              "      <th>9</th>\n",
              "      <td>Please Contact</td>\n",
              "      <td>1 bedroom for rent</td>\n",
              "      <td>Mississauga</td>\n",
              "      <td>&lt; 17 hours ago</td>\n",
              "      <td>One fully furnished bedroom available on upper...</td>\n",
              "    </tr>\n",
              "    <tr>\n",
              "      <th>10</th>\n",
              "      <td>$2,800.00</td>\n",
              "      <td>Condo for rent</td>\n",
              "      <td>City of Toronto</td>\n",
              "      <td>&lt; 17 hours ago</td>\n",
              "      <td>2 specious rooms condo for rent All utilities ...</td>\n",
              "    </tr>\n",
              "    <tr>\n",
              "      <th>11</th>\n",
              "      <td>$2,800.00</td>\n",
              "      <td>YONGE/STEELES - MODERN CONDO RENT! CORNER 1 BE...</td>\n",
              "      <td>Thornhill</td>\n",
              "      <td>&lt; 17 hours ago</td>\n",
              "      <td>Like-New Condition, Almost a 2 Bedroom! 1 Bedr...</td>\n",
              "    </tr>\n",
              "    <tr>\n",
              "      <th>12</th>\n",
              "      <td>$2,875.00</td>\n",
              "      <td>Full unit 2 bed/1 bath apartment for rent</td>\n",
              "      <td>Toronto</td>\n",
              "      <td>&lt; 17 hours ago</td>\n",
              "      <td>Unit: 2 bedroom / 1 bathroom apartment Price: ...</td>\n",
              "    </tr>\n",
              "    <tr>\n",
              "      <th>13</th>\n",
              "      <td>$2,400.00</td>\n",
              "      <td>LUXURY CONDOS WITH 5 STARS AMENITIES FOR RENT</td>\n",
              "      <td>City of Toronto</td>\n",
              "      <td>&lt; 17 hours ago</td>\n",
              "      <td>***PLEASE READ THE AD FIRST*** *PLEASE DO NOT ...</td>\n",
              "    </tr>\n",
              "    <tr>\n",
              "      <th>14</th>\n",
              "      <td>$2,400.00</td>\n",
              "      <td>LUXURY CONDOS WITH GREAT AMENITIES FOR RENT</td>\n",
              "      <td>City of Toronto</td>\n",
              "      <td>&lt; 17 hours ago</td>\n",
              "      <td>***PLEASE READ THE AD FIRST*** *PLEASE DO NOT ...</td>\n",
              "    </tr>\n",
              "    <tr>\n",
              "      <th>15</th>\n",
              "      <td>$900.00</td>\n",
              "      <td>room for rent</td>\n",
              "      <td>Brampton</td>\n",
              "      <td>&lt; 17 hours ago</td>\n",
              "      <td>Basement have 2 rooms, one extra large room . ...</td>\n",
              "    </tr>\n",
              "    <tr>\n",
              "      <th>16</th>\n",
              "      <td>$800.00</td>\n",
              "      <td>Bedroom for rent.</td>\n",
              "      <td>Brampton</td>\n",
              "      <td>&lt; 17 hours ago</td>\n",
              "      <td>One bedroom is available for rent in brand new...</td>\n",
              "    </tr>\n",
              "    <tr>\n",
              "      <th>17</th>\n",
              "      <td>$600.00</td>\n",
              "      <td>Sharing room for rent for 1 girl</td>\n",
              "      <td>Mississauga / Peel Region</td>\n",
              "      <td>&lt; 17 hours ago</td>\n",
              "      <td>Sharing room for 1 girl for $600 plus utilitie...</td>\n",
              "    </tr>\n",
              "    <tr>\n",
              "      <th>18</th>\n",
              "      <td>$1,900.00</td>\n",
              "      <td>2BHK Bsmt $1900 1st May in Brampton at Dixie/C...</td>\n",
              "      <td>Brampton</td>\n",
              "      <td>&lt; 17 hours ago</td>\n",
              "      <td>2BHK Bsmt $1900 1st May in Brampton at Dixie/C...</td>\n",
              "    </tr>\n",
              "    <tr>\n",
              "      <th>19</th>\n",
              "      <td>$900.00</td>\n",
              "      <td>Pickering Bungalow for rent!</td>\n",
              "      <td>Pickering</td>\n",
              "      <td>&lt; 17 hours ago</td>\n",
              "      <td>Main floor 3 bedrooms, 1.5 bath Kitchen, livin...</td>\n",
              "    </tr>\n",
              "  </tbody>\n",
              "</table>\n",
              "</div>\n",
              "      <button class=\"colab-df-convert\" onclick=\"convertToInteractive('df-15b1b2d3-5571-4dc8-8586-0acad29accab')\"\n",
              "              title=\"Convert this dataframe to an interactive table.\"\n",
              "              style=\"display:none;\">\n",
              "        \n",
              "  <svg xmlns=\"http://www.w3.org/2000/svg\" height=\"24px\"viewBox=\"0 0 24 24\"\n",
              "       width=\"24px\">\n",
              "    <path d=\"M0 0h24v24H0V0z\" fill=\"none\"/>\n",
              "    <path d=\"M18.56 5.44l.94 2.06.94-2.06 2.06-.94-2.06-.94-.94-2.06-.94 2.06-2.06.94zm-11 1L8.5 8.5l.94-2.06 2.06-.94-2.06-.94L8.5 2.5l-.94 2.06-2.06.94zm10 10l.94 2.06.94-2.06 2.06-.94-2.06-.94-.94-2.06-.94 2.06-2.06.94z\"/><path d=\"M17.41 7.96l-1.37-1.37c-.4-.4-.92-.59-1.43-.59-.52 0-1.04.2-1.43.59L10.3 9.45l-7.72 7.72c-.78.78-.78 2.05 0 2.83L4 21.41c.39.39.9.59 1.41.59.51 0 1.02-.2 1.41-.59l7.78-7.78 2.81-2.81c.8-.78.8-2.07 0-2.86zM5.41 20L4 18.59l7.72-7.72 1.47 1.35L5.41 20z\"/>\n",
              "  </svg>\n",
              "      </button>\n",
              "      \n",
              "  <style>\n",
              "    .colab-df-container {\n",
              "      display:flex;\n",
              "      flex-wrap:wrap;\n",
              "      gap: 12px;\n",
              "    }\n",
              "\n",
              "    .colab-df-convert {\n",
              "      background-color: #E8F0FE;\n",
              "      border: none;\n",
              "      border-radius: 50%;\n",
              "      cursor: pointer;\n",
              "      display: none;\n",
              "      fill: #1967D2;\n",
              "      height: 32px;\n",
              "      padding: 0 0 0 0;\n",
              "      width: 32px;\n",
              "    }\n",
              "\n",
              "    .colab-df-convert:hover {\n",
              "      background-color: #E2EBFA;\n",
              "      box-shadow: 0px 1px 2px rgba(60, 64, 67, 0.3), 0px 1px 3px 1px rgba(60, 64, 67, 0.15);\n",
              "      fill: #174EA6;\n",
              "    }\n",
              "\n",
              "    [theme=dark] .colab-df-convert {\n",
              "      background-color: #3B4455;\n",
              "      fill: #D2E3FC;\n",
              "    }\n",
              "\n",
              "    [theme=dark] .colab-df-convert:hover {\n",
              "      background-color: #434B5C;\n",
              "      box-shadow: 0px 1px 3px 1px rgba(0, 0, 0, 0.15);\n",
              "      filter: drop-shadow(0px 1px 2px rgba(0, 0, 0, 0.3));\n",
              "      fill: #FFFFFF;\n",
              "    }\n",
              "  </style>\n",
              "\n",
              "      <script>\n",
              "        const buttonEl =\n",
              "          document.querySelector('#df-15b1b2d3-5571-4dc8-8586-0acad29accab button.colab-df-convert');\n",
              "        buttonEl.style.display =\n",
              "          google.colab.kernel.accessAllowed ? 'block' : 'none';\n",
              "\n",
              "        async function convertToInteractive(key) {\n",
              "          const element = document.querySelector('#df-15b1b2d3-5571-4dc8-8586-0acad29accab');\n",
              "          const dataTable =\n",
              "            await google.colab.kernel.invokeFunction('convertToInteractive',\n",
              "                                                     [key], {});\n",
              "          if (!dataTable) return;\n",
              "\n",
              "          const docLinkHtml = 'Like what you see? Visit the ' +\n",
              "            '<a target=\"_blank\" href=https://colab.research.google.com/notebooks/data_table.ipynb>data table notebook</a>'\n",
              "            + ' to learn more about interactive tables.';\n",
              "          element.innerHTML = '';\n",
              "          dataTable['output_type'] = 'display_data';\n",
              "          await google.colab.output.renderOutput(dataTable, element);\n",
              "          const docLink = document.createElement('div');\n",
              "          docLink.innerHTML = docLinkHtml;\n",
              "          element.appendChild(docLink);\n",
              "        }\n",
              "      </script>\n",
              "    </div>\n",
              "  </div>\n",
              "  "
            ]
          },
          "metadata": {},
          "execution_count": 14
        }
      ],
      "source": [
        "df.head(20)"
      ]
    },
    {
      "cell_type": "code",
      "execution_count": 15,
      "id": "6b5fec36",
      "metadata": {
        "colab": {
          "base_uri": "https://localhost:8080/"
        },
        "id": "6b5fec36",
        "outputId": "e914bb5a-e22e-40b6-ff2a-5c28477fece2"
      },
      "outputs": [
        {
          "output_type": "stream",
          "name": "stderr",
          "text": [
            "<ipython-input-15-db8572c768a2>:2: FutureWarning: The default value of regex will change from True to False in a future version. In addition, single character regular expressions will *not* be treated as literal strings when regex=True.\n",
            "  df['Price'] = df['Price'].str.replace('$', '').str.replace(',', '')\n"
          ]
        }
      ],
      "source": [
        "# remove the dollar sign and comma from the \"Price\" column\n",
        "df['Price'] = df['Price'].str.replace('$', '').str.replace(',', '')\n",
        "\n",
        "# replace \"Please Contact\" values with NaN\n",
        "df['Price'] = pd.to_numeric(df['Price'], errors='coerce')\n"
      ]
    },
    {
      "cell_type": "code",
      "execution_count": 16,
      "id": "f240c44f",
      "metadata": {
        "colab": {
          "base_uri": "https://localhost:8080/",
          "height": 998
        },
        "id": "f240c44f",
        "outputId": "6eecc41c-f5ed-423d-93f7-76d09f2d89c4"
      },
      "outputs": [
        {
          "output_type": "execute_result",
          "data": {
            "text/plain": [
              "     Price                                              Title                   Location     Date Posted                                        Description\n",
              "0    625.0  Furnished Private Offices - Monthly Membership...   Oakville / Halton Region       Yesterday  Get upto 2 months of free fully furnished offi...\n",
              "1   2239.0  1 Bedroom For Rent - Oakville - Convenience - ...                   Oakville      22/02/2023  Situated in a peaceful, relaxing community, 75...\n",
              "2   1650.0              Bachelor, Niagara and Queen - ID 2613                    Toronto      01/03/2023  Semi-renovated Akelius studio apartment for re...\n",
              "3    900.0  Furnished Room For Rent All Inclusive Downtown...                    Cobourg      05/02/2023  Furnished room for rent downtown Cobourg. Step...\n",
              "4   9000.0                          Industrial Space For Rent                    Toronto  < 23 hours ago  Approx 4000 sq ft of warehouse 1 drive in door...\n",
              "5      NaN               4 Bedroom house in Brampton for rent                   Brampton  < 17 hours ago  LOCATION NEAR FERNFOREST DR & SANDALWOOD PARKW...\n",
              "6   3500.0                           4 Bedroom House for rent                   Brampton  < 17 hours ago  4 Bedroom Detached with 2 car garage Upto 4 pa...\n",
              "7   1200.0                         Room for rent, female only                    Toronto  < 17 hours ago  1 room in a 2 bedroom basement apartment, shar...\n",
              "8   1000.0                      One bedroom basement for rent                   Brampton  < 17 hours ago  Only female No parking Separate kitchen Separa...\n",
              "9      NaN                                 1 bedroom for rent                Mississauga  < 17 hours ago  One fully furnished bedroom available on upper...\n",
              "10  2800.0                                     Condo for rent            City of Toronto  < 17 hours ago  2 specious rooms condo for rent All utilities ...\n",
              "11  2800.0  YONGE/STEELES - MODERN CONDO RENT! CORNER 1 BE...                  Thornhill  < 17 hours ago  Like-New Condition, Almost a 2 Bedroom! 1 Bedr...\n",
              "12  2875.0          Full unit 2 bed/1 bath apartment for rent                    Toronto  < 17 hours ago  Unit: 2 bedroom / 1 bathroom apartment Price: ...\n",
              "13  2400.0      LUXURY CONDOS WITH 5 STARS AMENITIES FOR RENT            City of Toronto  < 17 hours ago  ***PLEASE READ THE AD FIRST*** *PLEASE DO NOT ...\n",
              "14  2400.0        LUXURY CONDOS WITH GREAT AMENITIES FOR RENT            City of Toronto  < 17 hours ago  ***PLEASE READ THE AD FIRST*** *PLEASE DO NOT ...\n",
              "15   900.0                                      room for rent                   Brampton  < 17 hours ago  Basement have 2 rooms, one extra large room . ...\n",
              "16   800.0                                  Bedroom for rent.                   Brampton  < 17 hours ago  One bedroom is available for rent in brand new...\n",
              "17   600.0                   Sharing room for rent for 1 girl  Mississauga / Peel Region  < 17 hours ago  Sharing room for 1 girl for $600 plus utilitie...\n",
              "18  1900.0  2BHK Bsmt $1900 1st May in Brampton at Dixie/C...                   Brampton  < 17 hours ago  2BHK Bsmt $1900 1st May in Brampton at Dixie/C...\n",
              "19   900.0                       Pickering Bungalow for rent!                  Pickering  < 17 hours ago  Main floor 3 bedrooms, 1.5 bath Kitchen, livin..."
            ],
            "text/html": [
              "\n",
              "  <div id=\"df-48a1f9b6-a50c-46e1-a8fe-b1de0ed78d51\">\n",
              "    <div class=\"colab-df-container\">\n",
              "      <div>\n",
              "<style scoped>\n",
              "    .dataframe tbody tr th:only-of-type {\n",
              "        vertical-align: middle;\n",
              "    }\n",
              "\n",
              "    .dataframe tbody tr th {\n",
              "        vertical-align: top;\n",
              "    }\n",
              "\n",
              "    .dataframe thead th {\n",
              "        text-align: right;\n",
              "    }\n",
              "</style>\n",
              "<table border=\"1\" class=\"dataframe\">\n",
              "  <thead>\n",
              "    <tr style=\"text-align: right;\">\n",
              "      <th></th>\n",
              "      <th>Price</th>\n",
              "      <th>Title</th>\n",
              "      <th>Location</th>\n",
              "      <th>Date Posted</th>\n",
              "      <th>Description</th>\n",
              "    </tr>\n",
              "  </thead>\n",
              "  <tbody>\n",
              "    <tr>\n",
              "      <th>0</th>\n",
              "      <td>625.0</td>\n",
              "      <td>Furnished Private Offices - Monthly Membership...</td>\n",
              "      <td>Oakville / Halton Region</td>\n",
              "      <td>Yesterday</td>\n",
              "      <td>Get upto 2 months of free fully furnished offi...</td>\n",
              "    </tr>\n",
              "    <tr>\n",
              "      <th>1</th>\n",
              "      <td>2239.0</td>\n",
              "      <td>1 Bedroom For Rent - Oakville - Convenience - ...</td>\n",
              "      <td>Oakville</td>\n",
              "      <td>22/02/2023</td>\n",
              "      <td>Situated in a peaceful, relaxing community, 75...</td>\n",
              "    </tr>\n",
              "    <tr>\n",
              "      <th>2</th>\n",
              "      <td>1650.0</td>\n",
              "      <td>Bachelor, Niagara and Queen - ID 2613</td>\n",
              "      <td>Toronto</td>\n",
              "      <td>01/03/2023</td>\n",
              "      <td>Semi-renovated Akelius studio apartment for re...</td>\n",
              "    </tr>\n",
              "    <tr>\n",
              "      <th>3</th>\n",
              "      <td>900.0</td>\n",
              "      <td>Furnished Room For Rent All Inclusive Downtown...</td>\n",
              "      <td>Cobourg</td>\n",
              "      <td>05/02/2023</td>\n",
              "      <td>Furnished room for rent downtown Cobourg. Step...</td>\n",
              "    </tr>\n",
              "    <tr>\n",
              "      <th>4</th>\n",
              "      <td>9000.0</td>\n",
              "      <td>Industrial Space For Rent</td>\n",
              "      <td>Toronto</td>\n",
              "      <td>&lt; 23 hours ago</td>\n",
              "      <td>Approx 4000 sq ft of warehouse 1 drive in door...</td>\n",
              "    </tr>\n",
              "    <tr>\n",
              "      <th>5</th>\n",
              "      <td>NaN</td>\n",
              "      <td>4 Bedroom house in Brampton for rent</td>\n",
              "      <td>Brampton</td>\n",
              "      <td>&lt; 17 hours ago</td>\n",
              "      <td>LOCATION NEAR FERNFOREST DR &amp; SANDALWOOD PARKW...</td>\n",
              "    </tr>\n",
              "    <tr>\n",
              "      <th>6</th>\n",
              "      <td>3500.0</td>\n",
              "      <td>4 Bedroom House for rent</td>\n",
              "      <td>Brampton</td>\n",
              "      <td>&lt; 17 hours ago</td>\n",
              "      <td>4 Bedroom Detached with 2 car garage Upto 4 pa...</td>\n",
              "    </tr>\n",
              "    <tr>\n",
              "      <th>7</th>\n",
              "      <td>1200.0</td>\n",
              "      <td>Room for rent, female only</td>\n",
              "      <td>Toronto</td>\n",
              "      <td>&lt; 17 hours ago</td>\n",
              "      <td>1 room in a 2 bedroom basement apartment, shar...</td>\n",
              "    </tr>\n",
              "    <tr>\n",
              "      <th>8</th>\n",
              "      <td>1000.0</td>\n",
              "      <td>One bedroom basement for rent</td>\n",
              "      <td>Brampton</td>\n",
              "      <td>&lt; 17 hours ago</td>\n",
              "      <td>Only female No parking Separate kitchen Separa...</td>\n",
              "    </tr>\n",
              "    <tr>\n",
              "      <th>9</th>\n",
              "      <td>NaN</td>\n",
              "      <td>1 bedroom for rent</td>\n",
              "      <td>Mississauga</td>\n",
              "      <td>&lt; 17 hours ago</td>\n",
              "      <td>One fully furnished bedroom available on upper...</td>\n",
              "    </tr>\n",
              "    <tr>\n",
              "      <th>10</th>\n",
              "      <td>2800.0</td>\n",
              "      <td>Condo for rent</td>\n",
              "      <td>City of Toronto</td>\n",
              "      <td>&lt; 17 hours ago</td>\n",
              "      <td>2 specious rooms condo for rent All utilities ...</td>\n",
              "    </tr>\n",
              "    <tr>\n",
              "      <th>11</th>\n",
              "      <td>2800.0</td>\n",
              "      <td>YONGE/STEELES - MODERN CONDO RENT! CORNER 1 BE...</td>\n",
              "      <td>Thornhill</td>\n",
              "      <td>&lt; 17 hours ago</td>\n",
              "      <td>Like-New Condition, Almost a 2 Bedroom! 1 Bedr...</td>\n",
              "    </tr>\n",
              "    <tr>\n",
              "      <th>12</th>\n",
              "      <td>2875.0</td>\n",
              "      <td>Full unit 2 bed/1 bath apartment for rent</td>\n",
              "      <td>Toronto</td>\n",
              "      <td>&lt; 17 hours ago</td>\n",
              "      <td>Unit: 2 bedroom / 1 bathroom apartment Price: ...</td>\n",
              "    </tr>\n",
              "    <tr>\n",
              "      <th>13</th>\n",
              "      <td>2400.0</td>\n",
              "      <td>LUXURY CONDOS WITH 5 STARS AMENITIES FOR RENT</td>\n",
              "      <td>City of Toronto</td>\n",
              "      <td>&lt; 17 hours ago</td>\n",
              "      <td>***PLEASE READ THE AD FIRST*** *PLEASE DO NOT ...</td>\n",
              "    </tr>\n",
              "    <tr>\n",
              "      <th>14</th>\n",
              "      <td>2400.0</td>\n",
              "      <td>LUXURY CONDOS WITH GREAT AMENITIES FOR RENT</td>\n",
              "      <td>City of Toronto</td>\n",
              "      <td>&lt; 17 hours ago</td>\n",
              "      <td>***PLEASE READ THE AD FIRST*** *PLEASE DO NOT ...</td>\n",
              "    </tr>\n",
              "    <tr>\n",
              "      <th>15</th>\n",
              "      <td>900.0</td>\n",
              "      <td>room for rent</td>\n",
              "      <td>Brampton</td>\n",
              "      <td>&lt; 17 hours ago</td>\n",
              "      <td>Basement have 2 rooms, one extra large room . ...</td>\n",
              "    </tr>\n",
              "    <tr>\n",
              "      <th>16</th>\n",
              "      <td>800.0</td>\n",
              "      <td>Bedroom for rent.</td>\n",
              "      <td>Brampton</td>\n",
              "      <td>&lt; 17 hours ago</td>\n",
              "      <td>One bedroom is available for rent in brand new...</td>\n",
              "    </tr>\n",
              "    <tr>\n",
              "      <th>17</th>\n",
              "      <td>600.0</td>\n",
              "      <td>Sharing room for rent for 1 girl</td>\n",
              "      <td>Mississauga / Peel Region</td>\n",
              "      <td>&lt; 17 hours ago</td>\n",
              "      <td>Sharing room for 1 girl for $600 plus utilitie...</td>\n",
              "    </tr>\n",
              "    <tr>\n",
              "      <th>18</th>\n",
              "      <td>1900.0</td>\n",
              "      <td>2BHK Bsmt $1900 1st May in Brampton at Dixie/C...</td>\n",
              "      <td>Brampton</td>\n",
              "      <td>&lt; 17 hours ago</td>\n",
              "      <td>2BHK Bsmt $1900 1st May in Brampton at Dixie/C...</td>\n",
              "    </tr>\n",
              "    <tr>\n",
              "      <th>19</th>\n",
              "      <td>900.0</td>\n",
              "      <td>Pickering Bungalow for rent!</td>\n",
              "      <td>Pickering</td>\n",
              "      <td>&lt; 17 hours ago</td>\n",
              "      <td>Main floor 3 bedrooms, 1.5 bath Kitchen, livin...</td>\n",
              "    </tr>\n",
              "  </tbody>\n",
              "</table>\n",
              "</div>\n",
              "      <button class=\"colab-df-convert\" onclick=\"convertToInteractive('df-48a1f9b6-a50c-46e1-a8fe-b1de0ed78d51')\"\n",
              "              title=\"Convert this dataframe to an interactive table.\"\n",
              "              style=\"display:none;\">\n",
              "        \n",
              "  <svg xmlns=\"http://www.w3.org/2000/svg\" height=\"24px\"viewBox=\"0 0 24 24\"\n",
              "       width=\"24px\">\n",
              "    <path d=\"M0 0h24v24H0V0z\" fill=\"none\"/>\n",
              "    <path d=\"M18.56 5.44l.94 2.06.94-2.06 2.06-.94-2.06-.94-.94-2.06-.94 2.06-2.06.94zm-11 1L8.5 8.5l.94-2.06 2.06-.94-2.06-.94L8.5 2.5l-.94 2.06-2.06.94zm10 10l.94 2.06.94-2.06 2.06-.94-2.06-.94-.94-2.06-.94 2.06-2.06.94z\"/><path d=\"M17.41 7.96l-1.37-1.37c-.4-.4-.92-.59-1.43-.59-.52 0-1.04.2-1.43.59L10.3 9.45l-7.72 7.72c-.78.78-.78 2.05 0 2.83L4 21.41c.39.39.9.59 1.41.59.51 0 1.02-.2 1.41-.59l7.78-7.78 2.81-2.81c.8-.78.8-2.07 0-2.86zM5.41 20L4 18.59l7.72-7.72 1.47 1.35L5.41 20z\"/>\n",
              "  </svg>\n",
              "      </button>\n",
              "      \n",
              "  <style>\n",
              "    .colab-df-container {\n",
              "      display:flex;\n",
              "      flex-wrap:wrap;\n",
              "      gap: 12px;\n",
              "    }\n",
              "\n",
              "    .colab-df-convert {\n",
              "      background-color: #E8F0FE;\n",
              "      border: none;\n",
              "      border-radius: 50%;\n",
              "      cursor: pointer;\n",
              "      display: none;\n",
              "      fill: #1967D2;\n",
              "      height: 32px;\n",
              "      padding: 0 0 0 0;\n",
              "      width: 32px;\n",
              "    }\n",
              "\n",
              "    .colab-df-convert:hover {\n",
              "      background-color: #E2EBFA;\n",
              "      box-shadow: 0px 1px 2px rgba(60, 64, 67, 0.3), 0px 1px 3px 1px rgba(60, 64, 67, 0.15);\n",
              "      fill: #174EA6;\n",
              "    }\n",
              "\n",
              "    [theme=dark] .colab-df-convert {\n",
              "      background-color: #3B4455;\n",
              "      fill: #D2E3FC;\n",
              "    }\n",
              "\n",
              "    [theme=dark] .colab-df-convert:hover {\n",
              "      background-color: #434B5C;\n",
              "      box-shadow: 0px 1px 3px 1px rgba(0, 0, 0, 0.15);\n",
              "      filter: drop-shadow(0px 1px 2px rgba(0, 0, 0, 0.3));\n",
              "      fill: #FFFFFF;\n",
              "    }\n",
              "  </style>\n",
              "\n",
              "      <script>\n",
              "        const buttonEl =\n",
              "          document.querySelector('#df-48a1f9b6-a50c-46e1-a8fe-b1de0ed78d51 button.colab-df-convert');\n",
              "        buttonEl.style.display =\n",
              "          google.colab.kernel.accessAllowed ? 'block' : 'none';\n",
              "\n",
              "        async function convertToInteractive(key) {\n",
              "          const element = document.querySelector('#df-48a1f9b6-a50c-46e1-a8fe-b1de0ed78d51');\n",
              "          const dataTable =\n",
              "            await google.colab.kernel.invokeFunction('convertToInteractive',\n",
              "                                                     [key], {});\n",
              "          if (!dataTable) return;\n",
              "\n",
              "          const docLinkHtml = 'Like what you see? Visit the ' +\n",
              "            '<a target=\"_blank\" href=https://colab.research.google.com/notebooks/data_table.ipynb>data table notebook</a>'\n",
              "            + ' to learn more about interactive tables.';\n",
              "          element.innerHTML = '';\n",
              "          dataTable['output_type'] = 'display_data';\n",
              "          await google.colab.output.renderOutput(dataTable, element);\n",
              "          const docLink = document.createElement('div');\n",
              "          docLink.innerHTML = docLinkHtml;\n",
              "          element.appendChild(docLink);\n",
              "        }\n",
              "      </script>\n",
              "    </div>\n",
              "  </div>\n",
              "  "
            ]
          },
          "metadata": {},
          "execution_count": 16
        }
      ],
      "source": [
        "df.head(20)"
      ]
    },
    {
      "cell_type": "code",
      "execution_count": 17,
      "id": "3420a3f6",
      "metadata": {
        "colab": {
          "base_uri": "https://localhost:8080/"
        },
        "id": "3420a3f6",
        "outputId": "6edceec1-90b6-4b36-aa61-b31659769750"
      },
      "outputs": [
        {
          "output_type": "execute_result",
          "data": {
            "text/plain": [
              "Price          123\n",
              "Title            0\n",
              "Location         0\n",
              "Date Posted      0\n",
              "Description      0\n",
              "dtype: int64"
            ]
          },
          "metadata": {},
          "execution_count": 17
        }
      ],
      "source": [
        "df.isnull().sum()"
      ]
    },
    {
      "cell_type": "code",
      "execution_count": 18,
      "id": "ce81ad6c",
      "metadata": {
        "id": "ce81ad6c"
      },
      "outputs": [],
      "source": [
        "# Remove leading/trailing spaces and line breaks\n",
        "df['Location'] = df['Location'].str.strip().replace('\\n','')\n",
        "\n",
        "# Remove unnecessary text\n",
        "df['Location'] = df['Location'].replace({'ago':''}, regex=True)\n",
        "df['Location'] = df['Location'].replace({'Region':''}, regex=True)"
      ]
    },
    {
      "cell_type": "code",
      "execution_count": 19,
      "id": "e2d71eb4",
      "metadata": {
        "id": "e2d71eb4"
      },
      "outputs": [],
      "source": [
        "df['Location'] = df['Location'].str.strip().str.replace('\\n', '')\n"
      ]
    },
    {
      "cell_type": "code",
      "execution_count": 20,
      "id": "d2b52a16",
      "metadata": {
        "colab": {
          "base_uri": "https://localhost:8080/"
        },
        "id": "d2b52a16",
        "outputId": "cf2b820e-cf14-4d01-fe1d-a019a137d3e0"
      },
      "outputs": [
        {
          "output_type": "execute_result",
          "data": {
            "text/plain": [
              "0      Oakville / Halton\n",
              "1               Oakville\n",
              "2                Toronto\n",
              "3                Cobourg\n",
              "4                Toronto\n",
              "             ...        \n",
              "850              Toronto\n",
              "851             Brampton\n",
              "852              Markham\n",
              "853      Oshawa / Durham\n",
              "854             Brampton\n",
              "Name: Location, Length: 855, dtype: object"
            ]
          },
          "metadata": {},
          "execution_count": 20
        }
      ],
      "source": [
        "df['Location']"
      ]
    },
    {
      "cell_type": "code",
      "execution_count": 21,
      "id": "0f587fe3",
      "metadata": {
        "colab": {
          "base_uri": "https://localhost:8080/",
          "height": 1000
        },
        "id": "0f587fe3",
        "outputId": "f038c7c7-e946-4ff3-d9ff-dee725355fd2"
      },
      "outputs": [
        {
          "output_type": "execute_result",
          "data": {
            "text/plain": [
              "     Price                                              Title            Location     Date Posted                                        Description\n",
              "0    625.0  Furnished Private Offices - Monthly Membership...   Oakville / Halton       Yesterday  Get upto 2 months of free fully furnished offi...\n",
              "1   2239.0  1 Bedroom For Rent - Oakville - Convenience - ...            Oakville      22/02/2023  Situated in a peaceful, relaxing community, 75...\n",
              "2   1650.0              Bachelor, Niagara and Queen - ID 2613             Toronto      01/03/2023  Semi-renovated Akelius studio apartment for re...\n",
              "3    900.0  Furnished Room For Rent All Inclusive Downtown...             Cobourg      05/02/2023  Furnished room for rent downtown Cobourg. Step...\n",
              "4   9000.0                          Industrial Space For Rent             Toronto  < 23 hours ago  Approx 4000 sq ft of warehouse 1 drive in door...\n",
              "5      NaN               4 Bedroom house in Brampton for rent            Brampton  < 17 hours ago  LOCATION NEAR FERNFOREST DR & SANDALWOOD PARKW...\n",
              "6   3500.0                           4 Bedroom House for rent            Brampton  < 17 hours ago  4 Bedroom Detached with 2 car garage Upto 4 pa...\n",
              "7   1200.0                         Room for rent, female only             Toronto  < 17 hours ago  1 room in a 2 bedroom basement apartment, shar...\n",
              "8   1000.0                      One bedroom basement for rent            Brampton  < 17 hours ago  Only female No parking Separate kitchen Separa...\n",
              "9      NaN                                 1 bedroom for rent         Mississauga  < 17 hours ago  One fully furnished bedroom available on upper...\n",
              "10  2800.0                                     Condo for rent     City of Toronto  < 17 hours ago  2 specious rooms condo for rent All utilities ...\n",
              "11  2800.0  YONGE/STEELES - MODERN CONDO RENT! CORNER 1 BE...           Thornhill  < 17 hours ago  Like-New Condition, Almost a 2 Bedroom! 1 Bedr...\n",
              "12  2875.0          Full unit 2 bed/1 bath apartment for rent             Toronto  < 17 hours ago  Unit: 2 bedroom / 1 bathroom apartment Price: ...\n",
              "13  2400.0      LUXURY CONDOS WITH 5 STARS AMENITIES FOR RENT     City of Toronto  < 17 hours ago  ***PLEASE READ THE AD FIRST*** *PLEASE DO NOT ...\n",
              "14  2400.0        LUXURY CONDOS WITH GREAT AMENITIES FOR RENT     City of Toronto  < 17 hours ago  ***PLEASE READ THE AD FIRST*** *PLEASE DO NOT ...\n",
              "15   900.0                                      room for rent            Brampton  < 17 hours ago  Basement have 2 rooms, one extra large room . ...\n",
              "16   800.0                                  Bedroom for rent.            Brampton  < 17 hours ago  One bedroom is available for rent in brand new...\n",
              "17   600.0                   Sharing room for rent for 1 girl  Mississauga / Peel  < 17 hours ago  Sharing room for 1 girl for $600 plus utilitie...\n",
              "18  1900.0  2BHK Bsmt $1900 1st May in Brampton at Dixie/C...            Brampton  < 17 hours ago  2BHK Bsmt $1900 1st May in Brampton at Dixie/C...\n",
              "19   900.0                       Pickering Bungalow for rent!           Pickering  < 17 hours ago  Main floor 3 bedrooms, 1.5 bath Kitchen, livin...\n",
              "20   950.0                    Bright room for rent Hyw7/Yonge             Vaughan  < 17 hours ago  Room for rent available immediately ⁃ Private ...\n",
              "21  2990.0                      House For Rent In Bowmanville         Bowmanville  < 17 hours ago  Due to the high volume of inquiries, please pr...\n",
              "22  1200.0           $1200 May 1st furnished/no lease/Parking             Toronto  < 17 hours ago  Rent Advertisement $1200 May 1st furnished/par...\n",
              "23     NaN                                  Basement for Rent             Toronto  < 17 hours ago  One full room available for two Punjabi Girls ...\n",
              "24  1750.0  CAR DEALERSHIP  UP TO 5 CARS AND OFFICE FOR RE...             Toronto  < 17 hours ago  Prime location in scarborouugh on Danforth ave...\n",
              "25  2400.0  Rent 3 bed-room + 2 bath basement ~For 1 small...             Toronto  < 17 hours ago  ATTN: For 1 small family. Be the first to live...\n",
              "26   750.0               Room for rent @ Bramalea City Center            Brampton  < 17 hours ago  Available from 15th March! ===================...\n",
              "27   550.0  A shared/ private room for rent in Brampton - ...            Brampton  < 17 hours ago  I bedroom with private bath, private kitchen a...\n",
              "28  1000.0   Rooms for students available  to rent in Oshawa.             Hampton  < 17 hours ago  Room available from February 1st to rent for a...\n",
              "29  1100.0  one basement room with a private washroom for ...             Toronto  < 17 hours ago  Quiet and comfortable room. Private washroom. ...\n",
              "30  1050.0  Beautiful sub Master Bedroom for rent in North...             Toronto  < 17 hours ago  353 Goldenwood Rd, North York, ON $1050 sub ma...\n",
              "31  2850.0  Downtown Luxury 1BR condo inclusive rent lake ...             Toronto  < 17 hours ago  Rent is inclusve of all utilities and internet...\n",
              "32   300.0             Shared storage (garage) space for rent             Toronto  < 17 hours ago  - Easy to access from main road - Convenient l...\n",
              "33  1300.0  Room For Rent, Single room, Etobicoke, Humber ...             Toronto  < 17 hours ago  Fully Furnished Place Available!! Etobicoke (P...\n",
              "34  3000.0  ENTIRE 4 BED 2.5 BATH LARGE DETACHED HOME FOR ...         Bowmanville  < 17 hours ago  - Entire 4 Bedrooms and 2.5 Bathrooms with Har...\n",
              "35  2600.0  YONGE/STEELES CONDO FOR RENT - MODERN CORNER 1...           Thornhill  < 17 hours ago  Like-New Condition, Almost a 2 Bedroom! 1 Bedr...\n",
              "36  1700.0   ALL INCLUSIVE 2 BEDROOM Semi-basement in MARKHAM             Markham  < 17 hours ago  2 BEDROOMS 1 or 2 CAR PARKING basement for ren...\n",
              "37     NaN  Basement For Rent In Scarborough! (Morningside...     City of Toronto  < 17 hours ago  • Intersection: Morningside and Staines • BASE...\n",
              "38  3300.0  Condo for rent in Toronto Downtown ( 2 Bed + 2...             Toronto  < 17 hours ago  15 Lower Jarvis st condo Welcome To This Execu...\n",
              "39     NaN              Brand New Five Bedroom House For Rent            Brampton  < 17 hours ago  Are you a female looking for a comfortable and..."
            ],
            "text/html": [
              "\n",
              "  <div id=\"df-af9462ee-6bd0-4223-8530-260bd143c3c1\">\n",
              "    <div class=\"colab-df-container\">\n",
              "      <div>\n",
              "<style scoped>\n",
              "    .dataframe tbody tr th:only-of-type {\n",
              "        vertical-align: middle;\n",
              "    }\n",
              "\n",
              "    .dataframe tbody tr th {\n",
              "        vertical-align: top;\n",
              "    }\n",
              "\n",
              "    .dataframe thead th {\n",
              "        text-align: right;\n",
              "    }\n",
              "</style>\n",
              "<table border=\"1\" class=\"dataframe\">\n",
              "  <thead>\n",
              "    <tr style=\"text-align: right;\">\n",
              "      <th></th>\n",
              "      <th>Price</th>\n",
              "      <th>Title</th>\n",
              "      <th>Location</th>\n",
              "      <th>Date Posted</th>\n",
              "      <th>Description</th>\n",
              "    </tr>\n",
              "  </thead>\n",
              "  <tbody>\n",
              "    <tr>\n",
              "      <th>0</th>\n",
              "      <td>625.0</td>\n",
              "      <td>Furnished Private Offices - Monthly Membership...</td>\n",
              "      <td>Oakville / Halton</td>\n",
              "      <td>Yesterday</td>\n",
              "      <td>Get upto 2 months of free fully furnished offi...</td>\n",
              "    </tr>\n",
              "    <tr>\n",
              "      <th>1</th>\n",
              "      <td>2239.0</td>\n",
              "      <td>1 Bedroom For Rent - Oakville - Convenience - ...</td>\n",
              "      <td>Oakville</td>\n",
              "      <td>22/02/2023</td>\n",
              "      <td>Situated in a peaceful, relaxing community, 75...</td>\n",
              "    </tr>\n",
              "    <tr>\n",
              "      <th>2</th>\n",
              "      <td>1650.0</td>\n",
              "      <td>Bachelor, Niagara and Queen - ID 2613</td>\n",
              "      <td>Toronto</td>\n",
              "      <td>01/03/2023</td>\n",
              "      <td>Semi-renovated Akelius studio apartment for re...</td>\n",
              "    </tr>\n",
              "    <tr>\n",
              "      <th>3</th>\n",
              "      <td>900.0</td>\n",
              "      <td>Furnished Room For Rent All Inclusive Downtown...</td>\n",
              "      <td>Cobourg</td>\n",
              "      <td>05/02/2023</td>\n",
              "      <td>Furnished room for rent downtown Cobourg. Step...</td>\n",
              "    </tr>\n",
              "    <tr>\n",
              "      <th>4</th>\n",
              "      <td>9000.0</td>\n",
              "      <td>Industrial Space For Rent</td>\n",
              "      <td>Toronto</td>\n",
              "      <td>&lt; 23 hours ago</td>\n",
              "      <td>Approx 4000 sq ft of warehouse 1 drive in door...</td>\n",
              "    </tr>\n",
              "    <tr>\n",
              "      <th>5</th>\n",
              "      <td>NaN</td>\n",
              "      <td>4 Bedroom house in Brampton for rent</td>\n",
              "      <td>Brampton</td>\n",
              "      <td>&lt; 17 hours ago</td>\n",
              "      <td>LOCATION NEAR FERNFOREST DR &amp; SANDALWOOD PARKW...</td>\n",
              "    </tr>\n",
              "    <tr>\n",
              "      <th>6</th>\n",
              "      <td>3500.0</td>\n",
              "      <td>4 Bedroom House for rent</td>\n",
              "      <td>Brampton</td>\n",
              "      <td>&lt; 17 hours ago</td>\n",
              "      <td>4 Bedroom Detached with 2 car garage Upto 4 pa...</td>\n",
              "    </tr>\n",
              "    <tr>\n",
              "      <th>7</th>\n",
              "      <td>1200.0</td>\n",
              "      <td>Room for rent, female only</td>\n",
              "      <td>Toronto</td>\n",
              "      <td>&lt; 17 hours ago</td>\n",
              "      <td>1 room in a 2 bedroom basement apartment, shar...</td>\n",
              "    </tr>\n",
              "    <tr>\n",
              "      <th>8</th>\n",
              "      <td>1000.0</td>\n",
              "      <td>One bedroom basement for rent</td>\n",
              "      <td>Brampton</td>\n",
              "      <td>&lt; 17 hours ago</td>\n",
              "      <td>Only female No parking Separate kitchen Separa...</td>\n",
              "    </tr>\n",
              "    <tr>\n",
              "      <th>9</th>\n",
              "      <td>NaN</td>\n",
              "      <td>1 bedroom for rent</td>\n",
              "      <td>Mississauga</td>\n",
              "      <td>&lt; 17 hours ago</td>\n",
              "      <td>One fully furnished bedroom available on upper...</td>\n",
              "    </tr>\n",
              "    <tr>\n",
              "      <th>10</th>\n",
              "      <td>2800.0</td>\n",
              "      <td>Condo for rent</td>\n",
              "      <td>City of Toronto</td>\n",
              "      <td>&lt; 17 hours ago</td>\n",
              "      <td>2 specious rooms condo for rent All utilities ...</td>\n",
              "    </tr>\n",
              "    <tr>\n",
              "      <th>11</th>\n",
              "      <td>2800.0</td>\n",
              "      <td>YONGE/STEELES - MODERN CONDO RENT! CORNER 1 BE...</td>\n",
              "      <td>Thornhill</td>\n",
              "      <td>&lt; 17 hours ago</td>\n",
              "      <td>Like-New Condition, Almost a 2 Bedroom! 1 Bedr...</td>\n",
              "    </tr>\n",
              "    <tr>\n",
              "      <th>12</th>\n",
              "      <td>2875.0</td>\n",
              "      <td>Full unit 2 bed/1 bath apartment for rent</td>\n",
              "      <td>Toronto</td>\n",
              "      <td>&lt; 17 hours ago</td>\n",
              "      <td>Unit: 2 bedroom / 1 bathroom apartment Price: ...</td>\n",
              "    </tr>\n",
              "    <tr>\n",
              "      <th>13</th>\n",
              "      <td>2400.0</td>\n",
              "      <td>LUXURY CONDOS WITH 5 STARS AMENITIES FOR RENT</td>\n",
              "      <td>City of Toronto</td>\n",
              "      <td>&lt; 17 hours ago</td>\n",
              "      <td>***PLEASE READ THE AD FIRST*** *PLEASE DO NOT ...</td>\n",
              "    </tr>\n",
              "    <tr>\n",
              "      <th>14</th>\n",
              "      <td>2400.0</td>\n",
              "      <td>LUXURY CONDOS WITH GREAT AMENITIES FOR RENT</td>\n",
              "      <td>City of Toronto</td>\n",
              "      <td>&lt; 17 hours ago</td>\n",
              "      <td>***PLEASE READ THE AD FIRST*** *PLEASE DO NOT ...</td>\n",
              "    </tr>\n",
              "    <tr>\n",
              "      <th>15</th>\n",
              "      <td>900.0</td>\n",
              "      <td>room for rent</td>\n",
              "      <td>Brampton</td>\n",
              "      <td>&lt; 17 hours ago</td>\n",
              "      <td>Basement have 2 rooms, one extra large room . ...</td>\n",
              "    </tr>\n",
              "    <tr>\n",
              "      <th>16</th>\n",
              "      <td>800.0</td>\n",
              "      <td>Bedroom for rent.</td>\n",
              "      <td>Brampton</td>\n",
              "      <td>&lt; 17 hours ago</td>\n",
              "      <td>One bedroom is available for rent in brand new...</td>\n",
              "    </tr>\n",
              "    <tr>\n",
              "      <th>17</th>\n",
              "      <td>600.0</td>\n",
              "      <td>Sharing room for rent for 1 girl</td>\n",
              "      <td>Mississauga / Peel</td>\n",
              "      <td>&lt; 17 hours ago</td>\n",
              "      <td>Sharing room for 1 girl for $600 plus utilitie...</td>\n",
              "    </tr>\n",
              "    <tr>\n",
              "      <th>18</th>\n",
              "      <td>1900.0</td>\n",
              "      <td>2BHK Bsmt $1900 1st May in Brampton at Dixie/C...</td>\n",
              "      <td>Brampton</td>\n",
              "      <td>&lt; 17 hours ago</td>\n",
              "      <td>2BHK Bsmt $1900 1st May in Brampton at Dixie/C...</td>\n",
              "    </tr>\n",
              "    <tr>\n",
              "      <th>19</th>\n",
              "      <td>900.0</td>\n",
              "      <td>Pickering Bungalow for rent!</td>\n",
              "      <td>Pickering</td>\n",
              "      <td>&lt; 17 hours ago</td>\n",
              "      <td>Main floor 3 bedrooms, 1.5 bath Kitchen, livin...</td>\n",
              "    </tr>\n",
              "    <tr>\n",
              "      <th>20</th>\n",
              "      <td>950.0</td>\n",
              "      <td>Bright room for rent Hyw7/Yonge</td>\n",
              "      <td>Vaughan</td>\n",
              "      <td>&lt; 17 hours ago</td>\n",
              "      <td>Room for rent available immediately ⁃ Private ...</td>\n",
              "    </tr>\n",
              "    <tr>\n",
              "      <th>21</th>\n",
              "      <td>2990.0</td>\n",
              "      <td>House For Rent In Bowmanville</td>\n",
              "      <td>Bowmanville</td>\n",
              "      <td>&lt; 17 hours ago</td>\n",
              "      <td>Due to the high volume of inquiries, please pr...</td>\n",
              "    </tr>\n",
              "    <tr>\n",
              "      <th>22</th>\n",
              "      <td>1200.0</td>\n",
              "      <td>$1200 May 1st furnished/no lease/Parking</td>\n",
              "      <td>Toronto</td>\n",
              "      <td>&lt; 17 hours ago</td>\n",
              "      <td>Rent Advertisement $1200 May 1st furnished/par...</td>\n",
              "    </tr>\n",
              "    <tr>\n",
              "      <th>23</th>\n",
              "      <td>NaN</td>\n",
              "      <td>Basement for Rent</td>\n",
              "      <td>Toronto</td>\n",
              "      <td>&lt; 17 hours ago</td>\n",
              "      <td>One full room available for two Punjabi Girls ...</td>\n",
              "    </tr>\n",
              "    <tr>\n",
              "      <th>24</th>\n",
              "      <td>1750.0</td>\n",
              "      <td>CAR DEALERSHIP  UP TO 5 CARS AND OFFICE FOR RE...</td>\n",
              "      <td>Toronto</td>\n",
              "      <td>&lt; 17 hours ago</td>\n",
              "      <td>Prime location in scarborouugh on Danforth ave...</td>\n",
              "    </tr>\n",
              "    <tr>\n",
              "      <th>25</th>\n",
              "      <td>2400.0</td>\n",
              "      <td>Rent 3 bed-room + 2 bath basement ~For 1 small...</td>\n",
              "      <td>Toronto</td>\n",
              "      <td>&lt; 17 hours ago</td>\n",
              "      <td>ATTN: For 1 small family. Be the first to live...</td>\n",
              "    </tr>\n",
              "    <tr>\n",
              "      <th>26</th>\n",
              "      <td>750.0</td>\n",
              "      <td>Room for rent @ Bramalea City Center</td>\n",
              "      <td>Brampton</td>\n",
              "      <td>&lt; 17 hours ago</td>\n",
              "      <td>Available from 15th March! ===================...</td>\n",
              "    </tr>\n",
              "    <tr>\n",
              "      <th>27</th>\n",
              "      <td>550.0</td>\n",
              "      <td>A shared/ private room for rent in Brampton - ...</td>\n",
              "      <td>Brampton</td>\n",
              "      <td>&lt; 17 hours ago</td>\n",
              "      <td>I bedroom with private bath, private kitchen a...</td>\n",
              "    </tr>\n",
              "    <tr>\n",
              "      <th>28</th>\n",
              "      <td>1000.0</td>\n",
              "      <td>Rooms for students available  to rent in Oshawa.</td>\n",
              "      <td>Hampton</td>\n",
              "      <td>&lt; 17 hours ago</td>\n",
              "      <td>Room available from February 1st to rent for a...</td>\n",
              "    </tr>\n",
              "    <tr>\n",
              "      <th>29</th>\n",
              "      <td>1100.0</td>\n",
              "      <td>one basement room with a private washroom for ...</td>\n",
              "      <td>Toronto</td>\n",
              "      <td>&lt; 17 hours ago</td>\n",
              "      <td>Quiet and comfortable room. Private washroom. ...</td>\n",
              "    </tr>\n",
              "    <tr>\n",
              "      <th>30</th>\n",
              "      <td>1050.0</td>\n",
              "      <td>Beautiful sub Master Bedroom for rent in North...</td>\n",
              "      <td>Toronto</td>\n",
              "      <td>&lt; 17 hours ago</td>\n",
              "      <td>353 Goldenwood Rd, North York, ON $1050 sub ma...</td>\n",
              "    </tr>\n",
              "    <tr>\n",
              "      <th>31</th>\n",
              "      <td>2850.0</td>\n",
              "      <td>Downtown Luxury 1BR condo inclusive rent lake ...</td>\n",
              "      <td>Toronto</td>\n",
              "      <td>&lt; 17 hours ago</td>\n",
              "      <td>Rent is inclusve of all utilities and internet...</td>\n",
              "    </tr>\n",
              "    <tr>\n",
              "      <th>32</th>\n",
              "      <td>300.0</td>\n",
              "      <td>Shared storage (garage) space for rent</td>\n",
              "      <td>Toronto</td>\n",
              "      <td>&lt; 17 hours ago</td>\n",
              "      <td>- Easy to access from main road - Convenient l...</td>\n",
              "    </tr>\n",
              "    <tr>\n",
              "      <th>33</th>\n",
              "      <td>1300.0</td>\n",
              "      <td>Room For Rent, Single room, Etobicoke, Humber ...</td>\n",
              "      <td>Toronto</td>\n",
              "      <td>&lt; 17 hours ago</td>\n",
              "      <td>Fully Furnished Place Available!! Etobicoke (P...</td>\n",
              "    </tr>\n",
              "    <tr>\n",
              "      <th>34</th>\n",
              "      <td>3000.0</td>\n",
              "      <td>ENTIRE 4 BED 2.5 BATH LARGE DETACHED HOME FOR ...</td>\n",
              "      <td>Bowmanville</td>\n",
              "      <td>&lt; 17 hours ago</td>\n",
              "      <td>- Entire 4 Bedrooms and 2.5 Bathrooms with Har...</td>\n",
              "    </tr>\n",
              "    <tr>\n",
              "      <th>35</th>\n",
              "      <td>2600.0</td>\n",
              "      <td>YONGE/STEELES CONDO FOR RENT - MODERN CORNER 1...</td>\n",
              "      <td>Thornhill</td>\n",
              "      <td>&lt; 17 hours ago</td>\n",
              "      <td>Like-New Condition, Almost a 2 Bedroom! 1 Bedr...</td>\n",
              "    </tr>\n",
              "    <tr>\n",
              "      <th>36</th>\n",
              "      <td>1700.0</td>\n",
              "      <td>ALL INCLUSIVE 2 BEDROOM Semi-basement in MARKHAM</td>\n",
              "      <td>Markham</td>\n",
              "      <td>&lt; 17 hours ago</td>\n",
              "      <td>2 BEDROOMS 1 or 2 CAR PARKING basement for ren...</td>\n",
              "    </tr>\n",
              "    <tr>\n",
              "      <th>37</th>\n",
              "      <td>NaN</td>\n",
              "      <td>Basement For Rent In Scarborough! (Morningside...</td>\n",
              "      <td>City of Toronto</td>\n",
              "      <td>&lt; 17 hours ago</td>\n",
              "      <td>• Intersection: Morningside and Staines • BASE...</td>\n",
              "    </tr>\n",
              "    <tr>\n",
              "      <th>38</th>\n",
              "      <td>3300.0</td>\n",
              "      <td>Condo for rent in Toronto Downtown ( 2 Bed + 2...</td>\n",
              "      <td>Toronto</td>\n",
              "      <td>&lt; 17 hours ago</td>\n",
              "      <td>15 Lower Jarvis st condo Welcome To This Execu...</td>\n",
              "    </tr>\n",
              "    <tr>\n",
              "      <th>39</th>\n",
              "      <td>NaN</td>\n",
              "      <td>Brand New Five Bedroom House For Rent</td>\n",
              "      <td>Brampton</td>\n",
              "      <td>&lt; 17 hours ago</td>\n",
              "      <td>Are you a female looking for a comfortable and...</td>\n",
              "    </tr>\n",
              "  </tbody>\n",
              "</table>\n",
              "</div>\n",
              "      <button class=\"colab-df-convert\" onclick=\"convertToInteractive('df-af9462ee-6bd0-4223-8530-260bd143c3c1')\"\n",
              "              title=\"Convert this dataframe to an interactive table.\"\n",
              "              style=\"display:none;\">\n",
              "        \n",
              "  <svg xmlns=\"http://www.w3.org/2000/svg\" height=\"24px\"viewBox=\"0 0 24 24\"\n",
              "       width=\"24px\">\n",
              "    <path d=\"M0 0h24v24H0V0z\" fill=\"none\"/>\n",
              "    <path d=\"M18.56 5.44l.94 2.06.94-2.06 2.06-.94-2.06-.94-.94-2.06-.94 2.06-2.06.94zm-11 1L8.5 8.5l.94-2.06 2.06-.94-2.06-.94L8.5 2.5l-.94 2.06-2.06.94zm10 10l.94 2.06.94-2.06 2.06-.94-2.06-.94-.94-2.06-.94 2.06-2.06.94z\"/><path d=\"M17.41 7.96l-1.37-1.37c-.4-.4-.92-.59-1.43-.59-.52 0-1.04.2-1.43.59L10.3 9.45l-7.72 7.72c-.78.78-.78 2.05 0 2.83L4 21.41c.39.39.9.59 1.41.59.51 0 1.02-.2 1.41-.59l7.78-7.78 2.81-2.81c.8-.78.8-2.07 0-2.86zM5.41 20L4 18.59l7.72-7.72 1.47 1.35L5.41 20z\"/>\n",
              "  </svg>\n",
              "      </button>\n",
              "      \n",
              "  <style>\n",
              "    .colab-df-container {\n",
              "      display:flex;\n",
              "      flex-wrap:wrap;\n",
              "      gap: 12px;\n",
              "    }\n",
              "\n",
              "    .colab-df-convert {\n",
              "      background-color: #E8F0FE;\n",
              "      border: none;\n",
              "      border-radius: 50%;\n",
              "      cursor: pointer;\n",
              "      display: none;\n",
              "      fill: #1967D2;\n",
              "      height: 32px;\n",
              "      padding: 0 0 0 0;\n",
              "      width: 32px;\n",
              "    }\n",
              "\n",
              "    .colab-df-convert:hover {\n",
              "      background-color: #E2EBFA;\n",
              "      box-shadow: 0px 1px 2px rgba(60, 64, 67, 0.3), 0px 1px 3px 1px rgba(60, 64, 67, 0.15);\n",
              "      fill: #174EA6;\n",
              "    }\n",
              "\n",
              "    [theme=dark] .colab-df-convert {\n",
              "      background-color: #3B4455;\n",
              "      fill: #D2E3FC;\n",
              "    }\n",
              "\n",
              "    [theme=dark] .colab-df-convert:hover {\n",
              "      background-color: #434B5C;\n",
              "      box-shadow: 0px 1px 3px 1px rgba(0, 0, 0, 0.15);\n",
              "      filter: drop-shadow(0px 1px 2px rgba(0, 0, 0, 0.3));\n",
              "      fill: #FFFFFF;\n",
              "    }\n",
              "  </style>\n",
              "\n",
              "      <script>\n",
              "        const buttonEl =\n",
              "          document.querySelector('#df-af9462ee-6bd0-4223-8530-260bd143c3c1 button.colab-df-convert');\n",
              "        buttonEl.style.display =\n",
              "          google.colab.kernel.accessAllowed ? 'block' : 'none';\n",
              "\n",
              "        async function convertToInteractive(key) {\n",
              "          const element = document.querySelector('#df-af9462ee-6bd0-4223-8530-260bd143c3c1');\n",
              "          const dataTable =\n",
              "            await google.colab.kernel.invokeFunction('convertToInteractive',\n",
              "                                                     [key], {});\n",
              "          if (!dataTable) return;\n",
              "\n",
              "          const docLinkHtml = 'Like what you see? Visit the ' +\n",
              "            '<a target=\"_blank\" href=https://colab.research.google.com/notebooks/data_table.ipynb>data table notebook</a>'\n",
              "            + ' to learn more about interactive tables.';\n",
              "          element.innerHTML = '';\n",
              "          dataTable['output_type'] = 'display_data';\n",
              "          await google.colab.output.renderOutput(dataTable, element);\n",
              "          const docLink = document.createElement('div');\n",
              "          docLink.innerHTML = docLinkHtml;\n",
              "          element.appendChild(docLink);\n",
              "        }\n",
              "      </script>\n",
              "    </div>\n",
              "  </div>\n",
              "  "
            ]
          },
          "metadata": {},
          "execution_count": 21
        }
      ],
      "source": [
        "df.head(40)"
      ]
    },
    {
      "cell_type": "code",
      "execution_count": 22,
      "id": "4940ae96",
      "metadata": {
        "colab": {
          "base_uri": "https://localhost:8080/"
        },
        "id": "4940ae96",
        "outputId": "fc2f2bb3-cda1-4099-c2f4-3920724d6706"
      },
      "outputs": [
        {
          "output_type": "execute_result",
          "data": {
            "text/plain": [
              "23"
            ]
          },
          "metadata": {},
          "execution_count": 22
        }
      ],
      "source": [
        "df['Location'].nunique()"
      ]
    },
    {
      "cell_type": "code",
      "execution_count": 23,
      "id": "2ad1e676",
      "metadata": {
        "colab": {
          "base_uri": "https://localhost:8080/"
        },
        "id": "2ad1e676",
        "outputId": "9ad13467-6fb7-4426-c02e-35fbe47ea93d"
      },
      "outputs": [
        {
          "output_type": "execute_result",
          "data": {
            "text/plain": [
              "array(['Oakville / Halton', 'Oakville', 'Toronto', 'Cobourg', 'Brampton',\n",
              "       'Mississauga', 'City of Toronto', 'Thornhill',\n",
              "       'Mississauga / Peel', 'Pickering', 'Vaughan', 'Bowmanville',\n",
              "       'Hampton', 'Markham', 'Oshawa / Durham', 'Milton',\n",
              "       'Markham / York', 'Oshawa', 'Scarborough', 'Etobicoke', 'Bolton',\n",
              "       'Richmond Hill', 'Burlington'], dtype=object)"
            ]
          },
          "metadata": {},
          "execution_count": 23
        }
      ],
      "source": [
        "df['Location'].unique()"
      ]
    },
    {
      "cell_type": "code",
      "execution_count": 24,
      "id": "95765215",
      "metadata": {
        "colab": {
          "base_uri": "https://localhost:8080/"
        },
        "id": "95765215",
        "outputId": "a4a56d5b-b14f-4907-83de-bf34f0d26e66"
      },
      "outputs": [
        {
          "output_type": "stream",
          "name": "stdout",
          "text": [
            "<class 'pandas.core.frame.DataFrame'>\n",
            "RangeIndex: 855 entries, 0 to 854\n",
            "Data columns (total 5 columns):\n",
            " #   Column       Non-Null Count  Dtype  \n",
            "---  ------       --------------  -----  \n",
            " 0   Price        732 non-null    float64\n",
            " 1   Title        855 non-null    object \n",
            " 2   Location     855 non-null    object \n",
            " 3   Date Posted  855 non-null    object \n",
            " 4   Description  855 non-null    object \n",
            "dtypes: float64(1), object(4)\n",
            "memory usage: 33.5+ KB\n"
          ]
        }
      ],
      "source": [
        "df.info()"
      ]
    },
    {
      "cell_type": "code",
      "execution_count": 25,
      "id": "b06490ab",
      "metadata": {
        "colab": {
          "base_uri": "https://localhost:8080/"
        },
        "id": "b06490ab",
        "outputId": "31df1120-b423-4e85-aff3-5c722e1c5efe"
      },
      "outputs": [
        {
          "output_type": "execute_result",
          "data": {
            "text/plain": [
              "0           Yesterday\n",
              "1          22/02/2023\n",
              "2          01/03/2023\n",
              "3          05/02/2023\n",
              "4      < 23 hours ago\n",
              "            ...      \n",
              "850    < 17 hours ago\n",
              "851    < 17 hours ago\n",
              "852    < 17 hours ago\n",
              "853    < 17 hours ago\n",
              "854    < 17 hours ago\n",
              "Name: Date Posted, Length: 855, dtype: object"
            ]
          },
          "metadata": {},
          "execution_count": 25
        }
      ],
      "source": [
        "df['Date Posted']"
      ]
    },
    {
      "cell_type": "code",
      "execution_count": 26,
      "id": "f006ff24",
      "metadata": {
        "colab": {
          "base_uri": "https://localhost:8080/",
          "height": 404
        },
        "id": "f006ff24",
        "outputId": "f902c988-ac22-4da9-abf7-de662664e1e6"
      },
      "outputs": [
        {
          "output_type": "display_data",
          "data": {
            "text/plain": [
              "<Figure size 720x432 with 1 Axes>"
            ],
            "image/png": "[encoded data removed]"
          },
          "metadata": {
            "needs_background": "light"
          }
        }
      ],
      "source": [
        "import seaborn as sns\n",
        "\n",
        "# Distribution of prices\n",
        "plt.figure(figsize=(10,6))\n",
        "sns.histplot(df['Price'], bins=30)\n",
        "plt.title('Distribution of Prices')\n",
        "plt.show()\n"
      ]
    },
    {
      "cell_type": "code",
      "source": [
        "# get the value counts\n",
        "Location_counts = df['Location'].value_counts()\n",
        "\n",
        "# plot the value counts\n",
        "# Plot bar chart\n",
        "plt.figure(figsize=(12,8))\n",
        "plt.bar(Location_counts.index, Location_counts.values)\n",
        "plt.xticks(rotation=45, ha='right', fontsize=10)\n",
        "plt.yticks(fontsize=10)\n",
        "plt.xlabel('Location', fontsize=12)\n",
        "plt.ylabel('Frequency', fontsize=12)\n",
        "plt.title('Kijiji Rentals by Location', fontsize=14)\n",
        "plt.tight_layout()\n",
        "plt.show()"
      ],
      "metadata": {
        "colab": {
          "base_uri": "https://localhost:8080/",
          "height": 585
        },
        "id": "iICoIoWjEKJd",
        "outputId": "c95af881-6023-4320-a7ed-d3d649d2cc85"
      },
      "id": "iICoIoWjEKJd",
      "execution_count": 52,
      "outputs": [
        {
          "output_type": "display_data",
          "data": {
            "text/plain": [
              "<Figure size 864x576 with 1 Axes>"
            ],
            "image/png": "[encoded data removed]"
          },
          "metadata": {
            "needs_background": "light"
          }
        }
      ]
    },
    {
      "cell_type": "markdown",
      "source": [
        "We can see the maximum number of rent and housing are opened in Toronto and Brampton"
      ],
      "metadata": {
        "id": "M9_nVdIvEthL"
      },
      "id": "M9_nVdIvEthL"
    },
    {
      "cell_type": "code",
      "execution_count": 27,
      "id": "7576a93c",
      "metadata": {
        "colab": {
          "base_uri": "https://localhost:8080/",
          "height": 485
        },
        "id": "7576a93c",
        "outputId": "cd8a181f-da5b-48ce-8783-eecf06339478"
      },
      "outputs": [
        {
          "output_type": "display_data",
          "data": {
            "text/plain": [
              "<Figure size 864x432 with 1 Axes>"
            ],
            "image/png": "[encoded data removed]"
          },
          "metadata": {
            "needs_background": "light"
          }
        }
      ],
      "source": [
        "\n",
        "# Average price by location\n",
        "plt.figure(figsize=(12,6))\n",
        "sns.barplot(x='Location', y='Price', data=df)\n",
        "plt.xticks(rotation=90)\n",
        "plt.title('Average Price by Location')\n",
        "plt.show()\n"
      ]
    },
    {
      "cell_type": "markdown",
      "id": "3a814fe7",
      "metadata": {
        "id": "3a814fe7"
      },
      "source": [
        "### Insights from the EDA\n",
        "1. The distribution of prices is positively skewed, indicating that most of the posts are for lower priced listings.\n",
        "2. The average price is highest in Oakville and lowest in Oshawa."
      ]
    },
    {
      "cell_type": "markdown",
      "source": [
        "### NLP Work"
      ],
      "metadata": {
        "id": "I8I2-Ng-Dmeu"
      },
      "id": "I8I2-Ng-Dmeu"
    },
    {
      "cell_type": "code",
      "execution_count": 28,
      "id": "67fb7b51",
      "metadata": {
        "id": "67fb7b51"
      },
      "outputs": [],
      "source": [
        "descriptions = df['Description'].tolist()"
      ]
    },
    {
      "cell_type": "code",
      "execution_count": 29,
      "id": "7c3e0e95",
      "metadata": {
        "colab": {
          "base_uri": "https://localhost:8080/"
        },
        "id": "7c3e0e95",
        "outputId": "5225d463-8ff5-439c-8495-7ba346c83e90"
      },
      "outputs": [
        {
          "output_type": "stream",
          "name": "stderr",
          "text": [
            "/usr/local/lib/python3.8/dist-packages/torch/cuda/__init__.py:497: UserWarning: Can't initialize NVML\n",
            "  warnings.warn(\"Can't initialize NVML\")\n"
          ]
        }
      ],
      "source": [
        "import spacy\n",
        "\n",
        "nlp = spacy.load(\"en_core_web_sm\")\n",
        "\n",
        "for description in descriptions:\n",
        "\n",
        "    # Tokenize the text\n",
        "    doc = nlp(description)\n",
        "\n",
        "    # Remove stop words and punctuation\n",
        "    tokens = [token.text for token in doc if not token.is_stop and not token.is_punct]\n",
        "\n",
        "    # Lemmatize the remaining words\n",
        "    lemmas = [token.lemma_ for token in doc if not token.is_stop and not token.is_punct]\n"
      ]
    },
    {
      "cell_type": "code",
      "execution_count": 30,
      "id": "4b7763c5",
      "metadata": {
        "scrolled": false,
        "colab": {
          "base_uri": "https://localhost:8080/"
        },
        "id": "4b7763c5",
        "outputId": "5c42b5ef-c38a-44b4-8cb5-f63ab37e8b0e"
      },
      "outputs": [
        {
          "output_type": "stream",
          "name": "stdout",
          "text": [
            "Sentiment polarity: 0.23125\n",
            "Sentiment subjectivity: 0.45\n"
          ]
        }
      ],
      "source": [
        "from textblob import TextBlob\n",
        "\n",
        "# Create a TextBlob object from the preprocessed text\n",
        "blob = TextBlob(\" \".join(lemmas))\n",
        "\n",
        "# Get the sentiment polarity (-1 to 1)\n",
        "polarity = blob.sentiment.polarity\n",
        "\n",
        "# Get the sentiment subjectivity (0 to 1)\n",
        "subjectivity = blob.sentiment.subjectivity\n",
        "\n",
        "print(\"Sentiment polarity:\", polarity)\n",
        "print(\"Sentiment subjectivity:\", subjectivity)"
      ]
    },
    {
      "cell_type": "code",
      "execution_count": 38,
      "id": "e51fefe8",
      "metadata": {
        "colab": {
          "base_uri": "https://localhost:8080/"
        },
        "id": "e51fefe8",
        "outputId": "852075e3-f364-4cdc-e372-9e75735c9fba"
      },
      "outputs": [
        {
          "output_type": "stream",
          "name": "stdout",
          "text": [
            "(0, '0.167*\"bedroom\" + 0.167*\"house\" + 0.167*\"1st\" + 0.167*\"3\" + 0.167*\"April\" + 0.167*\"rent\"')\n",
            "(1, '0.167*\"bedroom\" + 0.167*\"3\" + 0.167*\"1st\" + 0.167*\"April\" + 0.167*\"house\" + 0.167*\"rent\"')\n",
            "(2, '0.167*\"1st\" + 0.167*\"3\" + 0.167*\"April\" + 0.167*\"bedroom\" + 0.167*\"house\" + 0.167*\"rent\"')\n",
            "(3, '0.167*\"3\" + 0.167*\"April\" + 0.167*\"bedroom\" + 0.167*\"house\" + 0.167*\"rent\" + 0.167*\"1st\"')\n",
            "(4, '0.167*\"1st\" + 0.167*\"bedroom\" + 0.167*\"3\" + 0.167*\"house\" + 0.167*\"April\" + 0.167*\"rent\"')\n",
            "(5, '0.167*\"3\" + 0.167*\"April\" + 0.167*\"1st\" + 0.167*\"rent\" + 0.167*\"bedroom\" + 0.167*\"house\"')\n",
            "(6, '0.167*\"1st\" + 0.167*\"3\" + 0.167*\"April\" + 0.167*\"bedroom\" + 0.167*\"rent\" + 0.167*\"house\"')\n",
            "(7, '0.167*\"1st\" + 0.167*\"April\" + 0.167*\"bedroom\" + 0.167*\"rent\" + 0.167*\"3\" + 0.167*\"house\"')\n",
            "(8, '0.167*\"1st\" + 0.167*\"3\" + 0.167*\"April\" + 0.167*\"bedroom\" + 0.167*\"house\" + 0.167*\"rent\"')\n",
            "(9, '0.167*\"April\" + 0.167*\"bedroom\" + 0.167*\"1st\" + 0.167*\"3\" + 0.167*\"house\" + 0.167*\"rent\"')\n"
          ]
        }
      ],
      "source": [
        "from gensim import corpora, models\n",
        "\n",
        "# Create a dictionary from the preprocessed text\n",
        "dictionary = corpora.Dictionary([lemmas])\n",
        "\n",
        "# Create a bag-of-words corpus from the dictionary\n",
        "corpus = [dictionary.doc2bow(lemmas)]\n",
        "\n",
        "# Perform topic modeling on the corpus\n",
        "lda_model = models.LdaModel(corpus, num_topics=10, id2word=dictionary, passes=10)\n",
        "\n",
        "# Print the main topics\n",
        "for topic in lda_model.print_topics():\n",
        "    print(topic)"
      ]
    },
    {
      "cell_type": "code",
      "execution_count": 31,
      "id": "5456afd2",
      "metadata": {
        "id": "5456afd2"
      },
      "outputs": [],
      "source": []
    },
    {
      "cell_type": "code",
      "source": [
        "Title = df['Title'].tolist()"
      ],
      "metadata": {
        "id": "yjso3hNh_Ux6"
      },
      "id": "yjso3hNh_Ux6",
      "execution_count": 33,
      "outputs": []
    },
    {
      "cell_type": "code",
      "source": [
        "nlp = spacy.load(\"en_core_web_sm\")\n",
        "\n",
        "for title in Title:\n",
        "\n",
        "    # Tokenize the text\n",
        "    doc = nlp(title)\n",
        "\n",
        "    # Remove stop words and punctuation\n",
        "    tokens = [token.text for token in doc if not token.is_stop and not token.is_punct]\n",
        "\n",
        "    # Lemmatize the remaining words\n",
        "    lemmas = [token.lemma_ for token in doc if not token.is_stop and not token.is_punct]"
      ],
      "metadata": {
        "id": "e7qHxqP5_XqF"
      },
      "id": "e7qHxqP5_XqF",
      "execution_count": 34,
      "outputs": []
    },
    {
      "cell_type": "code",
      "source": [
        "from textblob import TextBlob\n",
        "\n",
        "# Create a TextBlob object from the preprocessed text\n",
        "blob = TextBlob(\" \".join(lemmas))\n",
        "\n",
        "# Get the sentiment polarity (-1 to 1)\n",
        "polarity = blob.sentiment.polarity\n",
        "\n",
        "# Get the sentiment subjectivity (0 to 1)\n",
        "subjectivity = blob.sentiment.subjectivity\n",
        "\n",
        "print(\"Sentiment polarity:\", polarity)\n",
        "print(\"Sentiment subjectivity:\", subjectivity)"
      ],
      "metadata": {
        "colab": {
          "base_uri": "https://localhost:8080/"
        },
        "id": "CGYscTkY_kuC",
        "outputId": "f459ee68-e29e-4c0e-f5a1-5340b6f4930b"
      },
      "id": "CGYscTkY_kuC",
      "execution_count": 35,
      "outputs": [
        {
          "output_type": "stream",
          "name": "stdout",
          "text": [
            "Sentiment polarity: 0.0\n",
            "Sentiment subjectivity: 0.0\n"
          ]
        }
      ]
    },
    {
      "cell_type": "code",
      "source": [
        "from gensim import corpora, models\n",
        "\n",
        "# Create a dictionary from the preprocessed text\n",
        "dictionary = corpora.Dictionary([lemmas])\n",
        "dictionary.save('dictionary.dict')\n",
        "\n",
        "# Create a bag-of-words corpus from the dictionary\n",
        "corpus = [dictionary.doc2bow(lemmas)]\n",
        "\n",
        "# Perform topic modeling on the corpus\n",
        "lda_model = models.LdaModel(corpus, num_topics=10, id2word=dictionary, passes=10)\n",
        "lda_model.save('lda_model.model')\n",
        "# Print the main topics\n",
        "for topic in lda_model.print_topics():\n",
        "    print(topic)"
      ],
      "metadata": {
        "colab": {
          "base_uri": "https://localhost:8080/"
        },
        "id": "0sY7nu7L_qMN",
        "outputId": "80a942e2-86f3-4f3b-ede8-cd821f1c386b"
      },
      "id": "0sY7nu7L_qMN",
      "execution_count": 47,
      "outputs": [
        {
          "output_type": "stream",
          "name": "stdout",
          "text": [
            "(0, '0.167*\"bedroom\" + 0.167*\"3\" + 0.167*\"April\" + 0.167*\"house\" + 0.167*\"rent\" + 0.167*\"1st\"')\n",
            "(1, '0.167*\"bedroom\" + 0.167*\"1st\" + 0.167*\"3\" + 0.167*\"rent\" + 0.167*\"April\" + 0.167*\"house\"')\n",
            "(2, '0.167*\"1st\" + 0.167*\"3\" + 0.167*\"April\" + 0.167*\"house\" + 0.167*\"rent\" + 0.167*\"bedroom\"')\n",
            "(3, '0.167*\"bedroom\" + 0.167*\"April\" + 0.167*\"house\" + 0.167*\"rent\" + 0.167*\"1st\" + 0.167*\"3\"')\n",
            "(4, '0.167*\"house\" + 0.167*\"1st\" + 0.167*\"3\" + 0.167*\"April\" + 0.167*\"bedroom\" + 0.167*\"rent\"')\n",
            "(5, '0.167*\"1st\" + 0.167*\"3\" + 0.167*\"bedroom\" + 0.167*\"house\" + 0.167*\"rent\" + 0.167*\"April\"')\n",
            "(6, '0.167*\"1st\" + 0.167*\"3\" + 0.167*\"April\" + 0.167*\"bedroom\" + 0.167*\"house\" + 0.167*\"rent\"')\n",
            "(7, '0.167*\"house\" + 0.167*\"1st\" + 0.167*\"bedroom\" + 0.167*\"3\" + 0.167*\"April\" + 0.167*\"rent\"')\n",
            "(8, '0.167*\"3\" + 0.167*\"April\" + 0.167*\"bedroom\" + 0.167*\"rent\" + 0.167*\"1st\" + 0.167*\"house\"')\n",
            "(9, '0.167*\"1st\" + 0.167*\"3\" + 0.167*\"April\" + 0.167*\"bedroom\" + 0.167*\"house\" + 0.167*\"rent\"')\n"
          ]
        },
        {
          "output_type": "stream",
          "name": "stderr",
          "text": [
            "/usr/local/lib/python3.8/dist-packages/smart_open/smart_open_lib.py:496: DeprecationWarning: This function is deprecated.  See https://github.com/RaRe-Technologies/smart_open/blob/develop/MIGRATING_FROM_OLDER_VERSIONS.rst for more information\n",
            "  warnings.warn(message, category=DeprecationWarning)\n",
            "/usr/local/lib/python3.8/dist-packages/gensim/models/ldamodel.py:1077: DeprecationWarning: Calling np.sum(generator) is deprecated, and in the future will give a different result. Use np.sum(np.fromiter(generator)) or the python sum builtin instead.\n",
            "  score += np.sum(cnt * logsumexp(Elogthetad + Elogbeta[:, int(id)]) for id, cnt in doc)\n",
            "/usr/local/lib/python3.8/dist-packages/gensim/models/ldamodel.py:1077: DeprecationWarning: Calling np.sum(generator) is deprecated, and in the future will give a different result. Use np.sum(np.fromiter(generator)) or the python sum builtin instead.\n",
            "  score += np.sum(cnt * logsumexp(Elogthetad + Elogbeta[:, int(id)]) for id, cnt in doc)\n",
            "/usr/local/lib/python3.8/dist-packages/gensim/models/ldamodel.py:1077: DeprecationWarning: Calling np.sum(generator) is deprecated, and in the future will give a different result. Use np.sum(np.fromiter(generator)) or the python sum builtin instead.\n",
            "  score += np.sum(cnt * logsumexp(Elogthetad + Elogbeta[:, int(id)]) for id, cnt in doc)\n",
            "/usr/local/lib/python3.8/dist-packages/gensim/models/ldamodel.py:1077: DeprecationWarning: Calling np.sum(generator) is deprecated, and in the future will give a different result. Use np.sum(np.fromiter(generator)) or the python sum builtin instead.\n",
            "  score += np.sum(cnt * logsumexp(Elogthetad + Elogbeta[:, int(id)]) for id, cnt in doc)\n",
            "/usr/local/lib/python3.8/dist-packages/gensim/models/ldamodel.py:1077: DeprecationWarning: Calling np.sum(generator) is deprecated, and in the future will give a different result. Use np.sum(np.fromiter(generator)) or the python sum builtin instead.\n",
            "  score += np.sum(cnt * logsumexp(Elogthetad + Elogbeta[:, int(id)]) for id, cnt in doc)\n",
            "/usr/local/lib/python3.8/dist-packages/gensim/models/ldamodel.py:1077: DeprecationWarning: Calling np.sum(generator) is deprecated, and in the future will give a different result. Use np.sum(np.fromiter(generator)) or the python sum builtin instead.\n",
            "  score += np.sum(cnt * logsumexp(Elogthetad + Elogbeta[:, int(id)]) for id, cnt in doc)\n",
            "/usr/local/lib/python3.8/dist-packages/gensim/models/ldamodel.py:1077: DeprecationWarning: Calling np.sum(generator) is deprecated, and in the future will give a different result. Use np.sum(np.fromiter(generator)) or the python sum builtin instead.\n",
            "  score += np.sum(cnt * logsumexp(Elogthetad + Elogbeta[:, int(id)]) for id, cnt in doc)\n",
            "/usr/local/lib/python3.8/dist-packages/gensim/models/ldamodel.py:1077: DeprecationWarning: Calling np.sum(generator) is deprecated, and in the future will give a different result. Use np.sum(np.fromiter(generator)) or the python sum builtin instead.\n",
            "  score += np.sum(cnt * logsumexp(Elogthetad + Elogbeta[:, int(id)]) for id, cnt in doc)\n",
            "/usr/local/lib/python3.8/dist-packages/gensim/models/ldamodel.py:1077: DeprecationWarning: Calling np.sum(generator) is deprecated, and in the future will give a different result. Use np.sum(np.fromiter(generator)) or the python sum builtin instead.\n",
            "  score += np.sum(cnt * logsumexp(Elogthetad + Elogbeta[:, int(id)]) for id, cnt in doc)\n",
            "/usr/local/lib/python3.8/dist-packages/gensim/models/ldamodel.py:1077: DeprecationWarning: Calling np.sum(generator) is deprecated, and in the future will give a different result. Use np.sum(np.fromiter(generator)) or the python sum builtin instead.\n",
            "  score += np.sum(cnt * logsumexp(Elogthetad + Elogbeta[:, int(id)]) for id, cnt in doc)\n",
            "/usr/local/lib/python3.8/dist-packages/smart_open/smart_open_lib.py:496: DeprecationWarning: This function is deprecated.  See https://github.com/RaRe-Technologies/smart_open/blob/develop/MIGRATING_FROM_OLDER_VERSIONS.rst for more information\n",
            "  warnings.warn(message, category=DeprecationWarning)\n",
            "/usr/local/lib/python3.8/dist-packages/smart_open/smart_open_lib.py:496: DeprecationWarning: This function is deprecated.  See https://github.com/RaRe-Technologies/smart_open/blob/develop/MIGRATING_FROM_OLDER_VERSIONS.rst for more information\n",
            "  warnings.warn(message, category=DeprecationWarning)\n",
            "/usr/local/lib/python3.8/dist-packages/smart_open/smart_open_lib.py:496: DeprecationWarning: This function is deprecated.  See https://github.com/RaRe-Technologies/smart_open/blob/develop/MIGRATING_FROM_OLDER_VERSIONS.rst for more information\n",
            "  warnings.warn(message, category=DeprecationWarning)\n"
          ]
        }
      ]
    },
    {
      "cell_type": "code",
      "source": [
        "# Perform named entity recognition on the preprocessed text\n",
        "entities = [(entity.text, entity.label_) for entity in doc.ents]\n",
        "\n",
        "# Extract location entities\n",
        "locations = [entity[0] for entity in entities if entity[1] == \"GPE\"]\n",
        "\n",
        "# Extract date entities\n",
        "dates = [entity[0] for entity in entities if entity[1] == \"DATE\"]\n",
        "\n",
        "print(\"Locations:\", locations)\n",
        "print(\"Dates:\", dates)"
      ],
      "metadata": {
        "colab": {
          "base_uri": "https://localhost:8080/"
        },
        "id": "33qlL6Ff_q4h",
        "outputId": "188af344-6070-4715-c0f9-a5151f7e688e"
      },
      "id": "33qlL6Ff_q4h",
      "execution_count": 48,
      "outputs": [
        {
          "output_type": "stream",
          "name": "stdout",
          "text": [
            "Locations: []\n",
            "Dates: ['April 1st']\n"
          ]
        }
      ]
    },
    {
      "cell_type": "code",
      "source": [
        "import pyLDAvis.gensim_models\n",
        "import gensim\n",
        "\n",
        "# Load your LDA model and dictionary\n",
        "lda_model = gensim.models.LdaModel.load('lda_model.model')\n",
        "dictionary = gensim.corpora.Dictionary.load('dictionary.dict')\n",
        "\n",
        "# Generate the visualization\n",
        "vis = pyLDAvis.gensim_models.prepare(lda_model, corpus, dictionary)\n",
        "\n",
        "# Display the visualization\n",
        "pyLDAvis.display(vis)"
      ],
      "metadata": {
        "colab": {
          "base_uri": "https://localhost:8080/",
          "height": 1000
        },
        "id": "JixKI8UZAOxu",
        "outputId": "0b22e6e8-c93a-43af-84ab-ca4b067e8836"
      },
      "id": "JixKI8UZAOxu",
      "execution_count": 49,
      "outputs": [
        {
          "output_type": "stream",
          "name": "stderr",
          "text": [
            "/usr/local/lib/python3.8/dist-packages/smart_open/smart_open_lib.py:496: DeprecationWarning: This function is deprecated.  See https://github.com/RaRe-Technologies/smart_open/blob/develop/MIGRATING_FROM_OLDER_VERSIONS.rst for more information\n",
            "  warnings.warn(message, category=DeprecationWarning)\n",
            "/usr/local/lib/python3.8/dist-packages/smart_open/smart_open_lib.py:496: DeprecationWarning: This function is deprecated.  See https://github.com/RaRe-Technologies/smart_open/blob/develop/MIGRATING_FROM_OLDER_VERSIONS.rst for more information\n",
            "  warnings.warn(message, category=DeprecationWarning)\n",
            "/usr/local/lib/python3.8/dist-packages/smart_open/smart_open_lib.py:496: DeprecationWarning: This function is deprecated.  See https://github.com/RaRe-Technologies/smart_open/blob/develop/MIGRATING_FROM_OLDER_VERSIONS.rst for more information\n",
            "  warnings.warn(message, category=DeprecationWarning)\n",
            "/usr/local/lib/python3.8/dist-packages/smart_open/smart_open_lib.py:496: DeprecationWarning: This function is deprecated.  See https://github.com/RaRe-Technologies/smart_open/blob/develop/MIGRATING_FROM_OLDER_VERSIONS.rst for more information\n",
            "  warnings.warn(message, category=DeprecationWarning)\n",
            "/usr/local/lib/python3.8/dist-packages/pyLDAvis/_prepare.py:243: FutureWarning: In a future version of pandas all arguments of DataFrame.drop except for the argument 'labels' will be keyword-only\n",
            "  default_term_info = default_term_info.sort_values(\n"
          ]
        },
        {
          "output_type": "execute_result",
          "data": {
            "text/plain": [
              "<IPython.core.display.HTML object>"
            ],
            "text/html": [
              "\n",
              "<link rel=\"stylesheet\" type=\"text/css\" href=\"https://cdn.jsdelivr.net/gh/bmabey/pyLDAvis@3.4.0/pyLDAvis/js/ldavis.v1.0.0.css\">\n",
              "\n",
              "\n",
              "<div id=\"ldavis_el1311402839207119682494701955\" style=\"background-color:white;\"></div>\n",
              "<script type=\"text/javascript\">\n",
              "\n",
              "var ldavis_el1311402839207119682494701955_data = {\"mdsDat\": {\"x\": [0.0, -0.0, -0.0, 0.0, -0.0, 0.0, 0.0, -0.0, -0.0, 0.0], \"y\": [-0.0, -0.0, -0.0, 0.0, 0.0, 0.0, 0.0, 0.0, -0.0, -0.0], \"topics\": [1, 2, 3, 4, 5, 6, 7, 8, 9, 10], \"cluster\": [1, 1, 1, 1, 1, 1, 1, 1, 1, 1], \"Freq\": [87.14285168264614, 1.4285720352615403, 1.4285720352615403, 1.4285720352615403, 1.4285720352615403, 1.4285720352615403, 1.4285720352615403, 1.4285720352615403, 1.4285720352615403, 1.4285720352615403]}, \"tinfo\": {\"Term\": [\"1st\", \"3\", \"bedroom\", \"house\", \"rent\", \"April\", \"1st\", \"3\", \"April\", \"rent\", \"house\", \"bedroom\", \"bedroom\", \"April\", \"rent\", \"house\", \"3\", \"1st\", \"bedroom\", \"rent\", \"1st\", \"3\", \"April\", \"house\", \"April\", \"rent\", \"house\", \"1st\", \"3\", \"bedroom\", \"bedroom\", \"April\", \"rent\", \"house\", \"1st\", \"3\", \"house\", \"April\", \"bedroom\", \"1st\", \"3\", \"rent\", \"rent\", \"house\", \"bedroom\", \"1st\", \"3\", \"April\", \"house\", \"bedroom\", \"1st\", \"April\", \"rent\", \"3\", \"April\", \"rent\", \"bedroom\", \"3\", \"house\", \"1st\", \"April\", \"rent\", \"house\", \"bedroom\", \"1st\", \"3\"], \"Freq\": [1.0, 1.0, 1.0, 1.0, 1.0, 1.0, 0.8714286531720816, 0.8714286531720816, 0.8714285752602979, 0.8714285752602979, 0.8714285752602979, 0.8714285752602979, 0.014285721310547617, 0.014285720033304639, 0.014285720033304639, 0.014285720033304639, 0.014285720033304639, 0.01428571875606166, 0.014285723865033573, 0.014285722587790595, 0.014285722587790595, 0.014285722587790595, 0.014285721310547617, 0.014285721310547617, 0.014285720033304639, 0.014285720033304639, 0.014285720033304639, 0.014285720033304639, 0.014285720033304639, 0.01428571875606166, 0.014285722587790595, 0.014285721310547617, 0.014285721310547617, 0.014285721310547617, 0.014285720033304639, 0.01428571875606166, 0.014285722587790595, 0.014285721310547617, 0.014285721310547617, 0.014285721310547617, 0.014285721310547617, 0.014285720033304639, 0.014285720033304639, 0.014285720033304639, 0.014285720033304639, 0.014285720033304639, 0.014285720033304639, 0.01428571875606166, 0.014285722587790595, 0.014285721310547617, 0.014285721310547617, 0.014285720033304639, 0.014285720033304639, 0.014285720033304639, 0.014285721310547617, 0.014285721310547617, 0.014285721310547617, 0.014285721310547617, 0.014285720033304639, 0.014285720033304639, 0.014285720033304639, 0.014285720033304639, 0.014285720033304639, 0.014285720033304639, 0.014285720033304639, 0.014285720033304639], \"Total\": [1.0, 1.0, 1.0, 1.0, 1.0, 1.0, 1.0000001373035523, 1.0000001373035523, 1.0000000593917686, 1.0000000606690116, 1.0000000632234975, 1.0000000657779835, 1.0000000657779835, 1.0000000593917686, 1.0000000606690116, 1.0000000632234975, 1.0000001373035523, 1.0000001373035523, 1.0000000657779835, 1.0000000606690116, 1.0000001373035523, 1.0000001373035523, 1.0000000593917686, 1.0000000632234975, 1.0000000593917686, 1.0000000606690116, 1.0000000632234975, 1.0000001373035523, 1.0000001373035523, 1.0000000657779835, 1.0000000657779835, 1.0000000593917686, 1.0000000606690116, 1.0000000632234975, 1.0000001373035523, 1.0000001373035523, 1.0000000632234975, 1.0000000593917686, 1.0000000657779835, 1.0000001373035523, 1.0000001373035523, 1.0000000606690116, 1.0000000606690116, 1.0000000632234975, 1.0000000657779835, 1.0000001373035523, 1.0000001373035523, 1.0000000593917686, 1.0000000632234975, 1.0000000657779835, 1.0000001373035523, 1.0000000593917686, 1.0000000606690116, 1.0000001373035523, 1.0000000593917686, 1.0000000606690116, 1.0000000657779835, 1.0000001373035523, 1.0000000632234975, 1.0000001373035523, 1.0000000593917686, 1.0000000606690116, 1.0000000632234975, 1.0000000657779835, 1.0000001373035523, 1.0000001373035523], \"Category\": [\"Default\", \"Default\", \"Default\", \"Default\", \"Default\", \"Default\", \"Topic1\", \"Topic1\", \"Topic1\", \"Topic1\", \"Topic1\", \"Topic1\", \"Topic2\", \"Topic2\", \"Topic2\", \"Topic2\", \"Topic2\", \"Topic2\", \"Topic3\", \"Topic3\", \"Topic3\", \"Topic3\", \"Topic3\", \"Topic3\", \"Topic4\", \"Topic4\", \"Topic4\", \"Topic4\", \"Topic4\", \"Topic4\", \"Topic5\", \"Topic5\", \"Topic5\", \"Topic5\", \"Topic5\", \"Topic5\", \"Topic6\", \"Topic6\", \"Topic6\", \"Topic6\", \"Topic6\", \"Topic6\", \"Topic7\", \"Topic7\", \"Topic7\", \"Topic7\", \"Topic7\", \"Topic7\", \"Topic8\", \"Topic8\", \"Topic8\", \"Topic8\", \"Topic8\", \"Topic8\", \"Topic9\", \"Topic9\", \"Topic9\", \"Topic9\", \"Topic9\", \"Topic9\", \"Topic10\", \"Topic10\", \"Topic10\", \"Topic10\", \"Topic10\", \"Topic10\"], \"logprob\": [6.0, 5.0, 4.0, 3.0, 2.0, 1.0, -1.7918, -1.7918, -1.7918, -1.7918, -1.7918, -1.7918, -1.7918, -1.7918, -1.7918, -1.7918, -1.7918, -1.7918, -1.7918, -1.7918, -1.7918, -1.7918, -1.7918, -1.7918, -1.7918, -1.7918, -1.7918, -1.7918, -1.7918, -1.7918, -1.7918, -1.7918, -1.7918, -1.7918, -1.7918, -1.7918, -1.7918, -1.7918, -1.7918, -1.7918, -1.7918, -1.7918, -1.7918, -1.7918, -1.7918, -1.7918, -1.7918, -1.7918, -1.7918, -1.7918, -1.7918, -1.7918, -1.7918, -1.7918, -1.7918, -1.7918, -1.7918, -1.7918, -1.7918, -1.7918, -1.7918, -1.7918, -1.7918, -1.7918, -1.7918, -1.7918], \"loglift\": [6.0, 5.0, 4.0, 3.0, 2.0, 1.0, 0.0, 0.0, 0.0, 0.0, 0.0, 0.0, 0.0, -0.0, -0.0, -0.0, -0.0, -0.0, 0.0, 0.0, 0.0, 0.0, 0.0, 0.0, -0.0, -0.0, -0.0, -0.0, -0.0, -0.0, 0.0, 0.0, 0.0, 0.0, -0.0, -0.0, 0.0, 0.0, 0.0, -0.0, -0.0, -0.0, -0.0, -0.0, -0.0, -0.0, -0.0, -0.0, 0.0, 0.0, -0.0, -0.0, -0.0, -0.0, 0.0, 0.0, 0.0, -0.0, -0.0, -0.0, -0.0, -0.0, -0.0, -0.0, -0.0, -0.0]}, \"token.table\": {\"Topic\": [1, 1, 1, 1, 1, 1], \"Freq\": [0.9999998626964666, 0.9999998626964666, 0.9999999406082349, 0.9999999342220208, 0.9999999367765064, 0.9999999393309921], \"Term\": [\"1st\", \"3\", \"April\", \"bedroom\", \"house\", \"rent\"]}, \"R\": 6, \"lambda.step\": 0.01, \"plot.opts\": {\"xlab\": \"PC1\", \"ylab\": \"PC2\"}, \"topic.order\": [7, 1, 2, 3, 4, 5, 6, 8, 9, 10]};\n",
              "\n",
              "function LDAvis_load_lib(url, callback){\n",
              "  var s = document.createElement('script');\n",
              "  s.src = url;\n",
              "  s.async = true;\n",
              "  s.onreadystatechange = s.onload = callback;\n",
              "  s.onerror = function(){console.warn(\"failed to load library \" + url);};\n",
              "  document.getElementsByTagName(\"head\")[0].appendChild(s);\n",
              "}\n",
              "\n",
              "if(typeof(LDAvis) !== \"undefined\"){\n",
              "   // already loaded: just create the visualization\n",
              "   !function(LDAvis){\n",
              "       new LDAvis(\"#\" + \"ldavis_el1311402839207119682494701955\", ldavis_el1311402839207119682494701955_data);\n",
              "   }(LDAvis);\n",
              "}else if(typeof define === \"function\" && define.amd){\n",
              "   // require.js is available: use it to load d3/LDAvis\n",
              "   require.config({paths: {d3: \"https://d3js.org/d3.v5\"}});\n",
              "   require([\"d3\"], function(d3){\n",
              "      window.d3 = d3;\n",
              "      LDAvis_load_lib(\"https://cdn.jsdelivr.net/gh/bmabey/pyLDAvis@3.4.0/pyLDAvis/js/ldavis.v3.0.0.js\", function(){\n",
              "        new LDAvis(\"#\" + \"ldavis_el1311402839207119682494701955\", ldavis_el1311402839207119682494701955_data);\n",
              "      });\n",
              "    });\n",
              "}else{\n",
              "    // require.js not available: dynamically load d3 & LDAvis\n",
              "    LDAvis_load_lib(\"https://d3js.org/d3.v5.js\", function(){\n",
              "         LDAvis_load_lib(\"https://cdn.jsdelivr.net/gh/bmabey/pyLDAvis@3.4.0/pyLDAvis/js/ldavis.v3.0.0.js\", function(){\n",
              "                 new LDAvis(\"#\" + \"ldavis_el1311402839207119682494701955\", ldavis_el1311402839207119682494701955_data);\n",
              "            })\n",
              "         });\n",
              "}\n",
              "</script>"
            ]
          },
          "metadata": {},
          "execution_count": 49
        }
      ]
    },
    {
      "cell_type": "code",
      "source": [],
      "metadata": {
        "id": "tYOtC1V-ApCy"
      },
      "id": "tYOtC1V-ApCy",
      "execution_count": null,
      "outputs": []
    }
  ],
  "metadata": {
    "kernelspec": {
      "display_name": "Python 3",
      "language": "python",
      "name": "python3"
    },
    "language_info": {
      "codemirror_mode": {
        "name": "ipython",
        "version": 3
      },
      "file_extension": ".py",
      "mimetype": "text/x-python",
      "name": "python",
      "nbconvert_exporter": "python",
      "pygments_lexer": "ipython3",
      "version": "3.8.8"
    },
    "colab": {
      "provenance": []
    }
  },
  "nbformat": 4,
  "nbformat_minor": 5
}